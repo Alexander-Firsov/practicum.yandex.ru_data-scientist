{
 "cells": [
  {
   "cell_type": "markdown",
   "id": "648208cc-7690-4122-980d-8aa54428c0f3",
   "metadata": {},
   "source": [
    "# Исследование надежности заемщиков"
   ]
  },
  {
   "cell_type": "markdown",
   "id": "983a7639-63dd-4caa-bd36-83c206b1b908",
   "metadata": {},
   "source": [
    "## Общая информация\n",
    "  \n",
    "### Описание проекта\n",
    "Заказчик — кредитный отдел банка. Нужно разобраться, влияет ли семейное положение и количество детей клиента на факт погашения кредита в срок. Входные данные от банка — статистика о платёжеспособности клиентов.\n",
    "Результаты исследования будут учтены при построении модели кредитного скоринга — специальной системы, которая оценивает способность потенциального заёмщика вернуть кредит банку.\n",
    "\n",
    "### Описание данных\n",
    "\n",
    "   * children — количество детей в семье\n",
    "   * days_employed — общий трудовой стаж в днях\n",
    "   * dob_years — возраст клиента в годах\n",
    "   * education — уровень образования клиента\n",
    "   * education_id — идентификатор уровня образования\n",
    "   * family_status — семейное положение\n",
    "   * family_status_id — идентификатор семейного положения\n",
    "   * gender — пол клиента\n",
    "   * income_type — тип занятости\n",
    "   * debt — имел ли задолженность по возврату кредитов\n",
    "   * total_income — ежемесячный доход\n",
    "   * purpose — цель получения кредита\n",
    "    \n",
    "### План работ\n",
    "    \n",
    "   * Общее знакомство с данными\n",
    "   * #### Предобработка данных\n",
    "       * удаление пропусков\n",
    "       * Обработка аномальных значений\n",
    "       * Изменение типов данных\n",
    "       * Обработка дубликатов\n",
    "       * Категоризация данных\n",
    "   * #### Исследовательская часть\n",
    "       * Есть ли зависимость между количеством детей и возвратом кредита в срок?\n",
    "       * Есть ли зависимость между семейным положением и возвратом кредита в срок?\n",
    "       * Есть ли зависимость между уровнем дохода и возвратом кредита в срок?\n",
    "       * Как разные цели кредита влияют на его возврат в срок?\n",
    "   * #### Выводы"
   ]
  },
  {
   "cell_type": "markdown",
   "id": "79b3feae-fb8c-4628-8f9d-8e7ad71dc0a2",
   "metadata": {},
   "source": [
    "## Откройте таблицу и изучите общую информацию о данных"
   ]
  },
  {
   "cell_type": "markdown",
   "id": "89667891-b277-4c76-98c2-844455b7da0e",
   "metadata": {},
   "source": [
    "**Задание 1. Импортируйте библиотеку pandas. Считайте данные из csv-файла в датафрейм и сохраните в переменную `data`. Путь к файлу:**\n",
    "\n",
    "`/datasets/data.csv`"
   ]
  },
  {
   "cell_type": "code",
   "execution_count": 1,
   "id": "04c44038-225e-45e4-bf0d-4a016be0be80",
   "metadata": {},
   "outputs": [],
   "source": [
    "import pandas as pd\n",
    "import seaborn as sns\n",
    "import matplotlib.pyplot as plt\n",
    "from IPython.display import display, Markdown"
   ]
  },
  {
   "cell_type": "code",
   "execution_count": 2,
   "id": "d10aed5c-ec47-4034-8ac7-7c16a8707ce7",
   "metadata": {},
   "outputs": [],
   "source": [
    "try:\n",
    "    data = pd.read_csv('/datasets/data.csv')\n",
    "except:\n",
    "    data = pd.read_csv('https://code.s3.yandex.net/datasets/data.csv')"
   ]
  },
  {
   "cell_type": "markdown",
   "id": "da2f0d34-b82d-4d61-a38b-cf44d6b7eb9f",
   "metadata": {},
   "source": [
    "**Задание 2. Выведите первые 20 строчек датафрейма `data` на экран.**"
   ]
  },
  {
   "cell_type": "code",
   "execution_count": 3,
   "id": "45c62d15-0929-4cb2-a0cb-f86c6657f497",
   "metadata": {},
   "outputs": [
    {
     "data": {
      "text/html": [
       "<div>\n",
       "<style scoped>\n",
       "    .dataframe tbody tr th:only-of-type {\n",
       "        vertical-align: middle;\n",
       "    }\n",
       "\n",
       "    .dataframe tbody tr th {\n",
       "        vertical-align: top;\n",
       "    }\n",
       "\n",
       "    .dataframe thead th {\n",
       "        text-align: right;\n",
       "    }\n",
       "</style>\n",
       "<table border=\"1\" class=\"dataframe\">\n",
       "  <thead>\n",
       "    <tr style=\"text-align: right;\">\n",
       "      <th></th>\n",
       "      <th>children</th>\n",
       "      <th>days_employed</th>\n",
       "      <th>dob_years</th>\n",
       "      <th>education</th>\n",
       "      <th>education_id</th>\n",
       "      <th>family_status</th>\n",
       "      <th>family_status_id</th>\n",
       "      <th>gender</th>\n",
       "      <th>income_type</th>\n",
       "      <th>debt</th>\n",
       "      <th>total_income</th>\n",
       "      <th>purpose</th>\n",
       "    </tr>\n",
       "  </thead>\n",
       "  <tbody>\n",
       "    <tr>\n",
       "      <th>0</th>\n",
       "      <td>1</td>\n",
       "      <td>-8437.673028</td>\n",
       "      <td>42</td>\n",
       "      <td>высшее</td>\n",
       "      <td>0</td>\n",
       "      <td>женат / замужем</td>\n",
       "      <td>0</td>\n",
       "      <td>F</td>\n",
       "      <td>сотрудник</td>\n",
       "      <td>0</td>\n",
       "      <td>253875.639453</td>\n",
       "      <td>покупка жилья</td>\n",
       "    </tr>\n",
       "    <tr>\n",
       "      <th>1</th>\n",
       "      <td>1</td>\n",
       "      <td>-4024.803754</td>\n",
       "      <td>36</td>\n",
       "      <td>среднее</td>\n",
       "      <td>1</td>\n",
       "      <td>женат / замужем</td>\n",
       "      <td>0</td>\n",
       "      <td>F</td>\n",
       "      <td>сотрудник</td>\n",
       "      <td>0</td>\n",
       "      <td>112080.014102</td>\n",
       "      <td>приобретение автомобиля</td>\n",
       "    </tr>\n",
       "    <tr>\n",
       "      <th>2</th>\n",
       "      <td>0</td>\n",
       "      <td>-5623.422610</td>\n",
       "      <td>33</td>\n",
       "      <td>Среднее</td>\n",
       "      <td>1</td>\n",
       "      <td>женат / замужем</td>\n",
       "      <td>0</td>\n",
       "      <td>M</td>\n",
       "      <td>сотрудник</td>\n",
       "      <td>0</td>\n",
       "      <td>145885.952297</td>\n",
       "      <td>покупка жилья</td>\n",
       "    </tr>\n",
       "    <tr>\n",
       "      <th>3</th>\n",
       "      <td>3</td>\n",
       "      <td>-4124.747207</td>\n",
       "      <td>32</td>\n",
       "      <td>среднее</td>\n",
       "      <td>1</td>\n",
       "      <td>женат / замужем</td>\n",
       "      <td>0</td>\n",
       "      <td>M</td>\n",
       "      <td>сотрудник</td>\n",
       "      <td>0</td>\n",
       "      <td>267628.550329</td>\n",
       "      <td>дополнительное образование</td>\n",
       "    </tr>\n",
       "    <tr>\n",
       "      <th>4</th>\n",
       "      <td>0</td>\n",
       "      <td>340266.072047</td>\n",
       "      <td>53</td>\n",
       "      <td>среднее</td>\n",
       "      <td>1</td>\n",
       "      <td>гражданский брак</td>\n",
       "      <td>1</td>\n",
       "      <td>F</td>\n",
       "      <td>пенсионер</td>\n",
       "      <td>0</td>\n",
       "      <td>158616.077870</td>\n",
       "      <td>сыграть свадьбу</td>\n",
       "    </tr>\n",
       "    <tr>\n",
       "      <th>5</th>\n",
       "      <td>0</td>\n",
       "      <td>-926.185831</td>\n",
       "      <td>27</td>\n",
       "      <td>высшее</td>\n",
       "      <td>0</td>\n",
       "      <td>гражданский брак</td>\n",
       "      <td>1</td>\n",
       "      <td>M</td>\n",
       "      <td>компаньон</td>\n",
       "      <td>0</td>\n",
       "      <td>255763.565419</td>\n",
       "      <td>покупка жилья</td>\n",
       "    </tr>\n",
       "    <tr>\n",
       "      <th>6</th>\n",
       "      <td>0</td>\n",
       "      <td>-2879.202052</td>\n",
       "      <td>43</td>\n",
       "      <td>высшее</td>\n",
       "      <td>0</td>\n",
       "      <td>женат / замужем</td>\n",
       "      <td>0</td>\n",
       "      <td>F</td>\n",
       "      <td>компаньон</td>\n",
       "      <td>0</td>\n",
       "      <td>240525.971920</td>\n",
       "      <td>операции с жильем</td>\n",
       "    </tr>\n",
       "    <tr>\n",
       "      <th>7</th>\n",
       "      <td>0</td>\n",
       "      <td>-152.779569</td>\n",
       "      <td>50</td>\n",
       "      <td>СРЕДНЕЕ</td>\n",
       "      <td>1</td>\n",
       "      <td>женат / замужем</td>\n",
       "      <td>0</td>\n",
       "      <td>M</td>\n",
       "      <td>сотрудник</td>\n",
       "      <td>0</td>\n",
       "      <td>135823.934197</td>\n",
       "      <td>образование</td>\n",
       "    </tr>\n",
       "    <tr>\n",
       "      <th>8</th>\n",
       "      <td>2</td>\n",
       "      <td>-6929.865299</td>\n",
       "      <td>35</td>\n",
       "      <td>ВЫСШЕЕ</td>\n",
       "      <td>0</td>\n",
       "      <td>гражданский брак</td>\n",
       "      <td>1</td>\n",
       "      <td>F</td>\n",
       "      <td>сотрудник</td>\n",
       "      <td>0</td>\n",
       "      <td>95856.832424</td>\n",
       "      <td>на проведение свадьбы</td>\n",
       "    </tr>\n",
       "    <tr>\n",
       "      <th>9</th>\n",
       "      <td>0</td>\n",
       "      <td>-2188.756445</td>\n",
       "      <td>41</td>\n",
       "      <td>среднее</td>\n",
       "      <td>1</td>\n",
       "      <td>женат / замужем</td>\n",
       "      <td>0</td>\n",
       "      <td>M</td>\n",
       "      <td>сотрудник</td>\n",
       "      <td>0</td>\n",
       "      <td>144425.938277</td>\n",
       "      <td>покупка жилья для семьи</td>\n",
       "    </tr>\n",
       "    <tr>\n",
       "      <th>10</th>\n",
       "      <td>2</td>\n",
       "      <td>-4171.483647</td>\n",
       "      <td>36</td>\n",
       "      <td>высшее</td>\n",
       "      <td>0</td>\n",
       "      <td>женат / замужем</td>\n",
       "      <td>0</td>\n",
       "      <td>M</td>\n",
       "      <td>компаньон</td>\n",
       "      <td>0</td>\n",
       "      <td>113943.491460</td>\n",
       "      <td>покупка недвижимости</td>\n",
       "    </tr>\n",
       "    <tr>\n",
       "      <th>11</th>\n",
       "      <td>0</td>\n",
       "      <td>-792.701887</td>\n",
       "      <td>40</td>\n",
       "      <td>среднее</td>\n",
       "      <td>1</td>\n",
       "      <td>женат / замужем</td>\n",
       "      <td>0</td>\n",
       "      <td>F</td>\n",
       "      <td>сотрудник</td>\n",
       "      <td>0</td>\n",
       "      <td>77069.234271</td>\n",
       "      <td>покупка коммерческой недвижимости</td>\n",
       "    </tr>\n",
       "    <tr>\n",
       "      <th>12</th>\n",
       "      <td>0</td>\n",
       "      <td>NaN</td>\n",
       "      <td>65</td>\n",
       "      <td>среднее</td>\n",
       "      <td>1</td>\n",
       "      <td>гражданский брак</td>\n",
       "      <td>1</td>\n",
       "      <td>M</td>\n",
       "      <td>пенсионер</td>\n",
       "      <td>0</td>\n",
       "      <td>NaN</td>\n",
       "      <td>сыграть свадьбу</td>\n",
       "    </tr>\n",
       "    <tr>\n",
       "      <th>13</th>\n",
       "      <td>0</td>\n",
       "      <td>-1846.641941</td>\n",
       "      <td>54</td>\n",
       "      <td>неоконченное высшее</td>\n",
       "      <td>2</td>\n",
       "      <td>женат / замужем</td>\n",
       "      <td>0</td>\n",
       "      <td>F</td>\n",
       "      <td>сотрудник</td>\n",
       "      <td>0</td>\n",
       "      <td>130458.228857</td>\n",
       "      <td>приобретение автомобиля</td>\n",
       "    </tr>\n",
       "    <tr>\n",
       "      <th>14</th>\n",
       "      <td>0</td>\n",
       "      <td>-1844.956182</td>\n",
       "      <td>56</td>\n",
       "      <td>высшее</td>\n",
       "      <td>0</td>\n",
       "      <td>гражданский брак</td>\n",
       "      <td>1</td>\n",
       "      <td>F</td>\n",
       "      <td>компаньон</td>\n",
       "      <td>1</td>\n",
       "      <td>165127.911772</td>\n",
       "      <td>покупка жилой недвижимости</td>\n",
       "    </tr>\n",
       "    <tr>\n",
       "      <th>15</th>\n",
       "      <td>1</td>\n",
       "      <td>-972.364419</td>\n",
       "      <td>26</td>\n",
       "      <td>среднее</td>\n",
       "      <td>1</td>\n",
       "      <td>женат / замужем</td>\n",
       "      <td>0</td>\n",
       "      <td>F</td>\n",
       "      <td>сотрудник</td>\n",
       "      <td>0</td>\n",
       "      <td>116820.904450</td>\n",
       "      <td>строительство собственной недвижимости</td>\n",
       "    </tr>\n",
       "    <tr>\n",
       "      <th>16</th>\n",
       "      <td>0</td>\n",
       "      <td>-1719.934226</td>\n",
       "      <td>35</td>\n",
       "      <td>среднее</td>\n",
       "      <td>1</td>\n",
       "      <td>женат / замужем</td>\n",
       "      <td>0</td>\n",
       "      <td>F</td>\n",
       "      <td>сотрудник</td>\n",
       "      <td>0</td>\n",
       "      <td>289202.704229</td>\n",
       "      <td>недвижимость</td>\n",
       "    </tr>\n",
       "    <tr>\n",
       "      <th>17</th>\n",
       "      <td>0</td>\n",
       "      <td>-2369.999720</td>\n",
       "      <td>33</td>\n",
       "      <td>высшее</td>\n",
       "      <td>0</td>\n",
       "      <td>гражданский брак</td>\n",
       "      <td>1</td>\n",
       "      <td>M</td>\n",
       "      <td>сотрудник</td>\n",
       "      <td>0</td>\n",
       "      <td>90410.586745</td>\n",
       "      <td>строительство недвижимости</td>\n",
       "    </tr>\n",
       "    <tr>\n",
       "      <th>18</th>\n",
       "      <td>0</td>\n",
       "      <td>400281.136913</td>\n",
       "      <td>53</td>\n",
       "      <td>среднее</td>\n",
       "      <td>1</td>\n",
       "      <td>вдовец / вдова</td>\n",
       "      <td>2</td>\n",
       "      <td>F</td>\n",
       "      <td>пенсионер</td>\n",
       "      <td>0</td>\n",
       "      <td>56823.777243</td>\n",
       "      <td>на покупку подержанного автомобиля</td>\n",
       "    </tr>\n",
       "    <tr>\n",
       "      <th>19</th>\n",
       "      <td>0</td>\n",
       "      <td>-10038.818549</td>\n",
       "      <td>48</td>\n",
       "      <td>СРЕДНЕЕ</td>\n",
       "      <td>1</td>\n",
       "      <td>в разводе</td>\n",
       "      <td>3</td>\n",
       "      <td>F</td>\n",
       "      <td>сотрудник</td>\n",
       "      <td>0</td>\n",
       "      <td>242831.107982</td>\n",
       "      <td>на покупку своего автомобиля</td>\n",
       "    </tr>\n",
       "  </tbody>\n",
       "</table>\n",
       "</div>"
      ],
      "text/plain": [
       "    children  days_employed  dob_years            education  education_id  \\\n",
       "0          1   -8437.673028         42               высшее             0   \n",
       "1          1   -4024.803754         36              среднее             1   \n",
       "2          0   -5623.422610         33              Среднее             1   \n",
       "3          3   -4124.747207         32              среднее             1   \n",
       "4          0  340266.072047         53              среднее             1   \n",
       "5          0    -926.185831         27               высшее             0   \n",
       "6          0   -2879.202052         43               высшее             0   \n",
       "7          0    -152.779569         50              СРЕДНЕЕ             1   \n",
       "8          2   -6929.865299         35               ВЫСШЕЕ             0   \n",
       "9          0   -2188.756445         41              среднее             1   \n",
       "10         2   -4171.483647         36               высшее             0   \n",
       "11         0    -792.701887         40              среднее             1   \n",
       "12         0            NaN         65              среднее             1   \n",
       "13         0   -1846.641941         54  неоконченное высшее             2   \n",
       "14         0   -1844.956182         56               высшее             0   \n",
       "15         1    -972.364419         26              среднее             1   \n",
       "16         0   -1719.934226         35              среднее             1   \n",
       "17         0   -2369.999720         33               высшее             0   \n",
       "18         0  400281.136913         53              среднее             1   \n",
       "19         0  -10038.818549         48              СРЕДНЕЕ             1   \n",
       "\n",
       "       family_status  family_status_id gender income_type  debt  \\\n",
       "0    женат / замужем                 0      F   сотрудник     0   \n",
       "1    женат / замужем                 0      F   сотрудник     0   \n",
       "2    женат / замужем                 0      M   сотрудник     0   \n",
       "3    женат / замужем                 0      M   сотрудник     0   \n",
       "4   гражданский брак                 1      F   пенсионер     0   \n",
       "5   гражданский брак                 1      M   компаньон     0   \n",
       "6    женат / замужем                 0      F   компаньон     0   \n",
       "7    женат / замужем                 0      M   сотрудник     0   \n",
       "8   гражданский брак                 1      F   сотрудник     0   \n",
       "9    женат / замужем                 0      M   сотрудник     0   \n",
       "10   женат / замужем                 0      M   компаньон     0   \n",
       "11   женат / замужем                 0      F   сотрудник     0   \n",
       "12  гражданский брак                 1      M   пенсионер     0   \n",
       "13   женат / замужем                 0      F   сотрудник     0   \n",
       "14  гражданский брак                 1      F   компаньон     1   \n",
       "15   женат / замужем                 0      F   сотрудник     0   \n",
       "16   женат / замужем                 0      F   сотрудник     0   \n",
       "17  гражданский брак                 1      M   сотрудник     0   \n",
       "18    вдовец / вдова                 2      F   пенсионер     0   \n",
       "19         в разводе                 3      F   сотрудник     0   \n",
       "\n",
       "     total_income                                 purpose  \n",
       "0   253875.639453                           покупка жилья  \n",
       "1   112080.014102                 приобретение автомобиля  \n",
       "2   145885.952297                           покупка жилья  \n",
       "3   267628.550329              дополнительное образование  \n",
       "4   158616.077870                         сыграть свадьбу  \n",
       "5   255763.565419                           покупка жилья  \n",
       "6   240525.971920                       операции с жильем  \n",
       "7   135823.934197                             образование  \n",
       "8    95856.832424                   на проведение свадьбы  \n",
       "9   144425.938277                 покупка жилья для семьи  \n",
       "10  113943.491460                    покупка недвижимости  \n",
       "11   77069.234271       покупка коммерческой недвижимости  \n",
       "12            NaN                         сыграть свадьбу  \n",
       "13  130458.228857                 приобретение автомобиля  \n",
       "14  165127.911772              покупка жилой недвижимости  \n",
       "15  116820.904450  строительство собственной недвижимости  \n",
       "16  289202.704229                            недвижимость  \n",
       "17   90410.586745              строительство недвижимости  \n",
       "18   56823.777243      на покупку подержанного автомобиля  \n",
       "19  242831.107982            на покупку своего автомобиля  "
      ]
     },
     "execution_count": 3,
     "metadata": {},
     "output_type": "execute_result"
    }
   ],
   "source": [
    "data.head(20)"
   ]
  },
  {
   "cell_type": "markdown",
   "id": "ba5dee9b-2b11-414e-b004-358154f712d5",
   "metadata": {},
   "source": [
    "Задание 3. Выведите основную информацию о датафрейме с помощью метода info()."
   ]
  },
  {
   "cell_type": "code",
   "execution_count": 4,
   "id": "67eccfcd-0254-40a7-9d24-278fddc01de5",
   "metadata": {},
   "outputs": [
    {
     "name": "stdout",
     "output_type": "stream",
     "text": [
      "<class 'pandas.core.frame.DataFrame'>\n",
      "RangeIndex: 21525 entries, 0 to 21524\n",
      "Data columns (total 12 columns):\n",
      " #   Column            Non-Null Count  Dtype  \n",
      "---  ------            --------------  -----  \n",
      " 0   children          21525 non-null  int64  \n",
      " 1   days_employed     19351 non-null  float64\n",
      " 2   dob_years         21525 non-null  int64  \n",
      " 3   education         21525 non-null  object \n",
      " 4   education_id      21525 non-null  int64  \n",
      " 5   family_status     21525 non-null  object \n",
      " 6   family_status_id  21525 non-null  int64  \n",
      " 7   gender            21525 non-null  object \n",
      " 8   income_type       21525 non-null  object \n",
      " 9   debt              21525 non-null  int64  \n",
      " 10  total_income      19351 non-null  float64\n",
      " 11  purpose           21525 non-null  object \n",
      "dtypes: float64(2), int64(5), object(5)\n",
      "memory usage: 2.0+ MB\n"
     ]
    }
   ],
   "source": [
    "data.info()"
   ]
  },
  {
   "cell_type": "markdown",
   "id": "768e862b-d700-4ce2-b9e4-1604ccdb9132",
   "metadata": {},
   "source": [
    "## Предобработка данных"
   ]
  },
  {
   "cell_type": "markdown",
   "id": "c5ea878e-5f2c-4f14-a903-af63ee2715b8",
   "metadata": {},
   "source": [
    "### Удаление пропусков"
   ]
  },
  {
   "cell_type": "markdown",
   "id": "b9d056f7-7205-402d-996a-57e2acdde93c",
   "metadata": {},
   "source": [
    "**Задание 4. Выведите количество пропущенных значений для каждого столбца. Используйте комбинацию двух методов.**"
   ]
  },
  {
   "cell_type": "code",
   "execution_count": 5,
   "id": "e07cbc14-4101-465a-a605-3b2b15405dfc",
   "metadata": {},
   "outputs": [
    {
     "data": {
      "text/plain": [
       "children               0\n",
       "days_employed       2174\n",
       "dob_years              0\n",
       "education              0\n",
       "education_id           0\n",
       "family_status          0\n",
       "family_status_id       0\n",
       "gender                 0\n",
       "income_type            0\n",
       "debt                   0\n",
       "total_income        2174\n",
       "purpose                0\n",
       "dtype: int64"
      ]
     },
     "execution_count": 5,
     "metadata": {},
     "output_type": "execute_result"
    }
   ],
   "source": [
    "data.isna().sum()"
   ]
  },
  {
   "cell_type": "markdown",
   "id": "d8906a19-253b-415f-9de5-6da80bff1eff",
   "metadata": {},
   "source": [
    "**Задание 5. В двух столбцах есть пропущенные значения. Один из них — `days_employed`. Пропуски в этом столбце вы обработаете на следующем этапе. Другой столбец с пропущенными значениями — `total_income` — хранит данные о доходах. На сумму дохода сильнее всего влияет тип занятости, поэтому заполнить пропуски в этом столбце нужно медианным значением по каждому типу из столбца `income_type`. Например, у человека с типом занятости `сотрудник` пропуск в столбце `total_income` должен быть заполнен медианным доходом среди всех записей с тем же типом.**"
   ]
  },
  {
   "cell_type": "code",
   "execution_count": 6,
   "id": "7a9cef3c-cd65-4150-9f25-e24e180f48a5",
   "metadata": {},
   "outputs": [],
   "source": [
    "for t in data['income_type'].unique():\n",
    "    data.loc[(data['income_type'] == t) & (data['total_income'].isna()), 'total_income'] = \\\n",
    "    data.loc[(data['income_type'] == t), 'total_income'].median()"
   ]
  },
  {
   "cell_type": "markdown",
   "id": "e3d4a1b3-171b-40bf-b9ea-a83240fff168",
   "metadata": {},
   "source": [
    "### Обработка аномальных значений"
   ]
  },
  {
   "cell_type": "markdown",
   "id": "86842f2d-0f6a-4c22-aad7-ad482fa3d509",
   "metadata": {},
   "source": [
    "**Задание 6. В данных могут встречаться артефакты (аномалии) — значения, которые не отражают действительность и появились по какой-то ошибке. таким артефактом будет отрицательное количество дней трудового стажа в столбце `days_employed`. Для реальных данных это нормально. Обработайте значения в этом столбце: замените все отрицательные значения положительными с помощью метода `abs()`.**"
   ]
  },
  {
   "cell_type": "code",
   "execution_count": 7,
   "id": "abecb1e5-3756-4df4-90b6-1a0e16c1493c",
   "metadata": {},
   "outputs": [],
   "source": [
    "data['days_employed'] = data['days_employed'].abs()"
   ]
  },
  {
   "cell_type": "markdown",
   "id": "55a4543a-acc7-4c3f-bcdb-b8b34b1c11c4",
   "metadata": {},
   "source": [
    "**Задание 7. Для каждого типа занятости выведите медианное значение трудового стажа `days_employed` в днях.**"
   ]
  },
  {
   "cell_type": "code",
   "execution_count": 8,
   "id": "8b4bccf1-4beb-4dc8-bc46-426658fbc510",
   "metadata": {},
   "outputs": [
    {
     "data": {
      "text/plain": [
       "income_type\n",
       "безработный        366413.652744\n",
       "в декрете            3296.759962\n",
       "госслужащий          2689.368353\n",
       "компаньон            1547.382223\n",
       "пенсионер          365213.306266\n",
       "предприниматель       520.848083\n",
       "сотрудник            1574.202821\n",
       "студент               578.751554\n",
       "Name: days_employed, dtype: float64"
      ]
     },
     "execution_count": 8,
     "metadata": {},
     "output_type": "execute_result"
    }
   ],
   "source": [
    "data.groupby('income_type')['days_employed'].agg('median')"
   ]
  },
  {
   "cell_type": "markdown",
   "id": "ac81ea77-f428-411e-8847-9a2196064804",
   "metadata": {},
   "source": [
    "У двух типов (безработные и пенсионеры) получатся аномально большие значения. Исправить такие значения сложно, поэтому оставьте их как есть. Тем более этот столбец не понадобится вам для исследования."
   ]
  },
  {
   "cell_type": "markdown",
   "id": "b0a7cb4c-0e3b-4de9-bbd8-9afe7efcb239",
   "metadata": {},
   "source": [
    "**Задание 8. Выведите перечень уникальных значений столбца `children`.**"
   ]
  },
  {
   "cell_type": "code",
   "execution_count": 9,
   "id": "308f53f0-dba3-4542-9b01-6c285ef7b3ed",
   "metadata": {},
   "outputs": [
    {
     "data": {
      "text/plain": [
       "array([ 1,  0,  3,  2, -1,  4, 20,  5])"
      ]
     },
     "execution_count": 9,
     "metadata": {},
     "output_type": "execute_result"
    }
   ],
   "source": [
    "data['children'].unique()"
   ]
  },
  {
   "cell_type": "markdown",
   "id": "3abe4841-1b29-415b-bd6d-d98da448df1a",
   "metadata": {},
   "source": [
    "**Задание 9. В столбце `children` есть два аномальных значения. Удалите строки, в которых встречаются такие аномальные значения из датафрейма `data`.**"
   ]
  },
  {
   "cell_type": "code",
   "execution_count": 10,
   "id": "b449296c-39d4-4ae0-92f1-c0d9fd085f06",
   "metadata": {},
   "outputs": [],
   "source": [
    "data = data[(data['children'] != -1) & (data['children'] != 20)]"
   ]
  },
  {
   "cell_type": "markdown",
   "id": "3d0f7ca1-35f2-4b1a-80b3-0e83972ddc20",
   "metadata": {},
   "source": [
    "**Задание 10. Ещё раз выведите перечень уникальных значений столбца `children`, чтобы убедиться, что артефакты удалены.**"
   ]
  },
  {
   "cell_type": "code",
   "execution_count": 11,
   "id": "da834b02-68a6-405e-b89d-318170e34a21",
   "metadata": {},
   "outputs": [
    {
     "data": {
      "text/plain": [
       "array([1, 0, 3, 2, 4, 5])"
      ]
     },
     "execution_count": 11,
     "metadata": {},
     "output_type": "execute_result"
    }
   ],
   "source": [
    "data['children'].unique()"
   ]
  },
  {
   "cell_type": "markdown",
   "id": "ad3396a9-0a52-420e-9ee0-92c857ecda64",
   "metadata": {},
   "source": [
    "### Удаление пропусков (продолжение)"
   ]
  },
  {
   "cell_type": "markdown",
   "id": "f5fc536d-84c9-4bac-9f4e-b50bbb7709a6",
   "metadata": {},
   "source": [
    "**Задание 11. Заполните пропуски в столбце `days_employed` медианными значениями по каждого типа занятости `income_type`.**"
   ]
  },
  {
   "cell_type": "code",
   "execution_count": 12,
   "id": "b849f79c-a4f9-4b35-8c43-a9e5cbbbbb2c",
   "metadata": {},
   "outputs": [],
   "source": [
    "for t in data['income_type'].unique():\n",
    "    data.loc[(data['income_type'] == t) & (data['days_employed'].isna()), 'days_employed'] = \\\n",
    "    data.loc[(data['income_type'] == t), 'days_employed'].median()"
   ]
  },
  {
   "cell_type": "markdown",
   "id": "cbaa6618-8c01-48f1-ae34-76ae08301eaa",
   "metadata": {},
   "source": [
    "**Задание 12. Убедитесь, что все пропуски заполнены. Проверьте себя и ещё раз выведите количество пропущенных значений для каждого столбца с помощью двух методов.**"
   ]
  },
  {
   "cell_type": "code",
   "execution_count": 13,
   "id": "250e4853-d576-4f9e-af82-2f6340dbe128",
   "metadata": {},
   "outputs": [
    {
     "data": {
      "text/plain": [
       "children            0\n",
       "days_employed       0\n",
       "dob_years           0\n",
       "education           0\n",
       "education_id        0\n",
       "family_status       0\n",
       "family_status_id    0\n",
       "gender              0\n",
       "income_type         0\n",
       "debt                0\n",
       "total_income        0\n",
       "purpose             0\n",
       "dtype: int64"
      ]
     },
     "execution_count": 13,
     "metadata": {},
     "output_type": "execute_result"
    }
   ],
   "source": [
    "data.isna().sum()"
   ]
  },
  {
   "cell_type": "markdown",
   "id": "7b6c7d60-1c5d-477f-8594-1b9de8ac251e",
   "metadata": {},
   "source": [
    "### Изменение типов данных"
   ]
  },
  {
   "cell_type": "markdown",
   "id": "f62afe8e-a756-4138-917b-8cea7ea8b3a9",
   "metadata": {},
   "source": [
    "**Задание 13. Замените вещественный тип данных в столбце `total_income` на целочисленный с помощью метода `astype()`.**"
   ]
  },
  {
   "cell_type": "code",
   "execution_count": 14,
   "id": "97da5250-06ca-4667-bf0e-944f3e8bb53e",
   "metadata": {},
   "outputs": [],
   "source": [
    "data['total_income'] = data['total_income'].astype(int)"
   ]
  },
  {
   "cell_type": "markdown",
   "id": "99c4505c-f9fd-4855-8eb8-293d0c7a1bc5",
   "metadata": {},
   "source": [
    "### Обработка дубликатов"
   ]
  },
  {
   "cell_type": "markdown",
   "id": "008008f6-6d7a-49ba-b1df-8ca118215614",
   "metadata": {},
   "source": [
    "**Задание 14. Обработайте неявные дубликаты в столбце `education`. В этом столбце есть одни и те же значения, но записанные по-разному: с использованием заглавных и строчных букв. Приведите их к нижнему регистру. Проверьте остальные столбцы.**"
   ]
  },
  {
   "cell_type": "code",
   "execution_count": 15,
   "id": "295ae74e-d8c7-4ed0-909f-6626a9596c37",
   "metadata": {},
   "outputs": [],
   "source": [
    "data['education'] = data['education'].str.lower()"
   ]
  },
  {
   "cell_type": "markdown",
   "id": "c5886b51-735e-4e0f-8c39-09d997a8f24c",
   "metadata": {},
   "source": [
    "**Задание 15. Выведите на экран количество строк-дубликатов в данных. Если такие строки присутствуют, удалите их.**"
   ]
  },
  {
   "cell_type": "code",
   "execution_count": 16,
   "id": "2829d637-7f98-4117-bd6c-f1a54ad2264e",
   "metadata": {},
   "outputs": [
    {
     "data": {
      "text/plain": [
       "71"
      ]
     },
     "execution_count": 16,
     "metadata": {},
     "output_type": "execute_result"
    }
   ],
   "source": [
    "data.duplicated().sum()"
   ]
  },
  {
   "cell_type": "code",
   "execution_count": 17,
   "id": "9d9c966c-51ef-468e-b9b3-1e52fc828aeb",
   "metadata": {},
   "outputs": [],
   "source": [
    "data = data.drop_duplicates()"
   ]
  },
  {
   "cell_type": "markdown",
   "id": "a11099be-8092-45e3-856a-1213742d8dcb",
   "metadata": {},
   "source": [
    "### Категоризация данных"
   ]
  },
  {
   "cell_type": "markdown",
   "id": "dc88b05c-8685-41cb-8886-d292fd5db703",
   "metadata": {},
   "source": [
    "**Задание 16. На основании диапазонов, указанных ниже, создайте в датафрейме `data` столбец `total_income_category` с категориями:**\n",
    "\n",
    "- 0–30000 — `'E'`;\n",
    "- 30001–50000 — `'D'`;\n",
    "- 50001–200000 — `'C'`;\n",
    "- 200001–1000000 — `'B'`;\n",
    "- 1000001 и выше — `'A'`.\n",
    "\n",
    "\n",
    "**Например, кредитополучателю с доходом 25000 нужно назначить категорию `'E'`, а клиенту, получающему 235000, — `'B'`. Используйте собственную функцию с именем `categorize_income()` и метод `apply()`.**"
   ]
  },
  {
   "cell_type": "code",
   "execution_count": 18,
   "id": "a9bfb9a4-4d7c-48f1-b2be-67fd349a589e",
   "metadata": {},
   "outputs": [],
   "source": [
    "def categorize_income(income):\n",
    "    try:\n",
    "        if 0 <= income <= 30000:\n",
    "            return 'E'\n",
    "        elif 30001 <= income <= 50000:\n",
    "            return 'D'\n",
    "        elif 50001 <= income <= 200000:\n",
    "            return 'C'\n",
    "        elif 200001 <= income <= 1000000:\n",
    "            return 'B'\n",
    "        elif income >= 1000001:\n",
    "            return 'A'\n",
    "    except:\n",
    "        pass"
   ]
  },
  {
   "cell_type": "code",
   "execution_count": 19,
   "id": "01ab7167-6474-4008-9e6c-6c0b55c1149e",
   "metadata": {},
   "outputs": [],
   "source": [
    "data['total_income_category'] = data['total_income'].apply(categorize_income)"
   ]
  },
  {
   "cell_type": "markdown",
   "id": "ce2e254e-77e1-41b7-9d09-6a41b3b2cb06",
   "metadata": {},
   "source": [
    "**Задание 17. Выведите на экран перечень уникальных целей взятия кредита из столбца `purpose`.**"
   ]
  },
  {
   "cell_type": "code",
   "execution_count": 20,
   "id": "d3113591-07f6-4215-acb1-e9ee2651c656",
   "metadata": {},
   "outputs": [
    {
     "data": {
      "text/plain": [
       "array(['покупка жилья', 'приобретение автомобиля',\n",
       "       'дополнительное образование', 'сыграть свадьбу',\n",
       "       'операции с жильем', 'образование', 'на проведение свадьбы',\n",
       "       'покупка жилья для семьи', 'покупка недвижимости',\n",
       "       'покупка коммерческой недвижимости', 'покупка жилой недвижимости',\n",
       "       'строительство собственной недвижимости', 'недвижимость',\n",
       "       'строительство недвижимости', 'на покупку подержанного автомобиля',\n",
       "       'на покупку своего автомобиля',\n",
       "       'операции с коммерческой недвижимостью',\n",
       "       'строительство жилой недвижимости', 'жилье',\n",
       "       'операции со своей недвижимостью', 'автомобили',\n",
       "       'заняться образованием', 'сделка с подержанным автомобилем',\n",
       "       'получение образования', 'автомобиль', 'свадьба',\n",
       "       'получение дополнительного образования', 'покупка своего жилья',\n",
       "       'операции с недвижимостью', 'получение высшего образования',\n",
       "       'свой автомобиль', 'сделка с автомобилем',\n",
       "       'профильное образование', 'высшее образование',\n",
       "       'покупка жилья для сдачи', 'на покупку автомобиля', 'ремонт жилью',\n",
       "       'заняться высшим образованием'], dtype=object)"
      ]
     },
     "execution_count": 20,
     "metadata": {},
     "output_type": "execute_result"
    }
   ],
   "source": [
    "data['purpose'].unique()"
   ]
  },
  {
   "cell_type": "markdown",
   "id": "10e920e5-d0b4-4a29-acac-eb046193b147",
   "metadata": {},
   "source": [
    "**Задание 18. Создайте функцию, которая на основании данных из столбца `purpose` сформирует новый столбец `purpose_category`, в который войдут следующие категории:**\n",
    "\n",
    "- `'операции с автомобилем'`,\n",
    "- `'операции с недвижимостью'`,\n",
    "- `'проведение свадьбы'`,\n",
    "- `'получение образования'`.\n",
    "\n",
    "**Например, если в столбце `purpose` находится подстрока `'на покупку автомобиля'`, то в столбце `purpose_category` должна появиться строка `'операции с автомобилем'`.**\n",
    "\n",
    "**Используйте собственную функцию с именем `categorize_purpose()` и метод `apply()`. Изучите данные в столбце `purpose` и определите, какие подстроки помогут вам правильно определить категорию.**"
   ]
  },
  {
   "cell_type": "code",
   "execution_count": 21,
   "id": "5ac8e4bd-0424-4b72-9686-3581af1b2302",
   "metadata": {},
   "outputs": [],
   "source": [
    "def categorize_purpose(row):\n",
    "    try:\n",
    "        if 'автом' in row:\n",
    "            return 'операции с автомобилем'\n",
    "        elif 'жил' in row or 'недвиж' in row:\n",
    "            return 'операции с недвижимостью'\n",
    "        elif 'свад' in row:\n",
    "            return 'проведение свадьбы'\n",
    "        elif 'образов' in row:\n",
    "            return 'получение образования'\n",
    "    except:\n",
    "        return 'нет категории'"
   ]
  },
  {
   "cell_type": "code",
   "execution_count": 22,
   "id": "7bb22896-f219-41e6-a2dc-deb7018ba4f5",
   "metadata": {},
   "outputs": [],
   "source": [
    "data['purpose_category'] = data['purpose'].apply(categorize_purpose)"
   ]
  },
  {
   "cell_type": "markdown",
   "id": "f86130ea-51a6-45a9-9491-d487f62f8a1c",
   "metadata": {},
   "source": [
    "### Шаг 3. Исследуйте данные и ответьте на вопросы"
   ]
  },
  {
   "cell_type": "code",
   "execution_count": 23,
   "id": "fdc445b6-5038-4855-91ba-b8a304d1b5d0",
   "metadata": {},
   "outputs": [
    {
     "data": {
      "text/markdown": [
       "**Статистические данные по количеству должников и общего количества заявок на кредит,        в зависимости от количества детей:**"
      ],
      "text/plain": [
       "<IPython.core.display.Markdown object>"
      ]
     },
     "metadata": {},
     "output_type": "display_data"
    },
    {
     "data": {
      "text/html": [
       "<div>\n",
       "<style scoped>\n",
       "    .dataframe tbody tr th:only-of-type {\n",
       "        vertical-align: middle;\n",
       "    }\n",
       "\n",
       "    .dataframe tbody tr th {\n",
       "        vertical-align: top;\n",
       "    }\n",
       "\n",
       "    .dataframe thead th {\n",
       "        text-align: right;\n",
       "    }\n",
       "</style>\n",
       "<table border=\"1\" class=\"dataframe\">\n",
       "  <thead>\n",
       "    <tr style=\"text-align: right;\">\n",
       "      <th>children</th>\n",
       "      <th>0</th>\n",
       "      <th>1</th>\n",
       "      <th>2</th>\n",
       "      <th>3</th>\n",
       "      <th>4</th>\n",
       "      <th>5</th>\n",
       "    </tr>\n",
       "    <tr>\n",
       "      <th>debt</th>\n",
       "      <th></th>\n",
       "      <th></th>\n",
       "      <th></th>\n",
       "      <th></th>\n",
       "      <th></th>\n",
       "      <th></th>\n",
       "    </tr>\n",
       "  </thead>\n",
       "  <tbody>\n",
       "    <tr>\n",
       "      <th>debtors</th>\n",
       "      <td>1063</td>\n",
       "      <td>444</td>\n",
       "      <td>194</td>\n",
       "      <td>27</td>\n",
       "      <td>4</td>\n",
       "      <td>0</td>\n",
       "    </tr>\n",
       "    <tr>\n",
       "      <th>loan_applications</th>\n",
       "      <td>14091</td>\n",
       "      <td>4808</td>\n",
       "      <td>2052</td>\n",
       "      <td>330</td>\n",
       "      <td>41</td>\n",
       "      <td>9</td>\n",
       "    </tr>\n",
       "  </tbody>\n",
       "</table>\n",
       "</div>"
      ],
      "text/plain": [
       "children               0     1     2    3   4  5\n",
       "debt                                            \n",
       "debtors             1063   444   194   27   4  0\n",
       "loan_applications  14091  4808  2052  330  41  9"
      ]
     },
     "metadata": {},
     "output_type": "display_data"
    },
    {
     "data": {
      "text/markdown": [
       "* \"debtors\" - количество людей, просрочивших платеж"
      ],
      "text/plain": [
       "<IPython.core.display.Markdown object>"
      ]
     },
     "metadata": {},
     "output_type": "display_data"
    },
    {
     "data": {
      "text/markdown": [
       "* \"loan_applications\" - общее количество заявок на кредит в категории"
      ],
      "text/plain": [
       "<IPython.core.display.Markdown object>"
      ]
     },
     "metadata": {},
     "output_type": "display_data"
    },
    {
     "data": {
      "text/markdown": [
       "**Доля клиентов, допустивших просрочку выплаты, в зависимости от количества детей:**"
      ],
      "text/plain": [
       "<IPython.core.display.Markdown object>"
      ]
     },
     "metadata": {},
     "output_type": "display_data"
    },
    {
     "data": {
      "text/html": [
       "<div>\n",
       "<style scoped>\n",
       "    .dataframe tbody tr th:only-of-type {\n",
       "        vertical-align: middle;\n",
       "    }\n",
       "\n",
       "    .dataframe tbody tr th {\n",
       "        vertical-align: top;\n",
       "    }\n",
       "\n",
       "    .dataframe thead th {\n",
       "        text-align: right;\n",
       "    }\n",
       "</style>\n",
       "<table border=\"1\" class=\"dataframe\">\n",
       "  <thead>\n",
       "    <tr style=\"text-align: right;\">\n",
       "      <th>children</th>\n",
       "      <th>0</th>\n",
       "      <th>1</th>\n",
       "      <th>2</th>\n",
       "      <th>3</th>\n",
       "      <th>4</th>\n",
       "      <th>5</th>\n",
       "    </tr>\n",
       "    <tr>\n",
       "      <th>debt</th>\n",
       "      <th></th>\n",
       "      <th></th>\n",
       "      <th></th>\n",
       "      <th></th>\n",
       "      <th></th>\n",
       "      <th></th>\n",
       "    </tr>\n",
       "  </thead>\n",
       "  <tbody>\n",
       "    <tr>\n",
       "      <th>part</th>\n",
       "      <td>7.54%</td>\n",
       "      <td>9.23%</td>\n",
       "      <td>9.45%</td>\n",
       "      <td>8.18%</td>\n",
       "      <td>9.76%</td>\n",
       "      <td>0.00%</td>\n",
       "    </tr>\n",
       "    <tr>\n",
       "      <th>deviation_from_the_average</th>\n",
       "      <td>-0.58%</td>\n",
       "      <td>1.11%</td>\n",
       "      <td>1.33%</td>\n",
       "      <td>0.06%</td>\n",
       "      <td>1.64%</td>\n",
       "      <td>-8.12%</td>\n",
       "    </tr>\n",
       "  </tbody>\n",
       "</table>\n",
       "</div>"
      ],
      "text/plain": [
       "children                         0      1      2      3      4       5\n",
       "debt                                                                  \n",
       "part                         7.54%  9.23%  9.45%  8.18%  9.76%   0.00%\n",
       "deviation_from_the_average  -0.58%  1.11%  1.33%  0.06%  1.64%  -8.12%"
      ]
     },
     "metadata": {},
     "output_type": "display_data"
    },
    {
     "data": {
      "text/markdown": [
       "* \"part\" - доля людей, просрочивших платеж"
      ],
      "text/plain": [
       "<IPython.core.display.Markdown object>"
      ]
     },
     "metadata": {},
     "output_type": "display_data"
    },
    {
     "data": {
      "text/markdown": [
       "* \"deviation_from_the_average\" - отклонение категории от среднего по всей выборке"
      ],
      "text/plain": [
       "<IPython.core.display.Markdown object>"
      ]
     },
     "metadata": {},
     "output_type": "display_data"
    },
    {
     "data": {
      "text/markdown": [
       "**Графическое представление:**"
      ],
      "text/plain": [
       "<IPython.core.display.Markdown object>"
      ]
     },
     "metadata": {},
     "output_type": "display_data"
    },
    {
     "data": {
      "image/png": "[encoded data removed]",
      "text/plain": [
       "<Figure size 640x480 with 1 Axes>"
      ]
     },
     "metadata": {},
     "output_type": "display_data"
    }
   ],
   "source": [
    "def add_metric_v2(df):\n",
    "    '''\n",
    "    Добавление столбцов, которые нужны для анализа. На входе сводная таблица в формате DataFrame. Предпологается\n",
    "    наличие столбцов со статистикой по пунктуальным заемщикам (индекс 0), и просрочившим платеж (индекс 1).\n",
    "    На выходе такая же таблица, но с дополнительными столбцами.\n",
    "    '''\n",
    "    df = df.rename(columns={1: 'debtors'}) # переименуем столбец в 'должники'\n",
    "    # Всего заявок на кредит\n",
    "    df.loc[:, 'loan_applications'] = (df[0] + df['debtors'])\n",
    "    # Статистическая ошибка от количества заявок\n",
    "    df.loc[:, 'error'] = (df['loan_applications'] ** (0.5))\n",
    "    # доля должников\n",
    "    df.loc[:, 'part'] = df['debtors'] / df['loan_applications']\n",
    "    # статистическая ошибка доли\n",
    "    df.loc[:, 'delta_part'] = df['error'] / (df['loan_applications'] ** 2)\n",
    "    # минимальная вероятность просрочки\n",
    "    df.loc[:, 'min_rate'] = (df['part'] - df['delta_part']).apply(lambda x: 0 if x<0 else x)\n",
    "    # максимальная вероятность просрочки\n",
    "    df.loc[:, 'max_rate'] = df['part']+df['delta_part']\n",
    "    # Статистическая неопределенность\n",
    "    df.loc[:, 'stat_error'] = df['max_rate'] - df['min_rate']\n",
    "    # Столбцы, для вывода в гистаграмме\n",
    "    df.loc[:, 'минимальная вероятность просрочки'] = 100* df.loc[:, 'min_rate']\n",
    "    df.loc[:, 'статистическая неопределенность'] = 100 * df.loc[:, 'stat_error']\n",
    "#    # относительное отклонение категории от общего среднего\n",
    "    average = df['debtors'].sum() / df['loan_applications'].sum()\n",
    "    df.loc[:, 'deviation_from_the_average'] = (df['part'] - average)\n",
    "    return df\n",
    "\n",
    "def create_pivot_table_v2(row, description_in_string, description_in_hystogram):\n",
    "    '''\n",
    "    По сути, все 4 задачи-исследования однотипны. Получить сводную таблицу, вывести статистику, показать доли\n",
    "    по категориям. Поэтому имеет смысл сделать функцию - шаблон.\n",
    "    На входе:\n",
    "        row                        столбец, в датафрейме data, по которому строится сводная таблица\n",
    "        description_in_string      описание, добавляемое перед выводом таблиц\n",
    "        description_in_hystogram - описание по оси Х в гистограмме.\n",
    "    '''\n",
    "    # создаем сводную таблицу\n",
    "    pivot_table = data.pivot_table(index=['debt'], columns=row, values='income_type', aggfunc='count')\\\n",
    "        .fillna(0).T.astype('int')\n",
    "    # добавляем нужные метрики\n",
    "    pivot_table = add_metric_v2(pivot_table)\n",
    "    # выводим статистику\n",
    "    display(Markdown('**Статистические данные по количеству должников и общего количества заявок на кредит,\\\n",
    "        в зависимости от ' + description_in_string + ':**'))\n",
    "    display(pivot_table.loc[:,['debtors','loan_applications']].T)\n",
    "    display(Markdown('* \"debtors\" - количество людей, просрочивших платеж'))\n",
    "    display(Markdown('* \"loan_applications\" - общее количество заявок на кредит в категории'))\n",
    "    # выводим доли.\n",
    "    display(Markdown('**Доля клиентов, допустивших просрочку выплаты, в зависимости от '+\\\n",
    "        description_in_string + ':**'))\n",
    "    #display(pivot_table.loc[:,['part','deviation_from_the_average']].T.applymap('{:.2%}'.format))\n",
    "    display(pivot_table.loc[:,['part','deviation_from_the_average']].T.map('{:.2%}'.format))\n",
    "    display(Markdown('* \"part\" - доля людей, просрочивших платеж'))\n",
    "    display(Markdown('* \"deviation_from_the_average\" - отклонение категории от среднего по всей выборке'))    \n",
    "    # выводим гистограмму\n",
    "    display(Markdown('**Графическое представление:**'))\n",
    "    pivot_table.loc[:,['минимальная вероятность просрочки','статистическая неопределенность']].plot(\n",
    "        kind=\"bar\",\n",
    "        stacked= True,\n",
    "        xlabel=description_in_hystogram,\n",
    "        ylabel='минимальная вероятность просрочки, %')\n",
    "    plt.show()\n",
    "    # возвращаем таблицу, если вдруг понадобится дальнейшая обработка\n",
    "    return pivot_table\n",
    "children = create_pivot_table_v2('children', 'количества детей', 'количество детей')\n"
   ]
  },
  {
   "cell_type": "markdown",
   "id": "4911aed9-b67c-4b47-ab33-4f1b96617208",
   "metadata": {},
   "source": [
    "**Вывод:** \n",
    "* Явной зависимости между количеством просроченых кредитов и количеством детей не наблюдается. С учетом статистической ошибки доля заемщиков, просрочивших платеж, отличается от среднего по всей выборке не более чем на 17%. Тем ни менее, бездетные люди и люди с 3 детьми чаще вовремя платят по кредитам.\n",
    "* Для клиентов с 5 детьми, из-за малой статистики статистическая ошибка сопоставима с усредненной вероятностью просрочки по другим клиентам. <sub>При текущем объеме статистики эту группу можно не учитывать.</sub>"
   ]
  },
  {
   "cell_type": "markdown",
   "id": "eafbb2e3-5f7a-453c-bb5b-a48851372ed4",
   "metadata": {},
   "source": [
    "А вот теперь, при исправленной статистической погрешности, видно, что группа с 5-ю детьми ведет себя явно иначе, чем все остальные. Да, группа минимальна, и ей можно пренебречь, но это повод посмотреть на ее представителей:"
   ]
  },
  {
   "cell_type": "code",
   "execution_count": 24,
   "id": "1416aec2-d01a-4049-a9c8-16b1cfe0e8a7",
   "metadata": {},
   "outputs": [
    {
     "data": {
      "text/html": [
       "<div>\n",
       "<style scoped>\n",
       "    .dataframe tbody tr th:only-of-type {\n",
       "        vertical-align: middle;\n",
       "    }\n",
       "\n",
       "    .dataframe tbody tr th {\n",
       "        vertical-align: top;\n",
       "    }\n",
       "\n",
       "    .dataframe thead th {\n",
       "        text-align: right;\n",
       "    }\n",
       "</style>\n",
       "<table border=\"1\" class=\"dataframe\">\n",
       "  <thead>\n",
       "    <tr style=\"text-align: right;\">\n",
       "      <th></th>\n",
       "      <th>children</th>\n",
       "      <th>days_employed</th>\n",
       "      <th>dob_years</th>\n",
       "      <th>education</th>\n",
       "      <th>education_id</th>\n",
       "      <th>family_status</th>\n",
       "      <th>family_status_id</th>\n",
       "      <th>gender</th>\n",
       "      <th>income_type</th>\n",
       "      <th>debt</th>\n",
       "      <th>total_income</th>\n",
       "      <th>purpose</th>\n",
       "      <th>total_income_category</th>\n",
       "      <th>purpose_category</th>\n",
       "    </tr>\n",
       "  </thead>\n",
       "  <tbody>\n",
       "    <tr>\n",
       "      <th>3979</th>\n",
       "      <td>5</td>\n",
       "      <td>1572.328285</td>\n",
       "      <td>42</td>\n",
       "      <td>среднее</td>\n",
       "      <td>1</td>\n",
       "      <td>гражданский брак</td>\n",
       "      <td>1</td>\n",
       "      <td>M</td>\n",
       "      <td>сотрудник</td>\n",
       "      <td>0</td>\n",
       "      <td>142594</td>\n",
       "      <td>на покупку своего автомобиля</td>\n",
       "      <td>C</td>\n",
       "      <td>операции с автомобилем</td>\n",
       "    </tr>\n",
       "    <tr>\n",
       "      <th>4397</th>\n",
       "      <td>5</td>\n",
       "      <td>3248.839837</td>\n",
       "      <td>36</td>\n",
       "      <td>среднее</td>\n",
       "      <td>1</td>\n",
       "      <td>женат / замужем</td>\n",
       "      <td>0</td>\n",
       "      <td>F</td>\n",
       "      <td>компаньон</td>\n",
       "      <td>0</td>\n",
       "      <td>168460</td>\n",
       "      <td>операции с недвижимостью</td>\n",
       "      <td>C</td>\n",
       "      <td>операции с недвижимостью</td>\n",
       "    </tr>\n",
       "    <tr>\n",
       "      <th>7866</th>\n",
       "      <td>5</td>\n",
       "      <td>773.124856</td>\n",
       "      <td>36</td>\n",
       "      <td>среднее</td>\n",
       "      <td>1</td>\n",
       "      <td>женат / замужем</td>\n",
       "      <td>0</td>\n",
       "      <td>F</td>\n",
       "      <td>сотрудник</td>\n",
       "      <td>0</td>\n",
       "      <td>48772</td>\n",
       "      <td>операции с жильем</td>\n",
       "      <td>D</td>\n",
       "      <td>операции с недвижимостью</td>\n",
       "    </tr>\n",
       "    <tr>\n",
       "      <th>15822</th>\n",
       "      <td>5</td>\n",
       "      <td>418.199982</td>\n",
       "      <td>31</td>\n",
       "      <td>среднее</td>\n",
       "      <td>1</td>\n",
       "      <td>женат / замужем</td>\n",
       "      <td>0</td>\n",
       "      <td>F</td>\n",
       "      <td>сотрудник</td>\n",
       "      <td>0</td>\n",
       "      <td>77552</td>\n",
       "      <td>сделка с подержанным автомобилем</td>\n",
       "      <td>C</td>\n",
       "      <td>операции с автомобилем</td>\n",
       "    </tr>\n",
       "    <tr>\n",
       "      <th>15916</th>\n",
       "      <td>5</td>\n",
       "      <td>2286.262752</td>\n",
       "      <td>37</td>\n",
       "      <td>среднее</td>\n",
       "      <td>1</td>\n",
       "      <td>женат / замужем</td>\n",
       "      <td>0</td>\n",
       "      <td>F</td>\n",
       "      <td>сотрудник</td>\n",
       "      <td>0</td>\n",
       "      <td>256698</td>\n",
       "      <td>покупка недвижимости</td>\n",
       "      <td>B</td>\n",
       "      <td>операции с недвижимостью</td>\n",
       "    </tr>\n",
       "    <tr>\n",
       "      <th>16211</th>\n",
       "      <td>5</td>\n",
       "      <td>387.317579</td>\n",
       "      <td>35</td>\n",
       "      <td>среднее</td>\n",
       "      <td>1</td>\n",
       "      <td>гражданский брак</td>\n",
       "      <td>1</td>\n",
       "      <td>F</td>\n",
       "      <td>госслужащий</td>\n",
       "      <td>0</td>\n",
       "      <td>126102</td>\n",
       "      <td>на проведение свадьбы</td>\n",
       "      <td>C</td>\n",
       "      <td>проведение свадьбы</td>\n",
       "    </tr>\n",
       "    <tr>\n",
       "      <th>20452</th>\n",
       "      <td>5</td>\n",
       "      <td>268.425464</td>\n",
       "      <td>38</td>\n",
       "      <td>начальное</td>\n",
       "      <td>3</td>\n",
       "      <td>женат / замужем</td>\n",
       "      <td>0</td>\n",
       "      <td>F</td>\n",
       "      <td>сотрудник</td>\n",
       "      <td>0</td>\n",
       "      <td>212545</td>\n",
       "      <td>заняться высшим образованием</td>\n",
       "      <td>B</td>\n",
       "      <td>получение образования</td>\n",
       "    </tr>\n",
       "    <tr>\n",
       "      <th>20837</th>\n",
       "      <td>5</td>\n",
       "      <td>2386.600221</td>\n",
       "      <td>35</td>\n",
       "      <td>среднее</td>\n",
       "      <td>1</td>\n",
       "      <td>женат / замужем</td>\n",
       "      <td>0</td>\n",
       "      <td>F</td>\n",
       "      <td>компаньон</td>\n",
       "      <td>0</td>\n",
       "      <td>204241</td>\n",
       "      <td>жилье</td>\n",
       "      <td>B</td>\n",
       "      <td>операции с недвижимостью</td>\n",
       "    </tr>\n",
       "    <tr>\n",
       "      <th>21156</th>\n",
       "      <td>5</td>\n",
       "      <td>1690.018117</td>\n",
       "      <td>59</td>\n",
       "      <td>среднее</td>\n",
       "      <td>1</td>\n",
       "      <td>женат / замужем</td>\n",
       "      <td>0</td>\n",
       "      <td>M</td>\n",
       "      <td>сотрудник</td>\n",
       "      <td>0</td>\n",
       "      <td>269068</td>\n",
       "      <td>операции со своей недвижимостью</td>\n",
       "      <td>B</td>\n",
       "      <td>операции с недвижимостью</td>\n",
       "    </tr>\n",
       "  </tbody>\n",
       "</table>\n",
       "</div>"
      ],
      "text/plain": [
       "       children  days_employed  dob_years  education  education_id  \\\n",
       "3979          5    1572.328285         42    среднее             1   \n",
       "4397          5    3248.839837         36    среднее             1   \n",
       "7866          5     773.124856         36    среднее             1   \n",
       "15822         5     418.199982         31    среднее             1   \n",
       "15916         5    2286.262752         37    среднее             1   \n",
       "16211         5     387.317579         35    среднее             1   \n",
       "20452         5     268.425464         38  начальное             3   \n",
       "20837         5    2386.600221         35    среднее             1   \n",
       "21156         5    1690.018117         59    среднее             1   \n",
       "\n",
       "          family_status  family_status_id gender  income_type  debt  \\\n",
       "3979   гражданский брак                 1      M    сотрудник     0   \n",
       "4397    женат / замужем                 0      F    компаньон     0   \n",
       "7866    женат / замужем                 0      F    сотрудник     0   \n",
       "15822   женат / замужем                 0      F    сотрудник     0   \n",
       "15916   женат / замужем                 0      F    сотрудник     0   \n",
       "16211  гражданский брак                 1      F  госслужащий     0   \n",
       "20452   женат / замужем                 0      F    сотрудник     0   \n",
       "20837   женат / замужем                 0      F    компаньон     0   \n",
       "21156   женат / замужем                 0      M    сотрудник     0   \n",
       "\n",
       "       total_income                           purpose total_income_category  \\\n",
       "3979         142594      на покупку своего автомобиля                     C   \n",
       "4397         168460          операции с недвижимостью                     C   \n",
       "7866          48772                 операции с жильем                     D   \n",
       "15822         77552  сделка с подержанным автомобилем                     C   \n",
       "15916        256698              покупка недвижимости                     B   \n",
       "16211        126102             на проведение свадьбы                     C   \n",
       "20452        212545      заняться высшим образованием                     B   \n",
       "20837        204241                             жилье                     B   \n",
       "21156        269068   операции со своей недвижимостью                     B   \n",
       "\n",
       "               purpose_category  \n",
       "3979     операции с автомобилем  \n",
       "4397   операции с недвижимостью  \n",
       "7866   операции с недвижимостью  \n",
       "15822    операции с автомобилем  \n",
       "15916  операции с недвижимостью  \n",
       "16211        проведение свадьбы  \n",
       "20452     получение образования  \n",
       "20837  операции с недвижимостью  \n",
       "21156  операции с недвижимостью  "
      ]
     },
     "execution_count": 24,
     "metadata": {},
     "output_type": "execute_result"
    }
   ],
   "source": [
    "data[data.children == 5]"
   ]
  },
  {
   "cell_type": "markdown",
   "id": "9bb9a10f-17c2-45dc-9f2f-842058bfb95d",
   "metadata": {},
   "source": [
    "Забавная группа...\n",
    "    \n",
    "* Дама, имеющая начальное образование, доход 200к+ и берущая кредит сразу на высшее образование, минуя среднее. Это как? Муж не хочет оплачивать ее образование? Причем учиться хочет именно она, а не ее дети.\n",
    "\n",
    "* Еще одна дама, с доходом меньше 50к, берущая кредит на квартиру. В совокупности с 5-ю детьми такой доход - показатель бедности, если не нищеты.\n",
    "\n",
    "Почти неверняка, что как минимум эти представилели допустят просрочки по выплатам. Это просто вопрос времени.\n",
    "    \n",
    "И да, если в итоге статистическая погрешность доли $\\Delta_{part} = \\left(\\frac{\\sqrt n}{n^2}\\right) = n^{-1.5}$, то для заданной наперед погрешности можно узнать минимальное количество людей в выборке. $n = \\left(\\Delta_{part}\\right)^{-2/3}$. Т.е. для погрешности  меньше 0,1% количество людей в выборке должно быть больше или равно 100.\n"
   ]
  },
  {
   "cell_type": "markdown",
   "id": "99109db9-448e-4d9b-b0af-3298a6fb0266",
   "metadata": {},
   "source": [
    "#### 3.2 Есть ли зависимость между семейным положением и возвратом кредита в срок?"
   ]
  },
  {
   "cell_type": "markdown",
   "id": "2478ec7a-91c4-4387-89aa-cb6f12a9ef50",
   "metadata": {},
   "source": [
    "Статистические данные по количеству должников и общего количества заявок на кредит, в зависимости семейного положения:"
   ]
  },
  {
   "cell_type": "code",
   "execution_count": 25,
   "id": "bd0f8bd7-cf51-4def-97a7-bc901c4fdc74",
   "metadata": {},
   "outputs": [
    {
     "data": {
      "text/markdown": [
       "**Статистические данные по количеству должников и общего количества заявок на кредит,        в зависимости от семейного положения:**"
      ],
      "text/plain": [
       "<IPython.core.display.Markdown object>"
      ]
     },
     "metadata": {},
     "output_type": "display_data"
    },
    {
     "data": {
      "text/html": [
       "<div>\n",
       "<style scoped>\n",
       "    .dataframe tbody tr th:only-of-type {\n",
       "        vertical-align: middle;\n",
       "    }\n",
       "\n",
       "    .dataframe tbody tr th {\n",
       "        vertical-align: top;\n",
       "    }\n",
       "\n",
       "    .dataframe thead th {\n",
       "        text-align: right;\n",
       "    }\n",
       "</style>\n",
       "<table border=\"1\" class=\"dataframe\">\n",
       "  <thead>\n",
       "    <tr style=\"text-align: right;\">\n",
       "      <th>family_status</th>\n",
       "      <th>Не женат / не замужем</th>\n",
       "      <th>в разводе</th>\n",
       "      <th>вдовец / вдова</th>\n",
       "      <th>гражданский брак</th>\n",
       "      <th>женат / замужем</th>\n",
       "    </tr>\n",
       "    <tr>\n",
       "      <th>debt</th>\n",
       "      <th></th>\n",
       "      <th></th>\n",
       "      <th></th>\n",
       "      <th></th>\n",
       "      <th></th>\n",
       "    </tr>\n",
       "  </thead>\n",
       "  <tbody>\n",
       "    <tr>\n",
       "      <th>debtors</th>\n",
       "      <td>273</td>\n",
       "      <td>84</td>\n",
       "      <td>63</td>\n",
       "      <td>385</td>\n",
       "      <td>927</td>\n",
       "    </tr>\n",
       "    <tr>\n",
       "      <th>loan_applications</th>\n",
       "      <td>2796</td>\n",
       "      <td>1189</td>\n",
       "      <td>951</td>\n",
       "      <td>4134</td>\n",
       "      <td>12261</td>\n",
       "    </tr>\n",
       "  </tbody>\n",
       "</table>\n",
       "</div>"
      ],
      "text/plain": [
       "family_status      Не женат / не замужем  в разводе  вдовец / вдова  \\\n",
       "debt                                                                  \n",
       "debtors                              273         84              63   \n",
       "loan_applications                   2796       1189             951   \n",
       "\n",
       "family_status      гражданский брак  женат / замужем  \n",
       "debt                                                  \n",
       "debtors                         385              927  \n",
       "loan_applications              4134            12261  "
      ]
     },
     "metadata": {},
     "output_type": "display_data"
    },
    {
     "data": {
      "text/markdown": [
       "* \"debtors\" - количество людей, просрочивших платеж"
      ],
      "text/plain": [
       "<IPython.core.display.Markdown object>"
      ]
     },
     "metadata": {},
     "output_type": "display_data"
    },
    {
     "data": {
      "text/markdown": [
       "* \"loan_applications\" - общее количество заявок на кредит в категории"
      ],
      "text/plain": [
       "<IPython.core.display.Markdown object>"
      ]
     },
     "metadata": {},
     "output_type": "display_data"
    },
    {
     "data": {
      "text/markdown": [
       "**Доля клиентов, допустивших просрочку выплаты, в зависимости от семейного положения:**"
      ],
      "text/plain": [
       "<IPython.core.display.Markdown object>"
      ]
     },
     "metadata": {},
     "output_type": "display_data"
    },
    {
     "data": {
      "text/html": [
       "<div>\n",
       "<style scoped>\n",
       "    .dataframe tbody tr th:only-of-type {\n",
       "        vertical-align: middle;\n",
       "    }\n",
       "\n",
       "    .dataframe tbody tr th {\n",
       "        vertical-align: top;\n",
       "    }\n",
       "\n",
       "    .dataframe thead th {\n",
       "        text-align: right;\n",
       "    }\n",
       "</style>\n",
       "<table border=\"1\" class=\"dataframe\">\n",
       "  <thead>\n",
       "    <tr style=\"text-align: right;\">\n",
       "      <th>family_status</th>\n",
       "      <th>Не женат / не замужем</th>\n",
       "      <th>в разводе</th>\n",
       "      <th>вдовец / вдова</th>\n",
       "      <th>гражданский брак</th>\n",
       "      <th>женат / замужем</th>\n",
       "    </tr>\n",
       "    <tr>\n",
       "      <th>debt</th>\n",
       "      <th></th>\n",
       "      <th></th>\n",
       "      <th></th>\n",
       "      <th></th>\n",
       "      <th></th>\n",
       "    </tr>\n",
       "  </thead>\n",
       "  <tbody>\n",
       "    <tr>\n",
       "      <th>part</th>\n",
       "      <td>9.76%</td>\n",
       "      <td>7.06%</td>\n",
       "      <td>6.62%</td>\n",
       "      <td>9.31%</td>\n",
       "      <td>7.56%</td>\n",
       "    </tr>\n",
       "    <tr>\n",
       "      <th>deviation_from_the_average</th>\n",
       "      <td>1.64%</td>\n",
       "      <td>-1.05%</td>\n",
       "      <td>-1.50%</td>\n",
       "      <td>1.19%</td>\n",
       "      <td>-0.56%</td>\n",
       "    </tr>\n",
       "  </tbody>\n",
       "</table>\n",
       "</div>"
      ],
      "text/plain": [
       "family_status              Не женат / не замужем в разводе вдовец / вдова  \\\n",
       "debt                                                                        \n",
       "part                                       9.76%     7.06%          6.62%   \n",
       "deviation_from_the_average                 1.64%    -1.05%         -1.50%   \n",
       "\n",
       "family_status              гражданский брак женат / замужем  \n",
       "debt                                                         \n",
       "part                                  9.31%           7.56%  \n",
       "deviation_from_the_average            1.19%          -0.56%  "
      ]
     },
     "metadata": {},
     "output_type": "display_data"
    },
    {
     "data": {
      "text/markdown": [
       "* \"part\" - доля людей, просрочивших платеж"
      ],
      "text/plain": [
       "<IPython.core.display.Markdown object>"
      ]
     },
     "metadata": {},
     "output_type": "display_data"
    },
    {
     "data": {
      "text/markdown": [
       "* \"deviation_from_the_average\" - отклонение категории от среднего по всей выборке"
      ],
      "text/plain": [
       "<IPython.core.display.Markdown object>"
      ]
     },
     "metadata": {},
     "output_type": "display_data"
    },
    {
     "data": {
      "text/markdown": [
       "**Графическое представление:**"
      ],
      "text/plain": [
       "<IPython.core.display.Markdown object>"
      ]
     },
     "metadata": {},
     "output_type": "display_data"
    },
    {
     "data": {
      "image/png": "[encoded data removed]",
      "text/plain": [
       "<Figure size 640x480 with 1 Axes>"
      ]
     },
     "metadata": {},
     "output_type": "display_data"
    }
   ],
   "source": [
    "family_status = create_pivot_table_v2('family_status', 'семейного положения', 'семейное положение')"
   ]
  },
  {
   "cell_type": "markdown",
   "id": "60ecff91-2d24-4a5a-8bd8-43521e5c30b4",
   "metadata": {},
   "source": [
    "**Вывод:** \n",
    "* Люди, не скреплявшие себя официальными отношениями, чаще не допускали просрочку выплаты (приблизительно на 1,5% чаще, по сравнению со средним значением).\n",
    "* Напротив, люди, утратившие официальные отношения, реже допускали просрочки выплат (приблизительно на один процент, по сравнению со средним значением)."
   ]
  },
  {
   "cell_type": "markdown",
   "id": "31a17fb8-cdfd-414e-b92d-1d48d5fd1d9a",
   "metadata": {},
   "source": [
    "#### 3.3 Есть ли зависимость между уровнем дохода и возвратом кредита в срок?"
   ]
  },
  {
   "cell_type": "markdown",
   "id": "99c347be-08bb-4df6-a360-ba3f22ef76bb",
   "metadata": {},
   "source": [
    "Категории клиентов, в зависимости от уровня дохода:\n",
    "- 0–30000 — `'E'`;\n",
    "- 30001–50000 — `'D'`;\n",
    "- 50001–200000 — `'C'`;\n",
    "- 200001–1000000 — `'B'`;\n",
    "- 1000001 и выше — `'A'`."
   ]
  },
  {
   "cell_type": "code",
   "execution_count": 26,
   "id": "08d74cbd-8173-4b36-8823-d5527ec52672",
   "metadata": {},
   "outputs": [
    {
     "data": {
      "text/markdown": [
       "**Статистические данные по количеству должников и общего количества заявок на кредит,        в зависимости от категории уровня дохода:**"
      ],
      "text/plain": [
       "<IPython.core.display.Markdown object>"
      ]
     },
     "metadata": {},
     "output_type": "display_data"
    },
    {
     "data": {
      "text/html": [
       "<div>\n",
       "<style scoped>\n",
       "    .dataframe tbody tr th:only-of-type {\n",
       "        vertical-align: middle;\n",
       "    }\n",
       "\n",
       "    .dataframe tbody tr th {\n",
       "        vertical-align: top;\n",
       "    }\n",
       "\n",
       "    .dataframe thead th {\n",
       "        text-align: right;\n",
       "    }\n",
       "</style>\n",
       "<table border=\"1\" class=\"dataframe\">\n",
       "  <thead>\n",
       "    <tr style=\"text-align: right;\">\n",
       "      <th>total_income_category</th>\n",
       "      <th>B</th>\n",
       "      <th>C</th>\n",
       "      <th>D</th>\n",
       "    </tr>\n",
       "    <tr>\n",
       "      <th>debt</th>\n",
       "      <th></th>\n",
       "      <th></th>\n",
       "      <th></th>\n",
       "    </tr>\n",
       "  </thead>\n",
       "  <tbody>\n",
       "    <tr>\n",
       "      <th>debtors</th>\n",
       "      <td>354</td>\n",
       "      <td>1353</td>\n",
       "      <td>21</td>\n",
       "    </tr>\n",
       "    <tr>\n",
       "      <th>loan_applications</th>\n",
       "      <td>5014</td>\n",
       "      <td>15921</td>\n",
       "      <td>349</td>\n",
       "    </tr>\n",
       "  </tbody>\n",
       "</table>\n",
       "</div>"
      ],
      "text/plain": [
       "total_income_category     B      C    D\n",
       "debt                                   \n",
       "debtors                 354   1353   21\n",
       "loan_applications      5014  15921  349"
      ]
     },
     "metadata": {},
     "output_type": "display_data"
    },
    {
     "data": {
      "text/markdown": [
       "* \"debtors\" - количество людей, просрочивших платеж"
      ],
      "text/plain": [
       "<IPython.core.display.Markdown object>"
      ]
     },
     "metadata": {},
     "output_type": "display_data"
    },
    {
     "data": {
      "text/markdown": [
       "* \"loan_applications\" - общее количество заявок на кредит в категории"
      ],
      "text/plain": [
       "<IPython.core.display.Markdown object>"
      ]
     },
     "metadata": {},
     "output_type": "display_data"
    },
    {
     "data": {
      "text/markdown": [
       "**Доля клиентов, допустивших просрочку выплаты, в зависимости от категории уровня дохода:**"
      ],
      "text/plain": [
       "<IPython.core.display.Markdown object>"
      ]
     },
     "metadata": {},
     "output_type": "display_data"
    },
    {
     "data": {
      "text/html": [
       "<div>\n",
       "<style scoped>\n",
       "    .dataframe tbody tr th:only-of-type {\n",
       "        vertical-align: middle;\n",
       "    }\n",
       "\n",
       "    .dataframe tbody tr th {\n",
       "        vertical-align: top;\n",
       "    }\n",
       "\n",
       "    .dataframe thead th {\n",
       "        text-align: right;\n",
       "    }\n",
       "</style>\n",
       "<table border=\"1\" class=\"dataframe\">\n",
       "  <thead>\n",
       "    <tr style=\"text-align: right;\">\n",
       "      <th>total_income_category</th>\n",
       "      <th>B</th>\n",
       "      <th>C</th>\n",
       "      <th>D</th>\n",
       "    </tr>\n",
       "    <tr>\n",
       "      <th>debt</th>\n",
       "      <th></th>\n",
       "      <th></th>\n",
       "      <th></th>\n",
       "    </tr>\n",
       "  </thead>\n",
       "  <tbody>\n",
       "    <tr>\n",
       "      <th>part</th>\n",
       "      <td>7.06%</td>\n",
       "      <td>8.50%</td>\n",
       "      <td>6.02%</td>\n",
       "    </tr>\n",
       "    <tr>\n",
       "      <th>deviation_from_the_average</th>\n",
       "      <td>-1.06%</td>\n",
       "      <td>0.38%</td>\n",
       "      <td>-2.10%</td>\n",
       "    </tr>\n",
       "  </tbody>\n",
       "</table>\n",
       "</div>"
      ],
      "text/plain": [
       "total_income_category            B      C       D\n",
       "debt                                             \n",
       "part                         7.06%  8.50%   6.02%\n",
       "deviation_from_the_average  -1.06%  0.38%  -2.10%"
      ]
     },
     "metadata": {},
     "output_type": "display_data"
    },
    {
     "data": {
      "text/markdown": [
       "* \"part\" - доля людей, просрочивших платеж"
      ],
      "text/plain": [
       "<IPython.core.display.Markdown object>"
      ]
     },
     "metadata": {},
     "output_type": "display_data"
    },
    {
     "data": {
      "text/markdown": [
       "* \"deviation_from_the_average\" - отклонение категории от среднего по всей выборке"
      ],
      "text/plain": [
       "<IPython.core.display.Markdown object>"
      ]
     },
     "metadata": {},
     "output_type": "display_data"
    },
    {
     "data": {
      "text/markdown": [
       "**Графическое представление:**"
      ],
      "text/plain": [
       "<IPython.core.display.Markdown object>"
      ]
     },
     "metadata": {},
     "output_type": "display_data"
    },
    {
     "data": {
      "image/png": "[encoded data removed]",
      "text/plain": [
       "<Figure size 640x480 with 1 Axes>"
      ]
     },
     "metadata": {},
     "output_type": "display_data"
    }
   ],
   "source": [
    "def create_pivot_table_v2_2(row, description_in_string, description_in_hystogram):\n",
    "\n",
    "# Надо было создавать функцию, с передачей датафрейма в качестве аргумента. Теперь приходится дополнительную\n",
    "# функцию создавать, для исключения нескольких категорий\n",
    "    data4 = data[data.total_income_category.apply(lambda x: x in ['B','C','D'])]\n",
    "    \n",
    "    pivot_table = data4.pivot_table(index=['debt'], columns=row, values='income_type', aggfunc='count')\\\n",
    "        .fillna(0).T.astype('int')\n",
    "    pivot_table = add_metric_v2(pivot_table)\n",
    "    display(Markdown('**Статистические данные по количеству должников и общего количества заявок на кредит,\\\n",
    "        в зависимости от ' + description_in_string + ':**'))\n",
    "    display(pivot_table.loc[:,['debtors','loan_applications']].T)\n",
    "    display(Markdown('* \"debtors\" - количество людей, просрочивших платеж'))\n",
    "    display(Markdown('* \"loan_applications\" - общее количество заявок на кредит в категории'))\n",
    "    display(Markdown('**Доля клиентов, допустивших просрочку выплаты, в зависимости от '+\\\n",
    "        description_in_string + ':**'))\n",
    "    #display(pivot_table.loc[:,['part','deviation_from_the_average']].T.applymap('{:.2%}'.format))\n",
    "    display(pivot_table.loc[:,['part','deviation_from_the_average']].T.map('{:.2%}'.format))\n",
    "    display(Markdown('* \"part\" - доля людей, просрочивших платеж'))\n",
    "    display(Markdown('* \"deviation_from_the_average\" - отклонение категории от среднего по всей выборке'))    \n",
    "    display(Markdown('**Графическое представление:**'))\n",
    "    pivot_table.loc[:,['минимальная вероятность просрочки','статистическая неопределенность']].plot(\n",
    "        kind=\"bar\",\n",
    "        stacked= True,\n",
    "        xlabel=description_in_hystogram,\n",
    "        ylabel='минимальная вероятность просрочки, %')\n",
    "    plt.show()\n",
    "    return pivot_table\n",
    "\n",
    "total_income_category = create_pivot_table_v2_2('total_income_category', 'категории уровня дохода', 'категория уровеня дохода')"
   ]
  },
  {
   "cell_type": "markdown",
   "id": "d5a910b7-4527-4b66-8ca6-6d228e1a7a5a",
   "metadata": {},
   "source": [
    "**Вывод:** \n",
    "* Люди, с доходом от 30001 до 50000 у.е. (группа D) чуть реже других допускают просрочку платежей ( ~  на 2% реже сравнению с общим уровнем).\n",
    "* Люди, с доходом от 200001 до 1000000 у.е. (группа B) также чуть реже других допускают просрочку платежей ( ~  на 1% реже сравнению с общим уровнем)."
   ]
  },
  {
   "cell_type": "markdown",
   "id": "1598172f-0043-4dba-8484-123cf976dc52",
   "metadata": {},
   "source": [
    "#### 3.4 Как разные цели кредита влияют на его возврат в срок?"
   ]
  },
  {
   "cell_type": "code",
   "execution_count": 27,
   "id": "59ae3bf0-53e1-4595-b073-9c1536a9acdb",
   "metadata": {},
   "outputs": [
    {
     "data": {
      "text/markdown": [
       "**Статистические данные по количеству должников и общего количества заявок на кредит,        в зависимости от целей кредита:**"
      ],
      "text/plain": [
       "<IPython.core.display.Markdown object>"
      ]
     },
     "metadata": {},
     "output_type": "display_data"
    },
    {
     "data": {
      "text/html": [
       "<div>\n",
       "<style scoped>\n",
       "    .dataframe tbody tr th:only-of-type {\n",
       "        vertical-align: middle;\n",
       "    }\n",
       "\n",
       "    .dataframe tbody tr th {\n",
       "        vertical-align: top;\n",
       "    }\n",
       "\n",
       "    .dataframe thead th {\n",
       "        text-align: right;\n",
       "    }\n",
       "</style>\n",
       "<table border=\"1\" class=\"dataframe\">\n",
       "  <thead>\n",
       "    <tr style=\"text-align: right;\">\n",
       "      <th>purpose_category</th>\n",
       "      <th>операции с автомобилем</th>\n",
       "      <th>операции с недвижимостью</th>\n",
       "      <th>получение образования</th>\n",
       "      <th>проведение свадьбы</th>\n",
       "    </tr>\n",
       "    <tr>\n",
       "      <th>debt</th>\n",
       "      <th></th>\n",
       "      <th></th>\n",
       "      <th></th>\n",
       "      <th></th>\n",
       "    </tr>\n",
       "  </thead>\n",
       "  <tbody>\n",
       "    <tr>\n",
       "      <th>debtors</th>\n",
       "      <td>400</td>\n",
       "      <td>780</td>\n",
       "      <td>369</td>\n",
       "      <td>183</td>\n",
       "    </tr>\n",
       "    <tr>\n",
       "      <th>loan_applications</th>\n",
       "      <td>4279</td>\n",
       "      <td>10751</td>\n",
       "      <td>3988</td>\n",
       "      <td>2313</td>\n",
       "    </tr>\n",
       "  </tbody>\n",
       "</table>\n",
       "</div>"
      ],
      "text/plain": [
       "purpose_category   операции с автомобилем  операции с недвижимостью  \\\n",
       "debt                                                                  \n",
       "debtors                               400                       780   \n",
       "loan_applications                    4279                     10751   \n",
       "\n",
       "purpose_category   получение образования  проведение свадьбы  \n",
       "debt                                                          \n",
       "debtors                              369                 183  \n",
       "loan_applications                   3988                2313  "
      ]
     },
     "metadata": {},
     "output_type": "display_data"
    },
    {
     "data": {
      "text/markdown": [
       "* \"debtors\" - количество людей, просрочивших платеж"
      ],
      "text/plain": [
       "<IPython.core.display.Markdown object>"
      ]
     },
     "metadata": {},
     "output_type": "display_data"
    },
    {
     "data": {
      "text/markdown": [
       "* \"loan_applications\" - общее количество заявок на кредит в категории"
      ],
      "text/plain": [
       "<IPython.core.display.Markdown object>"
      ]
     },
     "metadata": {},
     "output_type": "display_data"
    },
    {
     "data": {
      "text/markdown": [
       "**Доля клиентов, допустивших просрочку выплаты, в зависимости от целей кредита:**"
      ],
      "text/plain": [
       "<IPython.core.display.Markdown object>"
      ]
     },
     "metadata": {},
     "output_type": "display_data"
    },
    {
     "data": {
      "text/html": [
       "<div>\n",
       "<style scoped>\n",
       "    .dataframe tbody tr th:only-of-type {\n",
       "        vertical-align: middle;\n",
       "    }\n",
       "\n",
       "    .dataframe tbody tr th {\n",
       "        vertical-align: top;\n",
       "    }\n",
       "\n",
       "    .dataframe thead th {\n",
       "        text-align: right;\n",
       "    }\n",
       "</style>\n",
       "<table border=\"1\" class=\"dataframe\">\n",
       "  <thead>\n",
       "    <tr style=\"text-align: right;\">\n",
       "      <th>purpose_category</th>\n",
       "      <th>операции с автомобилем</th>\n",
       "      <th>операции с недвижимостью</th>\n",
       "      <th>получение образования</th>\n",
       "      <th>проведение свадьбы</th>\n",
       "    </tr>\n",
       "    <tr>\n",
       "      <th>debt</th>\n",
       "      <th></th>\n",
       "      <th></th>\n",
       "      <th></th>\n",
       "      <th></th>\n",
       "    </tr>\n",
       "  </thead>\n",
       "  <tbody>\n",
       "    <tr>\n",
       "      <th>part</th>\n",
       "      <td>9.35%</td>\n",
       "      <td>7.26%</td>\n",
       "      <td>9.25%</td>\n",
       "      <td>7.91%</td>\n",
       "    </tr>\n",
       "    <tr>\n",
       "      <th>deviation_from_the_average</th>\n",
       "      <td>1.23%</td>\n",
       "      <td>-0.86%</td>\n",
       "      <td>1.13%</td>\n",
       "      <td>-0.21%</td>\n",
       "    </tr>\n",
       "  </tbody>\n",
       "</table>\n",
       "</div>"
      ],
      "text/plain": [
       "purpose_category           операции с автомобилем операции с недвижимостью  \\\n",
       "debt                                                                         \n",
       "part                                        9.35%                    7.26%   \n",
       "deviation_from_the_average                  1.23%                   -0.86%   \n",
       "\n",
       "purpose_category           получение образования проведение свадьбы  \n",
       "debt                                                                 \n",
       "part                                       9.25%              7.91%  \n",
       "deviation_from_the_average                 1.13%             -0.21%  "
      ]
     },
     "metadata": {},
     "output_type": "display_data"
    },
    {
     "data": {
      "text/markdown": [
       "* \"part\" - доля людей, просрочивших платеж"
      ],
      "text/plain": [
       "<IPython.core.display.Markdown object>"
      ]
     },
     "metadata": {},
     "output_type": "display_data"
    },
    {
     "data": {
      "text/markdown": [
       "* \"deviation_from_the_average\" - отклонение категории от среднего по всей выборке"
      ],
      "text/plain": [
       "<IPython.core.display.Markdown object>"
      ]
     },
     "metadata": {},
     "output_type": "display_data"
    },
    {
     "data": {
      "text/markdown": [
       "**Графическое представление:**"
      ],
      "text/plain": [
       "<IPython.core.display.Markdown object>"
      ]
     },
     "metadata": {},
     "output_type": "display_data"
    },
    {
     "data": {
      "image/png": "[encoded data removed]",
      "text/plain": [
       "<Figure size 640x480 with 1 Axes>"
      ]
     },
     "metadata": {},
     "output_type": "display_data"
    }
   ],
   "source": [
    "purpose_category = create_pivot_table_v2('purpose_category', 'целей кредита', 'категория целей кредита')"
   ]
  },
  {
   "cell_type": "markdown",
   "id": "6badabc4-cc7a-4658-8b0d-fb0d4ff7b5dd",
   "metadata": {},
   "source": [
    "**Вывод:** \n",
    "* Люди, берущие кредит на операции с автомобилем и на получения образования, чаще других допускают просрочку выплаты (~ на 1,2% больше, по сравнению с общим уровнем).\n",
    "* Чаще всего вовремя выплачиваются выплаты по кредитам, связанных с операциями с недвижимостью (~ на 0,9% больше, по сравнению с общим уровнем)."
   ]
  },
  {
   "cell_type": "markdown",
   "id": "96b156d0-f44e-4c80-b104-5fe0bb23c2b7",
   "metadata": {},
   "source": [
    "#### 3.5 Приведите возможные причины появления пропусков в исходных данных."
   ]
  },
  {
   "cell_type": "markdown",
   "id": "9c3f6319-6dd8-4499-b769-007f220ea770",
   "metadata": {},
   "source": [
    "*Ответ:* Изначально в данных присутствовали пропуски в полях с доходом и трудовым стажем. Пропуски только в этих полях позволяют предположить, что это влияние человеческого фактора. Эти данные могли либо изначально не указывать, либо не смогли подтвердить. Доход сложно подтвердить, если человек получал черную зарплату. Также и стаж - работодатель мог официально не оформлять человека на работу. Плюс режим налогооблажения для самозанятых стал доступен позже, чем была снята статистика, поэтому люди, которые работали на себя, не могли это никак подтвердить.  \n",
    "Причиной пропусков могут быть результаты технического сбоя, вмешательство службы безопасности (не знаю, относить ли это к человеческому фактору, или к системному). Также пропуски в данных могут появиться при объединении данных, полученных из разных источников (в каком-то из источников просто нет этих данных)."
   ]
  },
  {
   "cell_type": "markdown",
   "id": "73d43e2c-e45c-4162-b209-8fe1becc0ef2",
   "metadata": {},
   "source": [
    "#### 3.6 Объясните, почему заполнить пропуски медианным значением — лучшее решение для количественных переменных."
   ]
  },
  {
   "cell_type": "markdown",
   "id": "5bb3b41b-fe67-4764-bde7-842cbca1f88e",
   "metadata": {},
   "source": [
    "Ответ: При таком заполнении пропусков не должна сильно нарушаться уже имеющаяся статистика (выбор именно медианного значения в качестве заполнителя обусловлен тем, что \"обновленные\" данные не попадут однозначно ни в одну из категорий при делении выборки пополам, а соответственно не должны сильно исказить картину). В то же время новые данные могут содержать какую-то ценную информацию, из которой можно извлечь какие-либо закономерности.\n",
    "\n"
   ]
  },
  {
   "cell_type": "code",
   "execution_count": 28,
   "id": "53211013-93e7-410a-9526-8222d9a83547",
   "metadata": {},
   "outputs": [
    {
     "name": "stdout",
     "output_type": "stream",
     "text": [
      "                       count          min          max           mean  \\\n",
      "                total_income total_income total_income   total_income   \n",
      "income_type                                                             \n",
      "безработный                2        59956       202722  131339.000000   \n",
      "в декрете                  1        53829        53829   53829.000000   \n",
      "госслужащий             1451        29200       910451  168728.454859   \n",
      "компаньон               5047        28702      2265604  199608.615811   \n",
      "пенсионер               3812        20667       735103  135320.753673   \n",
      "предприниматель            2       499163       499163  499163.000000   \n",
      "сотрудник              11015        21367      1726276  159547.951975   \n",
      "студент                    1        98201        98201   98201.000000   \n",
      "\n",
      "                      median  \n",
      "                total_income  \n",
      "income_type                   \n",
      "безработный         131339.0  \n",
      "в декрете            53829.0  \n",
      "госслужащий         150447.0  \n",
      "компаньон           172357.0  \n",
      "пенсионер           118514.0  \n",
      "предприниматель     499163.0  \n",
      "сотрудник           142594.0  \n",
      "студент              98201.0  \n"
     ]
    }
   ],
   "source": [
    "# Статистика по категориям\n",
    "pivot_table = data.pivot_table(index=['income_type'], values=['total_income'],aggfunc=['count','min','max','mean','median'])\n",
    "print(pivot_table)"
   ]
  },
  {
   "cell_type": "markdown",
   "id": "9fd9f597-5047-4b41-ad54-8f9075d293bf",
   "metadata": {},
   "source": [
    "Посмотрим распределение по количеству людей по разным актуальным категориям столбца total_income"
   ]
  },
  {
   "cell_type": "code",
   "execution_count": 29,
   "id": "23480708-f42c-4dd9-9ec2-11f04e2fce27",
   "metadata": {},
   "outputs": [
    {
     "name": "stderr",
     "output_type": "stream",
     "text": [
      "/home/padla/anaconda3/envs/practicum/lib/python3.9/site-packages/seaborn/_oldcore.py:1119: FutureWarning: use_inf_as_na option is deprecated and will be removed in a future version. Convert inf values to NaN before operating instead.\n",
      "  with pd.option_context('mode.use_inf_as_na', True):\n"
     ]
    },
    {
     "data": {
      "image/png": "[encoded data removed]",
      "text/plain": [
       "<Figure size 500x2000 with 4 Axes>"
      ]
     },
     "metadata": {},
     "output_type": "display_data"
    }
   ],
   "source": [
    "actual_category=list(pivot_table[pivot_table[('count','total_income')] > 2].index)\n",
    "data3=data[data['income_type'].apply(lambda x: x in actual_category)]\n",
    "# построим гистограммы для этих категорий\n",
    "sns.displot(data=data3, x='total_income', row='income_type', kde=False, color='red')\n",
    "plt.yscale('log')\n",
    "plt.show()"
   ]
  },
  {
   "cell_type": "markdown",
   "id": "8b97b9d0-1b1f-49b9-a4eb-4a7edde2c095",
   "metadata": {},
   "source": [
    "**По этому датафрейму:**\n",
    "На всех 4 гистограммах присутствуют люди, со значительно  большими доходами, чем у остальных. Наличие таких людей довольно существенно сдвигает средний доход в сторону увеличения. Иными словами, одно только добавление к категории миллиардера позволит довольно существенно поднять средний доход в категории, в то время как медианный доход, отражающая реальное полложение большинства, не изменится.\n",
    "\n",
    "Подобные выбросы не являются для этой задачи особо ценной информацией. Они бы были ценны, если бы нас интересовала площадь графика, а не центр тяжести (например, если бы это была гистограмма распределения количества определенного товара в магазинах от его цены, а у нас была бы задача выкупить их все и прогнозировать дальнейшие закупки).\n",
    "\n",
    "**По вопросу:**\n",
    "Выбор медианного медианы предпочтительней среднего, если нас интересует центр тяжести распределения. Если нам более интересна площадь - лучше воспорльзоваться средним значением.\n",
    "    \n"
   ]
  },
  {
   "cell_type": "markdown",
   "id": "6ec21e7a-c03c-4d1d-a3ac-aff8d4065f80",
   "metadata": {},
   "source": [
    "### Общие выводы\n",
    "   * #### Была проведена предобработка данных\n",
    "       * Были удалены 2174 пропусков в столбце с совокупным доходом. Пропуски были заполненны медианными значениями по соответствующему типу занятости. Медианные значения были выбраны потому, что они исключают влияние выбросов, далеко отстоящих от основной массы. Аналогично были заполнены пропуски в столбце с общим трудовым стажем.\n",
    "       * Были обработаны аномальные значения в столбцах \"количество детей\" (удалены строки с отрицательным количеством детей, и когда количество детей равно 20) и \"общий трудовой стаж\" (отрицательные значения были исправлены на положительные). В то же время третий тип пола не был исправлен, т.к. в данном исследовании влияние пола не рассматривалось.\n",
    "       * Была удалена 71 дублирующаяся запись.\n",
    "       * Категоризация данных:\n",
    "        \n",
    "         клиенты были разбиты на категории по уровню дохода:\n",
    "        * 0–30000 — 'E';\n",
    "        * 30001–50000 — 'D';\n",
    "        * 50001–200000 — 'C';\n",
    "        * 200001–1000000 — 'B';\n",
    "        * 1000001 и выше — 'A'.\n",
    "        \n",
    "         Также цели кредита были разбиты по категориям:\n",
    "        * операции с автомобилем;\n",
    "        * операции с недвижимостью;\n",
    "        * проведение свадьбы;\n",
    "        * получение образования.\n",
    "\n",
    "\n",
    "   * #### Результаты исследовательской части:\n",
    "    \n",
    "       * Есть ли зависимость между количеством детей и возвратом кредита в срок?\n",
    "    \n",
    "         Явной зависимости между количеством просроченых кредитов и количеством детей не наблюдается. Доля заемщиков с определенным количеством детей, просрочивших платеж, отличается от средней не более чем на 1,3%. Тем ни менее, бездетные люди чуть чаще вовремя платят по кредитам (на 0,6 %).\n",
    "    \n",
    "       * Есть ли зависимость между семейным положением и возвратом кредита в срок?\n",
    "    \n",
    "         * Люди, не скреплявшие себя официальными отношениями, чаще не допускали просрочку выплаты (приблизительно на 1,5% чаще).\n",
    "         * Напротив, люди, утратившие официальные отношения, реже допускали просрочки выплат (приблизительно на 1%).\n",
    "       * Есть ли зависимость между уровнем дохода и возвратом кредита в срок?\n",
    "    \n",
    "         * Люди, с доходом от 30001 до 50000 чуть реже других допускают просрочку платежей ( ~ на 2% реже).\n",
    "         * Люди, с доходом от 200001 до 1000000 также чуть реже других допускают просрочку платежей ( ~ на 1% реже).\n",
    "       * Как разные цели кредита влияют на его возврат в срок?\n",
    "         * Люди, берущие кредит на операции с автомобилем и на получения образования, чаще других допускают просрочку выплаты (~ на 1,2% больше).\n",
    "         * Чаще всего вовремя выплачиваются выплаты по кредитам, связанных с операциями с недвижимостью (~ на 0,9% больше).\n",
    "   * #### Общие выводы:  \n",
    "   В целом, при исследовании любого парамерта, доля людей, которые допускают просрочку выплат по кредиту, приблизительно одна и та же. Есть незначительные колебания, относительно среднего значения, но в любом случае, амплитуда отклонений не превышает 2%. Т.е. **ни один из исследуемых параметров не является фактором - индикатором**.\n"
   ]
  }
 ],
 "metadata": {
  "kernelspec": {
   "display_name": "Python 3 (ipykernel)",
   "language": "python",
   "name": "python3"
  },
  "language_info": {
   "codemirror_mode": {
    "name": "ipython",
    "version": 3
   },
   "file_extension": ".py",
   "mimetype": "text/x-python",
   "name": "python",
   "nbconvert_exporter": "python",
   "pygments_lexer": "ipython3",
   "version": "3.9.18"
  }
 },
 "nbformat": 4,
 "nbformat_minor": 5
}
