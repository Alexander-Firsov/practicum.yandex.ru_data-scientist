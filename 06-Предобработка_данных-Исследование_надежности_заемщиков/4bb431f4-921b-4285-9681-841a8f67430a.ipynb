{
 "cells": [
  {
   "cell_type": "markdown",
   "id": "9830df85",
   "metadata": {},
   "source": [
    "<h2> Комментарий ревьюера <a class=\"tocSkip\"></h2>\n",
    "\n",
    "Александр, привет!\n",
    "\n",
    "Меня зовут Олег Михеев, и я буду проверять твой проект. Предлагаю общаться на \"ты\", но если тебе будет некомфортно, обязательно сообщи, и мы перейдем на \"вы\". Моя главная цель - не указать на твои ошибки, а поделиться опытом и подготовить тебя к работе аналитиком. Увидев у тебя ошибку, я постараюсь указать на её наличие и дам возможность найти и самостоятельно исправить её. \n",
    "\n",
    "В проверке проекта я буду использовать разные цвета для обозначения комментариев. Например:\n",
    "\n",
    "<br/>\n",
    "\n",
    "<div class=\"alert alert-success\">\n",
    "<h3> Комментарий ревьюера ✔️<a class=\"tocSkip\"> </h3>\n",
    "\n",
    "Так выделены удачные решения, на которые можно опираться в будущем.\n",
    "</div>\n",
    "\n",
    "<br/>\n",
    "\n",
    "<div class=\"alert alert-warning\">\n",
    "    <h3> Комментарий ревьюера ⚠️<a class=\"tocSkip\"> </h3>\n",
    " \n",
    "Когда решение на отдельном шаге станет лучше, если внести небольшие коррективы.\n",
    "</div>\n",
    "\n",
    "\n",
    "<br/>\n",
    "<div class=\"alert alert-block alert-danger\">\n",
    "<h3> Комментарий ревьюера ❌<a class=\"tocSkip\"></h3>\n",
    "\n",
    " А так выделены решения, которые необходимо доработать, чтобы я мог принять проект.\n",
    "</div>\n",
    "    \n",
    "  \n",
    "Если вносишь изменения в проект, указывай, пожалуйста, это в своих комментариях. Будет удобно, если обозначишь их заметным цветом. Например, вот так:\n",
    "       \n",
    "<div class=\"alert alert-block alert-info\">\n",
    "    \n",
    "<h3> Комментарий студента  <a class=\"tocSkip\"></h3> \n",
    "    \n",
    "Можешь кликнуть сюда два раза и скопировать код комментария. Также если что-то непонятно или остались вопросы по ревью, обязательно пиши.\n",
    "    \n",
    "</div>\n",
    "    \n",
    "Пожалуйста, не удаляй и не перемещай мои комментарии, чтобы не произошло путаницы, и я мог быстрее проверить проект.\n",
    "<br/>"
   ]
  },
  {
   "cell_type": "markdown",
   "id": "d1f93968",
   "metadata": {},
   "source": [
    "<div style=\"border:solid Chocolate 2px; padding: 40px\">\n",
    "\n",
    "**Общий вывод по ревью**\n",
    "\n",
    "Ты уже хорошо освоил работу с кодом.\n",
    "    \n",
    "А твои выводы понятны и отражают результаты расчетов.\n",
    "\n",
    "**Что нужно сделать, чтобы я мог принять проект**:\n",
    "\n",
    "* Уточнить ответ в вопросе о медиане\n",
    "* Написать подробный финальный вывод, учитывающий все группы клиентов с процентными показателями и информацию о предобработке\n",
    "\n",
    "**Успехов! Жду проект на повторное ревью!**\n",
    "</div>"
   ]
  },
  {
   "cell_type": "markdown",
   "id": "35e09a00",
   "metadata": {},
   "source": [
    "<div style=\"border:solid Chocolate 2px; padding: 40px\">\n",
    "\n",
    "**Общий вывод по ревью v2**\n",
    "\n",
    "Очень качественно выполненная работа! \n",
    "\n",
    "Видно, что ты быстро усваиваешь материал и осознанно подходишь к написанию выводов.\n",
    "\n",
    "Продолжай в том же духе и станешь крутым аналитиком.\n",
    "\n",
    "**Проект принимаю. Успехов в дальнейшем обучении!**\n",
    "</div>"
   ]
  },
  {
   "cell_type": "markdown",
   "id": "9b08c269",
   "metadata": {
    "deletable": false,
    "editable": false,
    "id": "c81daeeb"
   },
   "source": [
    "# Исследование надежности заемщиков\n"
   ]
  },
  {
   "cell_type": "markdown",
   "id": "cae9323d",
   "metadata": {},
   "source": [
    "<div class=\"alert alert-warning\">\n",
    "    <h3> Комментарий ревьюера ⚠️<a class=\"tocSkip\"> </h3>\n",
    "\n",
    "Эта часть проверена автоматически, но я дам несколько рекомендаций, которые могут быть полезны в будущем.\n",
    "\n",
    "Чтобы сделать проект более понятным для потенциального работодателя или коллег после названия старайся добавлять бриф, цели исследования, описание данных и план работы. Это также уменьшит количество итераций проверок во взаимодействии с другими ревьюерами в других проектах.</div>"
   ]
  },
  {
   "cell_type": "markdown",
   "id": "a0a7f13c",
   "metadata": {},
   "source": [
    "<div class=\"alert alert-block alert-info\">\n",
    "Тут ситуация даже немного иная. Первая часть не только проверена автоматически, но и автматически заменена на шаблонное решение. Какие-то решения из шаблона совпадают с моим, какие-то альтернативны, какие-то откровенно лучше. Т.е. по 18 задание включительно предложенные тут решения - не мои. Т.к. не было явного указания менять шаблонные решения на мои, оставил все как есть.\n",
    "</div>"
   ]
  },
  {
   "cell_type": "markdown",
   "id": "260c4e77",
   "metadata": {},
   "source": [
    "<div class=\"alert alert-success\">\n",
    "<h3> Комментарий ревьюера v2 ✔️<a class=\"tocSkip\"> </h3>\n",
    "\n",
    "Решение менять точно не нужно. \n",
    "</div>"
   ]
  },
  {
   "cell_type": "markdown",
   "id": "baeea61b",
   "metadata": {},
   "source": [
    "<div class=\"alert alert-block alert-info\">\n",
    "    \n",
    "## Общая информация\n",
    "  \n",
    "### Описание проекта\n",
    "Заказчик — кредитный отдел банка. Нужно разобраться, влияет ли семейное положение и количество детей клиента на факт погашения кредита в срок. Входные данные от банка — статистика о платёжеспособности клиентов.\n",
    "Результаты исследования будут учтены при построении модели кредитного скоринга — специальной системы, которая оценивает способность потенциального заёмщика вернуть кредит банку.\n",
    "\n",
    "### Описание данных\n",
    "\n",
    "   * children — количество детей в семье\n",
    "   * days_employed — общий трудовой стаж в днях\n",
    "   * dob_years — возраст клиента в годах\n",
    "   * education — уровень образования клиента\n",
    "   * education_id — идентификатор уровня образования\n",
    "   * family_status — семейное положение\n",
    "   * family_status_id — идентификатор семейного положения\n",
    "   * gender — пол клиента\n",
    "   * income_type — тип занятости\n",
    "   * debt — имел ли задолженность по возврату кредитов\n",
    "   * total_income — ежемесячный доход\n",
    "   * purpose — цель получения кредита\n",
    "    \n",
    "### План работ\n",
    "    \n",
    "   * Общее знакомство с данными\n",
    "   * #### Предобработка данных\n",
    "       * удаление пропусков\n",
    "       * Обработка аномальных значений\n",
    "       * Изменение типов данных\n",
    "       * Обработка дубликатов\n",
    "       * Категоризация данных\n",
    "   * #### Исследовательская часть\n",
    "       * Есть ли зависимость между количеством детей и возвратом кредита в срок?\n",
    "       * Есть ли зависимость между семейным положением и возвратом кредита в срок?\n",
    "       * Есть ли зависимость между уровнем дохода и возвратом кредита в срок?\n",
    "       * Как разные цели кредита влияют на его возврат в срок?\n",
    "   * #### Выводы\n",
    "</div>"
   ]
  },
  {
   "cell_type": "markdown",
   "id": "bd3b5abf",
   "metadata": {},
   "source": [
    "<div class=\"alert alert-success\">\n",
    "<h3> Комментарий ревьюера v2 ✔️<a class=\"tocSkip\"> </h3>\n",
    "\n",
    "Отлично, теперь понятно о чём проект.\n",
    "</div>"
   ]
  },
  {
   "cell_type": "markdown",
   "id": "78347067",
   "metadata": {
    "deletable": false,
    "editable": false,
    "id": "827c20bf"
   },
   "source": [
    "Во второй части проекта вы выполните шаги 3 и 4. Их вручную проверит ревьюер.\n",
    "Чтобы вам не пришлось писать код заново для шагов 1 и 2, мы добавили авторские решения в ячейки с кодом. \n",
    "\n"
   ]
  },
  {
   "cell_type": "markdown",
   "id": "89be0b3c",
   "metadata": {
    "deletable": false,
    "editable": false,
    "id": "744d7639"
   },
   "source": [
    "## Откройте таблицу и изучите общую информацию о данных"
   ]
  },
  {
   "cell_type": "markdown",
   "id": "e74fd2be",
   "metadata": {
    "deletable": false,
    "editable": false,
    "id": "e7a14c31"
   },
   "source": [
    "**Задание 1. Импортируйте библиотеку pandas. Считайте данные из csv-файла в датафрейм и сохраните в переменную `data`. Путь к файлу:**\n",
    "\n",
    "`/datasets/data.csv`"
   ]
  },
  {
   "cell_type": "code",
   "execution_count": 1,
   "id": "7d055d35",
   "metadata": {
    "deletable": false,
    "id": "7bcf75c9"
   },
   "outputs": [],
   "source": [
    "import pandas as pd\n",
    "import seaborn as sns\n",
    "import matplotlib.pyplot as plt\n",
    "from IPython.display import display, Markdown"
   ]
  },
  {
   "cell_type": "markdown",
   "id": "8797fa88",
   "metadata": {},
   "source": [
    "<div class=\"alert alert-block alert-info\">Разбил на 2 части</div>"
   ]
  },
  {
   "cell_type": "code",
   "execution_count": 2,
   "id": "64c64d23",
   "metadata": {},
   "outputs": [],
   "source": [
    "try:\n",
    "    data = pd.read_csv('/datasets/data.csv')\n",
    "except:\n",
    "    data = pd.read_csv('https://code.s3.yandex.net/datasets/data.csv')"
   ]
  },
  {
   "cell_type": "markdown",
   "id": "bd8f323b",
   "metadata": {},
   "source": [
    "<div class=\"alert alert-warning\">\n",
    "    <h3> Комментарий ревьюера ⚠️<a class=\"tocSkip\"> </h3>\n",
    " \n",
    " Лучше писать блоки загрузки библиотек и данных в разных ячейках. Если захочешь загрузить дополнительную библиотеку, то датасет не будет загружаться заново, что позволит избежать ошибок.\n",
    "</div>"
   ]
  },
  {
   "cell_type": "markdown",
   "id": "0c3d010e",
   "metadata": {},
   "source": [
    "<div class=\"alert alert-success\">\n",
    "<h3> Комментарий ревьюера v2 ✔️<a class=\"tocSkip\"> </h3>\n",
    "\n",
    " 👍\n",
    "</div>"
   ]
  },
  {
   "cell_type": "markdown",
   "id": "0763babb",
   "metadata": {
    "deletable": false,
    "editable": false,
    "id": "b8038fe3"
   },
   "source": [
    "**Задание 2. Выведите первые 20 строчек датафрейма `data` на экран.**"
   ]
  },
  {
   "cell_type": "code",
   "execution_count": 3,
   "id": "452d8dd3",
   "metadata": {
    "deletable": false,
    "id": "2a7cab99",
    "outputId": "1a8f3ef2-d323-4ec2-ddf7-89670b5944c4"
   },
   "outputs": [
    {
     "data": {
      "text/html": [
       "<div>\n",
       "<style scoped>\n",
       "    .dataframe tbody tr th:only-of-type {\n",
       "        vertical-align: middle;\n",
       "    }\n",
       "\n",
       "    .dataframe tbody tr th {\n",
       "        vertical-align: top;\n",
       "    }\n",
       "\n",
       "    .dataframe thead th {\n",
       "        text-align: right;\n",
       "    }\n",
       "</style>\n",
       "<table border=\"1\" class=\"dataframe\">\n",
       "  <thead>\n",
       "    <tr style=\"text-align: right;\">\n",
       "      <th></th>\n",
       "      <th>children</th>\n",
       "      <th>days_employed</th>\n",
       "      <th>dob_years</th>\n",
       "      <th>education</th>\n",
       "      <th>education_id</th>\n",
       "      <th>family_status</th>\n",
       "      <th>family_status_id</th>\n",
       "      <th>gender</th>\n",
       "      <th>income_type</th>\n",
       "      <th>debt</th>\n",
       "      <th>total_income</th>\n",
       "      <th>purpose</th>\n",
       "    </tr>\n",
       "  </thead>\n",
       "  <tbody>\n",
       "    <tr>\n",
       "      <th>0</th>\n",
       "      <td>1</td>\n",
       "      <td>-8437.673028</td>\n",
       "      <td>42</td>\n",
       "      <td>высшее</td>\n",
       "      <td>0</td>\n",
       "      <td>женат / замужем</td>\n",
       "      <td>0</td>\n",
       "      <td>F</td>\n",
       "      <td>сотрудник</td>\n",
       "      <td>0</td>\n",
       "      <td>253875.639453</td>\n",
       "      <td>покупка жилья</td>\n",
       "    </tr>\n",
       "    <tr>\n",
       "      <th>1</th>\n",
       "      <td>1</td>\n",
       "      <td>-4024.803754</td>\n",
       "      <td>36</td>\n",
       "      <td>среднее</td>\n",
       "      <td>1</td>\n",
       "      <td>женат / замужем</td>\n",
       "      <td>0</td>\n",
       "      <td>F</td>\n",
       "      <td>сотрудник</td>\n",
       "      <td>0</td>\n",
       "      <td>112080.014102</td>\n",
       "      <td>приобретение автомобиля</td>\n",
       "    </tr>\n",
       "    <tr>\n",
       "      <th>2</th>\n",
       "      <td>0</td>\n",
       "      <td>-5623.422610</td>\n",
       "      <td>33</td>\n",
       "      <td>Среднее</td>\n",
       "      <td>1</td>\n",
       "      <td>женат / замужем</td>\n",
       "      <td>0</td>\n",
       "      <td>M</td>\n",
       "      <td>сотрудник</td>\n",
       "      <td>0</td>\n",
       "      <td>145885.952297</td>\n",
       "      <td>покупка жилья</td>\n",
       "    </tr>\n",
       "    <tr>\n",
       "      <th>3</th>\n",
       "      <td>3</td>\n",
       "      <td>-4124.747207</td>\n",
       "      <td>32</td>\n",
       "      <td>среднее</td>\n",
       "      <td>1</td>\n",
       "      <td>женат / замужем</td>\n",
       "      <td>0</td>\n",
       "      <td>M</td>\n",
       "      <td>сотрудник</td>\n",
       "      <td>0</td>\n",
       "      <td>267628.550329</td>\n",
       "      <td>дополнительное образование</td>\n",
       "    </tr>\n",
       "    <tr>\n",
       "      <th>4</th>\n",
       "      <td>0</td>\n",
       "      <td>340266.072047</td>\n",
       "      <td>53</td>\n",
       "      <td>среднее</td>\n",
       "      <td>1</td>\n",
       "      <td>гражданский брак</td>\n",
       "      <td>1</td>\n",
       "      <td>F</td>\n",
       "      <td>пенсионер</td>\n",
       "      <td>0</td>\n",
       "      <td>158616.077870</td>\n",
       "      <td>сыграть свадьбу</td>\n",
       "    </tr>\n",
       "    <tr>\n",
       "      <th>5</th>\n",
       "      <td>0</td>\n",
       "      <td>-926.185831</td>\n",
       "      <td>27</td>\n",
       "      <td>высшее</td>\n",
       "      <td>0</td>\n",
       "      <td>гражданский брак</td>\n",
       "      <td>1</td>\n",
       "      <td>M</td>\n",
       "      <td>компаньон</td>\n",
       "      <td>0</td>\n",
       "      <td>255763.565419</td>\n",
       "      <td>покупка жилья</td>\n",
       "    </tr>\n",
       "    <tr>\n",
       "      <th>6</th>\n",
       "      <td>0</td>\n",
       "      <td>-2879.202052</td>\n",
       "      <td>43</td>\n",
       "      <td>высшее</td>\n",
       "      <td>0</td>\n",
       "      <td>женат / замужем</td>\n",
       "      <td>0</td>\n",
       "      <td>F</td>\n",
       "      <td>компаньон</td>\n",
       "      <td>0</td>\n",
       "      <td>240525.971920</td>\n",
       "      <td>операции с жильем</td>\n",
       "    </tr>\n",
       "    <tr>\n",
       "      <th>7</th>\n",
       "      <td>0</td>\n",
       "      <td>-152.779569</td>\n",
       "      <td>50</td>\n",
       "      <td>СРЕДНЕЕ</td>\n",
       "      <td>1</td>\n",
       "      <td>женат / замужем</td>\n",
       "      <td>0</td>\n",
       "      <td>M</td>\n",
       "      <td>сотрудник</td>\n",
       "      <td>0</td>\n",
       "      <td>135823.934197</td>\n",
       "      <td>образование</td>\n",
       "    </tr>\n",
       "    <tr>\n",
       "      <th>8</th>\n",
       "      <td>2</td>\n",
       "      <td>-6929.865299</td>\n",
       "      <td>35</td>\n",
       "      <td>ВЫСШЕЕ</td>\n",
       "      <td>0</td>\n",
       "      <td>гражданский брак</td>\n",
       "      <td>1</td>\n",
       "      <td>F</td>\n",
       "      <td>сотрудник</td>\n",
       "      <td>0</td>\n",
       "      <td>95856.832424</td>\n",
       "      <td>на проведение свадьбы</td>\n",
       "    </tr>\n",
       "    <tr>\n",
       "      <th>9</th>\n",
       "      <td>0</td>\n",
       "      <td>-2188.756445</td>\n",
       "      <td>41</td>\n",
       "      <td>среднее</td>\n",
       "      <td>1</td>\n",
       "      <td>женат / замужем</td>\n",
       "      <td>0</td>\n",
       "      <td>M</td>\n",
       "      <td>сотрудник</td>\n",
       "      <td>0</td>\n",
       "      <td>144425.938277</td>\n",
       "      <td>покупка жилья для семьи</td>\n",
       "    </tr>\n",
       "    <tr>\n",
       "      <th>10</th>\n",
       "      <td>2</td>\n",
       "      <td>-4171.483647</td>\n",
       "      <td>36</td>\n",
       "      <td>высшее</td>\n",
       "      <td>0</td>\n",
       "      <td>женат / замужем</td>\n",
       "      <td>0</td>\n",
       "      <td>M</td>\n",
       "      <td>компаньон</td>\n",
       "      <td>0</td>\n",
       "      <td>113943.491460</td>\n",
       "      <td>покупка недвижимости</td>\n",
       "    </tr>\n",
       "    <tr>\n",
       "      <th>11</th>\n",
       "      <td>0</td>\n",
       "      <td>-792.701887</td>\n",
       "      <td>40</td>\n",
       "      <td>среднее</td>\n",
       "      <td>1</td>\n",
       "      <td>женат / замужем</td>\n",
       "      <td>0</td>\n",
       "      <td>F</td>\n",
       "      <td>сотрудник</td>\n",
       "      <td>0</td>\n",
       "      <td>77069.234271</td>\n",
       "      <td>покупка коммерческой недвижимости</td>\n",
       "    </tr>\n",
       "    <tr>\n",
       "      <th>12</th>\n",
       "      <td>0</td>\n",
       "      <td>NaN</td>\n",
       "      <td>65</td>\n",
       "      <td>среднее</td>\n",
       "      <td>1</td>\n",
       "      <td>гражданский брак</td>\n",
       "      <td>1</td>\n",
       "      <td>M</td>\n",
       "      <td>пенсионер</td>\n",
       "      <td>0</td>\n",
       "      <td>NaN</td>\n",
       "      <td>сыграть свадьбу</td>\n",
       "    </tr>\n",
       "    <tr>\n",
       "      <th>13</th>\n",
       "      <td>0</td>\n",
       "      <td>-1846.641941</td>\n",
       "      <td>54</td>\n",
       "      <td>неоконченное высшее</td>\n",
       "      <td>2</td>\n",
       "      <td>женат / замужем</td>\n",
       "      <td>0</td>\n",
       "      <td>F</td>\n",
       "      <td>сотрудник</td>\n",
       "      <td>0</td>\n",
       "      <td>130458.228857</td>\n",
       "      <td>приобретение автомобиля</td>\n",
       "    </tr>\n",
       "    <tr>\n",
       "      <th>14</th>\n",
       "      <td>0</td>\n",
       "      <td>-1844.956182</td>\n",
       "      <td>56</td>\n",
       "      <td>высшее</td>\n",
       "      <td>0</td>\n",
       "      <td>гражданский брак</td>\n",
       "      <td>1</td>\n",
       "      <td>F</td>\n",
       "      <td>компаньон</td>\n",
       "      <td>1</td>\n",
       "      <td>165127.911772</td>\n",
       "      <td>покупка жилой недвижимости</td>\n",
       "    </tr>\n",
       "    <tr>\n",
       "      <th>15</th>\n",
       "      <td>1</td>\n",
       "      <td>-972.364419</td>\n",
       "      <td>26</td>\n",
       "      <td>среднее</td>\n",
       "      <td>1</td>\n",
       "      <td>женат / замужем</td>\n",
       "      <td>0</td>\n",
       "      <td>F</td>\n",
       "      <td>сотрудник</td>\n",
       "      <td>0</td>\n",
       "      <td>116820.904450</td>\n",
       "      <td>строительство собственной недвижимости</td>\n",
       "    </tr>\n",
       "    <tr>\n",
       "      <th>16</th>\n",
       "      <td>0</td>\n",
       "      <td>-1719.934226</td>\n",
       "      <td>35</td>\n",
       "      <td>среднее</td>\n",
       "      <td>1</td>\n",
       "      <td>женат / замужем</td>\n",
       "      <td>0</td>\n",
       "      <td>F</td>\n",
       "      <td>сотрудник</td>\n",
       "      <td>0</td>\n",
       "      <td>289202.704229</td>\n",
       "      <td>недвижимость</td>\n",
       "    </tr>\n",
       "    <tr>\n",
       "      <th>17</th>\n",
       "      <td>0</td>\n",
       "      <td>-2369.999720</td>\n",
       "      <td>33</td>\n",
       "      <td>высшее</td>\n",
       "      <td>0</td>\n",
       "      <td>гражданский брак</td>\n",
       "      <td>1</td>\n",
       "      <td>M</td>\n",
       "      <td>сотрудник</td>\n",
       "      <td>0</td>\n",
       "      <td>90410.586745</td>\n",
       "      <td>строительство недвижимости</td>\n",
       "    </tr>\n",
       "    <tr>\n",
       "      <th>18</th>\n",
       "      <td>0</td>\n",
       "      <td>400281.136913</td>\n",
       "      <td>53</td>\n",
       "      <td>среднее</td>\n",
       "      <td>1</td>\n",
       "      <td>вдовец / вдова</td>\n",
       "      <td>2</td>\n",
       "      <td>F</td>\n",
       "      <td>пенсионер</td>\n",
       "      <td>0</td>\n",
       "      <td>56823.777243</td>\n",
       "      <td>на покупку подержанного автомобиля</td>\n",
       "    </tr>\n",
       "    <tr>\n",
       "      <th>19</th>\n",
       "      <td>0</td>\n",
       "      <td>-10038.818549</td>\n",
       "      <td>48</td>\n",
       "      <td>СРЕДНЕЕ</td>\n",
       "      <td>1</td>\n",
       "      <td>в разводе</td>\n",
       "      <td>3</td>\n",
       "      <td>F</td>\n",
       "      <td>сотрудник</td>\n",
       "      <td>0</td>\n",
       "      <td>242831.107982</td>\n",
       "      <td>на покупку своего автомобиля</td>\n",
       "    </tr>\n",
       "  </tbody>\n",
       "</table>\n",
       "</div>"
      ],
      "text/plain": [
       "    children  days_employed  dob_years            education  education_id  \\\n",
       "0          1   -8437.673028         42               высшее             0   \n",
       "1          1   -4024.803754         36              среднее             1   \n",
       "2          0   -5623.422610         33              Среднее             1   \n",
       "3          3   -4124.747207         32              среднее             1   \n",
       "4          0  340266.072047         53              среднее             1   \n",
       "5          0    -926.185831         27               высшее             0   \n",
       "6          0   -2879.202052         43               высшее             0   \n",
       "7          0    -152.779569         50              СРЕДНЕЕ             1   \n",
       "8          2   -6929.865299         35               ВЫСШЕЕ             0   \n",
       "9          0   -2188.756445         41              среднее             1   \n",
       "10         2   -4171.483647         36               высшее             0   \n",
       "11         0    -792.701887         40              среднее             1   \n",
       "12         0            NaN         65              среднее             1   \n",
       "13         0   -1846.641941         54  неоконченное высшее             2   \n",
       "14         0   -1844.956182         56               высшее             0   \n",
       "15         1    -972.364419         26              среднее             1   \n",
       "16         0   -1719.934226         35              среднее             1   \n",
       "17         0   -2369.999720         33               высшее             0   \n",
       "18         0  400281.136913         53              среднее             1   \n",
       "19         0  -10038.818549         48              СРЕДНЕЕ             1   \n",
       "\n",
       "       family_status  family_status_id gender income_type  debt  \\\n",
       "0    женат / замужем                 0      F   сотрудник     0   \n",
       "1    женат / замужем                 0      F   сотрудник     0   \n",
       "2    женат / замужем                 0      M   сотрудник     0   \n",
       "3    женат / замужем                 0      M   сотрудник     0   \n",
       "4   гражданский брак                 1      F   пенсионер     0   \n",
       "5   гражданский брак                 1      M   компаньон     0   \n",
       "6    женат / замужем                 0      F   компаньон     0   \n",
       "7    женат / замужем                 0      M   сотрудник     0   \n",
       "8   гражданский брак                 1      F   сотрудник     0   \n",
       "9    женат / замужем                 0      M   сотрудник     0   \n",
       "10   женат / замужем                 0      M   компаньон     0   \n",
       "11   женат / замужем                 0      F   сотрудник     0   \n",
       "12  гражданский брак                 1      M   пенсионер     0   \n",
       "13   женат / замужем                 0      F   сотрудник     0   \n",
       "14  гражданский брак                 1      F   компаньон     1   \n",
       "15   женат / замужем                 0      F   сотрудник     0   \n",
       "16   женат / замужем                 0      F   сотрудник     0   \n",
       "17  гражданский брак                 1      M   сотрудник     0   \n",
       "18    вдовец / вдова                 2      F   пенсионер     0   \n",
       "19         в разводе                 3      F   сотрудник     0   \n",
       "\n",
       "     total_income                                 purpose  \n",
       "0   253875.639453                           покупка жилья  \n",
       "1   112080.014102                 приобретение автомобиля  \n",
       "2   145885.952297                           покупка жилья  \n",
       "3   267628.550329              дополнительное образование  \n",
       "4   158616.077870                         сыграть свадьбу  \n",
       "5   255763.565419                           покупка жилья  \n",
       "6   240525.971920                       операции с жильем  \n",
       "7   135823.934197                             образование  \n",
       "8    95856.832424                   на проведение свадьбы  \n",
       "9   144425.938277                 покупка жилья для семьи  \n",
       "10  113943.491460                    покупка недвижимости  \n",
       "11   77069.234271       покупка коммерческой недвижимости  \n",
       "12            NaN                         сыграть свадьбу  \n",
       "13  130458.228857                 приобретение автомобиля  \n",
       "14  165127.911772              покупка жилой недвижимости  \n",
       "15  116820.904450  строительство собственной недвижимости  \n",
       "16  289202.704229                            недвижимость  \n",
       "17   90410.586745              строительство недвижимости  \n",
       "18   56823.777243      на покупку подержанного автомобиля  \n",
       "19  242831.107982            на покупку своего автомобиля  "
      ]
     },
     "execution_count": 3,
     "metadata": {},
     "output_type": "execute_result"
    }
   ],
   "source": [
    "data.head(20)"
   ]
  },
  {
   "cell_type": "markdown",
   "id": "4ee23f87",
   "metadata": {
    "deletable": false,
    "editable": false,
    "id": "1c12e233"
   },
   "source": [
    "**Задание 3. Выведите основную информацию о датафрейме с помощью метода `info()`.**"
   ]
  },
  {
   "cell_type": "code",
   "execution_count": 4,
   "id": "8f3e5837",
   "metadata": {
    "deletable": false,
    "id": "2b757bca",
    "outputId": "15376089-8dad-46c9-b520-c05248d43158"
   },
   "outputs": [
    {
     "name": "stdout",
     "output_type": "stream",
     "text": [
      "<class 'pandas.core.frame.DataFrame'>\n",
      "RangeIndex: 21525 entries, 0 to 21524\n",
      "Data columns (total 12 columns):\n",
      " #   Column            Non-Null Count  Dtype  \n",
      "---  ------            --------------  -----  \n",
      " 0   children          21525 non-null  int64  \n",
      " 1   days_employed     19351 non-null  float64\n",
      " 2   dob_years         21525 non-null  int64  \n",
      " 3   education         21525 non-null  object \n",
      " 4   education_id      21525 non-null  int64  \n",
      " 5   family_status     21525 non-null  object \n",
      " 6   family_status_id  21525 non-null  int64  \n",
      " 7   gender            21525 non-null  object \n",
      " 8   income_type       21525 non-null  object \n",
      " 9   debt              21525 non-null  int64  \n",
      " 10  total_income      19351 non-null  float64\n",
      " 11  purpose           21525 non-null  object \n",
      "dtypes: float64(2), int64(5), object(5)\n",
      "memory usage: 2.0+ MB\n"
     ]
    }
   ],
   "source": [
    "data.info()"
   ]
  },
  {
   "cell_type": "markdown",
   "id": "1c33dbb6",
   "metadata": {
    "deletable": false,
    "editable": false,
    "id": "333ec665"
   },
   "source": [
    "## Предобработка данных"
   ]
  },
  {
   "cell_type": "markdown",
   "id": "acc25b98",
   "metadata": {
    "deletable": false,
    "editable": false,
    "id": "02d92d53"
   },
   "source": [
    "### Удаление пропусков"
   ]
  },
  {
   "cell_type": "markdown",
   "id": "36939049",
   "metadata": {
    "deletable": false,
    "editable": false,
    "id": "cd84967c"
   },
   "source": [
    "**Задание 4. Выведите количество пропущенных значений для каждого столбца. Используйте комбинацию двух методов.**"
   ]
  },
  {
   "cell_type": "code",
   "execution_count": 5,
   "id": "792e3cab",
   "metadata": {
    "deletable": false,
    "id": "7f9b2309",
    "outputId": "81f4d817-781c-465c-ed15-91ce4446810d"
   },
   "outputs": [
    {
     "data": {
      "text/plain": [
       "children               0\n",
       "days_employed       2174\n",
       "dob_years              0\n",
       "education              0\n",
       "education_id           0\n",
       "family_status          0\n",
       "family_status_id       0\n",
       "gender                 0\n",
       "income_type            0\n",
       "debt                   0\n",
       "total_income        2174\n",
       "purpose                0\n",
       "dtype: int64"
      ]
     },
     "execution_count": 5,
     "metadata": {},
     "output_type": "execute_result"
    }
   ],
   "source": [
    "data.isna().sum()"
   ]
  },
  {
   "cell_type": "markdown",
   "id": "aec72a42",
   "metadata": {
    "deletable": false,
    "editable": false,
    "id": "db86e27b"
   },
   "source": [
    "**Задание 5. В двух столбцах есть пропущенные значения. Один из них — `days_employed`. Пропуски в этом столбце вы обработаете на следующем этапе. Другой столбец с пропущенными значениями — `total_income` — хранит данные о доходах. На сумму дохода сильнее всего влияет тип занятости, поэтому заполнить пропуски в этом столбце нужно медианным значением по каждому типу из столбца `income_type`. Например, у человека с типом занятости `сотрудник` пропуск в столбце `total_income` должен быть заполнен медианным доходом среди всех записей с тем же типом.**"
   ]
  },
  {
   "cell_type": "code",
   "execution_count": 6,
   "id": "cc6a70a6",
   "metadata": {
    "deletable": false,
    "id": "42006a93"
   },
   "outputs": [],
   "source": [
    "for t in data['income_type'].unique():\n",
    "    data.loc[(data['income_type'] == t) & (data['total_income'].isna()), 'total_income'] = \\\n",
    "    data.loc[(data['income_type'] == t), 'total_income'].median()"
   ]
  },
  {
   "cell_type": "markdown",
   "id": "0edd5a84",
   "metadata": {
    "deletable": false,
    "editable": false,
    "id": "89da5ece"
   },
   "source": [
    "### Обработка аномальных значений"
   ]
  },
  {
   "cell_type": "markdown",
   "id": "3adfbfea",
   "metadata": {
    "deletable": false,
    "editable": false,
    "id": "57964554"
   },
   "source": [
    "**Задание 6. В данных могут встречаться артефакты (аномалии) — значения, которые не отражают действительность и появились по какой-то ошибке. таким артефактом будет отрицательное количество дней трудового стажа в столбце `days_employed`. Для реальных данных это нормально. Обработайте значения в этом столбце: замените все отрицательные значения положительными с помощью метода `abs()`.**"
   ]
  },
  {
   "cell_type": "code",
   "execution_count": 7,
   "id": "cbe0213b",
   "metadata": {
    "deletable": false,
    "id": "f6f055bf"
   },
   "outputs": [],
   "source": [
    "data['days_employed'] = data['days_employed'].abs()"
   ]
  },
  {
   "cell_type": "markdown",
   "id": "d5700323",
   "metadata": {
    "deletable": false,
    "editable": false,
    "id": "6107dd2f"
   },
   "source": [
    "**Задание 7. Для каждого типа занятости выведите медианное значение трудового стажа `days_employed` в днях.**"
   ]
  },
  {
   "cell_type": "code",
   "execution_count": 8,
   "id": "1e572c6f",
   "metadata": {
    "deletable": false,
    "id": "85a5faf6",
    "outputId": "801ef80e-522b-4668-f34e-565af7432bcf"
   },
   "outputs": [
    {
     "data": {
      "text/plain": [
       "income_type\n",
       "безработный        366413.652744\n",
       "в декрете            3296.759962\n",
       "госслужащий          2689.368353\n",
       "компаньон            1547.382223\n",
       "пенсионер          365213.306266\n",
       "предприниматель       520.848083\n",
       "сотрудник            1574.202821\n",
       "студент               578.751554\n",
       "Name: days_employed, dtype: float64"
      ]
     },
     "execution_count": 8,
     "metadata": {},
     "output_type": "execute_result"
    }
   ],
   "source": [
    "data.groupby('income_type')['days_employed'].agg('median')"
   ]
  },
  {
   "cell_type": "markdown",
   "id": "4ffeeed9",
   "metadata": {
    "deletable": false,
    "editable": false,
    "id": "38d1a030"
   },
   "source": [
    "У двух типов (безработные и пенсионеры) получатся аномально большие значения. Исправить такие значения сложно, поэтому оставьте их как есть. Тем более этот столбец не понадобится вам для исследования."
   ]
  },
  {
   "cell_type": "markdown",
   "id": "7cfdb372",
   "metadata": {
    "deletable": false,
    "editable": false,
    "id": "d8a9f147"
   },
   "source": [
    "**Задание 8. Выведите перечень уникальных значений столбца `children`.**"
   ]
  },
  {
   "cell_type": "code",
   "execution_count": 9,
   "id": "30208cec",
   "metadata": {
    "deletable": false,
    "id": "ef5056eb",
    "outputId": "6975b15c-7f95-4697-d16d-a0c79b657b03"
   },
   "outputs": [
    {
     "data": {
      "text/plain": [
       "array([ 1,  0,  3,  2, -1,  4, 20,  5])"
      ]
     },
     "execution_count": 9,
     "metadata": {},
     "output_type": "execute_result"
    }
   ],
   "source": [
    "data['children'].unique()"
   ]
  },
  {
   "cell_type": "markdown",
   "id": "35a39adc",
   "metadata": {
    "deletable": false,
    "editable": false,
    "id": "40b9ebf2"
   },
   "source": [
    "**Задание 9. В столбце `children` есть два аномальных значения. Удалите строки, в которых встречаются такие аномальные значения из датафрейма `data`.**"
   ]
  },
  {
   "cell_type": "code",
   "execution_count": 10,
   "id": "28e58645",
   "metadata": {
    "deletable": false,
    "id": "3ff9801d"
   },
   "outputs": [],
   "source": [
    "data = data[(data['children'] != -1) & (data['children'] != 20)]"
   ]
  },
  {
   "cell_type": "markdown",
   "id": "23851178",
   "metadata": {
    "deletable": false,
    "editable": false,
    "id": "bbc4d0ce"
   },
   "source": [
    "**Задание 10. Ещё раз выведите перечень уникальных значений столбца `children`, чтобы убедиться, что артефакты удалены.**"
   ]
  },
  {
   "cell_type": "code",
   "execution_count": 11,
   "id": "7c26af2e",
   "metadata": {
    "deletable": false,
    "id": "ad4fa8b7",
    "outputId": "b2097101-d49d-44d9-901b-32a65c9463d1"
   },
   "outputs": [
    {
     "data": {
      "text/plain": [
       "array([1, 0, 3, 2, 4, 5])"
      ]
     },
     "execution_count": 11,
     "metadata": {},
     "output_type": "execute_result"
    }
   ],
   "source": [
    "data['children'].unique()"
   ]
  },
  {
   "cell_type": "markdown",
   "id": "e2fc22e8",
   "metadata": {
    "deletable": false,
    "editable": false,
    "id": "75440b63"
   },
   "source": [
    "### Удаление пропусков (продолжение)"
   ]
  },
  {
   "cell_type": "markdown",
   "id": "b82153fc",
   "metadata": {
    "deletable": false,
    "editable": false,
    "id": "f4ea573f"
   },
   "source": [
    "**Задание 11. Заполните пропуски в столбце `days_employed` медианными значениями по каждого типа занятости `income_type`.**"
   ]
  },
  {
   "cell_type": "code",
   "execution_count": 12,
   "id": "9e70c03e",
   "metadata": {
    "deletable": false,
    "id": "af6b1a7e"
   },
   "outputs": [],
   "source": [
    "for t in data['income_type'].unique():\n",
    "    data.loc[(data['income_type'] == t) & (data['days_employed'].isna()), 'days_employed'] = \\\n",
    "    data.loc[(data['income_type'] == t), 'days_employed'].median()"
   ]
  },
  {
   "cell_type": "markdown",
   "id": "3a90d22c",
   "metadata": {
    "deletable": false,
    "editable": false,
    "id": "2753f40d"
   },
   "source": [
    "**Задание 12. Убедитесь, что все пропуски заполнены. Проверьте себя и ещё раз выведите количество пропущенных значений для каждого столбца с помощью двух методов.**"
   ]
  },
  {
   "cell_type": "code",
   "execution_count": 13,
   "id": "4553957c",
   "metadata": {
    "deletable": false,
    "id": "55f78bc2",
    "outputId": "8da1e4e1-358e-4e87-98c9-f261bce0a7b2"
   },
   "outputs": [
    {
     "data": {
      "text/plain": [
       "children            0\n",
       "days_employed       0\n",
       "dob_years           0\n",
       "education           0\n",
       "education_id        0\n",
       "family_status       0\n",
       "family_status_id    0\n",
       "gender              0\n",
       "income_type         0\n",
       "debt                0\n",
       "total_income        0\n",
       "purpose             0\n",
       "dtype: int64"
      ]
     },
     "execution_count": 13,
     "metadata": {},
     "output_type": "execute_result"
    }
   ],
   "source": [
    "data.isna().sum()"
   ]
  },
  {
   "cell_type": "markdown",
   "id": "f56f2182",
   "metadata": {
    "deletable": false,
    "editable": false,
    "id": "ddc81e43"
   },
   "source": [
    "### Изменение типов данных"
   ]
  },
  {
   "cell_type": "markdown",
   "id": "39d51f4c",
   "metadata": {
    "deletable": false,
    "editable": false,
    "id": "42d19d24"
   },
   "source": [
    "**Задание 13. Замените вещественный тип данных в столбце `total_income` на целочисленный с помощью метода `astype()`.**"
   ]
  },
  {
   "cell_type": "code",
   "execution_count": 14,
   "id": "dc12ae26",
   "metadata": {
    "deletable": false,
    "id": "920b65ad"
   },
   "outputs": [],
   "source": [
    "data['total_income'] = data['total_income'].astype(int)"
   ]
  },
  {
   "cell_type": "markdown",
   "id": "095d3c13",
   "metadata": {
    "deletable": false,
    "editable": false,
    "id": "80c420ba"
   },
   "source": [
    "### Обработка дубликатов"
   ]
  },
  {
   "cell_type": "markdown",
   "id": "b571eb58",
   "metadata": {
    "deletable": false,
    "editable": false
   },
   "source": [
    "**Задание 14. Обработайте неявные дубликаты в столбце `education`. В этом столбце есть одни и те же значения, но записанные по-разному: с использованием заглавных и строчных букв. Приведите их к нижнему регистру. Проверьте остальные столбцы.**"
   ]
  },
  {
   "cell_type": "code",
   "execution_count": 15,
   "id": "1a948c1a",
   "metadata": {
    "deletable": false
   },
   "outputs": [],
   "source": [
    "data['education'] = data['education'].str.lower()"
   ]
  },
  {
   "cell_type": "markdown",
   "id": "81671cde",
   "metadata": {
    "deletable": false,
    "editable": false,
    "id": "dc587695"
   },
   "source": [
    "**Задание 15. Выведите на экран количество строк-дубликатов в данных. Если такие строки присутствуют, удалите их.**"
   ]
  },
  {
   "cell_type": "code",
   "execution_count": 16,
   "id": "6a49471e",
   "metadata": {
    "deletable": false,
    "id": "3ee445e4",
    "outputId": "9684deba-1934-42d1-99e1-cda61740f822"
   },
   "outputs": [
    {
     "data": {
      "text/plain": [
       "71"
      ]
     },
     "execution_count": 16,
     "metadata": {},
     "output_type": "execute_result"
    }
   ],
   "source": [
    "data.duplicated().sum()"
   ]
  },
  {
   "cell_type": "code",
   "execution_count": 17,
   "id": "d77764f3",
   "metadata": {
    "deletable": false,
    "id": "8575fe05"
   },
   "outputs": [],
   "source": [
    "data = data.drop_duplicates()"
   ]
  },
  {
   "cell_type": "markdown",
   "id": "9c76a30a",
   "metadata": {
    "deletable": false,
    "editable": false,
    "id": "9904cf55"
   },
   "source": [
    "### Категоризация данных"
   ]
  },
  {
   "cell_type": "markdown",
   "id": "7e9f6493",
   "metadata": {
    "deletable": false,
    "editable": false,
    "id": "72fcc8a2"
   },
   "source": [
    "**Задание 16. На основании диапазонов, указанных ниже, создайте в датафрейме `data` столбец `total_income_category` с категориями:**\n",
    "\n",
    "- 0–30000 — `'E'`;\n",
    "- 30001–50000 — `'D'`;\n",
    "- 50001–200000 — `'C'`;\n",
    "- 200001–1000000 — `'B'`;\n",
    "- 1000001 и выше — `'A'`.\n",
    "\n",
    "\n",
    "**Например, кредитополучателю с доходом 25000 нужно назначить категорию `'E'`, а клиенту, получающему 235000, — `'B'`. Используйте собственную функцию с именем `categorize_income()` и метод `apply()`.**"
   ]
  },
  {
   "cell_type": "code",
   "execution_count": 18,
   "id": "e7be1075",
   "metadata": {
    "deletable": false,
    "id": "e1771346"
   },
   "outputs": [],
   "source": [
    "def categorize_income(income):\n",
    "    try:\n",
    "        if 0 <= income <= 30000:\n",
    "            return 'E'\n",
    "        elif 30001 <= income <= 50000:\n",
    "            return 'D'\n",
    "        elif 50001 <= income <= 200000:\n",
    "            return 'C'\n",
    "        elif 200001 <= income <= 1000000:\n",
    "            return 'B'\n",
    "        elif income >= 1000001:\n",
    "            return 'A'\n",
    "    except:\n",
    "        pass"
   ]
  },
  {
   "cell_type": "code",
   "execution_count": 19,
   "id": "10916198",
   "metadata": {
    "deletable": false,
    "id": "d5f3586d"
   },
   "outputs": [],
   "source": [
    "data['total_income_category'] = data['total_income'].apply(categorize_income)"
   ]
  },
  {
   "cell_type": "markdown",
   "id": "1878c748",
   "metadata": {
    "deletable": false,
    "editable": false,
    "id": "dde49b5c"
   },
   "source": [
    "**Задание 17. Выведите на экран перечень уникальных целей взятия кредита из столбца `purpose`.**"
   ]
  },
  {
   "cell_type": "code",
   "execution_count": 20,
   "id": "2e2bf09a",
   "metadata": {
    "deletable": false,
    "id": "f67ce9b3",
    "outputId": "673c12d9-7d7e-4ae0-9812-c622c89dd244"
   },
   "outputs": [
    {
     "data": {
      "text/plain": [
       "array(['покупка жилья', 'приобретение автомобиля',\n",
       "       'дополнительное образование', 'сыграть свадьбу',\n",
       "       'операции с жильем', 'образование', 'на проведение свадьбы',\n",
       "       'покупка жилья для семьи', 'покупка недвижимости',\n",
       "       'покупка коммерческой недвижимости', 'покупка жилой недвижимости',\n",
       "       'строительство собственной недвижимости', 'недвижимость',\n",
       "       'строительство недвижимости', 'на покупку подержанного автомобиля',\n",
       "       'на покупку своего автомобиля',\n",
       "       'операции с коммерческой недвижимостью',\n",
       "       'строительство жилой недвижимости', 'жилье',\n",
       "       'операции со своей недвижимостью', 'автомобили',\n",
       "       'заняться образованием', 'сделка с подержанным автомобилем',\n",
       "       'получение образования', 'автомобиль', 'свадьба',\n",
       "       'получение дополнительного образования', 'покупка своего жилья',\n",
       "       'операции с недвижимостью', 'получение высшего образования',\n",
       "       'свой автомобиль', 'сделка с автомобилем',\n",
       "       'профильное образование', 'высшее образование',\n",
       "       'покупка жилья для сдачи', 'на покупку автомобиля', 'ремонт жилью',\n",
       "       'заняться высшим образованием'], dtype=object)"
      ]
     },
     "execution_count": 20,
     "metadata": {},
     "output_type": "execute_result"
    }
   ],
   "source": [
    "data['purpose'].unique()"
   ]
  },
  {
   "cell_type": "markdown",
   "id": "60003b31",
   "metadata": {
    "deletable": false,
    "editable": false,
    "id": "85d0aef0"
   },
   "source": [
    "**Задание 18. Создайте функцию, которая на основании данных из столбца `purpose` сформирует новый столбец `purpose_category`, в который войдут следующие категории:**\n",
    "\n",
    "- `'операции с автомобилем'`,\n",
    "- `'операции с недвижимостью'`,\n",
    "- `'проведение свадьбы'`,\n",
    "- `'получение образования'`.\n",
    "\n",
    "**Например, если в столбце `purpose` находится подстрока `'на покупку автомобиля'`, то в столбце `purpose_category` должна появиться строка `'операции с автомобилем'`.**\n",
    "\n",
    "**Используйте собственную функцию с именем `categorize_purpose()` и метод `apply()`. Изучите данные в столбце `purpose` и определите, какие подстроки помогут вам правильно определить категорию.**"
   ]
  },
  {
   "cell_type": "code",
   "execution_count": 21,
   "id": "8abf0431",
   "metadata": {
    "deletable": false,
    "id": "e149fab4"
   },
   "outputs": [],
   "source": [
    "def categorize_purpose(row):\n",
    "    try:\n",
    "        if 'автом' in row:\n",
    "            return 'операции с автомобилем'\n",
    "        elif 'жил' in row or 'недвиж' in row:\n",
    "            return 'операции с недвижимостью'\n",
    "        elif 'свад' in row:\n",
    "            return 'проведение свадьбы'\n",
    "        elif 'образов' in row:\n",
    "            return 'получение образования'\n",
    "    except:\n",
    "        return 'нет категории'"
   ]
  },
  {
   "cell_type": "code",
   "execution_count": 22,
   "id": "aa25a6be",
   "metadata": {
    "deletable": false,
    "id": "bf36e69b"
   },
   "outputs": [],
   "source": [
    "data['purpose_category'] = data['purpose'].apply(categorize_purpose)"
   ]
  },
  {
   "cell_type": "markdown",
   "id": "e831c433",
   "metadata": {
    "deletable": false,
    "editable": false,
    "id": "09b242bf"
   },
   "source": [
    "### Шаг 3. Исследуйте данные и ответьте на вопросы"
   ]
  },
  {
   "cell_type": "markdown",
   "id": "50347b2a",
   "metadata": {
    "deletable": false,
    "editable": false,
    "id": "c5d66278"
   },
   "source": [
    "#### 3.1 Есть ли зависимость между количеством детей и возвратом кредита в срок?"
   ]
  },
  {
   "cell_type": "code",
   "execution_count": 23,
   "id": "00cdbae7",
   "metadata": {
    "deletable": false,
    "id": "2cacfc4a"
   },
   "outputs": [
    {
     "data": {
      "text/markdown": [
       "**Статистические данные по количеству должников и общего количества заявок на кредит,        в зависимости от количества детей:**"
      ],
      "text/plain": [
       "<IPython.core.display.Markdown object>"
      ]
     },
     "metadata": {},
     "output_type": "display_data"
    },
    {
     "data": {
      "text/html": [
       "<div>\n",
       "<style scoped>\n",
       "    .dataframe tbody tr th:only-of-type {\n",
       "        vertical-align: middle;\n",
       "    }\n",
       "\n",
       "    .dataframe tbody tr th {\n",
       "        vertical-align: top;\n",
       "    }\n",
       "\n",
       "    .dataframe thead th {\n",
       "        text-align: right;\n",
       "    }\n",
       "</style>\n",
       "<table border=\"1\" class=\"dataframe\">\n",
       "  <thead>\n",
       "    <tr style=\"text-align: right;\">\n",
       "      <th>children</th>\n",
       "      <th>0</th>\n",
       "      <th>1</th>\n",
       "      <th>2</th>\n",
       "      <th>3</th>\n",
       "      <th>4</th>\n",
       "      <th>5</th>\n",
       "    </tr>\n",
       "    <tr>\n",
       "      <th>debt</th>\n",
       "      <th></th>\n",
       "      <th></th>\n",
       "      <th></th>\n",
       "      <th></th>\n",
       "      <th></th>\n",
       "      <th></th>\n",
       "    </tr>\n",
       "  </thead>\n",
       "  <tbody>\n",
       "    <tr>\n",
       "      <th>debtors</th>\n",
       "      <td>1063</td>\n",
       "      <td>444</td>\n",
       "      <td>194</td>\n",
       "      <td>27</td>\n",
       "      <td>4</td>\n",
       "      <td>0</td>\n",
       "    </tr>\n",
       "    <tr>\n",
       "      <th>loan_applications</th>\n",
       "      <td>14091</td>\n",
       "      <td>4808</td>\n",
       "      <td>2052</td>\n",
       "      <td>330</td>\n",
       "      <td>41</td>\n",
       "      <td>9</td>\n",
       "    </tr>\n",
       "  </tbody>\n",
       "</table>\n",
       "</div>"
      ],
      "text/plain": [
       "children               0     1     2    3   4  5\n",
       "debt                                            \n",
       "debtors             1063   444   194   27   4  0\n",
       "loan_applications  14091  4808  2052  330  41  9"
      ]
     },
     "metadata": {},
     "output_type": "display_data"
    },
    {
     "data": {
      "text/markdown": [
       "* \"debtors\" - количество людей, просрочивших платеж"
      ],
      "text/plain": [
       "<IPython.core.display.Markdown object>"
      ]
     },
     "metadata": {},
     "output_type": "display_data"
    },
    {
     "data": {
      "text/markdown": [
       "* \"loan_applications\" - общее количество заявок на кредит в категории"
      ],
      "text/plain": [
       "<IPython.core.display.Markdown object>"
      ]
     },
     "metadata": {},
     "output_type": "display_data"
    },
    {
     "data": {
      "text/markdown": [
       "**Доля клиентов, допустивших просрочку выплаты, в зависимости от количества детей:**"
      ],
      "text/plain": [
       "<IPython.core.display.Markdown object>"
      ]
     },
     "metadata": {},
     "output_type": "display_data"
    },
    {
     "data": {
      "text/html": [
       "<div>\n",
       "<style scoped>\n",
       "    .dataframe tbody tr th:only-of-type {\n",
       "        vertical-align: middle;\n",
       "    }\n",
       "\n",
       "    .dataframe tbody tr th {\n",
       "        vertical-align: top;\n",
       "    }\n",
       "\n",
       "    .dataframe thead th {\n",
       "        text-align: right;\n",
       "    }\n",
       "</style>\n",
       "<table border=\"1\" class=\"dataframe\">\n",
       "  <thead>\n",
       "    <tr style=\"text-align: right;\">\n",
       "      <th>children</th>\n",
       "      <th>0</th>\n",
       "      <th>1</th>\n",
       "      <th>2</th>\n",
       "      <th>3</th>\n",
       "      <th>4</th>\n",
       "      <th>5</th>\n",
       "    </tr>\n",
       "    <tr>\n",
       "      <th>debt</th>\n",
       "      <th></th>\n",
       "      <th></th>\n",
       "      <th></th>\n",
       "      <th></th>\n",
       "      <th></th>\n",
       "      <th></th>\n",
       "    </tr>\n",
       "  </thead>\n",
       "  <tbody>\n",
       "    <tr>\n",
       "      <th>part</th>\n",
       "      <td>7.54%</td>\n",
       "      <td>9.23%</td>\n",
       "      <td>9.45%</td>\n",
       "      <td>8.18%</td>\n",
       "      <td>9.76%</td>\n",
       "      <td>0.00%</td>\n",
       "    </tr>\n",
       "    <tr>\n",
       "      <th>delta_part</th>\n",
       "      <td>0.00%</td>\n",
       "      <td>0.00%</td>\n",
       "      <td>0.00%</td>\n",
       "      <td>0.03%</td>\n",
       "      <td>0.76%</td>\n",
       "      <td>7.41%</td>\n",
       "    </tr>\n",
       "    <tr>\n",
       "      <th>deviation_from_the_overall_average</th>\n",
       "      <td>-7.09%</td>\n",
       "      <td>13.73%</td>\n",
       "      <td>16.44%</td>\n",
       "      <td>0.77%</td>\n",
       "      <td>20.15%</td>\n",
       "      <td>-100.00%</td>\n",
       "    </tr>\n",
       "  </tbody>\n",
       "</table>\n",
       "</div>"
      ],
      "text/plain": [
       "children                                 0       1       2      3       4  \\\n",
       "debt                                                                        \n",
       "part                                 7.54%   9.23%   9.45%  8.18%   9.76%   \n",
       "delta_part                           0.00%   0.00%   0.00%  0.03%   0.76%   \n",
       "deviation_from_the_overall_average  -7.09%  13.73%  16.44%  0.77%  20.15%   \n",
       "\n",
       "children                                   5  \n",
       "debt                                          \n",
       "part                                   0.00%  \n",
       "delta_part                             7.41%  \n",
       "deviation_from_the_overall_average  -100.00%  "
      ]
     },
     "metadata": {},
     "output_type": "display_data"
    },
    {
     "data": {
      "text/markdown": [
       "* \"part\" - доля людей, просрочивших платеж"
      ],
      "text/plain": [
       "<IPython.core.display.Markdown object>"
      ]
     },
     "metadata": {},
     "output_type": "display_data"
    },
    {
     "data": {
      "text/markdown": [
       "* \"delta_part\" - статистическая ошибка"
      ],
      "text/plain": [
       "<IPython.core.display.Markdown object>"
      ]
     },
     "metadata": {},
     "output_type": "display_data"
    },
    {
     "data": {
      "text/markdown": [
       "* \"deviation_from_the_overall_average\" - относительное отклонение категории от доли людей, просрочивших        платеж, по всей выборке"
      ],
      "text/plain": [
       "<IPython.core.display.Markdown object>"
      ]
     },
     "metadata": {},
     "output_type": "display_data"
    },
    {
     "data": {
      "text/markdown": [
       "**Графическое представление:**"
      ],
      "text/plain": [
       "<IPython.core.display.Markdown object>"
      ]
     },
     "metadata": {},
     "output_type": "display_data"
    },
    {
     "data": {
      "image/png": "[encoded data removed]",
      "text/plain": [
       "<Figure size 432x288 with 1 Axes>"
      ]
     },
     "metadata": {
      "needs_background": "light"
     },
     "output_type": "display_data"
    }
   ],
   "source": [
    "# Ваш код будет здесь. Вы можете создавать новые ячейки.\n",
    "def add_metric(df):\n",
    "    '''\n",
    "    Добавление столбцов, которые нужны для анализа. На входе сводная таблица в формате DataFrame. Предпологается\n",
    "    наличие столбцов со статистикой по пунктуальным заемщикам (индекс 0), и просрочившим платеж (индекс 1).\n",
    "    На выходе такая же таблица, но с дополнительными столбцами.\n",
    "    '''\n",
    "    df = df.rename(columns={1: 'debtors'}) # переименуем столбец в 'должники'\n",
    "    # Всего заявок на кредит\n",
    "    df.loc[:, 'loan_applications'] = (df[0] + df['debtors'])\n",
    "    # Статистическая ошибка от количества заявок\n",
    "    df.loc[:, 'error'] = (df['loan_applications'] ** (0.5))\n",
    "    # доля должников\n",
    "    df.loc[:, 'part'] = df['debtors'] / df['loan_applications']\n",
    "    # статистическая ошибка доли\n",
    "    df.loc[:, 'delta_part'] = 2 * df['error'] / (df['loan_applications'] ** 2)\n",
    "    # минимальная вероятность просрочки\n",
    "    df.loc[:, 'min_rate'] = (df['part'] - df['delta_part']).apply(lambda x: 0 if x<0 else x)\n",
    "    # максимальная вероятность просрочки\n",
    "    df.loc[:, 'max_rate'] = df['part']+df['delta_part']\n",
    "    # Статистическая неопределенность\n",
    "    df.loc[:, 'stat_error'] = df['max_rate'] - df['min_rate']\n",
    "    # Столбцы, для вывода в гистаграмме\n",
    "    df.loc[:, 'минимальная вероятность просрочки'] = 100* df.loc[:, 'min_rate']\n",
    "    df.loc[:, 'статистическая неопределенность'] = 100 * df.loc[:, 'stat_error']\n",
    "    # относительное отклонение категории от общего среднего\n",
    "    average = df['debtors'].sum() / df['loan_applications'].sum()\n",
    "    df.loc[:, 'deviation_from_the_overall_average'] = (df['part'] - average) / average\n",
    "    return df\n",
    "\n",
    "def create_pivot_table(row, description_in_string, description_in_hystogram):\n",
    "    '''\n",
    "    По сути, все 4 задачи-исследования однотипны. Получить сводную таблицу, вывести статистику, показать доли\n",
    "    по категориям. Поэтому имеет смысл сделать функцию - шаблон.\n",
    "    На входе:\n",
    "        row                        столбец, в датафрейме data, по которому строится сводная таблица\n",
    "        description_in_string      описание, добавляемое перед выводом таблиц\n",
    "        description_in_hystogram - описание по оси Х в гистограмме.\n",
    "    '''\n",
    "    # создаем сводную таблицу\n",
    "    pivot_table = data.pivot_table(index=['debt'], columns=row, values='income_type', aggfunc='count')\\\n",
    "        .fillna(0).T.astype('int')\n",
    "    # добавляем нужные метрики\n",
    "    pivot_table = add_metric(pivot_table)\n",
    "    # выводим статистику\n",
    "    display(Markdown('**Статистические данные по количеству должников и общего количества заявок на кредит,\\\n",
    "        в зависимости от ' + description_in_string + ':**'))\n",
    "    display(pivot_table.loc[:,['debtors','loan_applications']].T)\n",
    "    display(Markdown('* \"debtors\" - количество людей, просрочивших платеж'))\n",
    "    display(Markdown('* \"loan_applications\" - общее количество заявок на кредит в категории'))\n",
    "    # выводим доли. Если бы знал, как применять различное форматирование для различных столбцов,\n",
    "        # можно было бы объединить 2 таблицы в одну\n",
    "    display(Markdown('**Доля клиентов, допустивших просрочку выплаты, в зависимости от '+\\\n",
    "        description_in_string + ':**'))\n",
    "    display(pivot_table.loc[:,['part','delta_part','deviation_from_the_overall_average']].T.applymap('{:.2%}'.format))\n",
    "    display(Markdown('* \"part\" - доля людей, просрочивших платеж'))\n",
    "    display(Markdown('* \"delta_part\" - статистическая ошибка'))\n",
    "    display(Markdown('* \"deviation_from_the_overall_average\" - относительное отклонение категории от доли людей, просрочивших\\\n",
    "        платеж, по всей выборке'))    \n",
    "    # выводим гистограмму\n",
    "    display(Markdown('**Графическое представление:**'))\n",
    "    pivot_table.loc[:,['минимальная вероятность просрочки','статистическая неопределенность']].plot(\n",
    "        kind=\"bar\",\n",
    "        stacked= True,\n",
    "        xlabel=description_in_hystogram,\n",
    "        ylabel='минимальная вероятность просрочки, %')\n",
    "    plt.show()\n",
    "    # возвращаем таблицу, если вдруг понадобится дальнейшая обработка\n",
    "    return pivot_table\n",
    "\n",
    "children = create_pivot_table('children', 'количества детей', 'количество детей')"
   ]
  },
  {
   "cell_type": "markdown",
   "id": "4dc807c2",
   "metadata": {
    "deletable": false,
    "id": "3a6b99ec"
   },
   "source": [
    "**Вывод:** \n",
    "* Явной зависимости между количеством просроченых кредитов и количеством детей не наблюдается. С учетом статистической ошибки доля заемщиков, просрочивших платеж, отличается от среднего по всей выборке не более чем на 17%. Тем ни менее, бездетные люди и люди с 3 детьми чаще вовремя платят по кредитам.\n",
    "* Для клиентов с 5 детьми, из-за малой статистики статистическая ошибка сопоставима с усредненной вероятностью просрочки по другим клиентам. <sub>При текущем объеме статистики эту группу можно не учитывать.</sub>"
   ]
  },
  {
   "cell_type": "markdown",
   "id": "e3ae46bb",
   "metadata": {},
   "source": [
    "<div class=\"alert alert-warning\">\n",
    "    <h3> Комментарий ревьюера ⚠️<a class=\"tocSkip\"> </h3>\n",
    " \n",
    "Вижу, что ты уже хорошо освоил работу с кодом. Вывод в целом верный, но группы крайне несбалансированны, поэтому стоило бы учитывать только клиентов с 0-2 детьми. Остальные группы общим объёмом составляют не более 2 процентов от всей выборки, что не позволяет делать объективные выводы. \n",
    "        \n",
    " Стоит сказать, что расчитывать проценты от процентов - не очень хорошая идея. Так очень легко запутаться или запутать других. Лучше сравнивать группы по разнице процентных пунктов. Так делают не только в анализе данных, но и во многих научных областях. В данном случае интуитивно понятнее сказать, что группа с 1 ребёнком имеет должников на 1,7 процента больше, чем группа без детей.\n",
    "        \n",
    "Также не стоит делать вычисления, результаты которых не используются в дальнейшем. Код ради кода - не лучшая практика.\n",
    "        \n",
    "Не очень понимаю, что ты хотел показать в столбце delta_part, так как в вычислении этого показателя участвует только количество клиентов по группам.\n",
    "</div>"
   ]
  },
  {
   "cell_type": "markdown",
   "id": "7f49df39",
   "metadata": {},
   "source": [
    "<div class=\"alert alert-block alert-info\">\n",
    "\n",
    ">Не очень понимаю, что ты хотел показать в столбце delta_part, так как в вычислении этого показателя участвует только количество клиентов по группам.\n",
    "\n",
    "Для случайных величин, имеющих 2 состояния, погрешность вычисляется как корень из количества испытаний. Т.е. если мы можем сделать случайный шаг либо вперед, либо назад, то после 10000 испытаний мы скорее всего окажемся на расстоянии 100 шагов от старта (т.е. при $x=100^2$  погрешность $\\Delta x=100 $ ). Для величин, зависящих от таких случайных бинарных испытаний, по формуле $f(x)$, погрешность вычисляется как $f'(x) \\Delta x$. Т.е. статистическая погрешность для доли должников равна $\\Delta _{part} = \\left(\\frac{1}{x}\\right)'\\Delta x =$ $\\left(\\frac{2}{x^2}\\right)\\Delta x$, где x - общее количество заявок на кредит в категории, а $\\Delta$x - статистическая ошибка от количества заявок в категории. И это очень хорошо видно как раз на этом графике: при малых выборках статистическая погрешность от доли просроченых заявок практически сравнивается с  самой долей, что говорит о том, что этим данным нельзя полноценно доверять. Но показывает, что при 9 людях в выборке, доверительный интервал все еще перекрывает среднюю долю людей (~7%), просрочевших выплату. Т.е. несмотря на то, что для группы с 5 детьми все вовремя погасили кредит, она прекрасно вписывается в общую картину с 7 процентами. И именно для отображения этой серой (на графике оранжевой) области и считалась статистическая погрешность доли просроченых кредитов. А вот выход за статистическую погрешность - повод задуматься о том, что существуют скрытые закономеронсти, дающие артифакты.\n",
    "\n",
    ">Остальные группы общим объёмом составляют не более 2 процентов от всей выборки, что не позволяет делать объективные выводы.\n",
    "    \n",
    "Тут, видимо, мне надо понять, что тут считать \"большим\" объемом. И для чего планируется использовать выводы. Если для \"предсказателя надежности заемщика\" - то разве группа с 3 детьми, не вполне статистически достоверна? Т.е. да, они сами по себе встречаются редко, но статистика по ним уже может считаться довольно надежной (оранжевая шапка минимальна) и достаточной для прогнозирования. Если же выводы планируется использовать для презентации финансовой отчетности, то там, да, потерю процента - другого выборки можно и опустить. Нет?\n",
    "\n",
    "> Стоит сказать, что расчитывать проценты от процентов - не очень хорошая идея. Так очень легко запутаться или запутать других. Лучше сравнивать группы по разнице процентных пунктов. Так делают не только в анализе данных, но и во многих научных областях. В данном случае интуитивно понятнее сказать, что группа с 1 ребёнком имеет должников на 1,7 процента больше, чем группа без детей.\n",
    "\n",
    "Да, соглашусь. Сам сомневался в этом решении.\n",
    "\n",
    ">Также не стоит делать вычисления, результаты которых не используются в дальнейшем. Код ради кода - не лучшая практика.\n",
    "\n",
    "Мне казалось, я таких не делал. Столбец delta_part я добавлял как раз для того, чтобы было видно, насколько можно доверять выводам по выбранной группе. Может быть, лучше было бы подробнее описать, что имеется ввиду, и для чего это нужно в примечаниях?\n",
    "\n",
    "UPDATE: Заметил, что неправильно взял производную в delta_part (двойка в числителе). Соответственно функцию переделал.\n",
    "</div>"
   ]
  },
  {
   "cell_type": "markdown",
   "id": "4640ce59",
   "metadata": {},
   "source": [
    "<div class=\"alert alert-success\">\n",
    "<h3> Комментарий ревьюера v2 ✔️<a class=\"tocSkip\"> </h3>\n",
    "\n",
    "По поводу delta_part понял. Для этого проекта было необязательно прибегать к статистике. Но здорово, что уже её пользуешься.\n",
    "    \n",
    "Я увидел, что ты вычисляешь столбцы min_rate, max_rate и stat_error, но в дальнейшем ты ими не пользуешься, если я не ошибаюсь.\n",
    "</div>"
   ]
  },
  {
   "cell_type": "code",
   "execution_count": 24,
   "id": "aefbd9c5",
   "metadata": {},
   "outputs": [
    {
     "data": {
      "text/markdown": [
       "**Статистические данные по количеству должников и общего количества заявок на кредит,        в зависимости от количества детей:**"
      ],
      "text/plain": [
       "<IPython.core.display.Markdown object>"
      ]
     },
     "metadata": {},
     "output_type": "display_data"
    },
    {
     "data": {
      "text/html": [
       "<div>\n",
       "<style scoped>\n",
       "    .dataframe tbody tr th:only-of-type {\n",
       "        vertical-align: middle;\n",
       "    }\n",
       "\n",
       "    .dataframe tbody tr th {\n",
       "        vertical-align: top;\n",
       "    }\n",
       "\n",
       "    .dataframe thead th {\n",
       "        text-align: right;\n",
       "    }\n",
       "</style>\n",
       "<table border=\"1\" class=\"dataframe\">\n",
       "  <thead>\n",
       "    <tr style=\"text-align: right;\">\n",
       "      <th>children</th>\n",
       "      <th>0</th>\n",
       "      <th>1</th>\n",
       "      <th>2</th>\n",
       "      <th>3</th>\n",
       "      <th>4</th>\n",
       "      <th>5</th>\n",
       "    </tr>\n",
       "    <tr>\n",
       "      <th>debt</th>\n",
       "      <th></th>\n",
       "      <th></th>\n",
       "      <th></th>\n",
       "      <th></th>\n",
       "      <th></th>\n",
       "      <th></th>\n",
       "    </tr>\n",
       "  </thead>\n",
       "  <tbody>\n",
       "    <tr>\n",
       "      <th>debtors</th>\n",
       "      <td>1063</td>\n",
       "      <td>444</td>\n",
       "      <td>194</td>\n",
       "      <td>27</td>\n",
       "      <td>4</td>\n",
       "      <td>0</td>\n",
       "    </tr>\n",
       "    <tr>\n",
       "      <th>loan_applications</th>\n",
       "      <td>14091</td>\n",
       "      <td>4808</td>\n",
       "      <td>2052</td>\n",
       "      <td>330</td>\n",
       "      <td>41</td>\n",
       "      <td>9</td>\n",
       "    </tr>\n",
       "  </tbody>\n",
       "</table>\n",
       "</div>"
      ],
      "text/plain": [
       "children               0     1     2    3   4  5\n",
       "debt                                            \n",
       "debtors             1063   444   194   27   4  0\n",
       "loan_applications  14091  4808  2052  330  41  9"
      ]
     },
     "metadata": {},
     "output_type": "display_data"
    },
    {
     "data": {
      "text/markdown": [
       "* \"debtors\" - количество людей, просрочивших платеж"
      ],
      "text/plain": [
       "<IPython.core.display.Markdown object>"
      ]
     },
     "metadata": {},
     "output_type": "display_data"
    },
    {
     "data": {
      "text/markdown": [
       "* \"loan_applications\" - общее количество заявок на кредит в категории"
      ],
      "text/plain": [
       "<IPython.core.display.Markdown object>"
      ]
     },
     "metadata": {},
     "output_type": "display_data"
    },
    {
     "data": {
      "text/markdown": [
       "**Доля клиентов, допустивших просрочку выплаты, в зависимости от количества детей:**"
      ],
      "text/plain": [
       "<IPython.core.display.Markdown object>"
      ]
     },
     "metadata": {},
     "output_type": "display_data"
    },
    {
     "data": {
      "text/html": [
       "<div>\n",
       "<style scoped>\n",
       "    .dataframe tbody tr th:only-of-type {\n",
       "        vertical-align: middle;\n",
       "    }\n",
       "\n",
       "    .dataframe tbody tr th {\n",
       "        vertical-align: top;\n",
       "    }\n",
       "\n",
       "    .dataframe thead th {\n",
       "        text-align: right;\n",
       "    }\n",
       "</style>\n",
       "<table border=\"1\" class=\"dataframe\">\n",
       "  <thead>\n",
       "    <tr style=\"text-align: right;\">\n",
       "      <th>children</th>\n",
       "      <th>0</th>\n",
       "      <th>1</th>\n",
       "      <th>2</th>\n",
       "      <th>3</th>\n",
       "      <th>4</th>\n",
       "      <th>5</th>\n",
       "    </tr>\n",
       "    <tr>\n",
       "      <th>debt</th>\n",
       "      <th></th>\n",
       "      <th></th>\n",
       "      <th></th>\n",
       "      <th></th>\n",
       "      <th></th>\n",
       "      <th></th>\n",
       "    </tr>\n",
       "  </thead>\n",
       "  <tbody>\n",
       "    <tr>\n",
       "      <th>part</th>\n",
       "      <td>7.54%</td>\n",
       "      <td>9.23%</td>\n",
       "      <td>9.45%</td>\n",
       "      <td>8.18%</td>\n",
       "      <td>9.76%</td>\n",
       "      <td>0.00%</td>\n",
       "    </tr>\n",
       "    <tr>\n",
       "      <th>deviation_from_the_average</th>\n",
       "      <td>-0.58%</td>\n",
       "      <td>1.11%</td>\n",
       "      <td>1.33%</td>\n",
       "      <td>0.06%</td>\n",
       "      <td>1.64%</td>\n",
       "      <td>-8.12%</td>\n",
       "    </tr>\n",
       "  </tbody>\n",
       "</table>\n",
       "</div>"
      ],
      "text/plain": [
       "children                         0      1      2      3      4       5\n",
       "debt                                                                  \n",
       "part                         7.54%  9.23%  9.45%  8.18%  9.76%   0.00%\n",
       "deviation_from_the_average  -0.58%  1.11%  1.33%  0.06%  1.64%  -8.12%"
      ]
     },
     "metadata": {},
     "output_type": "display_data"
    },
    {
     "data": {
      "text/markdown": [
       "* \"part\" - доля людей, просрочивших платеж"
      ],
      "text/plain": [
       "<IPython.core.display.Markdown object>"
      ]
     },
     "metadata": {},
     "output_type": "display_data"
    },
    {
     "data": {
      "text/markdown": [
       "* \"deviation_from_the_average\" - отклонение категории от среднего по всей выборке"
      ],
      "text/plain": [
       "<IPython.core.display.Markdown object>"
      ]
     },
     "metadata": {},
     "output_type": "display_data"
    },
    {
     "data": {
      "text/markdown": [
       "**Графическое представление:**"
      ],
      "text/plain": [
       "<IPython.core.display.Markdown object>"
      ]
     },
     "metadata": {},
     "output_type": "display_data"
    },
    {
     "data": {
      "image/png": "[encoded data removed]",
      "text/plain": [
       "<Figure size 432x288 with 1 Axes>"
      ]
     },
     "metadata": {
      "needs_background": "light"
     },
     "output_type": "display_data"
    }
   ],
   "source": [
    "# версия кода, на второй итерации сдачи проекта\n",
    "def add_metric_v2(df):\n",
    "    '''\n",
    "    Добавление столбцов, которые нужны для анализа. На входе сводная таблица в формате DataFrame. Предпологается\n",
    "    наличие столбцов со статистикой по пунктуальным заемщикам (индекс 0), и просрочившим платеж (индекс 1).\n",
    "    На выходе такая же таблица, но с дополнительными столбцами.\n",
    "    '''\n",
    "    df = df.rename(columns={1: 'debtors'}) # переименуем столбец в 'должники'\n",
    "    # Всего заявок на кредит\n",
    "    df.loc[:, 'loan_applications'] = (df[0] + df['debtors'])\n",
    "    # Статистическая ошибка от количества заявок\n",
    "    df.loc[:, 'error'] = (df['loan_applications'] ** (0.5))\n",
    "    # доля должников\n",
    "    df.loc[:, 'part'] = df['debtors'] / df['loan_applications']\n",
    "    # статистическая ошибка доли\n",
    "    df.loc[:, 'delta_part'] = df['error'] / (df['loan_applications'] ** 2)\n",
    "    # минимальная вероятность просрочки\n",
    "    df.loc[:, 'min_rate'] = (df['part'] - df['delta_part']).apply(lambda x: 0 if x<0 else x)\n",
    "    # максимальная вероятность просрочки\n",
    "    df.loc[:, 'max_rate'] = df['part']+df['delta_part']\n",
    "    # Статистическая неопределенность\n",
    "    df.loc[:, 'stat_error'] = df['max_rate'] - df['min_rate']\n",
    "    # Столбцы, для вывода в гистаграмме\n",
    "    df.loc[:, 'минимальная вероятность просрочки'] = 100* df.loc[:, 'min_rate']\n",
    "    df.loc[:, 'статистическая неопределенность'] = 100 * df.loc[:, 'stat_error']\n",
    "#    # относительное отклонение категории от общего среднего\n",
    "    average = df['debtors'].sum() / df['loan_applications'].sum()\n",
    "## измененная строка\n",
    "    df.loc[:, 'deviation_from_the_average'] = (df['part'] - average)\n",
    "    return df\n",
    "\n",
    "def create_pivot_table_v2(row, description_in_string, description_in_hystogram):\n",
    "    '''\n",
    "    По сути, все 4 задачи-исследования однотипны. Получить сводную таблицу, вывести статистику, показать доли\n",
    "    по категориям. Поэтому имеет смысл сделать функцию - шаблон.\n",
    "    На входе:\n",
    "        row                        столбец, в датафрейме data, по которому строится сводная таблица\n",
    "        description_in_string      описание, добавляемое перед выводом таблиц\n",
    "        description_in_hystogram - описание по оси Х в гистограмме.\n",
    "    '''\n",
    "    # создаем сводную таблицу\n",
    "    pivot_table = data.pivot_table(index=['debt'], columns=row, values='income_type', aggfunc='count')\\\n",
    "        .fillna(0).T.astype('int')\n",
    "    # добавляем нужные метрики\n",
    "    pivot_table = add_metric_v2(pivot_table)\n",
    "    # выводим статистику\n",
    "    display(Markdown('**Статистические данные по количеству должников и общего количества заявок на кредит,\\\n",
    "        в зависимости от ' + description_in_string + ':**'))\n",
    "    display(pivot_table.loc[:,['debtors','loan_applications']].T)\n",
    "    display(Markdown('* \"debtors\" - количество людей, просрочивших платеж'))\n",
    "    display(Markdown('* \"loan_applications\" - общее количество заявок на кредит в категории'))\n",
    "    # выводим доли.\n",
    "    display(Markdown('**Доля клиентов, допустивших просрочку выплаты, в зависимости от '+\\\n",
    "        description_in_string + ':**'))\n",
    "## Измененная строка\n",
    "    display(pivot_table.loc[:,['part','deviation_from_the_average']].T.applymap('{:.2%}'.format))\n",
    "    display(Markdown('* \"part\" - доля людей, просрочивших платеж'))\n",
    "## статистическую ошибку убираю из вывода\n",
    "##    display(Markdown('* \"delta_part\" - статистическая ошибка'))\n",
    "## измененная строка\n",
    "    display(Markdown('* \"deviation_from_the_average\" - отклонение категории от среднего по всей выборке'))    \n",
    "    # выводим гистограмму\n",
    "    display(Markdown('**Графическое представление:**'))\n",
    "## измененная строка\n",
    "    pivot_table.loc[:,['минимальная вероятность просрочки','статистическая неопределенность']].plot(\n",
    "        kind=\"bar\",\n",
    "        stacked= True,\n",
    "        xlabel=description_in_hystogram,\n",
    "        ylabel='минимальная вероятность просрочки, %')\n",
    "    plt.show()\n",
    "    # возвращаем таблицу, если вдруг понадобится дальнейшая обработка\n",
    "    return pivot_table\n",
    "#display(Markdown('<div class=\"alert alert-block alert-info\">'))\n",
    "# Оказалось, что прописанная в коде подсветка фона голубым не работает\n",
    "children = create_pivot_table_v2('children', 'количества детей', 'количество детей')\n",
    "#display(Markdown('</div>'))"
   ]
  },
  {
   "cell_type": "markdown",
   "id": "749163e0",
   "metadata": {},
   "source": [
    "<div class=\"alert alert-block alert-info\">\n",
    "А вот теперь, при исправленной статистической погрешности, видно, что группа с 5-ю детьми ведет себя явно иначе, чем все остальные. Да, группа минимальна, и ей можно пренебречь, но это повод посмотреть на ее представителей:\n",
    "</div>"
   ]
  },
  {
   "cell_type": "markdown",
   "id": "a3c37f40",
   "metadata": {},
   "source": [
    "<div class=\"alert alert-success\">\n",
    "<h3> Комментарий ревьюера v2 ✔️<a class=\"tocSkip\"> </h3>\n",
    "\n",
    "Да, можно посмотреть на данные поближе.\n",
    "</div>"
   ]
  },
  {
   "cell_type": "code",
   "execution_count": 25,
   "id": "50023554",
   "metadata": {},
   "outputs": [
    {
     "data": {
      "text/html": [
       "<div>\n",
       "<style scoped>\n",
       "    .dataframe tbody tr th:only-of-type {\n",
       "        vertical-align: middle;\n",
       "    }\n",
       "\n",
       "    .dataframe tbody tr th {\n",
       "        vertical-align: top;\n",
       "    }\n",
       "\n",
       "    .dataframe thead th {\n",
       "        text-align: right;\n",
       "    }\n",
       "</style>\n",
       "<table border=\"1\" class=\"dataframe\">\n",
       "  <thead>\n",
       "    <tr style=\"text-align: right;\">\n",
       "      <th></th>\n",
       "      <th>children</th>\n",
       "      <th>days_employed</th>\n",
       "      <th>dob_years</th>\n",
       "      <th>education</th>\n",
       "      <th>education_id</th>\n",
       "      <th>family_status</th>\n",
       "      <th>family_status_id</th>\n",
       "      <th>gender</th>\n",
       "      <th>income_type</th>\n",
       "      <th>debt</th>\n",
       "      <th>total_income</th>\n",
       "      <th>purpose</th>\n",
       "      <th>total_income_category</th>\n",
       "      <th>purpose_category</th>\n",
       "    </tr>\n",
       "  </thead>\n",
       "  <tbody>\n",
       "    <tr>\n",
       "      <th>3979</th>\n",
       "      <td>5</td>\n",
       "      <td>1572.328285</td>\n",
       "      <td>42</td>\n",
       "      <td>среднее</td>\n",
       "      <td>1</td>\n",
       "      <td>гражданский брак</td>\n",
       "      <td>1</td>\n",
       "      <td>M</td>\n",
       "      <td>сотрудник</td>\n",
       "      <td>0</td>\n",
       "      <td>142594</td>\n",
       "      <td>на покупку своего автомобиля</td>\n",
       "      <td>C</td>\n",
       "      <td>операции с автомобилем</td>\n",
       "    </tr>\n",
       "    <tr>\n",
       "      <th>4397</th>\n",
       "      <td>5</td>\n",
       "      <td>3248.839837</td>\n",
       "      <td>36</td>\n",
       "      <td>среднее</td>\n",
       "      <td>1</td>\n",
       "      <td>женат / замужем</td>\n",
       "      <td>0</td>\n",
       "      <td>F</td>\n",
       "      <td>компаньон</td>\n",
       "      <td>0</td>\n",
       "      <td>168460</td>\n",
       "      <td>операции с недвижимостью</td>\n",
       "      <td>C</td>\n",
       "      <td>операции с недвижимостью</td>\n",
       "    </tr>\n",
       "    <tr>\n",
       "      <th>7866</th>\n",
       "      <td>5</td>\n",
       "      <td>773.124856</td>\n",
       "      <td>36</td>\n",
       "      <td>среднее</td>\n",
       "      <td>1</td>\n",
       "      <td>женат / замужем</td>\n",
       "      <td>0</td>\n",
       "      <td>F</td>\n",
       "      <td>сотрудник</td>\n",
       "      <td>0</td>\n",
       "      <td>48772</td>\n",
       "      <td>операции с жильем</td>\n",
       "      <td>D</td>\n",
       "      <td>операции с недвижимостью</td>\n",
       "    </tr>\n",
       "    <tr>\n",
       "      <th>15822</th>\n",
       "      <td>5</td>\n",
       "      <td>418.199982</td>\n",
       "      <td>31</td>\n",
       "      <td>среднее</td>\n",
       "      <td>1</td>\n",
       "      <td>женат / замужем</td>\n",
       "      <td>0</td>\n",
       "      <td>F</td>\n",
       "      <td>сотрудник</td>\n",
       "      <td>0</td>\n",
       "      <td>77552</td>\n",
       "      <td>сделка с подержанным автомобилем</td>\n",
       "      <td>C</td>\n",
       "      <td>операции с автомобилем</td>\n",
       "    </tr>\n",
       "    <tr>\n",
       "      <th>15916</th>\n",
       "      <td>5</td>\n",
       "      <td>2286.262752</td>\n",
       "      <td>37</td>\n",
       "      <td>среднее</td>\n",
       "      <td>1</td>\n",
       "      <td>женат / замужем</td>\n",
       "      <td>0</td>\n",
       "      <td>F</td>\n",
       "      <td>сотрудник</td>\n",
       "      <td>0</td>\n",
       "      <td>256698</td>\n",
       "      <td>покупка недвижимости</td>\n",
       "      <td>B</td>\n",
       "      <td>операции с недвижимостью</td>\n",
       "    </tr>\n",
       "    <tr>\n",
       "      <th>16211</th>\n",
       "      <td>5</td>\n",
       "      <td>387.317579</td>\n",
       "      <td>35</td>\n",
       "      <td>среднее</td>\n",
       "      <td>1</td>\n",
       "      <td>гражданский брак</td>\n",
       "      <td>1</td>\n",
       "      <td>F</td>\n",
       "      <td>госслужащий</td>\n",
       "      <td>0</td>\n",
       "      <td>126102</td>\n",
       "      <td>на проведение свадьбы</td>\n",
       "      <td>C</td>\n",
       "      <td>проведение свадьбы</td>\n",
       "    </tr>\n",
       "    <tr>\n",
       "      <th>20452</th>\n",
       "      <td>5</td>\n",
       "      <td>268.425464</td>\n",
       "      <td>38</td>\n",
       "      <td>начальное</td>\n",
       "      <td>3</td>\n",
       "      <td>женат / замужем</td>\n",
       "      <td>0</td>\n",
       "      <td>F</td>\n",
       "      <td>сотрудник</td>\n",
       "      <td>0</td>\n",
       "      <td>212545</td>\n",
       "      <td>заняться высшим образованием</td>\n",
       "      <td>B</td>\n",
       "      <td>получение образования</td>\n",
       "    </tr>\n",
       "    <tr>\n",
       "      <th>20837</th>\n",
       "      <td>5</td>\n",
       "      <td>2386.600221</td>\n",
       "      <td>35</td>\n",
       "      <td>среднее</td>\n",
       "      <td>1</td>\n",
       "      <td>женат / замужем</td>\n",
       "      <td>0</td>\n",
       "      <td>F</td>\n",
       "      <td>компаньон</td>\n",
       "      <td>0</td>\n",
       "      <td>204241</td>\n",
       "      <td>жилье</td>\n",
       "      <td>B</td>\n",
       "      <td>операции с недвижимостью</td>\n",
       "    </tr>\n",
       "    <tr>\n",
       "      <th>21156</th>\n",
       "      <td>5</td>\n",
       "      <td>1690.018117</td>\n",
       "      <td>59</td>\n",
       "      <td>среднее</td>\n",
       "      <td>1</td>\n",
       "      <td>женат / замужем</td>\n",
       "      <td>0</td>\n",
       "      <td>M</td>\n",
       "      <td>сотрудник</td>\n",
       "      <td>0</td>\n",
       "      <td>269068</td>\n",
       "      <td>операции со своей недвижимостью</td>\n",
       "      <td>B</td>\n",
       "      <td>операции с недвижимостью</td>\n",
       "    </tr>\n",
       "  </tbody>\n",
       "</table>\n",
       "</div>"
      ],
      "text/plain": [
       "       children  days_employed  dob_years  education  education_id  \\\n",
       "3979          5    1572.328285         42    среднее             1   \n",
       "4397          5    3248.839837         36    среднее             1   \n",
       "7866          5     773.124856         36    среднее             1   \n",
       "15822         5     418.199982         31    среднее             1   \n",
       "15916         5    2286.262752         37    среднее             1   \n",
       "16211         5     387.317579         35    среднее             1   \n",
       "20452         5     268.425464         38  начальное             3   \n",
       "20837         5    2386.600221         35    среднее             1   \n",
       "21156         5    1690.018117         59    среднее             1   \n",
       "\n",
       "          family_status  family_status_id gender  income_type  debt  \\\n",
       "3979   гражданский брак                 1      M    сотрудник     0   \n",
       "4397    женат / замужем                 0      F    компаньон     0   \n",
       "7866    женат / замужем                 0      F    сотрудник     0   \n",
       "15822   женат / замужем                 0      F    сотрудник     0   \n",
       "15916   женат / замужем                 0      F    сотрудник     0   \n",
       "16211  гражданский брак                 1      F  госслужащий     0   \n",
       "20452   женат / замужем                 0      F    сотрудник     0   \n",
       "20837   женат / замужем                 0      F    компаньон     0   \n",
       "21156   женат / замужем                 0      M    сотрудник     0   \n",
       "\n",
       "       total_income                           purpose total_income_category  \\\n",
       "3979         142594      на покупку своего автомобиля                     C   \n",
       "4397         168460          операции с недвижимостью                     C   \n",
       "7866          48772                 операции с жильем                     D   \n",
       "15822         77552  сделка с подержанным автомобилем                     C   \n",
       "15916        256698              покупка недвижимости                     B   \n",
       "16211        126102             на проведение свадьбы                     C   \n",
       "20452        212545      заняться высшим образованием                     B   \n",
       "20837        204241                             жилье                     B   \n",
       "21156        269068   операции со своей недвижимостью                     B   \n",
       "\n",
       "               purpose_category  \n",
       "3979     операции с автомобилем  \n",
       "4397   операции с недвижимостью  \n",
       "7866   операции с недвижимостью  \n",
       "15822    операции с автомобилем  \n",
       "15916  операции с недвижимостью  \n",
       "16211        проведение свадьбы  \n",
       "20452     получение образования  \n",
       "20837  операции с недвижимостью  \n",
       "21156  операции с недвижимостью  "
      ]
     },
     "execution_count": 25,
     "metadata": {},
     "output_type": "execute_result"
    }
   ],
   "source": [
    "data[data.children == 5]"
   ]
  },
  {
   "cell_type": "markdown",
   "id": "fe569efe",
   "metadata": {},
   "source": [
    "<div class=\"alert alert-block alert-info\">\n",
    "Забавная группа...\n",
    "    \n",
    "* Дама, имеющая начальное образование, доход 200к+ и берущая кредит сразу на высшее образование, минуя среднее. Это как? Муж не хочет оплачивать ее образование? Причем учиться хочет именно она, а не ее дети.\n",
    "\n",
    "* Еще одна дама, с доходом меньше 50к, берущая кредит на квартиру. В совокупности с 5-ю детьми такой доход - показатель бедности, если не нищеты.\n",
    "\n",
    "Почти неверняка, что как минимум эти представилели допустят просрочки по выплатам. Это просто вопрос времени.\n",
    "    \n",
    "И да, если в итоге статистическая погрешность доли $\\Delta_{part} = \\left(\\frac{\\sqrt n}{n^2}\\right) = n^{-1.5}$, то для заданной наперед погрешности можно узнать минимальное количество людей в выборке. $n = \\left(\\Delta_{part}\\right)^{-2/3}$. Т.е. для погрешности  меньше 0,1% количество людей в выборке должно быть больше или равно 100.\n",
    "\n",
    "Можно пользоваться такими рассуждениями, или я где-то ошибаюсь, Олег? Как понять, когда какая-то категория маленькая, и ее можно отбросить? Взять к примеру распределение по полу: есть весь мир, Китай, Латвия и Ватикан. Распределение в Китае, думаю, близко к мировому, и его доля значительна. Оставляем. Латвия: распределение близко к мировому, доля сильно меньше процента. Оставлять? Ватикан: распределение совсем не близко к мировому. Доля тоже сильно меньше процента. Оставлять?\n",
    "</div>"
   ]
  },
  {
   "cell_type": "markdown",
   "id": "7314bfcd",
   "metadata": {},
   "source": [
    "<div class=\"alert alert-success\">\n",
    "<h3> Комментарий ревьюера v2 ✔️<a class=\"tocSkip\"> </h3>\n",
    "\n",
    "Если говорить о распределении, то стоит отталкиваться от контекста. Если мы оцениваем весь мир, то по Латвии и Ватикану вряд ли получится точно определить мировую половую принадлежность, так как эти страны имеют маленький вес по сравнению с Китаем.\n",
    "</div>"
   ]
  },
  {
   "cell_type": "markdown",
   "id": "7f75dcd2",
   "metadata": {
    "deletable": false,
    "editable": false,
    "id": "97be82ca"
   },
   "source": [
    "#### 3.2 Есть ли зависимость между семейным положением и возвратом кредита в срок?"
   ]
  },
  {
   "cell_type": "markdown",
   "id": "bae225ea",
   "metadata": {},
   "source": [
    "Статистические данные по количеству должников и общего количества заявок на кредит, в зависимости семейного положения:"
   ]
  },
  {
   "cell_type": "code",
   "execution_count": 26,
   "id": "bd064961",
   "metadata": {
    "deletable": false,
    "id": "dc3f7ee8"
   },
   "outputs": [
    {
     "data": {
      "text/markdown": [
       "**Статистические данные по количеству должников и общего количества заявок на кредит,        в зависимости от семейного положения:**"
      ],
      "text/plain": [
       "<IPython.core.display.Markdown object>"
      ]
     },
     "metadata": {},
     "output_type": "display_data"
    },
    {
     "data": {
      "text/html": [
       "<div>\n",
       "<style scoped>\n",
       "    .dataframe tbody tr th:only-of-type {\n",
       "        vertical-align: middle;\n",
       "    }\n",
       "\n",
       "    .dataframe tbody tr th {\n",
       "        vertical-align: top;\n",
       "    }\n",
       "\n",
       "    .dataframe thead th {\n",
       "        text-align: right;\n",
       "    }\n",
       "</style>\n",
       "<table border=\"1\" class=\"dataframe\">\n",
       "  <thead>\n",
       "    <tr style=\"text-align: right;\">\n",
       "      <th>family_status</th>\n",
       "      <th>Не женат / не замужем</th>\n",
       "      <th>в разводе</th>\n",
       "      <th>вдовец / вдова</th>\n",
       "      <th>гражданский брак</th>\n",
       "      <th>женат / замужем</th>\n",
       "    </tr>\n",
       "    <tr>\n",
       "      <th>debt</th>\n",
       "      <th></th>\n",
       "      <th></th>\n",
       "      <th></th>\n",
       "      <th></th>\n",
       "      <th></th>\n",
       "    </tr>\n",
       "  </thead>\n",
       "  <tbody>\n",
       "    <tr>\n",
       "      <th>debtors</th>\n",
       "      <td>273</td>\n",
       "      <td>84</td>\n",
       "      <td>63</td>\n",
       "      <td>385</td>\n",
       "      <td>927</td>\n",
       "    </tr>\n",
       "    <tr>\n",
       "      <th>loan_applications</th>\n",
       "      <td>2796</td>\n",
       "      <td>1189</td>\n",
       "      <td>951</td>\n",
       "      <td>4134</td>\n",
       "      <td>12261</td>\n",
       "    </tr>\n",
       "  </tbody>\n",
       "</table>\n",
       "</div>"
      ],
      "text/plain": [
       "family_status      Не женат / не замужем  в разводе  вдовец / вдова  \\\n",
       "debt                                                                  \n",
       "debtors                              273         84              63   \n",
       "loan_applications                   2796       1189             951   \n",
       "\n",
       "family_status      гражданский брак  женат / замужем  \n",
       "debt                                                  \n",
       "debtors                         385              927  \n",
       "loan_applications              4134            12261  "
      ]
     },
     "metadata": {},
     "output_type": "display_data"
    },
    {
     "data": {
      "text/markdown": [
       "* \"debtors\" - количество людей, просрочивших платеж"
      ],
      "text/plain": [
       "<IPython.core.display.Markdown object>"
      ]
     },
     "metadata": {},
     "output_type": "display_data"
    },
    {
     "data": {
      "text/markdown": [
       "* \"loan_applications\" - общее количество заявок на кредит в категории"
      ],
      "text/plain": [
       "<IPython.core.display.Markdown object>"
      ]
     },
     "metadata": {},
     "output_type": "display_data"
    },
    {
     "data": {
      "text/markdown": [
       "**Доля клиентов, допустивших просрочку выплаты, в зависимости от семейного положения:**"
      ],
      "text/plain": [
       "<IPython.core.display.Markdown object>"
      ]
     },
     "metadata": {},
     "output_type": "display_data"
    },
    {
     "data": {
      "text/html": [
       "<div>\n",
       "<style scoped>\n",
       "    .dataframe tbody tr th:only-of-type {\n",
       "        vertical-align: middle;\n",
       "    }\n",
       "\n",
       "    .dataframe tbody tr th {\n",
       "        vertical-align: top;\n",
       "    }\n",
       "\n",
       "    .dataframe thead th {\n",
       "        text-align: right;\n",
       "    }\n",
       "</style>\n",
       "<table border=\"1\" class=\"dataframe\">\n",
       "  <thead>\n",
       "    <tr style=\"text-align: right;\">\n",
       "      <th>family_status</th>\n",
       "      <th>Не женат / не замужем</th>\n",
       "      <th>в разводе</th>\n",
       "      <th>вдовец / вдова</th>\n",
       "      <th>гражданский брак</th>\n",
       "      <th>женат / замужем</th>\n",
       "    </tr>\n",
       "    <tr>\n",
       "      <th>debt</th>\n",
       "      <th></th>\n",
       "      <th></th>\n",
       "      <th></th>\n",
       "      <th></th>\n",
       "      <th></th>\n",
       "    </tr>\n",
       "  </thead>\n",
       "  <tbody>\n",
       "    <tr>\n",
       "      <th>part</th>\n",
       "      <td>9.76%</td>\n",
       "      <td>7.06%</td>\n",
       "      <td>6.62%</td>\n",
       "      <td>9.31%</td>\n",
       "      <td>7.56%</td>\n",
       "    </tr>\n",
       "    <tr>\n",
       "      <th>delta_part</th>\n",
       "      <td>0.00%</td>\n",
       "      <td>0.00%</td>\n",
       "      <td>0.01%</td>\n",
       "      <td>0.00%</td>\n",
       "      <td>0.00%</td>\n",
       "    </tr>\n",
       "    <tr>\n",
       "      <th>deviation_from_the_overall_average</th>\n",
       "      <td>20.25%</td>\n",
       "      <td>-12.99%</td>\n",
       "      <td>-18.41%</td>\n",
       "      <td>14.70%</td>\n",
       "      <td>-6.89%</td>\n",
       "    </tr>\n",
       "  </tbody>\n",
       "</table>\n",
       "</div>"
      ],
      "text/plain": [
       "family_status                      Не женат / не замужем в разводе  \\\n",
       "debt                                                                 \n",
       "part                                               9.76%     7.06%   \n",
       "delta_part                                         0.00%     0.00%   \n",
       "deviation_from_the_overall_average                20.25%   -12.99%   \n",
       "\n",
       "family_status                      вдовец / вдова гражданский брак  \\\n",
       "debt                                                                 \n",
       "part                                        6.62%            9.31%   \n",
       "delta_part                                  0.01%            0.00%   \n",
       "deviation_from_the_overall_average        -18.41%           14.70%   \n",
       "\n",
       "family_status                      женат / замужем  \n",
       "debt                                                \n",
       "part                                         7.56%  \n",
       "delta_part                                   0.00%  \n",
       "deviation_from_the_overall_average          -6.89%  "
      ]
     },
     "metadata": {},
     "output_type": "display_data"
    },
    {
     "data": {
      "text/markdown": [
       "* \"part\" - доля людей, просрочивших платеж"
      ],
      "text/plain": [
       "<IPython.core.display.Markdown object>"
      ]
     },
     "metadata": {},
     "output_type": "display_data"
    },
    {
     "data": {
      "text/markdown": [
       "* \"delta_part\" - статистическая ошибка"
      ],
      "text/plain": [
       "<IPython.core.display.Markdown object>"
      ]
     },
     "metadata": {},
     "output_type": "display_data"
    },
    {
     "data": {
      "text/markdown": [
       "* \"deviation_from_the_overall_average\" - относительное отклонение категории от доли людей, просрочивших        платеж, по всей выборке"
      ],
      "text/plain": [
       "<IPython.core.display.Markdown object>"
      ]
     },
     "metadata": {},
     "output_type": "display_data"
    },
    {
     "data": {
      "text/markdown": [
       "**Графическое представление:**"
      ],
      "text/plain": [
       "<IPython.core.display.Markdown object>"
      ]
     },
     "metadata": {},
     "output_type": "display_data"
    },
    {
     "data": {
      "image/png": "[encoded data removed]",
      "text/plain": [
       "<Figure size 432x288 with 1 Axes>"
      ]
     },
     "metadata": {
      "needs_background": "light"
     },
     "output_type": "display_data"
    }
   ],
   "source": [
    "# Ваш код будет здесь. Вы можете создавать новые ячейки.\n",
    "family_status = create_pivot_table('family_status', 'семейного положения', 'семейное положение')"
   ]
  },
  {
   "cell_type": "markdown",
   "id": "14bda4f9",
   "metadata": {
    "deletable": false,
    "id": "1cef7837"
   },
   "source": [
    "**Вывод:** \n",
    "* Люди, не скреплявшие себя официальными отношениями, чаще не допускали просрочку выплаты (до 20% чаще, по сравнению со средним значением).\n",
    "* Напротив, люди, утратившие официальные отношения, реже допускали просрочки выплат ( ~ на 13%, по сравнению с общим уровнем)."
   ]
  },
  {
   "cell_type": "markdown",
   "id": "62731c04",
   "metadata": {},
   "source": [
    "<div class=\"alert alert-warning\">\n",
    "    <h3> Комментарий ревьюера ⚠️<a class=\"tocSkip\"> </h3>\n",
    " \n",
    "С выводом согласен. Но разницу лучше описать в процентных пунктах.\n",
    "</div>"
   ]
  },
  {
   "cell_type": "markdown",
   "id": "19b8327c",
   "metadata": {},
   "source": [
    "<div class=\"alert alert-block alert-info\">Исправленный вариант</div>"
   ]
  },
  {
   "cell_type": "markdown",
   "id": "dedc6ea1",
   "metadata": {},
   "source": [
    "<div class=\"alert alert-success\">\n",
    "<h3> Комментарий ревьюера v2 ✔️<a class=\"tocSkip\"> </h3>\n",
    "\n",
    " 👍\n",
    "</div>"
   ]
  },
  {
   "cell_type": "code",
   "execution_count": 27,
   "id": "1cc0c1d1",
   "metadata": {},
   "outputs": [
    {
     "data": {
      "text/markdown": [
       "**Статистические данные по количеству должников и общего количества заявок на кредит,        в зависимости от семейного положения:**"
      ],
      "text/plain": [
       "<IPython.core.display.Markdown object>"
      ]
     },
     "metadata": {},
     "output_type": "display_data"
    },
    {
     "data": {
      "text/html": [
       "<div>\n",
       "<style scoped>\n",
       "    .dataframe tbody tr th:only-of-type {\n",
       "        vertical-align: middle;\n",
       "    }\n",
       "\n",
       "    .dataframe tbody tr th {\n",
       "        vertical-align: top;\n",
       "    }\n",
       "\n",
       "    .dataframe thead th {\n",
       "        text-align: right;\n",
       "    }\n",
       "</style>\n",
       "<table border=\"1\" class=\"dataframe\">\n",
       "  <thead>\n",
       "    <tr style=\"text-align: right;\">\n",
       "      <th>family_status</th>\n",
       "      <th>Не женат / не замужем</th>\n",
       "      <th>в разводе</th>\n",
       "      <th>вдовец / вдова</th>\n",
       "      <th>гражданский брак</th>\n",
       "      <th>женат / замужем</th>\n",
       "    </tr>\n",
       "    <tr>\n",
       "      <th>debt</th>\n",
       "      <th></th>\n",
       "      <th></th>\n",
       "      <th></th>\n",
       "      <th></th>\n",
       "      <th></th>\n",
       "    </tr>\n",
       "  </thead>\n",
       "  <tbody>\n",
       "    <tr>\n",
       "      <th>debtors</th>\n",
       "      <td>273</td>\n",
       "      <td>84</td>\n",
       "      <td>63</td>\n",
       "      <td>385</td>\n",
       "      <td>927</td>\n",
       "    </tr>\n",
       "    <tr>\n",
       "      <th>loan_applications</th>\n",
       "      <td>2796</td>\n",
       "      <td>1189</td>\n",
       "      <td>951</td>\n",
       "      <td>4134</td>\n",
       "      <td>12261</td>\n",
       "    </tr>\n",
       "  </tbody>\n",
       "</table>\n",
       "</div>"
      ],
      "text/plain": [
       "family_status      Не женат / не замужем  в разводе  вдовец / вдова  \\\n",
       "debt                                                                  \n",
       "debtors                              273         84              63   \n",
       "loan_applications                   2796       1189             951   \n",
       "\n",
       "family_status      гражданский брак  женат / замужем  \n",
       "debt                                                  \n",
       "debtors                         385              927  \n",
       "loan_applications              4134            12261  "
      ]
     },
     "metadata": {},
     "output_type": "display_data"
    },
    {
     "data": {
      "text/markdown": [
       "* \"debtors\" - количество людей, просрочивших платеж"
      ],
      "text/plain": [
       "<IPython.core.display.Markdown object>"
      ]
     },
     "metadata": {},
     "output_type": "display_data"
    },
    {
     "data": {
      "text/markdown": [
       "* \"loan_applications\" - общее количество заявок на кредит в категории"
      ],
      "text/plain": [
       "<IPython.core.display.Markdown object>"
      ]
     },
     "metadata": {},
     "output_type": "display_data"
    },
    {
     "data": {
      "text/markdown": [
       "**Доля клиентов, допустивших просрочку выплаты, в зависимости от семейного положения:**"
      ],
      "text/plain": [
       "<IPython.core.display.Markdown object>"
      ]
     },
     "metadata": {},
     "output_type": "display_data"
    },
    {
     "data": {
      "text/html": [
       "<div>\n",
       "<style scoped>\n",
       "    .dataframe tbody tr th:only-of-type {\n",
       "        vertical-align: middle;\n",
       "    }\n",
       "\n",
       "    .dataframe tbody tr th {\n",
       "        vertical-align: top;\n",
       "    }\n",
       "\n",
       "    .dataframe thead th {\n",
       "        text-align: right;\n",
       "    }\n",
       "</style>\n",
       "<table border=\"1\" class=\"dataframe\">\n",
       "  <thead>\n",
       "    <tr style=\"text-align: right;\">\n",
       "      <th>family_status</th>\n",
       "      <th>Не женат / не замужем</th>\n",
       "      <th>в разводе</th>\n",
       "      <th>вдовец / вдова</th>\n",
       "      <th>гражданский брак</th>\n",
       "      <th>женат / замужем</th>\n",
       "    </tr>\n",
       "    <tr>\n",
       "      <th>debt</th>\n",
       "      <th></th>\n",
       "      <th></th>\n",
       "      <th></th>\n",
       "      <th></th>\n",
       "      <th></th>\n",
       "    </tr>\n",
       "  </thead>\n",
       "  <tbody>\n",
       "    <tr>\n",
       "      <th>part</th>\n",
       "      <td>9.76%</td>\n",
       "      <td>7.06%</td>\n",
       "      <td>6.62%</td>\n",
       "      <td>9.31%</td>\n",
       "      <td>7.56%</td>\n",
       "    </tr>\n",
       "    <tr>\n",
       "      <th>deviation_from_the_average</th>\n",
       "      <td>1.64%</td>\n",
       "      <td>-1.05%</td>\n",
       "      <td>-1.50%</td>\n",
       "      <td>1.19%</td>\n",
       "      <td>-0.56%</td>\n",
       "    </tr>\n",
       "  </tbody>\n",
       "</table>\n",
       "</div>"
      ],
      "text/plain": [
       "family_status              Не женат / не замужем в разводе вдовец / вдова  \\\n",
       "debt                                                                        \n",
       "part                                       9.76%     7.06%          6.62%   \n",
       "deviation_from_the_average                 1.64%    -1.05%         -1.50%   \n",
       "\n",
       "family_status              гражданский брак женат / замужем  \n",
       "debt                                                         \n",
       "part                                  9.31%           7.56%  \n",
       "deviation_from_the_average            1.19%          -0.56%  "
      ]
     },
     "metadata": {},
     "output_type": "display_data"
    },
    {
     "data": {
      "text/markdown": [
       "* \"part\" - доля людей, просрочивших платеж"
      ],
      "text/plain": [
       "<IPython.core.display.Markdown object>"
      ]
     },
     "metadata": {},
     "output_type": "display_data"
    },
    {
     "data": {
      "text/markdown": [
       "* \"deviation_from_the_average\" - отклонение категории от среднего по всей выборке"
      ],
      "text/plain": [
       "<IPython.core.display.Markdown object>"
      ]
     },
     "metadata": {},
     "output_type": "display_data"
    },
    {
     "data": {
      "text/markdown": [
       "**Графическое представление:**"
      ],
      "text/plain": [
       "<IPython.core.display.Markdown object>"
      ]
     },
     "metadata": {},
     "output_type": "display_data"
    },
    {
     "data": {
      "image/png": "[encoded data removed]",
      "text/plain": [
       "<Figure size 432x288 with 1 Axes>"
      ]
     },
     "metadata": {
      "needs_background": "light"
     },
     "output_type": "display_data"
    }
   ],
   "source": [
    "family_status = create_pivot_table_v2('family_status', 'семейного положения', 'семейное положение')"
   ]
  },
  {
   "cell_type": "markdown",
   "id": "8f5edeab",
   "metadata": {},
   "source": [
    "<div class=\"alert alert-block alert-info\">\n",
    "    \n",
    "**Вывод:** \n",
    "* Люди, не скреплявшие себя официальными отношениями, чаще не допускали просрочку выплаты (приблизительно на 1,5% чаще, по сравнению со средним значением).\n",
    "* Напротив, люди, утратившие официальные отношения, реже допускали просрочки выплат (приблизительно на один процент, по сравнению со средним значением).\n",
    "</div>"
   ]
  },
  {
   "cell_type": "markdown",
   "id": "ab27bef3",
   "metadata": {},
   "source": [
    "<div class=\"alert alert-success\">\n",
    "<h3> Комментарий ревьюера v2 ✔️<a class=\"tocSkip\"> </h3>\n",
    "\n",
    "Верно, если клиенты когда-либо состояли в официальном браке, то они более ответственны в выплате кредитов.\n",
    "</div>"
   ]
  },
  {
   "cell_type": "markdown",
   "id": "363d6e57",
   "metadata": {
    "deletable": false,
    "editable": false,
    "id": "1e8b2fca"
   },
   "source": [
    "#### 3.3 Есть ли зависимость между уровнем дохода и возвратом кредита в срок?"
   ]
  },
  {
   "cell_type": "markdown",
   "id": "bf0fcd4a",
   "metadata": {},
   "source": [
    "Категории клиентов, в зависимости от уровня дохода:\n",
    "- 0–30000 — `'E'`;\n",
    "- 30001–50000 — `'D'`;\n",
    "- 50001–200000 — `'C'`;\n",
    "- 200001–1000000 — `'B'`;\n",
    "- 1000001 и выше — `'A'`."
   ]
  },
  {
   "cell_type": "code",
   "execution_count": 28,
   "id": "fa329998",
   "metadata": {
    "deletable": false,
    "id": "cd7e3720"
   },
   "outputs": [
    {
     "data": {
      "text/markdown": [
       "**Статистические данные по количеству должников и общего количества заявок на кредит,        в зависимости от категории уровня дохода:**"
      ],
      "text/plain": [
       "<IPython.core.display.Markdown object>"
      ]
     },
     "metadata": {},
     "output_type": "display_data"
    },
    {
     "data": {
      "text/html": [
       "<div>\n",
       "<style scoped>\n",
       "    .dataframe tbody tr th:only-of-type {\n",
       "        vertical-align: middle;\n",
       "    }\n",
       "\n",
       "    .dataframe tbody tr th {\n",
       "        vertical-align: top;\n",
       "    }\n",
       "\n",
       "    .dataframe thead th {\n",
       "        text-align: right;\n",
       "    }\n",
       "</style>\n",
       "<table border=\"1\" class=\"dataframe\">\n",
       "  <thead>\n",
       "    <tr style=\"text-align: right;\">\n",
       "      <th>total_income_category</th>\n",
       "      <th>A</th>\n",
       "      <th>B</th>\n",
       "      <th>C</th>\n",
       "      <th>D</th>\n",
       "      <th>E</th>\n",
       "    </tr>\n",
       "    <tr>\n",
       "      <th>debt</th>\n",
       "      <th></th>\n",
       "      <th></th>\n",
       "      <th></th>\n",
       "      <th></th>\n",
       "      <th></th>\n",
       "    </tr>\n",
       "  </thead>\n",
       "  <tbody>\n",
       "    <tr>\n",
       "      <th>debtors</th>\n",
       "      <td>2</td>\n",
       "      <td>354</td>\n",
       "      <td>1353</td>\n",
       "      <td>21</td>\n",
       "      <td>2</td>\n",
       "    </tr>\n",
       "    <tr>\n",
       "      <th>loan_applications</th>\n",
       "      <td>25</td>\n",
       "      <td>5014</td>\n",
       "      <td>15921</td>\n",
       "      <td>349</td>\n",
       "      <td>22</td>\n",
       "    </tr>\n",
       "  </tbody>\n",
       "</table>\n",
       "</div>"
      ],
      "text/plain": [
       "total_income_category   A     B      C    D   E\n",
       "debt                                           \n",
       "debtors                 2   354   1353   21   2\n",
       "loan_applications      25  5014  15921  349  22"
      ]
     },
     "metadata": {},
     "output_type": "display_data"
    },
    {
     "data": {
      "text/markdown": [
       "* \"debtors\" - количество людей, просрочивших платеж"
      ],
      "text/plain": [
       "<IPython.core.display.Markdown object>"
      ]
     },
     "metadata": {},
     "output_type": "display_data"
    },
    {
     "data": {
      "text/markdown": [
       "* \"loan_applications\" - общее количество заявок на кредит в категории"
      ],
      "text/plain": [
       "<IPython.core.display.Markdown object>"
      ]
     },
     "metadata": {},
     "output_type": "display_data"
    },
    {
     "data": {
      "text/markdown": [
       "**Доля клиентов, допустивших просрочку выплаты, в зависимости от категории уровня дохода:**"
      ],
      "text/plain": [
       "<IPython.core.display.Markdown object>"
      ]
     },
     "metadata": {},
     "output_type": "display_data"
    },
    {
     "data": {
      "text/html": [
       "<div>\n",
       "<style scoped>\n",
       "    .dataframe tbody tr th:only-of-type {\n",
       "        vertical-align: middle;\n",
       "    }\n",
       "\n",
       "    .dataframe tbody tr th {\n",
       "        vertical-align: top;\n",
       "    }\n",
       "\n",
       "    .dataframe thead th {\n",
       "        text-align: right;\n",
       "    }\n",
       "</style>\n",
       "<table border=\"1\" class=\"dataframe\">\n",
       "  <thead>\n",
       "    <tr style=\"text-align: right;\">\n",
       "      <th>total_income_category</th>\n",
       "      <th>A</th>\n",
       "      <th>B</th>\n",
       "      <th>C</th>\n",
       "      <th>D</th>\n",
       "      <th>E</th>\n",
       "    </tr>\n",
       "    <tr>\n",
       "      <th>debt</th>\n",
       "      <th></th>\n",
       "      <th></th>\n",
       "      <th></th>\n",
       "      <th></th>\n",
       "      <th></th>\n",
       "    </tr>\n",
       "  </thead>\n",
       "  <tbody>\n",
       "    <tr>\n",
       "      <th>part</th>\n",
       "      <td>8.00%</td>\n",
       "      <td>7.06%</td>\n",
       "      <td>8.50%</td>\n",
       "      <td>6.02%</td>\n",
       "      <td>9.09%</td>\n",
       "    </tr>\n",
       "    <tr>\n",
       "      <th>delta_part</th>\n",
       "      <td>1.60%</td>\n",
       "      <td>0.00%</td>\n",
       "      <td>0.00%</td>\n",
       "      <td>0.03%</td>\n",
       "      <td>1.94%</td>\n",
       "    </tr>\n",
       "    <tr>\n",
       "      <th>deviation_from_the_overall_average</th>\n",
       "      <td>-1.47%</td>\n",
       "      <td>-13.05%</td>\n",
       "      <td>4.66%</td>\n",
       "      <td>-25.89%</td>\n",
       "      <td>11.96%</td>\n",
       "    </tr>\n",
       "  </tbody>\n",
       "</table>\n",
       "</div>"
      ],
      "text/plain": [
       "total_income_category                    A        B      C        D       E\n",
       "debt                                                                       \n",
       "part                                 8.00%    7.06%  8.50%    6.02%   9.09%\n",
       "delta_part                           1.60%    0.00%  0.00%    0.03%   1.94%\n",
       "deviation_from_the_overall_average  -1.47%  -13.05%  4.66%  -25.89%  11.96%"
      ]
     },
     "metadata": {},
     "output_type": "display_data"
    },
    {
     "data": {
      "text/markdown": [
       "* \"part\" - доля людей, просрочивших платеж"
      ],
      "text/plain": [
       "<IPython.core.display.Markdown object>"
      ]
     },
     "metadata": {},
     "output_type": "display_data"
    },
    {
     "data": {
      "text/markdown": [
       "* \"delta_part\" - статистическая ошибка"
      ],
      "text/plain": [
       "<IPython.core.display.Markdown object>"
      ]
     },
     "metadata": {},
     "output_type": "display_data"
    },
    {
     "data": {
      "text/markdown": [
       "* \"deviation_from_the_overall_average\" - относительное отклонение категории от доли людей, просрочивших        платеж, по всей выборке"
      ],
      "text/plain": [
       "<IPython.core.display.Markdown object>"
      ]
     },
     "metadata": {},
     "output_type": "display_data"
    },
    {
     "data": {
      "text/markdown": [
       "**Графическое представление:**"
      ],
      "text/plain": [
       "<IPython.core.display.Markdown object>"
      ]
     },
     "metadata": {},
     "output_type": "display_data"
    },
    {
     "data": {
      "image/png": "[encoded data removed]",
      "text/plain": [
       "<Figure size 432x288 with 1 Axes>"
      ]
     },
     "metadata": {
      "needs_background": "light"
     },
     "output_type": "display_data"
    }
   ],
   "source": [
    "# Ваш код будет здесь. Вы можете создавать новые ячейки.\n",
    "total_income_category = create_pivot_table('total_income_category', 'категории уровня дохода', 'категория уровеня дохода')"
   ]
  },
  {
   "cell_type": "markdown",
   "id": "d45d7685",
   "metadata": {
    "deletable": false,
    "id": "e8593def"
   },
   "source": [
    "**Вывод:** \n",
    "* Люди, с доходом от 30001 до 50000 у.е. реже других допускают просрочку платежей ( ~ на 26% меньше по сравнению с общим уровнем).\n",
    "* Для категорий 0-30000 и >1000000 у.е. выводы сделать нельзя, из-за большого влияния статиситической ошибки."
   ]
  },
  {
   "cell_type": "markdown",
   "id": "6426565e",
   "metadata": {},
   "source": [
    "<div class=\"alert alert-warning\">\n",
    "    <h3> Комментарий ревьюера ⚠️<a class=\"tocSkip\"> </h3>\n",
    " \n",
    "Согласен с выводом, но группы A и E скорее стоит исключить, потому что выборки крайне маленькие. Ошибка, которую ты указал, при увеличении количества клиентов в группе стремится к нулю, но никак не учитывает размеры соседних групп. Группу D можно также не учитывать, потому что количество клиентов не превышает 1.5 процента от всей выборки, а значит выводы не будут объективными.\n",
    "        \n",
    "Также стоило бы учитывать процентные пункты.\n",
    "</div>"
   ]
  },
  {
   "cell_type": "markdown",
   "id": "5199a294",
   "metadata": {},
   "source": [
    "<div class=\"alert alert-block alert-info\">\n",
    "    \n",
    ">Ошибка, которую ты указал, при увеличении количества клиентов в группе стремится к нулю, но никак не учитывает размеры соседних групп. Группу D можно также не учитывать, потому что количество клиентов не превышает 1.5 процента от всей выборки, а значит выводы не будут объективными.\n",
    "\n",
    "Да, вот тут у меня осталось недопонимание. Тот же вопрос, что и выше: когда группу можно/нужно исключать?\n",
    "\n",
    "Ниже исправленный вариант\n",
    "</div>"
   ]
  },
  {
   "cell_type": "markdown",
   "id": "1c885fb6",
   "metadata": {},
   "source": [
    "<div class=\"alert alert-success\">\n",
    "<h3> Комментарий ревьюера v2 ✔️<a class=\"tocSkip\"> </h3>\n",
    "\n",
    " Твой подход имеет место быть. Но, как писал выше, стоит отталкиваться от контекста. Врялд ли по группам А и Е мы можем судить о всех наших клиентах и переносить эти данные на будущее.\n",
    "</div>"
   ]
  },
  {
   "cell_type": "code",
   "execution_count": 29,
   "id": "ebef720d",
   "metadata": {},
   "outputs": [
    {
     "data": {
      "text/markdown": [
       "**Статистические данные по количеству должников и общего количества заявок на кредит,        в зависимости от категории уровня дохода:**"
      ],
      "text/plain": [
       "<IPython.core.display.Markdown object>"
      ]
     },
     "metadata": {},
     "output_type": "display_data"
    },
    {
     "data": {
      "text/html": [
       "<div>\n",
       "<style scoped>\n",
       "    .dataframe tbody tr th:only-of-type {\n",
       "        vertical-align: middle;\n",
       "    }\n",
       "\n",
       "    .dataframe tbody tr th {\n",
       "        vertical-align: top;\n",
       "    }\n",
       "\n",
       "    .dataframe thead th {\n",
       "        text-align: right;\n",
       "    }\n",
       "</style>\n",
       "<table border=\"1\" class=\"dataframe\">\n",
       "  <thead>\n",
       "    <tr style=\"text-align: right;\">\n",
       "      <th>total_income_category</th>\n",
       "      <th>B</th>\n",
       "      <th>C</th>\n",
       "      <th>D</th>\n",
       "    </tr>\n",
       "    <tr>\n",
       "      <th>debt</th>\n",
       "      <th></th>\n",
       "      <th></th>\n",
       "      <th></th>\n",
       "    </tr>\n",
       "  </thead>\n",
       "  <tbody>\n",
       "    <tr>\n",
       "      <th>debtors</th>\n",
       "      <td>354</td>\n",
       "      <td>1353</td>\n",
       "      <td>21</td>\n",
       "    </tr>\n",
       "    <tr>\n",
       "      <th>loan_applications</th>\n",
       "      <td>5014</td>\n",
       "      <td>15921</td>\n",
       "      <td>349</td>\n",
       "    </tr>\n",
       "  </tbody>\n",
       "</table>\n",
       "</div>"
      ],
      "text/plain": [
       "total_income_category     B      C    D\n",
       "debt                                   \n",
       "debtors                 354   1353   21\n",
       "loan_applications      5014  15921  349"
      ]
     },
     "metadata": {},
     "output_type": "display_data"
    },
    {
     "data": {
      "text/markdown": [
       "* \"debtors\" - количество людей, просрочивших платеж"
      ],
      "text/plain": [
       "<IPython.core.display.Markdown object>"
      ]
     },
     "metadata": {},
     "output_type": "display_data"
    },
    {
     "data": {
      "text/markdown": [
       "* \"loan_applications\" - общее количество заявок на кредит в категории"
      ],
      "text/plain": [
       "<IPython.core.display.Markdown object>"
      ]
     },
     "metadata": {},
     "output_type": "display_data"
    },
    {
     "data": {
      "text/markdown": [
       "**Доля клиентов, допустивших просрочку выплаты, в зависимости от категории уровня дохода:**"
      ],
      "text/plain": [
       "<IPython.core.display.Markdown object>"
      ]
     },
     "metadata": {},
     "output_type": "display_data"
    },
    {
     "data": {
      "text/html": [
       "<div>\n",
       "<style scoped>\n",
       "    .dataframe tbody tr th:only-of-type {\n",
       "        vertical-align: middle;\n",
       "    }\n",
       "\n",
       "    .dataframe tbody tr th {\n",
       "        vertical-align: top;\n",
       "    }\n",
       "\n",
       "    .dataframe thead th {\n",
       "        text-align: right;\n",
       "    }\n",
       "</style>\n",
       "<table border=\"1\" class=\"dataframe\">\n",
       "  <thead>\n",
       "    <tr style=\"text-align: right;\">\n",
       "      <th>total_income_category</th>\n",
       "      <th>B</th>\n",
       "      <th>C</th>\n",
       "      <th>D</th>\n",
       "    </tr>\n",
       "    <tr>\n",
       "      <th>debt</th>\n",
       "      <th></th>\n",
       "      <th></th>\n",
       "      <th></th>\n",
       "    </tr>\n",
       "  </thead>\n",
       "  <tbody>\n",
       "    <tr>\n",
       "      <th>part</th>\n",
       "      <td>7.06%</td>\n",
       "      <td>8.50%</td>\n",
       "      <td>6.02%</td>\n",
       "    </tr>\n",
       "    <tr>\n",
       "      <th>deviation_from_the_average</th>\n",
       "      <td>-1.06%</td>\n",
       "      <td>0.38%</td>\n",
       "      <td>-2.10%</td>\n",
       "    </tr>\n",
       "  </tbody>\n",
       "</table>\n",
       "</div>"
      ],
      "text/plain": [
       "total_income_category            B      C       D\n",
       "debt                                             \n",
       "part                         7.06%  8.50%   6.02%\n",
       "deviation_from_the_average  -1.06%  0.38%  -2.10%"
      ]
     },
     "metadata": {},
     "output_type": "display_data"
    },
    {
     "data": {
      "text/markdown": [
       "* \"part\" - доля людей, просрочивших платеж"
      ],
      "text/plain": [
       "<IPython.core.display.Markdown object>"
      ]
     },
     "metadata": {},
     "output_type": "display_data"
    },
    {
     "data": {
      "text/markdown": [
       "* \"deviation_from_the_average\" - отклонение категории от среднего по всей выборке"
      ],
      "text/plain": [
       "<IPython.core.display.Markdown object>"
      ]
     },
     "metadata": {},
     "output_type": "display_data"
    },
    {
     "data": {
      "text/markdown": [
       "**Графическое представление:**"
      ],
      "text/plain": [
       "<IPython.core.display.Markdown object>"
      ]
     },
     "metadata": {},
     "output_type": "display_data"
    },
    {
     "data": {
      "image/png": "[encoded data removed]",
      "text/plain": [
       "<Figure size 432x288 with 1 Axes>"
      ]
     },
     "metadata": {
      "needs_background": "light"
     },
     "output_type": "display_data"
    }
   ],
   "source": [
    "def create_pivot_table_v2_2(row, description_in_string, description_in_hystogram):\n",
    "\n",
    "# Надо было создавать функцию, с передачей датафрейма в качестве аргумента. Теперь приходится дополнительную\n",
    "# функцию создавать, для исключения нескольких категорий\n",
    "    data4 = data[data.total_income_category.apply(lambda x: x in ['B','C','D'])]\n",
    "    \n",
    "    pivot_table = data4.pivot_table(index=['debt'], columns=row, values='income_type', aggfunc='count')\\\n",
    "        .fillna(0).T.astype('int')\n",
    "    pivot_table = add_metric_v2(pivot_table)\n",
    "    display(Markdown('**Статистические данные по количеству должников и общего количества заявок на кредит,\\\n",
    "        в зависимости от ' + description_in_string + ':**'))\n",
    "    display(pivot_table.loc[:,['debtors','loan_applications']].T)\n",
    "    display(Markdown('* \"debtors\" - количество людей, просрочивших платеж'))\n",
    "    display(Markdown('* \"loan_applications\" - общее количество заявок на кредит в категории'))\n",
    "    display(Markdown('**Доля клиентов, допустивших просрочку выплаты, в зависимости от '+\\\n",
    "        description_in_string + ':**'))\n",
    "    display(pivot_table.loc[:,['part','deviation_from_the_average']].T.applymap('{:.2%}'.format))\n",
    "    display(Markdown('* \"part\" - доля людей, просрочивших платеж'))\n",
    "    display(Markdown('* \"deviation_from_the_average\" - отклонение категории от среднего по всей выборке'))    \n",
    "    display(Markdown('**Графическое представление:**'))\n",
    "    pivot_table.loc[:,['минимальная вероятность просрочки','статистическая неопределенность']].plot(\n",
    "        kind=\"bar\",\n",
    "        stacked= True,\n",
    "        xlabel=description_in_hystogram,\n",
    "        ylabel='минимальная вероятность просрочки, %')\n",
    "    plt.show()\n",
    "    return pivot_table\n",
    "\n",
    "total_income_category = create_pivot_table_v2_2('total_income_category', 'категории уровня дохода', 'категория уровеня дохода')\n"
   ]
  },
  {
   "cell_type": "markdown",
   "id": "80b5fd28",
   "metadata": {},
   "source": [
    "<div class=\"alert alert-block alert-info\">\n",
    "\n",
    "**Вывод:** \n",
    "* Люди, с доходом от 30001 до 50000 у.е. (группа D) чуть реже других допускают просрочку платежей ( ~  на 2% реже сравнению с общим уровнем).\n",
    "* Люди, с доходом от 200001 до 1000000 у.е. (группа B) также чуть реже других допускают просрочку платежей ( ~  на 1% реже сравнению с общим уровнем).\n",
    "</div>"
   ]
  },
  {
   "cell_type": "markdown",
   "id": "5ebf099d",
   "metadata": {},
   "source": [
    "<div class=\"alert alert-success\">\n",
    "<h3> Комментарий ревьюера v2 ✔️<a class=\"tocSkip\"> </h3>\n",
    "\n",
    " Всё верно.\n",
    "</div>"
   ]
  },
  {
   "cell_type": "markdown",
   "id": "7ee3702b",
   "metadata": {
    "deletable": false,
    "editable": false,
    "id": "99ecbd1f"
   },
   "source": [
    "#### 3.4 Как разные цели кредита влияют на его возврат в срок?"
   ]
  },
  {
   "cell_type": "code",
   "execution_count": 30,
   "id": "19a9179d",
   "metadata": {
    "deletable": false,
    "id": "2b687290"
   },
   "outputs": [
    {
     "data": {
      "text/markdown": [
       "**Статистические данные по количеству должников и общего количества заявок на кредит,        в зависимости от целей кредита:**"
      ],
      "text/plain": [
       "<IPython.core.display.Markdown object>"
      ]
     },
     "metadata": {},
     "output_type": "display_data"
    },
    {
     "data": {
      "text/html": [
       "<div>\n",
       "<style scoped>\n",
       "    .dataframe tbody tr th:only-of-type {\n",
       "        vertical-align: middle;\n",
       "    }\n",
       "\n",
       "    .dataframe tbody tr th {\n",
       "        vertical-align: top;\n",
       "    }\n",
       "\n",
       "    .dataframe thead th {\n",
       "        text-align: right;\n",
       "    }\n",
       "</style>\n",
       "<table border=\"1\" class=\"dataframe\">\n",
       "  <thead>\n",
       "    <tr style=\"text-align: right;\">\n",
       "      <th>purpose_category</th>\n",
       "      <th>операции с автомобилем</th>\n",
       "      <th>операции с недвижимостью</th>\n",
       "      <th>получение образования</th>\n",
       "      <th>проведение свадьбы</th>\n",
       "    </tr>\n",
       "    <tr>\n",
       "      <th>debt</th>\n",
       "      <th></th>\n",
       "      <th></th>\n",
       "      <th></th>\n",
       "      <th></th>\n",
       "    </tr>\n",
       "  </thead>\n",
       "  <tbody>\n",
       "    <tr>\n",
       "      <th>debtors</th>\n",
       "      <td>400</td>\n",
       "      <td>780</td>\n",
       "      <td>369</td>\n",
       "      <td>183</td>\n",
       "    </tr>\n",
       "    <tr>\n",
       "      <th>loan_applications</th>\n",
       "      <td>4279</td>\n",
       "      <td>10751</td>\n",
       "      <td>3988</td>\n",
       "      <td>2313</td>\n",
       "    </tr>\n",
       "  </tbody>\n",
       "</table>\n",
       "</div>"
      ],
      "text/plain": [
       "purpose_category   операции с автомобилем  операции с недвижимостью  \\\n",
       "debt                                                                  \n",
       "debtors                               400                       780   \n",
       "loan_applications                    4279                     10751   \n",
       "\n",
       "purpose_category   получение образования  проведение свадьбы  \n",
       "debt                                                          \n",
       "debtors                              369                 183  \n",
       "loan_applications                   3988                2313  "
      ]
     },
     "metadata": {},
     "output_type": "display_data"
    },
    {
     "data": {
      "text/markdown": [
       "* \"debtors\" - количество людей, просрочивших платеж"
      ],
      "text/plain": [
       "<IPython.core.display.Markdown object>"
      ]
     },
     "metadata": {},
     "output_type": "display_data"
    },
    {
     "data": {
      "text/markdown": [
       "* \"loan_applications\" - общее количество заявок на кредит в категории"
      ],
      "text/plain": [
       "<IPython.core.display.Markdown object>"
      ]
     },
     "metadata": {},
     "output_type": "display_data"
    },
    {
     "data": {
      "text/markdown": [
       "**Доля клиентов, допустивших просрочку выплаты, в зависимости от целей кредита:**"
      ],
      "text/plain": [
       "<IPython.core.display.Markdown object>"
      ]
     },
     "metadata": {},
     "output_type": "display_data"
    },
    {
     "data": {
      "text/html": [
       "<div>\n",
       "<style scoped>\n",
       "    .dataframe tbody tr th:only-of-type {\n",
       "        vertical-align: middle;\n",
       "    }\n",
       "\n",
       "    .dataframe tbody tr th {\n",
       "        vertical-align: top;\n",
       "    }\n",
       "\n",
       "    .dataframe thead th {\n",
       "        text-align: right;\n",
       "    }\n",
       "</style>\n",
       "<table border=\"1\" class=\"dataframe\">\n",
       "  <thead>\n",
       "    <tr style=\"text-align: right;\">\n",
       "      <th>purpose_category</th>\n",
       "      <th>операции с автомобилем</th>\n",
       "      <th>операции с недвижимостью</th>\n",
       "      <th>получение образования</th>\n",
       "      <th>проведение свадьбы</th>\n",
       "    </tr>\n",
       "    <tr>\n",
       "      <th>debt</th>\n",
       "      <th></th>\n",
       "      <th></th>\n",
       "      <th></th>\n",
       "      <th></th>\n",
       "    </tr>\n",
       "  </thead>\n",
       "  <tbody>\n",
       "    <tr>\n",
       "      <th>part</th>\n",
       "      <td>9.35%</td>\n",
       "      <td>7.26%</td>\n",
       "      <td>9.25%</td>\n",
       "      <td>7.91%</td>\n",
       "    </tr>\n",
       "    <tr>\n",
       "      <th>delta_part</th>\n",
       "      <td>0.00%</td>\n",
       "      <td>0.00%</td>\n",
       "      <td>0.00%</td>\n",
       "      <td>0.00%</td>\n",
       "    </tr>\n",
       "    <tr>\n",
       "      <th>deviation_from_the_overall_average</th>\n",
       "      <td>15.13%</td>\n",
       "      <td>-10.65%</td>\n",
       "      <td>13.96%</td>\n",
       "      <td>-2.56%</td>\n",
       "    </tr>\n",
       "  </tbody>\n",
       "</table>\n",
       "</div>"
      ],
      "text/plain": [
       "purpose_category                   операции с автомобилем  \\\n",
       "debt                                                        \n",
       "part                                                9.35%   \n",
       "delta_part                                          0.00%   \n",
       "deviation_from_the_overall_average                 15.13%   \n",
       "\n",
       "purpose_category                   операции с недвижимостью  \\\n",
       "debt                                                          \n",
       "part                                                  7.26%   \n",
       "delta_part                                            0.00%   \n",
       "deviation_from_the_overall_average                  -10.65%   \n",
       "\n",
       "purpose_category                   получение образования проведение свадьбы  \n",
       "debt                                                                         \n",
       "part                                               9.25%              7.91%  \n",
       "delta_part                                         0.00%              0.00%  \n",
       "deviation_from_the_overall_average                13.96%             -2.56%  "
      ]
     },
     "metadata": {},
     "output_type": "display_data"
    },
    {
     "data": {
      "text/markdown": [
       "* \"part\" - доля людей, просрочивших платеж"
      ],
      "text/plain": [
       "<IPython.core.display.Markdown object>"
      ]
     },
     "metadata": {},
     "output_type": "display_data"
    },
    {
     "data": {
      "text/markdown": [
       "* \"delta_part\" - статистическая ошибка"
      ],
      "text/plain": [
       "<IPython.core.display.Markdown object>"
      ]
     },
     "metadata": {},
     "output_type": "display_data"
    },
    {
     "data": {
      "text/markdown": [
       "* \"deviation_from_the_overall_average\" - относительное отклонение категории от доли людей, просрочивших        платеж, по всей выборке"
      ],
      "text/plain": [
       "<IPython.core.display.Markdown object>"
      ]
     },
     "metadata": {},
     "output_type": "display_data"
    },
    {
     "data": {
      "text/markdown": [
       "**Графическое представление:**"
      ],
      "text/plain": [
       "<IPython.core.display.Markdown object>"
      ]
     },
     "metadata": {},
     "output_type": "display_data"
    },
    {
     "data": {
      "image/png": "[encoded data removed]",
      "text/plain": [
       "<Figure size 432x288 with 1 Axes>"
      ]
     },
     "metadata": {
      "needs_background": "light"
     },
     "output_type": "display_data"
    }
   ],
   "source": [
    "# Ваш код будет здесь. Вы можете создавать новые ячейки.\n",
    "purpose_category = create_pivot_table('purpose_category', 'целей кредита', 'категория целей кредита')"
   ]
  },
  {
   "cell_type": "markdown",
   "id": "9769bc1c",
   "metadata": {
    "deletable": false,
    "id": "b4bb2ce6"
   },
   "source": [
    "**Вывод:** \n",
    "* Люди, берущие кредит на операции с автомобилем и на получения образования, чаще других допускают просрочку выплаты (~ на 15 процентов больше, по сравнению с общим уровнем).\n",
    "* Чаще всего вовремя выплачиваются выплаты по кредитам, связанных с операциями с недвижимостью (~ на 10% больше, по сравнению с общим уровнем)."
   ]
  },
  {
   "cell_type": "markdown",
   "id": "9e052471",
   "metadata": {},
   "source": [
    "<div class=\"alert alert-warning\">\n",
    "    <h3> Комментарий ревьюера ⚠️<a class=\"tocSkip\"> </h3>\n",
    " \n",
    "Данные описаны верно. Но стоит исправить разницу между группами на процентные пункты.\n",
    "</div>"
   ]
  },
  {
   "cell_type": "markdown",
   "id": "c0320c67",
   "metadata": {},
   "source": [
    "<div class=\"alert alert-block alert-info\">\n",
    "Ниже исправленный вариант\n",
    "</div>"
   ]
  },
  {
   "cell_type": "markdown",
   "id": "e21c65e8",
   "metadata": {},
   "source": [
    "<div class=\"alert alert-success\">\n",
    "<h3> Комментарий ревьюера v2 ✔️<a class=\"tocSkip\"> </h3>\n",
    "\n",
    " 👍\n",
    "</div>"
   ]
  },
  {
   "cell_type": "code",
   "execution_count": 31,
   "id": "f523c5dc",
   "metadata": {},
   "outputs": [
    {
     "data": {
      "text/markdown": [
       "**Статистические данные по количеству должников и общего количества заявок на кредит,        в зависимости от целей кредита:**"
      ],
      "text/plain": [
       "<IPython.core.display.Markdown object>"
      ]
     },
     "metadata": {},
     "output_type": "display_data"
    },
    {
     "data": {
      "text/html": [
       "<div>\n",
       "<style scoped>\n",
       "    .dataframe tbody tr th:only-of-type {\n",
       "        vertical-align: middle;\n",
       "    }\n",
       "\n",
       "    .dataframe tbody tr th {\n",
       "        vertical-align: top;\n",
       "    }\n",
       "\n",
       "    .dataframe thead th {\n",
       "        text-align: right;\n",
       "    }\n",
       "</style>\n",
       "<table border=\"1\" class=\"dataframe\">\n",
       "  <thead>\n",
       "    <tr style=\"text-align: right;\">\n",
       "      <th>purpose_category</th>\n",
       "      <th>операции с автомобилем</th>\n",
       "      <th>операции с недвижимостью</th>\n",
       "      <th>получение образования</th>\n",
       "      <th>проведение свадьбы</th>\n",
       "    </tr>\n",
       "    <tr>\n",
       "      <th>debt</th>\n",
       "      <th></th>\n",
       "      <th></th>\n",
       "      <th></th>\n",
       "      <th></th>\n",
       "    </tr>\n",
       "  </thead>\n",
       "  <tbody>\n",
       "    <tr>\n",
       "      <th>debtors</th>\n",
       "      <td>400</td>\n",
       "      <td>780</td>\n",
       "      <td>369</td>\n",
       "      <td>183</td>\n",
       "    </tr>\n",
       "    <tr>\n",
       "      <th>loan_applications</th>\n",
       "      <td>4279</td>\n",
       "      <td>10751</td>\n",
       "      <td>3988</td>\n",
       "      <td>2313</td>\n",
       "    </tr>\n",
       "  </tbody>\n",
       "</table>\n",
       "</div>"
      ],
      "text/plain": [
       "purpose_category   операции с автомобилем  операции с недвижимостью  \\\n",
       "debt                                                                  \n",
       "debtors                               400                       780   \n",
       "loan_applications                    4279                     10751   \n",
       "\n",
       "purpose_category   получение образования  проведение свадьбы  \n",
       "debt                                                          \n",
       "debtors                              369                 183  \n",
       "loan_applications                   3988                2313  "
      ]
     },
     "metadata": {},
     "output_type": "display_data"
    },
    {
     "data": {
      "text/markdown": [
       "* \"debtors\" - количество людей, просрочивших платеж"
      ],
      "text/plain": [
       "<IPython.core.display.Markdown object>"
      ]
     },
     "metadata": {},
     "output_type": "display_data"
    },
    {
     "data": {
      "text/markdown": [
       "* \"loan_applications\" - общее количество заявок на кредит в категории"
      ],
      "text/plain": [
       "<IPython.core.display.Markdown object>"
      ]
     },
     "metadata": {},
     "output_type": "display_data"
    },
    {
     "data": {
      "text/markdown": [
       "**Доля клиентов, допустивших просрочку выплаты, в зависимости от целей кредита:**"
      ],
      "text/plain": [
       "<IPython.core.display.Markdown object>"
      ]
     },
     "metadata": {},
     "output_type": "display_data"
    },
    {
     "data": {
      "text/html": [
       "<div>\n",
       "<style scoped>\n",
       "    .dataframe tbody tr th:only-of-type {\n",
       "        vertical-align: middle;\n",
       "    }\n",
       "\n",
       "    .dataframe tbody tr th {\n",
       "        vertical-align: top;\n",
       "    }\n",
       "\n",
       "    .dataframe thead th {\n",
       "        text-align: right;\n",
       "    }\n",
       "</style>\n",
       "<table border=\"1\" class=\"dataframe\">\n",
       "  <thead>\n",
       "    <tr style=\"text-align: right;\">\n",
       "      <th>purpose_category</th>\n",
       "      <th>операции с автомобилем</th>\n",
       "      <th>операции с недвижимостью</th>\n",
       "      <th>получение образования</th>\n",
       "      <th>проведение свадьбы</th>\n",
       "    </tr>\n",
       "    <tr>\n",
       "      <th>debt</th>\n",
       "      <th></th>\n",
       "      <th></th>\n",
       "      <th></th>\n",
       "      <th></th>\n",
       "    </tr>\n",
       "  </thead>\n",
       "  <tbody>\n",
       "    <tr>\n",
       "      <th>part</th>\n",
       "      <td>9.35%</td>\n",
       "      <td>7.26%</td>\n",
       "      <td>9.25%</td>\n",
       "      <td>7.91%</td>\n",
       "    </tr>\n",
       "    <tr>\n",
       "      <th>deviation_from_the_average</th>\n",
       "      <td>1.23%</td>\n",
       "      <td>-0.86%</td>\n",
       "      <td>1.13%</td>\n",
       "      <td>-0.21%</td>\n",
       "    </tr>\n",
       "  </tbody>\n",
       "</table>\n",
       "</div>"
      ],
      "text/plain": [
       "purpose_category           операции с автомобилем операции с недвижимостью  \\\n",
       "debt                                                                         \n",
       "part                                        9.35%                    7.26%   \n",
       "deviation_from_the_average                  1.23%                   -0.86%   \n",
       "\n",
       "purpose_category           получение образования проведение свадьбы  \n",
       "debt                                                                 \n",
       "part                                       9.25%              7.91%  \n",
       "deviation_from_the_average                 1.13%             -0.21%  "
      ]
     },
     "metadata": {},
     "output_type": "display_data"
    },
    {
     "data": {
      "text/markdown": [
       "* \"part\" - доля людей, просрочивших платеж"
      ],
      "text/plain": [
       "<IPython.core.display.Markdown object>"
      ]
     },
     "metadata": {},
     "output_type": "display_data"
    },
    {
     "data": {
      "text/markdown": [
       "* \"deviation_from_the_average\" - отклонение категории от среднего по всей выборке"
      ],
      "text/plain": [
       "<IPython.core.display.Markdown object>"
      ]
     },
     "metadata": {},
     "output_type": "display_data"
    },
    {
     "data": {
      "text/markdown": [
       "**Графическое представление:**"
      ],
      "text/plain": [
       "<IPython.core.display.Markdown object>"
      ]
     },
     "metadata": {},
     "output_type": "display_data"
    },
    {
     "data": {
      "image/png": "[encoded data removed]",
      "text/plain": [
       "<Figure size 432x288 with 1 Axes>"
      ]
     },
     "metadata": {
      "needs_background": "light"
     },
     "output_type": "display_data"
    }
   ],
   "source": [
    "purpose_category = create_pivot_table_v2('purpose_category', 'целей кредита', 'категория целей кредита')"
   ]
  },
  {
   "cell_type": "markdown",
   "id": "db3ca85e",
   "metadata": {},
   "source": [
    "<div class=\"alert alert-block alert-info\">\n",
    "\n",
    "**Вывод:** \n",
    "* Люди, берущие кредит на операции с автомобилем и на получения образования, чаще других допускают просрочку выплаты (~ на 1,2% больше, по сравнению с общим уровнем).\n",
    "* Чаще всего вовремя выплачиваются выплаты по кредитам, связанных с операциями с недвижимостью (~ на 0,9% больше, по сравнению с общим уровнем).\n",
    "</div>"
   ]
  },
  {
   "cell_type": "markdown",
   "id": "c400e6b8",
   "metadata": {},
   "source": [
    "<div class=\"alert alert-success\">\n",
    "<h3> Комментарий ревьюера v2 ✔️<a class=\"tocSkip\"> </h3>\n",
    "\n",
    " С выводом согласен.\n",
    "</div>"
   ]
  },
  {
   "cell_type": "markdown",
   "id": "68e0753c",
   "metadata": {
    "deletable": false,
    "editable": false,
    "id": "09c3ac4c"
   },
   "source": [
    "#### 3.5 Приведите возможные причины появления пропусков в исходных данных."
   ]
  },
  {
   "cell_type": "markdown",
   "id": "5daa748d",
   "metadata": {
    "deletable": false,
    "id": "9da2ceda"
   },
   "source": [
    "*Ответ:* Изначально в данных присутствовали пропуски в полях с доходом и трудовым стажем. Пропуски только в этих полях позволяют предположить, что это влияние человеческого фактора. Эти данные могли либо изначально не указывать, либо не смогли подтвердить. Доход сложно подтвердить, если человек получал черную зарплату. Также и стаж - работодатель мог официально не оформлять человека на работу. Плюс режим налогооблажения для самозанятых стал доступен позже, чем была снята статистика, поэтому люди, которые работали на себя, не могли это никак подтвердить."
   ]
  },
  {
   "cell_type": "markdown",
   "id": "aeb2e098",
   "metadata": {},
   "source": [
    "<div class=\"alert alert-warning\">\n",
    "    <h3> Комментарий ревьюера ⚠️<a class=\"tocSkip\"> </h3>\n",
    " \n",
    "Верный пример, намеренное или ненамеренное сокрытие информации - это человеческий фактор. А какую ещё причину пропусков ты можешь назвать?\n",
    "</div>"
   ]
  },
  {
   "cell_type": "markdown",
   "id": "7cb2d3de",
   "metadata": {},
   "source": [
    "<div class=\"alert alert-block alert-info\">\n",
    "Вообще это еще могут быть результаты технического сбоя, вмешательство службы безопасности (не знаю, относить ли это к человеческому фактору, или к системному). Также пропуски в данных могут появиться при объединении данных, полученных из разных источников (в каком-то из источников просто нет этих данных).\n",
    "</div>"
   ]
  },
  {
   "cell_type": "markdown",
   "id": "a51ab8a4",
   "metadata": {},
   "source": [
    "<div class=\"alert alert-success\">\n",
    "<h3> Комментарий ревьюера v2 ✔️<a class=\"tocSkip\"> </h3>\n",
    "\n",
    "Верно, техническая ошибка - второй источник пропусков.\n",
    "</div>"
   ]
  },
  {
   "cell_type": "markdown",
   "id": "05eebca0",
   "metadata": {
    "deletable": false,
    "editable": false,
    "id": "7b0487d6"
   },
   "source": [
    "#### 3.6 Объясните, почему заполнить пропуски медианным значением — лучшее решение для количественных переменных."
   ]
  },
  {
   "cell_type": "markdown",
   "id": "4f893b68",
   "metadata": {
    "deletable": false,
    "id": "7ecf2b8e"
   },
   "source": [
    "*Ответ:* При таком заполнении пропусков не должна сильно нарушаться уже имеющаяся статистика (выбор именно медианного значения в качестве заполнителя обусловлен тем, что \"обновленные\" данные не попадут однозначно ни в одну из категорий при делении выборки пополам, а соответственно не должны сильно исказить картину). В то же время новые данные могут содержать какую-то ценную информацию, из которой можно извлечь какие-либо закономерности."
   ]
  },
  {
   "cell_type": "markdown",
   "id": "fc3a9d3b",
   "metadata": {},
   "source": [
    "<div class=\"alert alert-block alert-danger\">\n",
    "<h3> Комментарий ревьюера ❌<a class=\"tocSkip\"></h3>\n",
    "\n",
    "Поясни, пожалуйста, поподробнее, в каких случаях выбор медианы предпочтительнее среднего. Какие характеристики выборки мотивируют нас выбрать именно медиану.\n",
    "</div>"
   ]
  },
  {
   "cell_type": "code",
   "execution_count": 32,
   "id": "66e5fbbe",
   "metadata": {},
   "outputs": [
    {
     "name": "stdout",
     "output_type": "stream",
     "text": [
      "                       count          min          max           mean  \\\n",
      "                total_income total_income total_income   total_income   \n",
      "income_type                                                             \n",
      "безработный                2        59956       202722  131339.000000   \n",
      "в декрете                  1        53829        53829   53829.000000   \n",
      "госслужащий             1451        29200       910451  168728.454859   \n",
      "компаньон               5047        28702      2265604  199608.615811   \n",
      "пенсионер               3812        20667       735103  135320.753673   \n",
      "предприниматель            2       499163       499163  499163.000000   \n",
      "сотрудник              11015        21367      1726276  159547.951975   \n",
      "студент                    1        98201        98201   98201.000000   \n",
      "\n",
      "                      median  \n",
      "                total_income  \n",
      "income_type                   \n",
      "безработный           131339  \n",
      "в декрете              53829  \n",
      "госслужащий           150447  \n",
      "компаньон             172357  \n",
      "пенсионер             118514  \n",
      "предприниматель       499163  \n",
      "сотрудник             142594  \n",
      "студент                98201  \n"
     ]
    }
   ],
   "source": [
    "# Статистика по категориям\n",
    "pivot_table = data.pivot_table(index=['income_type'], values=['total_income'],aggfunc=['count','min','max','mean','median'])\n",
    "print(pivot_table)"
   ]
  },
  {
   "cell_type": "markdown",
   "id": "8aa470fd",
   "metadata": {},
   "source": [
    "<div class=\"alert alert-block alert-info\">Посмотрим распределение по количеству людей по разным актуальным категориям столбца total_income</div>"
   ]
  },
  {
   "cell_type": "code",
   "execution_count": 33,
   "id": "e1815a0b",
   "metadata": {},
   "outputs": [
    {
     "data": {
      "image/png": "[encoded data removed]",
      "text/plain": [
       "<Figure size 360x1440 with 4 Axes>"
      ]
     },
     "metadata": {
      "needs_background": "light"
     },
     "output_type": "display_data"
    }
   ],
   "source": [
    "actual_category=list(pivot_table[pivot_table[('count','total_income')] > 2].index)\n",
    "data3=data[data['income_type'].apply(lambda x: x in actual_category)]\n",
    "# построим гистограммы для этих категорий\n",
    "sns.displot(data=data3, x='total_income', row='income_type', kde=False, color='red')\n",
    "plt.yscale('log')\n",
    "plt.show()"
   ]
  },
  {
   "cell_type": "markdown",
   "id": "6ae5d281",
   "metadata": {},
   "source": [
    "<div class=\"alert alert-block alert-info\">\n",
    "\n",
    "**По этому датафрейму:**\n",
    "На всех 4 гистограммах присутствуют люди, со значительно  большими доходами, чем у остальных. Наличие таких людей довольно существенно сдвигает средний доход в сторону увеличения. Иными словами, одно только добавление к категории миллиардера позволит довольно существенно поднять средний доход в категории, в то время как медианный доход, отражающая реальное полложение большинства, не изменится.\n",
    "\n",
    "Подобные выбросы не являются для этой задачи особо ценной информацией. Они бы были ценны, если бы нас интересовала площадь графика, а не центр тяжести (например, если бы это была гистограмма распределения количества определенного товара в магазинах от его цены, а у нас была бы задача выкупить их все и прогнозировать дальнейшие закупки).\n",
    "\n",
    "**По вопросу:**\n",
    "Выбор медианного медианы предпочтительней среднего, если нас интересует центр тяжести распределения. Если нам более интересна площадь - лучше воспорльзоваться средним значением.\n",
    "    \n",
    "*уточнение:* я правильно понимаю, что можно было бы использовать медианное значение не просто от \"типа занятости\", а от пары ключей: \"тип занятости\" и \"пол\". Хотя конкретно в этом исследовании такая замена не приведет к изменению выводов.\n",
    " </div>"
   ]
  },
  {
   "cell_type": "markdown",
   "id": "6756975d",
   "metadata": {},
   "source": [
    "<div class=\"alert alert-success\">\n",
    "<h3> Комментарий ревьюера v2 ✔️<a class=\"tocSkip\"> </h3>\n",
    "\n",
    " Хорошее объяснение. В этом задании нужно было показать, что медиану выбрали из-за сильно отличающихся значений или выбросов. Что ты и сделал.\n",
    "</div>"
   ]
  },
  {
   "cell_type": "markdown",
   "id": "f061fdef",
   "metadata": {
    "deletable": false,
    "editable": false,
    "id": "6db5255a"
   },
   "source": [
    "### Шаг 4: общий вывод."
   ]
  },
  {
   "cell_type": "markdown",
   "id": "621d8874",
   "metadata": {
    "deletable": false,
    "id": "bad65432"
   },
   "source": [
    "* В целом, при исследовании любого парамерта, доля людей, которые допускают просрочку выплат по кредиту, приблизительно одна и та же. Есть незначительные колебания, относительно среднего значения, но в любом случае, амплитуда отклонений не превышает 25% от амплитуды среднего значения. Т.е. **ни один из исследуемых параметров не является фактором - индикатором**.\n",
    "* Люди, имеющие 1, 2 или 4 детей в целом немного чаще допускают просрочки платежей, в то время как бездетные - немнго реже.\n",
    "* Люди, не оформившие официальные отношения чуть чаще допускают просрочки платежей, в то время как утратившие официальные отношения, наоборот, чуть реже.\n",
    "* Люди с доходом 30001–50000 у.е и 200001–1000000 реже других допускают просрочки.\n",
    "* Люди, берущие кредит на операции с автомобилем или получения образования, чаще допускают просрочки, чем люди, берущие кредит на недвижимость или на свадьбу."
   ]
  },
  {
   "cell_type": "markdown",
   "id": "8f54d9a9",
   "metadata": {},
   "source": [
    "<div class=\"alert alert-danger\">\n",
    "    <h3> Комментарий ревьюера ❌<a class=\"tocSkip\"> </h3>\n",
    "    \n",
    "Вывод описывает все шаги исследовательской части, но недостаточно подробно.\n",
    "\n",
    "Твой потенциальный руководитель, в первую очередь, обратит внимание на общий вывод. Поэтому важно отразить в нём все основные результаты из всех шагов проекта. Необходимо описать информацию о проведённой предобработке, в числах описать выявленные закономерности. Сделай это, пожалуйста, учитывая все репрезентативные группы клиентов и их процентные показатели. \n",
    " \n",
    "Опиши разницу между группами процентными пунктами, пожалуйста.\n",
    "</div>"
   ]
  },
  {
   "cell_type": "markdown",
   "id": "fc5bafee",
   "metadata": {},
   "source": [
    "<div class=\"alert alert-block alert-info\">\n",
    "\n",
    "### Общие выводы\n",
    "   * #### Была проведена предобработка данных\n",
    "       * Были удалены 2174 пропусков в столбце с совокупным доходом. Пропуски были заполненны медианными значениями по соответствующему типу занятости. Медианные значения были выбраны потому, что они исключают влияние выбросов, далеко отстоящих от основной массы. Аналогично были заполнены пропуски в столбце с общим трудовым стажем.\n",
    "       * Были обработаны аномальные значения в столбцах \"количество детей\" (удалены строки с отрицательным количеством детей, и когда количество детей равно 20) и \"общий трудовой стаж\" (отрицательные значения были исправлены на положительные). В то же время третий тип пола не был исправлен, т.к. в данном исследовании влияние пола не рассматривалось.\n",
    "       * Была удалена 71 дублирующаяся запись.\n",
    "       * Категоризация данных:\n",
    "        \n",
    "         клиенты были разбиты на категории по уровню дохода:\n",
    "        * 0–30000 — 'E';\n",
    "        * 30001–50000 — 'D';\n",
    "        * 50001–200000 — 'C';\n",
    "        * 200001–1000000 — 'B';\n",
    "        * 1000001 и выше — 'A'.\n",
    "        \n",
    "         Также цели кредита были разбиты по категориям:\n",
    "        * операции с автомобилем;\n",
    "        * операции с недвижимостью;\n",
    "        * проведение свадьбы;\n",
    "        * получение образования.\n",
    "\n",
    "\n",
    "   * #### Результаты исследовательской части:\n",
    "    \n",
    "       * Есть ли зависимость между количеством детей и возвратом кредита в срок?\n",
    "    \n",
    "         Явной зависимости между количеством просроченых кредитов и количеством детей не наблюдается. Доля заемщиков с определенным количеством детей, просрочивших платеж, отличается от средней не более чем на 1,3%. Тем ни менее, бездетные люди чуть чаще вовремя платят по кредитам (на 0,6 %).\n",
    "    \n",
    "       * Есть ли зависимость между семейным положением и возвратом кредита в срок?\n",
    "    \n",
    "         * Люди, не скреплявшие себя официальными отношениями, чаще не допускали просрочку выплаты (приблизительно на 1,5% чаще).\n",
    "         * Напротив, люди, утратившие официальные отношения, реже допускали просрочки выплат (приблизительно на 1%).\n",
    "       * Есть ли зависимость между уровнем дохода и возвратом кредита в срок?\n",
    "    \n",
    "         * Люди, с доходом от 30001 до 50000 чуть реже других допускают просрочку платежей ( ~ на 2% реже).\n",
    "         * Люди, с доходом от 200001 до 1000000 также чуть реже других допускают просрочку платежей ( ~ на 1% реже).\n",
    "       * Как разные цели кредита влияют на его возврат в срок?\n",
    "         * Люди, берущие кредит на операции с автомобилем и на получения образования, чаще других допускают просрочку выплаты (~ на 1,2% больше).\n",
    "         * Чаще всего вовремя выплачиваются выплаты по кредитам, связанных с операциями с недвижимостью (~ на 0,9% больше).\n",
    "   * #### Общие выводы:    \n",
    "    В целом, при исследовании любого парамерта, доля людей, которые допускают просрочку выплат по кредиту, приблизительно одна и та же. Есть незначительные колебания, относительно среднего значения, но в любом случае, амплитуда отклонений не превышает 2%. Т.е. **ни один из исследуемых параметров не является фактором - индикатором**.\n",
    "</div>"
   ]
  },
  {
   "cell_type": "markdown",
   "id": "93be0703",
   "metadata": {},
   "source": [
    "<div class=\"alert alert-block alert-info\">А есть возможность менять ширину рабочей области тетрадки? Используется только четверть от ширины экрана :(</div>"
   ]
  },
  {
   "cell_type": "markdown",
   "id": "5fa62090",
   "metadata": {},
   "source": [
    "<div class=\"alert alert-success\">\n",
    "<h3> Комментарий ревьюера v2 ✔️<a class=\"tocSkip\"> </h3>\n",
    "\n",
    "Теперь получился развёрнутый хороший вывод, учитывающий все показатели.\n",
    "    \n",
    " Можно наверное закрыть table of contents по одной из кнопок выше.\n",
    "</div>"
   ]
  }
 ],
 "metadata": {
  "ExecuteTimeLog": [
   {
    "duration": 60,
    "start_time": "2023-05-19T07:44:36.750Z"
   },
   {
    "duration": 1397,
    "start_time": "2023-05-19T07:45:31.151Z"
   },
   {
    "duration": 19,
    "start_time": "2023-05-19T07:45:32.550Z"
   },
   {
    "duration": 15,
    "start_time": "2023-05-19T07:45:32.570Z"
   },
   {
    "duration": 9,
    "start_time": "2023-05-19T07:45:32.587Z"
   },
   {
    "duration": 60,
    "start_time": "2023-05-19T07:45:32.598Z"
   },
   {
    "duration": 4,
    "start_time": "2023-05-19T07:45:32.659Z"
   },
   {
    "duration": 18,
    "start_time": "2023-05-19T07:45:32.665Z"
   },
   {
    "duration": 5,
    "start_time": "2023-05-19T07:45:32.685Z"
   },
   {
    "duration": 8,
    "start_time": "2023-05-19T07:45:32.691Z"
   },
   {
    "duration": 5,
    "start_time": "2023-05-19T07:45:32.700Z"
   },
   {
    "duration": 44,
    "start_time": "2023-05-19T07:45:32.706Z"
   },
   {
    "duration": 28,
    "start_time": "2023-05-19T07:45:32.751Z"
   },
   {
    "duration": 20,
    "start_time": "2023-05-19T07:45:32.781Z"
   },
   {
    "duration": 11,
    "start_time": "2023-05-19T07:45:32.804Z"
   },
   {
    "duration": 20,
    "start_time": "2023-05-19T07:45:32.817Z"
   },
   {
    "duration": 14,
    "start_time": "2023-05-19T07:45:32.839Z"
   },
   {
    "duration": 3,
    "start_time": "2023-05-19T07:45:32.855Z"
   },
   {
    "duration": 23,
    "start_time": "2023-05-19T07:45:32.859Z"
   },
   {
    "duration": 6,
    "start_time": "2023-05-19T07:45:32.883Z"
   },
   {
    "duration": 3,
    "start_time": "2023-05-19T07:45:32.890Z"
   },
   {
    "duration": 9,
    "start_time": "2023-05-19T07:45:32.895Z"
   },
   {
    "duration": 37,
    "start_time": "2023-05-19T07:45:32.905Z"
   },
   {
    "duration": 2,
    "start_time": "2023-05-19T07:45:32.944Z"
   },
   {
    "duration": 3,
    "start_time": "2023-05-19T07:45:32.974Z"
   },
   {
    "duration": 5,
    "start_time": "2023-05-19T07:45:32.978Z"
   },
   {
    "duration": 648,
    "start_time": "2023-05-19T07:50:51.602Z"
   },
   {
    "duration": 550,
    "start_time": "2023-05-19T07:51:52.682Z"
   },
   {
    "duration": 22,
    "start_time": "2023-05-19T07:52:36.884Z"
   },
   {
    "duration": 625,
    "start_time": "2023-05-19T07:52:54.985Z"
   },
   {
    "duration": 25,
    "start_time": "2023-05-19T07:56:06.858Z"
   },
   {
    "duration": 50,
    "start_time": "2023-05-19T07:56:40.941Z"
   },
   {
    "duration": 730,
    "start_time": "2023-05-19T08:06:39.920Z"
   },
   {
    "duration": 34,
    "start_time": "2023-05-19T08:07:25.701Z"
   },
   {
    "duration": 47,
    "start_time": "2023-05-19T08:09:51.346Z"
   },
   {
    "duration": 28,
    "start_time": "2023-05-19T08:11:31.579Z"
   },
   {
    "duration": 770,
    "start_time": "2023-05-19T08:11:56.023Z"
   },
   {
    "duration": 31,
    "start_time": "2023-05-19T08:12:08.540Z"
   },
   {
    "duration": 44,
    "start_time": "2023-05-19T08:12:34.097Z"
   },
   {
    "duration": 32,
    "start_time": "2023-05-19T08:12:57.971Z"
   },
   {
    "duration": 32,
    "start_time": "2023-05-19T08:41:29.150Z"
   },
   {
    "duration": 58,
    "start_time": "2023-05-19T08:41:43.270Z"
   },
   {
    "duration": 33,
    "start_time": "2023-05-19T08:42:14.220Z"
   },
   {
    "duration": 34,
    "start_time": "2023-05-19T08:43:30.136Z"
   },
   {
    "duration": 33,
    "start_time": "2023-05-19T08:45:15.449Z"
   },
   {
    "duration": 29,
    "start_time": "2023-05-19T09:00:16.998Z"
   },
   {
    "duration": 12,
    "start_time": "2023-05-19T09:00:20.972Z"
   },
   {
    "duration": 11,
    "start_time": "2023-05-19T09:03:13.667Z"
   },
   {
    "duration": 4,
    "start_time": "2023-05-19T09:04:00.161Z"
   },
   {
    "duration": 13,
    "start_time": "2023-05-19T09:04:09.726Z"
   },
   {
    "duration": 14,
    "start_time": "2023-05-19T09:04:44.024Z"
   },
   {
    "duration": 22,
    "start_time": "2023-05-19T09:06:08.896Z"
   },
   {
    "duration": 179,
    "start_time": "2023-05-19T09:06:26.869Z"
   },
   {
    "duration": 38,
    "start_time": "2023-05-19T09:11:16.022Z"
   },
   {
    "duration": 183,
    "start_time": "2023-05-19T09:11:18.902Z"
   },
   {
    "duration": 223,
    "start_time": "2023-05-19T09:11:30.266Z"
   },
   {
    "duration": 34,
    "start_time": "2023-05-19T09:29:14.428Z"
   },
   {
    "duration": 222,
    "start_time": "2023-05-19T09:29:17.905Z"
   },
   {
    "duration": 193,
    "start_time": "2023-05-19T09:32:49.919Z"
   },
   {
    "duration": 46,
    "start_time": "2023-05-19T10:08:58.264Z"
   },
   {
    "duration": 15,
    "start_time": "2023-05-19T10:09:02.408Z"
   },
   {
    "duration": 280,
    "start_time": "2023-05-19T10:09:05.350Z"
   },
   {
    "duration": 54,
    "start_time": "2023-05-19T10:13:06.295Z"
   },
   {
    "duration": 35,
    "start_time": "2023-05-19T10:14:41.643Z"
   },
   {
    "duration": 228,
    "start_time": "2023-05-19T10:21:01.187Z"
   },
   {
    "duration": 195,
    "start_time": "2023-05-19T10:21:32.318Z"
   },
   {
    "duration": 309,
    "start_time": "2023-05-19T10:22:00.398Z"
   },
   {
    "duration": 86,
    "start_time": "2023-05-19T10:24:00.001Z"
   },
   {
    "duration": 190,
    "start_time": "2023-05-19T10:28:26.748Z"
   },
   {
    "duration": 38,
    "start_time": "2023-05-19T10:29:02.164Z"
   },
   {
    "duration": 23,
    "start_time": "2023-05-19T10:29:12.231Z"
   },
   {
    "duration": 30,
    "start_time": "2023-05-19T10:29:21.417Z"
   },
   {
    "duration": 34,
    "start_time": "2023-05-19T10:29:39.559Z"
   },
   {
    "duration": 181,
    "start_time": "2023-05-19T10:30:23.046Z"
   },
   {
    "duration": 188,
    "start_time": "2023-05-19T10:30:34.368Z"
   },
   {
    "duration": 180,
    "start_time": "2023-05-19T10:30:51.487Z"
   },
   {
    "duration": 30,
    "start_time": "2023-05-19T10:32:36.101Z"
   },
   {
    "duration": 28,
    "start_time": "2023-05-19T10:33:32.725Z"
   },
   {
    "duration": 35,
    "start_time": "2023-05-19T10:34:42.837Z"
   },
   {
    "duration": 43,
    "start_time": "2023-05-19T10:34:56.924Z"
   },
   {
    "duration": 190,
    "start_time": "2023-05-19T10:35:13.456Z"
   },
   {
    "duration": 166,
    "start_time": "2023-05-19T10:36:32.795Z"
   },
   {
    "duration": 29,
    "start_time": "2023-05-19T10:42:32.135Z"
   },
   {
    "duration": 176,
    "start_time": "2023-05-19T10:42:35.214Z"
   },
   {
    "duration": 25,
    "start_time": "2023-05-19T10:57:07.348Z"
   },
   {
    "duration": 26,
    "start_time": "2023-05-19T10:57:16.544Z"
   },
   {
    "duration": 37,
    "start_time": "2023-05-19T10:58:23.931Z"
   },
   {
    "duration": 41,
    "start_time": "2023-05-19T11:03:08.307Z"
   },
   {
    "duration": 27,
    "start_time": "2023-05-19T11:05:45.340Z"
   },
   {
    "duration": 34,
    "start_time": "2023-05-19T11:07:18.803Z"
   },
   {
    "duration": 50,
    "start_time": "2023-05-19T11:07:25.772Z"
   },
   {
    "duration": 98,
    "start_time": "2023-05-19T11:22:45.445Z"
   },
   {
    "duration": 32,
    "start_time": "2023-05-19T11:23:33.722Z"
   },
   {
    "duration": 34,
    "start_time": "2023-05-19T11:23:57.155Z"
   },
   {
    "duration": 302,
    "start_time": "2023-05-19T11:24:24.946Z"
   },
   {
    "duration": 79,
    "start_time": "2023-05-19T11:25:24.591Z"
   },
   {
    "duration": 45,
    "start_time": "2023-05-19T11:26:27.028Z"
   },
   {
    "duration": 63,
    "start_time": "2023-05-19T11:27:13.618Z"
   },
   {
    "duration": 59,
    "start_time": "2023-05-19T11:28:24.714Z"
   },
   {
    "duration": 71,
    "start_time": "2023-05-19T11:28:44.422Z"
   },
   {
    "duration": 55,
    "start_time": "2023-05-19T11:29:16.314Z"
   },
   {
    "duration": 76,
    "start_time": "2023-05-19T11:29:35.806Z"
   },
   {
    "duration": 359,
    "start_time": "2023-05-19T11:30:12.898Z"
   },
   {
    "duration": 270,
    "start_time": "2023-05-19T11:31:30.524Z"
   },
   {
    "duration": 102,
    "start_time": "2023-05-19T11:42:04.763Z"
   },
   {
    "duration": 46,
    "start_time": "2023-05-19T11:42:23.566Z"
   },
   {
    "duration": 46,
    "start_time": "2023-05-19T11:43:51.863Z"
   },
   {
    "duration": 1282,
    "start_time": "2023-05-19T11:45:55.302Z"
   },
   {
    "duration": 26,
    "start_time": "2023-05-19T11:45:56.586Z"
   },
   {
    "duration": 16,
    "start_time": "2023-05-19T11:45:56.614Z"
   },
   {
    "duration": 9,
    "start_time": "2023-05-19T11:45:56.632Z"
   },
   {
    "duration": 81,
    "start_time": "2023-05-19T11:45:56.643Z"
   },
   {
    "duration": 3,
    "start_time": "2023-05-19T11:45:56.726Z"
   },
   {
    "duration": 9,
    "start_time": "2023-05-19T11:45:56.730Z"
   },
   {
    "duration": 4,
    "start_time": "2023-05-19T11:45:56.740Z"
   },
   {
    "duration": 6,
    "start_time": "2023-05-19T11:45:56.745Z"
   },
   {
    "duration": 5,
    "start_time": "2023-05-19T11:45:56.753Z"
   },
   {
    "duration": 68,
    "start_time": "2023-05-19T11:45:56.759Z"
   },
   {
    "duration": 9,
    "start_time": "2023-05-19T11:45:56.830Z"
   },
   {
    "duration": 4,
    "start_time": "2023-05-19T11:45:56.840Z"
   },
   {
    "duration": 22,
    "start_time": "2023-05-19T11:45:56.846Z"
   },
   {
    "duration": 46,
    "start_time": "2023-05-19T11:45:56.869Z"
   },
   {
    "duration": 14,
    "start_time": "2023-05-19T11:45:56.917Z"
   },
   {
    "duration": 3,
    "start_time": "2023-05-19T11:45:56.933Z"
   },
   {
    "duration": 16,
    "start_time": "2023-05-19T11:45:56.937Z"
   },
   {
    "duration": 6,
    "start_time": "2023-05-19T11:45:56.955Z"
   },
   {
    "duration": 7,
    "start_time": "2023-05-19T11:45:56.962Z"
   },
   {
    "duration": 32,
    "start_time": "2023-05-19T11:45:56.970Z"
   },
   {
    "duration": 44,
    "start_time": "2023-05-19T11:45:57.010Z"
   },
   {
    "duration": 118,
    "start_time": "2023-05-19T11:45:57.055Z"
   },
   {
    "duration": 0,
    "start_time": "2023-05-19T11:45:57.175Z"
   },
   {
    "duration": 0,
    "start_time": "2023-05-19T11:45:57.175Z"
   },
   {
    "duration": 0,
    "start_time": "2023-05-19T11:45:57.176Z"
   },
   {
    "duration": 0,
    "start_time": "2023-05-19T11:45:57.176Z"
   },
   {
    "duration": 0,
    "start_time": "2023-05-19T11:45:57.177Z"
   },
   {
    "duration": 0,
    "start_time": "2023-05-19T11:45:57.178Z"
   },
   {
    "duration": 0,
    "start_time": "2023-05-19T11:45:57.179Z"
   },
   {
    "duration": 242,
    "start_time": "2023-05-19T11:47:03.394Z"
   },
   {
    "duration": 292,
    "start_time": "2023-05-19T11:47:17.249Z"
   },
   {
    "duration": 360,
    "start_time": "2023-05-19T11:49:24.002Z"
   },
   {
    "duration": 355,
    "start_time": "2023-05-19T11:50:59.973Z"
   },
   {
    "duration": 268,
    "start_time": "2023-05-19T11:54:21.504Z"
   },
   {
    "duration": 286,
    "start_time": "2023-05-19T11:57:15.704Z"
   },
   {
    "duration": 299,
    "start_time": "2023-05-19T11:59:50.640Z"
   },
   {
    "duration": 381,
    "start_time": "2023-05-19T12:03:49.911Z"
   },
   {
    "duration": 5,
    "start_time": "2023-05-19T12:16:28.556Z"
   },
   {
    "duration": 5,
    "start_time": "2023-05-19T12:17:44.462Z"
   },
   {
    "duration": 7,
    "start_time": "2023-05-19T12:18:20.855Z"
   },
   {
    "duration": 4,
    "start_time": "2023-05-19T12:19:01.433Z"
   },
   {
    "duration": 13,
    "start_time": "2023-05-19T12:19:09.960Z"
   },
   {
    "duration": 15,
    "start_time": "2023-05-19T12:19:20.974Z"
   },
   {
    "duration": 5,
    "start_time": "2023-05-19T12:19:35.634Z"
   },
   {
    "duration": 12,
    "start_time": "2023-05-19T12:19:54.233Z"
   },
   {
    "duration": 9,
    "start_time": "2023-05-19T12:20:18.213Z"
   },
   {
    "duration": 8,
    "start_time": "2023-05-19T12:22:16.176Z"
   },
   {
    "duration": 7,
    "start_time": "2023-05-19T12:22:39.246Z"
   },
   {
    "duration": 6,
    "start_time": "2023-05-19T12:22:46.611Z"
   },
   {
    "duration": 8,
    "start_time": "2023-05-19T12:22:55.922Z"
   },
   {
    "duration": 9,
    "start_time": "2023-05-19T12:23:26.135Z"
   },
   {
    "duration": 7,
    "start_time": "2023-05-19T12:23:48.524Z"
   },
   {
    "duration": 7,
    "start_time": "2023-05-19T12:24:02.351Z"
   },
   {
    "duration": 6,
    "start_time": "2023-05-19T12:26:51.146Z"
   },
   {
    "duration": 6,
    "start_time": "2023-05-19T12:27:44.544Z"
   },
   {
    "duration": 274,
    "start_time": "2023-05-19T12:37:49.778Z"
   },
   {
    "duration": 1245,
    "start_time": "2023-05-19T12:38:22.999Z"
   },
   {
    "duration": 19,
    "start_time": "2023-05-19T12:38:24.247Z"
   },
   {
    "duration": 18,
    "start_time": "2023-05-19T12:38:24.268Z"
   },
   {
    "duration": 11,
    "start_time": "2023-05-19T12:38:24.288Z"
   },
   {
    "duration": 37,
    "start_time": "2023-05-19T12:38:24.301Z"
   },
   {
    "duration": 4,
    "start_time": "2023-05-19T12:38:24.340Z"
   },
   {
    "duration": 31,
    "start_time": "2023-05-19T12:38:24.345Z"
   },
   {
    "duration": 5,
    "start_time": "2023-05-19T12:38:24.378Z"
   },
   {
    "duration": 8,
    "start_time": "2023-05-19T12:38:24.384Z"
   },
   {
    "duration": 4,
    "start_time": "2023-05-19T12:38:24.397Z"
   },
   {
    "duration": 35,
    "start_time": "2023-05-19T12:38:24.403Z"
   },
   {
    "duration": 43,
    "start_time": "2023-05-19T12:38:24.440Z"
   },
   {
    "duration": 6,
    "start_time": "2023-05-19T12:38:24.485Z"
   },
   {
    "duration": 13,
    "start_time": "2023-05-19T12:38:24.492Z"
   },
   {
    "duration": 23,
    "start_time": "2023-05-19T12:38:24.506Z"
   },
   {
    "duration": 46,
    "start_time": "2023-05-19T12:38:24.531Z"
   },
   {
    "duration": 4,
    "start_time": "2023-05-19T12:38:24.579Z"
   },
   {
    "duration": 14,
    "start_time": "2023-05-19T12:38:24.584Z"
   },
   {
    "duration": 5,
    "start_time": "2023-05-19T12:38:24.600Z"
   },
   {
    "duration": 3,
    "start_time": "2023-05-19T12:38:24.607Z"
   },
   {
    "duration": 9,
    "start_time": "2023-05-19T12:38:24.611Z"
   },
   {
    "duration": 337,
    "start_time": "2023-05-19T12:38:24.621Z"
   },
   {
    "duration": 5,
    "start_time": "2023-05-19T12:38:24.960Z"
   },
   {
    "duration": 284,
    "start_time": "2023-05-19T12:38:24.967Z"
   },
   {
    "duration": 275,
    "start_time": "2023-05-19T12:38:25.253Z"
   },
   {
    "duration": 306,
    "start_time": "2023-05-19T12:38:25.530Z"
   },
   {
    "duration": 107,
    "start_time": "2023-05-19T12:38:25.838Z"
   },
   {
    "duration": 279,
    "start_time": "2023-05-19T12:39:33.458Z"
   },
   {
    "duration": 253,
    "start_time": "2023-05-19T12:46:41.032Z"
   },
   {
    "duration": 266,
    "start_time": "2023-05-19T12:47:05.160Z"
   },
   {
    "duration": 59,
    "start_time": "2023-05-19T12:50:34.902Z"
   },
   {
    "duration": 299,
    "start_time": "2023-05-19T12:50:46.979Z"
   },
   {
    "duration": 371,
    "start_time": "2023-05-19T12:54:58.919Z"
   },
   {
    "duration": 434,
    "start_time": "2023-05-19T12:55:47.797Z"
   },
   {
    "duration": 380,
    "start_time": "2023-05-19T12:55:53.981Z"
   },
   {
    "duration": 452,
    "start_time": "2023-05-19T12:57:04.098Z"
   },
   {
    "duration": 416,
    "start_time": "2023-05-19T12:57:38.574Z"
   },
   {
    "duration": 422,
    "start_time": "2023-05-19T12:58:04.805Z"
   },
   {
    "duration": 427,
    "start_time": "2023-05-19T12:58:31.811Z"
   },
   {
    "duration": 403,
    "start_time": "2023-05-19T12:58:41.030Z"
   },
   {
    "duration": 379,
    "start_time": "2023-05-19T12:58:58.550Z"
   },
   {
    "duration": 377,
    "start_time": "2023-05-19T12:59:28.519Z"
   },
   {
    "duration": 369,
    "start_time": "2023-05-19T12:59:41.121Z"
   },
   {
    "duration": 1171,
    "start_time": "2023-05-19T13:00:14.318Z"
   },
   {
    "duration": 21,
    "start_time": "2023-05-19T13:00:15.491Z"
   },
   {
    "duration": 16,
    "start_time": "2023-05-19T13:00:15.514Z"
   },
   {
    "duration": 17,
    "start_time": "2023-05-19T13:00:15.531Z"
   },
   {
    "duration": 46,
    "start_time": "2023-05-19T13:00:15.550Z"
   },
   {
    "duration": 4,
    "start_time": "2023-05-19T13:00:15.598Z"
   },
   {
    "duration": 12,
    "start_time": "2023-05-19T13:00:15.603Z"
   },
   {
    "duration": 5,
    "start_time": "2023-05-19T13:00:15.616Z"
   },
   {
    "duration": 7,
    "start_time": "2023-05-19T13:00:15.623Z"
   },
   {
    "duration": 4,
    "start_time": "2023-05-19T13:00:15.633Z"
   },
   {
    "duration": 34,
    "start_time": "2023-05-19T13:00:15.675Z"
   },
   {
    "duration": 9,
    "start_time": "2023-05-19T13:00:15.711Z"
   },
   {
    "duration": 3,
    "start_time": "2023-05-19T13:00:15.722Z"
   },
   {
    "duration": 12,
    "start_time": "2023-05-19T13:00:15.726Z"
   },
   {
    "duration": 50,
    "start_time": "2023-05-19T13:00:15.739Z"
   },
   {
    "duration": 17,
    "start_time": "2023-05-19T13:00:15.790Z"
   },
   {
    "duration": 5,
    "start_time": "2023-05-19T13:00:15.808Z"
   },
   {
    "duration": 11,
    "start_time": "2023-05-19T13:00:15.814Z"
   },
   {
    "duration": 10,
    "start_time": "2023-05-19T13:00:15.826Z"
   },
   {
    "duration": 3,
    "start_time": "2023-05-19T13:00:15.838Z"
   },
   {
    "duration": 33,
    "start_time": "2023-05-19T13:00:15.842Z"
   },
   {
    "duration": 417,
    "start_time": "2023-05-19T13:00:15.876Z"
   },
   {
    "duration": 6,
    "start_time": "2023-05-19T13:00:16.295Z"
   },
   {
    "duration": 380,
    "start_time": "2023-05-19T13:00:16.303Z"
   },
   {
    "duration": 370,
    "start_time": "2023-05-19T13:00:16.685Z"
   },
   {
    "duration": 366,
    "start_time": "2023-05-19T13:00:17.057Z"
   },
   {
    "duration": 101,
    "start_time": "2023-05-19T13:00:17.425Z"
   },
   {
    "duration": 508,
    "start_time": "2023-05-19T13:09:07.971Z"
   },
   {
    "duration": 565,
    "start_time": "2023-05-19T13:15:59.821Z"
   },
   {
    "duration": 628,
    "start_time": "2023-05-19T13:16:57.835Z"
   },
   {
    "duration": 370,
    "start_time": "2023-05-19T13:27:01.975Z"
   },
   {
    "duration": 1342,
    "start_time": "2023-05-19T15:09:33.694Z"
   },
   {
    "duration": 19,
    "start_time": "2023-05-19T15:09:35.039Z"
   },
   {
    "duration": 18,
    "start_time": "2023-05-19T15:09:35.059Z"
   },
   {
    "duration": 16,
    "start_time": "2023-05-19T15:09:35.080Z"
   },
   {
    "duration": 34,
    "start_time": "2023-05-19T15:09:35.098Z"
   },
   {
    "duration": 3,
    "start_time": "2023-05-19T15:09:35.134Z"
   },
   {
    "duration": 10,
    "start_time": "2023-05-19T15:09:35.139Z"
   },
   {
    "duration": 37,
    "start_time": "2023-05-19T15:09:35.151Z"
   },
   {
    "duration": 8,
    "start_time": "2023-05-19T15:09:35.190Z"
   },
   {
    "duration": 5,
    "start_time": "2023-05-19T15:09:35.201Z"
   },
   {
    "duration": 35,
    "start_time": "2023-05-19T15:09:35.207Z"
   },
   {
    "duration": 33,
    "start_time": "2023-05-19T15:09:35.244Z"
   },
   {
    "duration": 5,
    "start_time": "2023-05-19T15:09:35.280Z"
   },
   {
    "duration": 23,
    "start_time": "2023-05-19T15:09:35.287Z"
   },
   {
    "duration": 19,
    "start_time": "2023-05-19T15:09:35.312Z"
   },
   {
    "duration": 17,
    "start_time": "2023-05-19T15:09:35.333Z"
   },
   {
    "duration": 23,
    "start_time": "2023-05-19T15:09:35.352Z"
   },
   {
    "duration": 18,
    "start_time": "2023-05-19T15:09:35.377Z"
   },
   {
    "duration": 7,
    "start_time": "2023-05-19T15:09:35.396Z"
   },
   {
    "duration": 3,
    "start_time": "2023-05-19T15:09:35.404Z"
   },
   {
    "duration": 9,
    "start_time": "2023-05-19T15:09:35.409Z"
   },
   {
    "duration": 538,
    "start_time": "2023-05-19T15:09:35.419Z"
   },
   {
    "duration": 472,
    "start_time": "2023-05-19T15:09:35.958Z"
   },
   {
    "duration": 397,
    "start_time": "2023-05-19T15:09:36.432Z"
   },
   {
    "duration": 408,
    "start_time": "2023-05-19T15:09:36.830Z"
   },
   {
    "duration": 1876,
    "start_time": "2023-05-19T17:44:31.920Z"
   },
   {
    "duration": 17,
    "start_time": "2023-05-19T17:44:33.799Z"
   },
   {
    "duration": 12,
    "start_time": "2023-05-19T17:44:33.817Z"
   },
   {
    "duration": 11,
    "start_time": "2023-05-19T17:44:33.830Z"
   },
   {
    "duration": 29,
    "start_time": "2023-05-19T17:44:33.842Z"
   },
   {
    "duration": 3,
    "start_time": "2023-05-19T17:44:33.873Z"
   },
   {
    "duration": 14,
    "start_time": "2023-05-19T17:44:33.877Z"
   },
   {
    "duration": 11,
    "start_time": "2023-05-19T17:44:33.892Z"
   },
   {
    "duration": 10,
    "start_time": "2023-05-19T17:44:33.904Z"
   },
   {
    "duration": 4,
    "start_time": "2023-05-19T17:44:33.916Z"
   },
   {
    "duration": 29,
    "start_time": "2023-05-19T17:44:33.921Z"
   },
   {
    "duration": 8,
    "start_time": "2023-05-19T17:44:33.952Z"
   },
   {
    "duration": 5,
    "start_time": "2023-05-19T17:44:33.961Z"
   },
   {
    "duration": 18,
    "start_time": "2023-05-19T17:44:33.984Z"
   },
   {
    "duration": 28,
    "start_time": "2023-05-19T17:44:34.004Z"
   },
   {
    "duration": 20,
    "start_time": "2023-05-19T17:44:34.034Z"
   },
   {
    "duration": 3,
    "start_time": "2023-05-19T17:44:34.056Z"
   },
   {
    "duration": 14,
    "start_time": "2023-05-19T17:44:34.061Z"
   },
   {
    "duration": 12,
    "start_time": "2023-05-19T17:44:34.076Z"
   },
   {
    "duration": 13,
    "start_time": "2023-05-19T17:44:34.089Z"
   },
   {
    "duration": 14,
    "start_time": "2023-05-19T17:44:34.103Z"
   },
   {
    "duration": 493,
    "start_time": "2023-05-19T17:44:34.119Z"
   },
   {
    "duration": 491,
    "start_time": "2023-05-19T17:44:34.613Z"
   },
   {
    "duration": 455,
    "start_time": "2023-05-19T17:44:35.105Z"
   },
   {
    "duration": 463,
    "start_time": "2023-05-19T17:44:35.561Z"
   },
   {
    "duration": 78,
    "start_time": "2023-05-19T18:49:28.914Z"
   },
   {
    "duration": 64,
    "start_time": "2023-05-19T19:40:52.109Z"
   },
   {
    "duration": 1802,
    "start_time": "2023-05-19T20:05:02.025Z"
   },
   {
    "duration": 409,
    "start_time": "2023-05-19T20:05:03.830Z"
   },
   {
    "duration": 25,
    "start_time": "2023-05-19T20:05:04.242Z"
   },
   {
    "duration": 191,
    "start_time": "2023-05-19T20:05:04.271Z"
   },
   {
    "duration": 47,
    "start_time": "2023-05-19T20:05:04.465Z"
   },
   {
    "duration": 43,
    "start_time": "2023-05-19T20:05:04.514Z"
   },
   {
    "duration": 7,
    "start_time": "2023-05-19T20:05:04.560Z"
   },
   {
    "duration": 58,
    "start_time": "2023-05-19T20:05:04.570Z"
   },
   {
    "duration": 9,
    "start_time": "2023-05-19T20:05:04.630Z"
   },
   {
    "duration": 11,
    "start_time": "2023-05-19T20:05:04.641Z"
   },
   {
    "duration": 9,
    "start_time": "2023-05-19T20:05:04.654Z"
   },
   {
    "duration": 87,
    "start_time": "2023-05-19T20:05:04.665Z"
   },
   {
    "duration": 11,
    "start_time": "2023-05-19T20:05:04.754Z"
   },
   {
    "duration": 46,
    "start_time": "2023-05-19T20:05:04.766Z"
   },
   {
    "duration": 22,
    "start_time": "2023-05-19T20:05:04.813Z"
   },
   {
    "duration": 100,
    "start_time": "2023-05-19T20:05:04.837Z"
   },
   {
    "duration": 21,
    "start_time": "2023-05-19T20:05:04.939Z"
   },
   {
    "duration": 5,
    "start_time": "2023-05-19T20:05:04.963Z"
   },
   {
    "duration": 59,
    "start_time": "2023-05-19T20:05:04.970Z"
   },
   {
    "duration": 35,
    "start_time": "2023-05-19T20:05:05.031Z"
   },
   {
    "duration": 20,
    "start_time": "2023-05-19T20:05:05.070Z"
   },
   {
    "duration": 53,
    "start_time": "2023-05-19T20:05:05.092Z"
   },
   {
    "duration": 829,
    "start_time": "2023-05-19T20:05:05.147Z"
   },
   {
    "duration": 1069,
    "start_time": "2023-05-19T20:05:05.978Z"
   },
   {
    "duration": 847,
    "start_time": "2023-05-19T20:05:07.050Z"
   },
   {
    "duration": 825,
    "start_time": "2023-05-19T20:05:07.905Z"
   },
   {
    "duration": 561,
    "start_time": "2023-05-20T06:34:27.814Z"
   },
   {
    "duration": 16,
    "start_time": "2023-05-20T06:39:42.496Z"
   },
   {
    "duration": 3388,
    "start_time": "2023-05-20T17:49:32.486Z"
   },
   {
    "duration": 4876,
    "start_time": "2023-05-20T17:50:05.852Z"
   },
   {
    "duration": 51,
    "start_time": "2023-05-20T18:30:07.904Z"
   },
   {
    "duration": 4955,
    "start_time": "2023-05-20T18:30:23.873Z"
   },
   {
    "duration": 5128,
    "start_time": "2023-05-20T18:30:28.988Z"
   },
   {
    "duration": 380,
    "start_time": "2023-05-20T18:39:43.262Z"
   },
   {
    "duration": 443,
    "start_time": "2023-05-20T18:41:54.465Z"
   },
   {
    "duration": 229,
    "start_time": "2023-05-20T18:42:04.689Z"
   },
   {
    "duration": 3197,
    "start_time": "2023-05-20T18:42:40.465Z"
   },
   {
    "duration": 330,
    "start_time": "2023-05-20T18:42:43.664Z"
   },
   {
    "duration": 25,
    "start_time": "2023-05-20T18:42:43.996Z"
   },
   {
    "duration": 16,
    "start_time": "2023-05-20T18:42:44.023Z"
   },
   {
    "duration": 9,
    "start_time": "2023-05-20T18:42:44.041Z"
   },
   {
    "duration": 49,
    "start_time": "2023-05-20T18:42:44.052Z"
   },
   {
    "duration": 4,
    "start_time": "2023-05-20T18:42:44.103Z"
   },
   {
    "duration": 17,
    "start_time": "2023-05-20T18:42:44.109Z"
   },
   {
    "duration": 6,
    "start_time": "2023-05-20T18:42:44.128Z"
   },
   {
    "duration": 42,
    "start_time": "2023-05-20T18:42:44.137Z"
   },
   {
    "duration": 6,
    "start_time": "2023-05-20T18:42:44.187Z"
   },
   {
    "duration": 42,
    "start_time": "2023-05-20T18:42:44.195Z"
   },
   {
    "duration": 12,
    "start_time": "2023-05-20T18:42:44.239Z"
   },
   {
    "duration": 8,
    "start_time": "2023-05-20T18:42:44.252Z"
   },
   {
    "duration": 27,
    "start_time": "2023-05-20T18:42:44.262Z"
   },
   {
    "duration": 39,
    "start_time": "2023-05-20T18:42:44.291Z"
   },
   {
    "duration": 24,
    "start_time": "2023-05-20T18:42:44.333Z"
   },
   {
    "duration": 8,
    "start_time": "2023-05-20T18:42:44.373Z"
   },
   {
    "duration": 27,
    "start_time": "2023-05-20T18:42:44.383Z"
   },
   {
    "duration": 16,
    "start_time": "2023-05-20T18:42:44.413Z"
   },
   {
    "duration": 25,
    "start_time": "2023-05-20T18:42:44.431Z"
   },
   {
    "duration": 15,
    "start_time": "2023-05-20T18:42:44.458Z"
   },
   {
    "duration": 670,
    "start_time": "2023-05-20T18:42:44.480Z"
   },
   {
    "duration": 339,
    "start_time": "2023-05-20T18:42:45.153Z"
   },
   {
    "duration": 0,
    "start_time": "2023-05-20T18:42:45.493Z"
   },
   {
    "duration": 0,
    "start_time": "2023-05-20T18:42:45.495Z"
   },
   {
    "duration": 0,
    "start_time": "2023-05-20T18:42:45.496Z"
   },
   {
    "duration": 0,
    "start_time": "2023-05-20T18:42:45.497Z"
   },
   {
    "duration": 0,
    "start_time": "2023-05-20T18:42:45.499Z"
   },
   {
    "duration": 0,
    "start_time": "2023-05-20T18:42:45.500Z"
   },
   {
    "duration": 561,
    "start_time": "2023-05-20T18:49:06.453Z"
   },
   {
    "duration": 24,
    "start_time": "2023-05-20T18:50:33.268Z"
   },
   {
    "duration": 747,
    "start_time": "2023-05-20T19:04:06.357Z"
   },
   {
    "duration": 261,
    "start_time": "2023-05-21T04:32:25.399Z"
   },
   {
    "duration": 501,
    "start_time": "2023-05-21T04:32:55.586Z"
   },
   {
    "duration": 494,
    "start_time": "2023-05-21T04:44:23.899Z"
   },
   {
    "duration": 503,
    "start_time": "2023-05-21T05:09:00.315Z"
   },
   {
    "duration": 502,
    "start_time": "2023-05-21T05:10:15.818Z"
   },
   {
    "duration": 483,
    "start_time": "2023-05-21T05:48:20.297Z"
   },
   {
    "duration": 527,
    "start_time": "2023-05-21T05:53:18.249Z"
   },
   {
    "duration": 592,
    "start_time": "2023-05-21T06:09:56.450Z"
   },
   {
    "duration": 682,
    "start_time": "2023-05-21T06:12:26.519Z"
   },
   {
    "duration": 95,
    "start_time": "2023-05-21T06:16:30.653Z"
   },
   {
    "duration": 562,
    "start_time": "2023-05-21T06:17:28.243Z"
   },
   {
    "duration": 473,
    "start_time": "2023-05-21T06:27:08.863Z"
   },
   {
    "duration": 535,
    "start_time": "2023-05-21T06:27:25.510Z"
   },
   {
    "duration": 531,
    "start_time": "2023-05-21T06:27:41.557Z"
   },
   {
    "duration": 75,
    "start_time": "2023-05-21T06:31:08.204Z"
   },
   {
    "duration": 1437,
    "start_time": "2023-05-21T08:49:00.626Z"
   },
   {
    "duration": 320,
    "start_time": "2023-05-21T08:49:02.065Z"
   },
   {
    "duration": 24,
    "start_time": "2023-05-21T08:49:02.387Z"
   },
   {
    "duration": 44,
    "start_time": "2023-05-21T08:49:02.413Z"
   },
   {
    "duration": 38,
    "start_time": "2023-05-21T08:49:02.459Z"
   },
   {
    "duration": 52,
    "start_time": "2023-05-21T08:49:02.499Z"
   },
   {
    "duration": 16,
    "start_time": "2023-05-21T08:49:02.553Z"
   },
   {
    "duration": 40,
    "start_time": "2023-05-21T08:49:02.571Z"
   },
   {
    "duration": 29,
    "start_time": "2023-05-21T08:49:02.613Z"
   },
   {
    "duration": 17,
    "start_time": "2023-05-21T08:49:02.645Z"
   },
   {
    "duration": 10,
    "start_time": "2023-05-21T08:49:02.664Z"
   },
   {
    "duration": 59,
    "start_time": "2023-05-21T08:49:02.676Z"
   },
   {
    "duration": 21,
    "start_time": "2023-05-21T08:49:02.737Z"
   },
   {
    "duration": 35,
    "start_time": "2023-05-21T08:49:02.760Z"
   },
   {
    "duration": 21,
    "start_time": "2023-05-21T08:49:02.797Z"
   },
   {
    "duration": 32,
    "start_time": "2023-05-21T08:49:02.820Z"
   },
   {
    "duration": 19,
    "start_time": "2023-05-21T08:49:02.854Z"
   },
   {
    "duration": 11,
    "start_time": "2023-05-21T08:49:02.876Z"
   },
   {
    "duration": 26,
    "start_time": "2023-05-21T08:49:02.889Z"
   },
   {
    "duration": 18,
    "start_time": "2023-05-21T08:49:02.917Z"
   },
   {
    "duration": 4,
    "start_time": "2023-05-21T08:49:02.937Z"
   },
   {
    "duration": 17,
    "start_time": "2023-05-21T08:49:02.943Z"
   },
   {
    "duration": 517,
    "start_time": "2023-05-21T08:49:02.963Z"
   },
   {
    "duration": 495,
    "start_time": "2023-05-21T08:49:03.483Z"
   },
   {
    "duration": 17,
    "start_time": "2023-05-21T08:49:03.980Z"
   },
   {
    "duration": 566,
    "start_time": "2023-05-21T08:49:03.999Z"
   },
   {
    "duration": 484,
    "start_time": "2023-05-21T08:49:04.567Z"
   },
   {
    "duration": 522,
    "start_time": "2023-05-21T08:49:05.056Z"
   },
   {
    "duration": 545,
    "start_time": "2023-05-21T08:49:05.580Z"
   },
   {
    "duration": 575,
    "start_time": "2023-05-21T08:49:06.129Z"
   },
   {
    "duration": 526,
    "start_time": "2023-05-21T08:49:06.707Z"
   },
   {
    "duration": 58,
    "start_time": "2023-05-21T08:49:07.235Z"
   },
   {
    "duration": 4331,
    "start_time": "2023-05-21T08:49:07.295Z"
   },
   {
    "duration": 4400,
    "start_time": "2023-05-21T08:50:10.926Z"
   },
   {
    "duration": 4486,
    "start_time": "2023-05-21T08:50:26.083Z"
   },
   {
    "duration": 121,
    "start_time": "2023-05-22T08:24:56.254Z"
   },
   {
    "duration": 1603,
    "start_time": "2023-05-22T08:29:21.117Z"
   },
   {
    "duration": 131,
    "start_time": "2023-05-22T08:29:22.722Z"
   },
   {
    "duration": 18,
    "start_time": "2023-05-22T08:29:22.855Z"
   },
   {
    "duration": 13,
    "start_time": "2023-05-22T08:29:22.874Z"
   },
   {
    "duration": 9,
    "start_time": "2023-05-22T08:29:22.888Z"
   },
   {
    "duration": 54,
    "start_time": "2023-05-22T08:29:22.898Z"
   },
   {
    "duration": 3,
    "start_time": "2023-05-22T08:29:22.954Z"
   },
   {
    "duration": 16,
    "start_time": "2023-05-22T08:29:22.958Z"
   },
   {
    "duration": 5,
    "start_time": "2023-05-22T08:29:22.976Z"
   },
   {
    "duration": 18,
    "start_time": "2023-05-22T08:29:22.984Z"
   },
   {
    "duration": 17,
    "start_time": "2023-05-22T08:29:23.003Z"
   },
   {
    "duration": 41,
    "start_time": "2023-05-22T08:29:23.022Z"
   },
   {
    "duration": 8,
    "start_time": "2023-05-22T08:29:23.065Z"
   },
   {
    "duration": 30,
    "start_time": "2023-05-22T08:29:23.075Z"
   },
   {
    "duration": 23,
    "start_time": "2023-05-22T08:29:23.108Z"
   },
   {
    "duration": 25,
    "start_time": "2023-05-22T08:29:23.132Z"
   },
   {
    "duration": 15,
    "start_time": "2023-05-22T08:29:23.159Z"
   },
   {
    "duration": 6,
    "start_time": "2023-05-22T08:29:23.175Z"
   },
   {
    "duration": 12,
    "start_time": "2023-05-22T08:29:23.183Z"
   },
   {
    "duration": 14,
    "start_time": "2023-05-22T08:29:23.196Z"
   },
   {
    "duration": 8,
    "start_time": "2023-05-22T08:29:23.216Z"
   },
   {
    "duration": 20,
    "start_time": "2023-05-22T08:29:23.226Z"
   },
   {
    "duration": 789,
    "start_time": "2023-05-22T08:29:23.248Z"
   },
   {
    "duration": 606,
    "start_time": "2023-05-22T08:29:24.039Z"
   },
   {
    "duration": 24,
    "start_time": "2023-05-22T08:29:24.647Z"
   },
   {
    "duration": 681,
    "start_time": "2023-05-22T08:29:24.673Z"
   },
   {
    "duration": 666,
    "start_time": "2023-05-22T08:29:25.355Z"
   },
   {
    "duration": 769,
    "start_time": "2023-05-22T08:29:26.024Z"
   },
   {
    "duration": 600,
    "start_time": "2023-05-22T08:29:26.794Z"
   },
   {
    "duration": 631,
    "start_time": "2023-05-22T08:29:27.396Z"
   },
   {
    "duration": 636,
    "start_time": "2023-05-22T08:29:28.029Z"
   },
   {
    "duration": 54,
    "start_time": "2023-05-22T08:29:28.667Z"
   },
   {
    "duration": 3701,
    "start_time": "2023-05-22T08:29:28.723Z"
   },
   {
    "duration": 111,
    "start_time": "2023-05-22T09:03:44.155Z"
   },
   {
    "duration": 141,
    "start_time": "2023-05-22T09:05:45.828Z"
   },
   {
    "duration": 134,
    "start_time": "2023-05-22T09:06:36.540Z"
   },
   {
    "duration": 110,
    "start_time": "2023-05-22T09:07:10.605Z"
   }
  ],
  "colab": {
   "name": "dpp_template_part2.ipynb",
   "provenance": []
  },
  "kernelspec": {
   "display_name": "Python 3 (ipykernel)",
   "language": "python",
   "name": "python3"
  },
  "language_info": {
   "codemirror_mode": {
    "name": "ipython",
    "version": 3
   },
   "file_extension": ".py",
   "mimetype": "text/x-python",
   "name": "python",
   "nbconvert_exporter": "python",
   "pygments_lexer": "ipython3",
   "version": "3.9.18"
  },
  "toc": {
   "base_numbering": 1,
   "nav_menu": {},
   "number_sections": true,
   "sideBar": true,
   "skip_h1_title": true,
   "title_cell": "Table of Contents",
   "title_sidebar": "Contents",
   "toc_cell": false,
   "toc_position": {},
   "toc_section_display": true,
   "toc_window_display": false
  }
 },
 "nbformat": 4,
 "nbformat_minor": 5
}
