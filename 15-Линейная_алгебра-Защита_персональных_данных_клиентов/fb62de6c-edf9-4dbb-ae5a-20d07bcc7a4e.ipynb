{
 "cells": [
  {
   "cell_type": "markdown",
   "metadata": {},
   "source": [
    "<div class=\"alert alert-info\">\n",
    "<font size=\"5\"><b>Комментарий ревьюера</b></font>\n",
    "\n",
    "Привет Александр! Меня зовут Марат, и я буду твоим ревьюером. Спешу сообщить что все ключевые этапы в работе выполнены,  с задачей тебе удалось справиться. По поводу обращения - в IT сфере принято общаться на «ты» :) Но, если привычней на «вы», дай знать. Как ревьюера моя задача помочь тебе в развитии, дав хорошие советы. Я внимательно посмотрю твой код, ознакомлюсь с твоими выводами и оставлю комментарии. Где то могу предложить небольшие исправление в коде, но ненавязчиво. Где потребуются уточнения, я оставлю много наводящих вопросов. Они помогут тебя с поиском верного решения.\n",
    "\n",
    "Все мои комментарии размечены по цветам, для лучшего восприятия. \n",
    "    \n",
    "<div class=\"alert alert-success\">Зеленым цветом и 👍, словом «Успех» отмечены особо удачные и элегантные решения, которыми ты можешь гордиться. </div>\n",
    "        \n",
    "<div class=\"alert alert-warning\">Желтым и 🤔, словом «Совет», помечены решения у которых есть альтернативные решения, более оптимальные. Ты можешь найти их сразу и доработать проект, или отложить это на потом, для будущих проектах. Проект будет принят и без их доработки. </div>\n",
    "        \n",
    "<div class=\"alert alert-danger\"> Красным цветом и значком ❌, словом «Ошибка» помечу твои решения, на которые стоит обратить внимание прежде всего. После их доработки проект будет принят. </div>\n",
    "        \n",
    "Залог успеха - работа сообща, взаимное уважение и работа в диалоге. Поэтому, помечай свои ответные комментарии на мои реплики заметным цветом или курсивом, так мне будет легче их отслеживать. Пожалуйста, не изменяй и не удаляй мои комментарии. Все это поможет выполнить повторную проверку быстрей.\n",
    "\n",
    "</div>"
   ]
  },
  {
   "cell_type": "markdown",
   "metadata": {
    "toc": true
   },
   "source": [
    "<h1>Содержание<span class=\"tocSkip\"></span></h1>\n",
    "<div class=\"toc\"><ul class=\"toc-item\"><li><span><a href=\"#Загрузка-данных\" data-toc-modified-id=\"Загрузка-данных-1\"><span class=\"toc-item-num\">1&nbsp;&nbsp;</span>Загрузка данных</a></span></li><li><span><a href=\"#Умножение-матриц\" data-toc-modified-id=\"Умножение-матриц-2\"><span class=\"toc-item-num\">2&nbsp;&nbsp;</span>Умножение матриц</a></span></li><li><span><a href=\"#Алгоритм-преобразования\" data-toc-modified-id=\"Алгоритм-преобразования-3\"><span class=\"toc-item-num\">3&nbsp;&nbsp;</span>Алгоритм преобразования</a></span></li><li><span><a href=\"#Проверка-алгоритма\" data-toc-modified-id=\"Проверка-алгоритма-4\"><span class=\"toc-item-num\">4&nbsp;&nbsp;</span>Проверка алгоритма</a></span></li><li><span><a href=\"#Общие-итоги:\" data-toc-modified-id=\"Общие-итоги:-5\"><span class=\"toc-item-num\">5&nbsp;&nbsp;</span>Общие итоги:</a></span></li><li><span><a href=\"#Чек-лист-проверки\" data-toc-modified-id=\"Чек-лист-проверки-6\"><span class=\"toc-item-num\">6&nbsp;&nbsp;</span>Чек-лист проверки</a></span></li></ul></div>"
   ]
  },
  {
   "cell_type": "markdown",
   "metadata": {},
   "source": [
    "# Защита персональных данных клиентов"
   ]
  },
  {
   "cell_type": "markdown",
   "metadata": {},
   "source": [
    "Вам нужно защитить данные клиентов страховой компании «Хоть потоп». Разработайте такой метод преобразования данных, чтобы по ним было сложно восстановить персональную информацию. Обоснуйте корректность его работы.\n",
    "\n",
    "Нужно защитить данные, чтобы при преобразовании качество моделей машинного обучения не ухудшилось. Подбирать наилучшую модель не требуется."
   ]
  },
  {
   "cell_type": "markdown",
   "metadata": {},
   "source": [
    "<div class=\"alert alert-success\">\n",
    "<font size=\"5\"><b>Комментарий ревьюера</b></font>\n",
    "\n",
    "Успех 👍:\n",
    "\n",
    "\n",
    "Вступление в работу очень важно, так человек, который смотрит твой проект (и на работе в том числе) будет сразу введен в курс дела.\n",
    "\n",
    "\n",
    "\n",
    "\n",
    "\n",
    "</div>"
   ]
  },
  {
   "cell_type": "markdown",
   "metadata": {},
   "source": [
    "## Загрузка данных"
   ]
  },
  {
   "cell_type": "code",
   "execution_count": 1,
   "metadata": {},
   "outputs": [],
   "source": [
    "import numpy as np\n",
    "import pandas as pd\n",
    "from IPython.display import display, Markdown, HTML\n",
    "from sklearn.linear_model import LinearRegression\n",
    "from sklearn.metrics import r2_score\n",
    "\n",
    "from sklearn.preprocessing import StandardScaler\n",
    "from sklearn.pipeline import Pipeline\n",
    "\n",
    "import matplotlib.pyplot as plt # v2"
   ]
  },
  {
   "cell_type": "code",
   "execution_count": 2,
   "metadata": {},
   "outputs": [],
   "source": [
    "data = pd.read_csv('/datasets/insurance.csv')"
   ]
  },
  {
   "cell_type": "code",
   "execution_count": 3,
   "metadata": {},
   "outputs": [],
   "source": [
    "VERBOSE = 1"
   ]
  },
  {
   "cell_type": "code",
   "execution_count": 4,
   "metadata": {},
   "outputs": [
    {
     "name": "stdout",
     "output_type": "stream",
     "text": [
      "(5000, 5)\n",
      "<class 'pandas.core.frame.DataFrame'>\n",
      "RangeIndex: 5000 entries, 0 to 4999\n",
      "Data columns (total 5 columns):\n",
      " #   Column             Non-Null Count  Dtype  \n",
      "---  ------             --------------  -----  \n",
      " 0   Пол                5000 non-null   int64  \n",
      " 1   Возраст            5000 non-null   float64\n",
      " 2   Зарплата           5000 non-null   float64\n",
      " 3   Члены семьи        5000 non-null   int64  \n",
      " 4   Страховые выплаты  5000 non-null   int64  \n",
      "dtypes: float64(2), int64(3)\n",
      "memory usage: 195.4 KB\n"
     ]
    },
    {
     "data": {
      "text/html": [
       "<div>\n",
       "<style scoped>\n",
       "    .dataframe tbody tr th:only-of-type {\n",
       "        vertical-align: middle;\n",
       "    }\n",
       "\n",
       "    .dataframe tbody tr th {\n",
       "        vertical-align: top;\n",
       "    }\n",
       "\n",
       "    .dataframe thead th {\n",
       "        text-align: right;\n",
       "    }\n",
       "</style>\n",
       "<table border=\"1\" class=\"dataframe\">\n",
       "  <thead>\n",
       "    <tr style=\"text-align: right;\">\n",
       "      <th></th>\n",
       "      <th>Пол</th>\n",
       "      <th>Возраст</th>\n",
       "      <th>Зарплата</th>\n",
       "      <th>Члены семьи</th>\n",
       "      <th>Страховые выплаты</th>\n",
       "    </tr>\n",
       "  </thead>\n",
       "  <tbody>\n",
       "    <tr>\n",
       "      <th>0</th>\n",
       "      <td>1</td>\n",
       "      <td>41.0</td>\n",
       "      <td>49600.0</td>\n",
       "      <td>1</td>\n",
       "      <td>0</td>\n",
       "    </tr>\n",
       "    <tr>\n",
       "      <th>1</th>\n",
       "      <td>0</td>\n",
       "      <td>46.0</td>\n",
       "      <td>38000.0</td>\n",
       "      <td>1</td>\n",
       "      <td>1</td>\n",
       "    </tr>\n",
       "    <tr>\n",
       "      <th>2</th>\n",
       "      <td>0</td>\n",
       "      <td>29.0</td>\n",
       "      <td>21000.0</td>\n",
       "      <td>0</td>\n",
       "      <td>0</td>\n",
       "    </tr>\n",
       "    <tr>\n",
       "      <th>3</th>\n",
       "      <td>0</td>\n",
       "      <td>21.0</td>\n",
       "      <td>41700.0</td>\n",
       "      <td>2</td>\n",
       "      <td>0</td>\n",
       "    </tr>\n",
       "    <tr>\n",
       "      <th>4</th>\n",
       "      <td>1</td>\n",
       "      <td>28.0</td>\n",
       "      <td>26100.0</td>\n",
       "      <td>0</td>\n",
       "      <td>0</td>\n",
       "    </tr>\n",
       "  </tbody>\n",
       "</table>\n",
       "</div>"
      ],
      "text/plain": [
       "   Пол  Возраст  Зарплата  Члены семьи  Страховые выплаты\n",
       "0    1     41.0   49600.0            1                  0\n",
       "1    0     46.0   38000.0            1                  1\n",
       "2    0     29.0   21000.0            0                  0\n",
       "3    0     21.0   41700.0            2                  0\n",
       "4    1     28.0   26100.0            0                  0"
      ]
     },
     "execution_count": 4,
     "metadata": {},
     "output_type": "execute_result"
    }
   ],
   "source": [
    "print(data.shape)\n",
    "data.info()\n",
    "data.head()"
   ]
  },
  {
   "cell_type": "markdown",
   "metadata": {},
   "source": [
    "По возможности избавляемся от дробных типов и дубликатов:"
   ]
  },
  {
   "cell_type": "code",
   "execution_count": 5,
   "metadata": {},
   "outputs": [
    {
     "data": {
      "text/plain": [
       "'Записи с дробным возрастом: [0.]'"
      ]
     },
     "metadata": {},
     "output_type": "display_data"
    },
    {
     "data": {
      "text/plain": [
       "'Записи с дробной зарплатой: [0.00000000e+00 3.63797881e-12 7.27595761e-12 1.00000000e+00]'"
      ]
     },
     "metadata": {},
     "output_type": "display_data"
    }
   ],
   "source": [
    "display(f\"Записи с дробным возрастом: {(data['Возраст'] % 1).unique()}\")\n",
    "display(f\"Записи с дробной зарплатой: {(data['Зарплата'] % 1).unique()}\")"
   ]
  },
  {
   "cell_type": "code",
   "execution_count": 6,
   "metadata": {},
   "outputs": [
    {
     "data": {
      "text/plain": [
       "'В изначальной базе 153 дубликатов, которые были удалены.'"
      ]
     },
     "metadata": {},
     "output_type": "display_data"
    },
    {
     "name": "stdout",
     "output_type": "stream",
     "text": [
      "<class 'pandas.core.frame.DataFrame'>\n",
      "RangeIndex: 4847 entries, 0 to 4846\n",
      "Data columns (total 5 columns):\n",
      " #   Column             Non-Null Count  Dtype\n",
      "---  ------             --------------  -----\n",
      " 0   Пол                4847 non-null   int64\n",
      " 1   Возраст            4847 non-null   int64\n",
      " 2   Зарплата           4847 non-null   int64\n",
      " 3   Члены семьи        4847 non-null   int64\n",
      " 4   Страховые выплаты  4847 non-null   int64\n",
      "dtypes: int64(5)\n",
      "memory usage: 189.5 KB\n"
     ]
    }
   ],
   "source": [
    "data['Зарплата'] = data['Зарплата'] // 1\n",
    "data['Возраст'] = data['Возраст'].astype('int64')\n",
    "data['Зарплата'] = data['Зарплата'].astype('int64')\n",
    "tmp = data.duplicated().sum()\n",
    "if tmp > 0:\n",
    "    data = data.drop_duplicates().reset_index(drop=True)\n",
    "    display(f'В изначальной базе {tmp} дубликатов, которые были удалены.')\n",
    "data.info()"
   ]
  },
  {
   "cell_type": "code",
   "execution_count": 7,
   "metadata": {},
   "outputs": [
    {
     "data": {
      "text/plain": [
       "Пол                  0\n",
       "Возраст              0\n",
       "Зарплата             0\n",
       "Члены семьи          0\n",
       "Страховые выплаты    0\n",
       "dtype: int64"
      ]
     },
     "execution_count": 7,
     "metadata": {},
     "output_type": "execute_result"
    }
   ],
   "source": [
    "data.isna().sum()"
   ]
  },
  {
   "cell_type": "code",
   "execution_count": 8,
   "metadata": {},
   "outputs": [
    {
     "data": {
      "image/png": "[encoded data removed]",
      "text/plain": [
       "<Figure size 1440x720 with 6 Axes>"
      ]
     },
     "metadata": {
      "needs_background": "light"
     },
     "output_type": "display_data"
    }
   ],
   "source": [
    "data.hist(figsize=(20,10), bins = 100);"
   ]
  },
  {
   "cell_type": "markdown",
   "metadata": {},
   "source": [
    "<div class=\"alert alert-success\">\n",
    "<font size=\"5\"><b>Комментарий ревьюера</b></font>\n",
    "\n",
    "Успех 👍: \n",
    "    \n",
    "EDA проведено.  \n",
    "\n",
    "\n",
    "- Здорово чтоб обращено внимание на типы данных \n",
    "    \n",
    "    \n",
    "    \n",
    "<div class=\"alert alert-warning\">\n",
    "\n",
    "\n",
    "Совет 🤔: \n",
    "    \n",
    "    \n",
    "- Джентльменский набор при разведочном анализе данных - это .info() + .describe()  .info (дает тебе информацию о пропусках и типах данных), .describe (медианы, квантили, max, min итд) \n",
    "\n",
    "\n",
    "\n",
    "- для категориальных мы не используем график hist"
   ]
  },
  {
   "cell_type": "markdown",
   "metadata": {},
   "source": [
    "<div class=\"alert alert-info\" style=\"border-radius: 10px; box-shadow: 2px 2px 2px; border: 1px solid; padding: 10px\">\n",
    "<h2> Комментарий студента v2: <a class=\"tocSkip\"></a> </h2>\n",
    "\n",
    "По поводу второго пункта: так собственно по гистограммам и смотрел, кто из них категориальный. Можно по названию предположить, но гистограммы покажут более наглядно, являются предполагаемые категориальные переменные таковыми или нет. Это же как раз этап первичного знакомства с данными.\n",
    "</div>"
   ]
  },
  {
   "cell_type": "markdown",
   "metadata": {},
   "source": [
    "\n",
    "\n",
    "<div class=\"alert alert-success\">\n",
    "<font size=\"5\"><b>Комментарий ревьюераV2</b></font>\n",
    "\n",
    "\n",
    "\n",
    "Успех 👍:\n",
    "\n",
    "\n",
    "\n",
    "Привет Александр! В каком-то смысле да"
   ]
  },
  {
   "cell_type": "code",
   "execution_count": 9,
   "metadata": {},
   "outputs": [
    {
     "data": {
      "text/html": [
       "<div>\n",
       "<style scoped>\n",
       "    .dataframe tbody tr th:only-of-type {\n",
       "        vertical-align: middle;\n",
       "    }\n",
       "\n",
       "    .dataframe tbody tr th {\n",
       "        vertical-align: top;\n",
       "    }\n",
       "\n",
       "    .dataframe thead th {\n",
       "        text-align: right;\n",
       "    }\n",
       "</style>\n",
       "<table border=\"1\" class=\"dataframe\">\n",
       "  <thead>\n",
       "    <tr style=\"text-align: right;\">\n",
       "      <th></th>\n",
       "      <th>Пол</th>\n",
       "      <th>Возраст</th>\n",
       "      <th>Зарплата</th>\n",
       "      <th>Члены семьи</th>\n",
       "      <th>Страховые выплаты</th>\n",
       "    </tr>\n",
       "  </thead>\n",
       "  <tbody>\n",
       "    <tr>\n",
       "      <th>count</th>\n",
       "      <td>4847.000000</td>\n",
       "      <td>4847.000000</td>\n",
       "      <td>4847.000000</td>\n",
       "      <td>4847.000000</td>\n",
       "      <td>4847.000000</td>\n",
       "    </tr>\n",
       "    <tr>\n",
       "      <th>mean</th>\n",
       "      <td>0.498453</td>\n",
       "      <td>31.023932</td>\n",
       "      <td>39895.811223</td>\n",
       "      <td>1.203425</td>\n",
       "      <td>0.152259</td>\n",
       "    </tr>\n",
       "    <tr>\n",
       "      <th>std</th>\n",
       "      <td>0.500049</td>\n",
       "      <td>8.487995</td>\n",
       "      <td>9972.952441</td>\n",
       "      <td>1.098664</td>\n",
       "      <td>0.468934</td>\n",
       "    </tr>\n",
       "    <tr>\n",
       "      <th>min</th>\n",
       "      <td>0.000000</td>\n",
       "      <td>18.000000</td>\n",
       "      <td>5300.000000</td>\n",
       "      <td>0.000000</td>\n",
       "      <td>0.000000</td>\n",
       "    </tr>\n",
       "    <tr>\n",
       "      <th>25%</th>\n",
       "      <td>0.000000</td>\n",
       "      <td>24.000000</td>\n",
       "      <td>33200.000000</td>\n",
       "      <td>0.000000</td>\n",
       "      <td>0.000000</td>\n",
       "    </tr>\n",
       "    <tr>\n",
       "      <th>50%</th>\n",
       "      <td>0.000000</td>\n",
       "      <td>30.000000</td>\n",
       "      <td>40200.000000</td>\n",
       "      <td>1.000000</td>\n",
       "      <td>0.000000</td>\n",
       "    </tr>\n",
       "    <tr>\n",
       "      <th>75%</th>\n",
       "      <td>1.000000</td>\n",
       "      <td>37.000000</td>\n",
       "      <td>46600.000000</td>\n",
       "      <td>2.000000</td>\n",
       "      <td>0.000000</td>\n",
       "    </tr>\n",
       "    <tr>\n",
       "      <th>max</th>\n",
       "      <td>1.000000</td>\n",
       "      <td>65.000000</td>\n",
       "      <td>79000.000000</td>\n",
       "      <td>6.000000</td>\n",
       "      <td>5.000000</td>\n",
       "    </tr>\n",
       "  </tbody>\n",
       "</table>\n",
       "</div>"
      ],
      "text/plain": [
       "               Пол      Возраст      Зарплата  Члены семьи  Страховые выплаты\n",
       "count  4847.000000  4847.000000   4847.000000  4847.000000        4847.000000\n",
       "mean      0.498453    31.023932  39895.811223     1.203425           0.152259\n",
       "std       0.500049     8.487995   9972.952441     1.098664           0.468934\n",
       "min       0.000000    18.000000   5300.000000     0.000000           0.000000\n",
       "25%       0.000000    24.000000  33200.000000     0.000000           0.000000\n",
       "50%       0.000000    30.000000  40200.000000     1.000000           0.000000\n",
       "75%       1.000000    37.000000  46600.000000     2.000000           0.000000\n",
       "max       1.000000    65.000000  79000.000000     6.000000           5.000000"
      ]
     },
     "execution_count": 9,
     "metadata": {},
     "output_type": "execute_result"
    }
   ],
   "source": [
    "# v2\n",
    "data.describe()"
   ]
  },
  {
   "cell_type": "code",
   "execution_count": 10,
   "metadata": {},
   "outputs": [
    {
     "data": {
      "image/png": "[encoded data removed]",
      "text/plain": [
       "<Figure size 432x288 with 1 Axes>"
      ]
     },
     "metadata": {
      "needs_background": "light"
     },
     "output_type": "display_data"
    },
    {
     "data": {
      "image/png": "[encoded data removed]",
      "text/plain": [
       "<Figure size 432x288 with 1 Axes>"
      ]
     },
     "metadata": {
      "needs_background": "light"
     },
     "output_type": "display_data"
    },
    {
     "data": {
      "image/png": "[encoded data removed]",
      "text/plain": [
       "<Figure size 432x288 with 1 Axes>"
      ]
     },
     "metadata": {
      "needs_background": "light"
     },
     "output_type": "display_data"
    },
    {
     "data": {
      "image/png": "[encoded data removed]",
      "text/plain": [
       "<Figure size 1440x792 with 1 Axes>"
      ]
     },
     "metadata": {
      "needs_background": "light"
     },
     "output_type": "display_data"
    }
   ],
   "source": [
    "# v2\n",
    "for column in data.columns:\n",
    "    tmp = data[column].nunique()\n",
    "    if tmp > 6: # где проводить границу?\n",
    "        ax = data[column].plot(kind='hist', subplots=True, title=column, bins=\n",
    "            (data[column].max() - data[column].min()) // 1 if tmp < 50 else 100)\n",
    "        plt.show()\n",
    "tmp = data['Возраст'].value_counts(ascending=True).plot.barh(figsize=(20, 11), grid = True, title='Возраст')\n"
   ]
  },
  {
   "cell_type": "markdown",
   "metadata": {},
   "source": [
    "<div class=\"alert alert-info\" style=\"border-radius: 10px; box-shadow: 2px 2px 2px; border: 1px solid; padding: 10px\">\n",
    "<h2> Комментарий студента v2: <a class=\"tocSkip\"></a> </h2>\n",
    "    \n",
    "Возраст тут - тоже категориальная переменная. Но категорий в этой переменной достаточно много. По мне, так в формате гистограммы для переменной \"возраст\" информация воспринимается легче. Где должна проходить адекватная граница?\n",
    "</div>"
   ]
  },
  {
   "cell_type": "markdown",
   "metadata": {},
   "source": [
    "<div class=\"alert alert-warning\">\n",
    "<font size=\"5\"><b>Комментарий ревьюераV2</b></font>\n",
    "\n",
    "\n",
    "\n",
    "Совет 🤔:\n",
    "\n",
    "\n",
    "\n",
    "    Где должна проходить адекватная граница?\n",
    "\n",
    "    \n",
    "    \n",
    "Затрудняюсь сказать, думаю что в какой-то книжке есть какой число.  А на мой вкус здесь единственный категориальный признак - это пол    "
   ]
  },
  {
   "cell_type": "markdown",
   "metadata": {},
   "source": [
    "## Умножение матриц"
   ]
  },
  {
   "cell_type": "markdown",
   "metadata": {},
   "source": [
    "<div style=\"border-radius: 10px; box-shadow: 2px 2px 2px; border: 1px solid; padding: 10p\">"
   ]
  },
  {
   "cell_type": "markdown",
   "metadata": {},
   "source": [
    "В этом задании вы можете записывать формулы в *Jupyter Notebook.*\n",
    "\n",
    "Чтобы записать формулу внутри текста, окружите её символами доллара \\\\$; если снаружи —  двойными символами \\\\$\\\\$. Эти формулы записываются на языке вёрстки *LaTeX.* \n",
    "\n",
    "Для примера мы записали формулы линейной регрессии. Можете их скопировать и отредактировать, чтобы решить задачу.\n",
    "\n",
    "Работать в *LaTeX* необязательно."
   ]
  },
  {
   "cell_type": "markdown",
   "metadata": {},
   "source": [
    "Обозначения:\n",
    "\n",
    "- $X$ — матрица признаков (нулевой столбец состоит из единиц)\n",
    "\n",
    "- $y$ — вектор целевого признака\n",
    "\n",
    "- $P$ — матрица, на которую умножаются признаки\n",
    "\n",
    "- $w$ — вектор весов линейной регрессии (нулевой элемент равен сдвигу)"
   ]
  },
  {
   "cell_type": "markdown",
   "metadata": {},
   "source": [
    "Предсказания:\n",
    "\n",
    "$$\n",
    "a = Xw\n",
    "$$\n",
    "\n",
    "Задача обучения:\n",
    "\n",
    "$$\n",
    "w = \\arg\\min_w MSE(Xw, y)\n",
    "$$\n",
    "\n",
    "Формула обучения:\n",
    "\n",
    "$$\n",
    "w = (X^T X)^{-1} X^T y\n",
    "$$"
   ]
  },
  {
   "cell_type": "markdown",
   "metadata": {},
   "source": [
    "<div style=\"border-radius: 10px; box-shadow: 2px 2px 2px; border: 1px solid; padding: 10px; background:#eee; color: #aaa\">\n",
    "\n",
    "Признаки умножают на обратимую матрицу. Изменится ли качество линейной регрессии? (Её можно обучить заново.)\n",
    "* Изменится. Приведите примеры матриц.\n",
    "* Не изменится. Укажите, как связаны параметры линейной регрессии в исходной задаче и в преобразованной.\n",
    "\n",
    "Предложите алгоритм преобразования данных для решения задачи. Обоснуйте, почему качество линейной регрессии не поменяется.\n",
    "Ответьте на вопрос и обоснуйте решение. \n",
    "</div>\n",
    "    "
   ]
  },
  {
   "cell_type": "markdown",
   "metadata": {},
   "source": [
    "**Ответ:** При умножении признаков на обратимую матрицу качество линейной регрессии не поменяется.\n",
    "\n",
    "**Обоснование:** $\n",
    "a_0 = X_0w = X_0(X_0^T X_0)^{-1} X_0^T y\n",
    "$\n",
    "\n",
    "Если произвести замену переменных $ X_n = X_0A$, и $k=X_0^T X_0$ , то для новых признаков получим:\n",
    "\n",
    "$\n",
    "a_n = X_n\\left((X_n)^T (X_n)\\right)^{-1} (X_n)^T y = X_0A\\left((X_0A)^T (X_0A)\\right)^{-1} (X_0A)^T y\n",
    "$\n",
    "\n",
    "Воспользуемся следующими свойствами:\n",
    "* $(AB)C = A(BC)$\n",
    "* $(AB)^T = B^TA^T$ [wiki](https://ru.wikipedia.org/wiki/%D0%A2%D1%80%D0%B0%D0%BD%D1%81%D0%BF%D0%BE%D0%BD%D0%B8%D1%80%D0%BE%D0%B2%D0%B0%D0%BD%D0%BD%D0%B0%D1%8F_%D0%BC%D0%B0%D1%82%D1%80%D0%B8%D1%86%D0%B0)\n",
    "* $(AB)^{-1}=B^{-1}A^{-1}$ [wiki](https://ru.wikipedia.org/wiki/%D0%9E%D0%B1%D1%80%D0%B0%D1%82%D0%BD%D0%B0%D1%8F_%D0%BC%D0%B0%D1%82%D1%80%D0%B8%D1%86%D0%B0) (только для квадратных матриц с ненулевым определителем)\n",
    "* $(A^T)^{-1}=(A^{-1})^T$ [wiki](https://ru.wikipedia.org/wiki/%D0%9E%D0%B1%D1%80%D0%B0%D1%82%D0%BD%D0%B0%D1%8F_%D0%BC%D0%B0%D1%82%D1%80%D0%B8%D1%86%D0%B0)\n",
    "* Матрица k гарантированно квадратная\n",
    "\n",
    "\n",
    "<div style=\"text-align:left\">\n",
    "\n",
    "$a_n=X_0A\\left((A^TX_0^T) (X_0A)\\right)^{-1} (A^TX_0^T) y= $\n",
    "    \n",
    "$X_0A\\left( A^T(X_0^TX_0)A \\right)^{-1}A^TX_0^T y =$\n",
    "    \n",
    "$X_0A\\left( A^TkA \\right)^{-1}A^TX_0^T y =$ (при условии что размерность A равна размерности k) =\n",
    "    \n",
    "$X_0A\\bigl( \\left(kA\\right)^{-1}(A^T)^{-1} \\bigr)A^TX_0^T y =$\n",
    "\n",
    "$X_0A\\bigl( A^{-1}k^{-1}(A^T)^{-1} \\bigr)A^TX_0^T y =$\n",
    "    \n",
    "$X_0(AA^{-1})k^{-1}\\left((A^T)^{-1} A^T\\right)X_0^T y =$\n",
    "\n",
    "$X_0Ek^{-1}EX_0^T y =$\n",
    "\n",
    "$X_0(X_0^TX_0)^{-1}X_0^T y = a_0$\n",
    "\n",
    "</div>"
   ]
  },
  {
   "cell_type": "markdown",
   "metadata": {},
   "source": [
    "<div class=\"alert alert-info\" style=\"border-radius: 10px; box-shadow: 2px 2px 2px; border: 1px solid; padding: 10px\">\n",
    "<h2> Комментарий студента v2: <a class=\"tocSkip\"></a> </h2>\n",
    "\n",
    "<div style=\"text-align:left\">\n",
    "\n",
    "$w_n=$(аналогично выкладкам в версии 1)$=A^{-1}k^{-1}EX_0^Ty=A^{-1}w_0$\n",
    "    \n",
    "</div>\n",
    "</div>"
   ]
  },
  {
   "cell_type": "markdown",
   "metadata": {},
   "source": [
    "<div class=\"alert alert-success\">\n",
    "<font size=\"5\"><b>Комментарий ревьюера</b></font>\n",
    "\n",
    "\n",
    "\n",
    "Успех 👍:\n",
    "\n",
    "\n",
    "\n",
    "\n",
    "Самая частая ошибка - не учитывают что обратная матрица может быть только у квадратной.  Часто не соблюдают правила матричного преобразования, или меняют матрицы местами при перемножении как цифры.  \n",
    "\n",
    "\n",
    "У тебя все ОК. \n",
    "    \n",
    "\n",
    "\n",
    "    \n",
    "<div class=\"alert alert-warning\">\n",
    "\n",
    "\n",
    "\n",
    "Совет 🤔:    \n",
    "    \n",
    "    \n",
    "\n",
    "\n",
    "  \n",
    "Есть ещё один способ доказательства   когда мы берём\n",
    "    \n",
    "    \n",
    "$$\n",
    "w = \\arg\\min_w MSE(Xw, y)\n",
    "$$\n",
    "\n",
    "\n",
    "(кстати можешь объяснить словами что это запись означает?)    \n",
    "  \n",
    "и     \n",
    "    \n",
    "$$\n",
    "w_P = \\arg\\min_w MSE(XPw_p, y)\n",
    "$$  \n",
    "    \n",
    "    \n",
    "И делая  замену    w_p, видим что задача  \n",
    "    \n",
    "$$\n",
    "\\arg\\min_w MSE(XPw_p, y)\n",
    "$$\n",
    "    \n",
    "сводится к     \n",
    "  \n",
    "    \n",
    "$$\n",
    "\\arg\\min_w MSE(Xw, y)\n",
    "$$    \n",
    "\n",
    "\n",
    "Осталось только догадаться какую замену мы делаем.  Можешь попробовать решить и таким способом  \n",
    "\n",
    "  \n",
    "</div>\n",
    "    \n",
    "\n",
    "    \n",
    "\n",
    "\n"
   ]
  },
  {
   "cell_type": "markdown",
   "metadata": {},
   "source": [
    "<div class=\"alert alert-info\" style=\"border-radius: 10px; box-shadow: 2px 2px 2px; border: 1px solid; padding: 10px\">\n",
    "    <h2> Комментарий студента v2: <a class=\"tocSkip\"></a> </h2>\n",
    "    \n",
    "Своими словами: argmin даст набор параметров w, при которых минимально значение функции справа. В данном случае, нужно найти значение вектора $w$, при котором достигается минимум среднеквадратичной ошибки между предсказанием $a = Xw$ и истинным значением $y$.\n",
    "\n",
    "<div style=\"text-align:left\">\n",
    "\n",
    "$$w_n=\\arg\\min_{w_n} MSE(XAw_n,y)=\\arg\\min_{w_n}\\left((XAw_n-y) @ (XAw_n-y)\\right)^{1/2}=$$\n",
    "$$\\arg\\min_{w_n}\\left((XAw_n-y)^T(XAw_n-y)\\right)^{1/2}=\\arg\\min_{w_n}\\left((XAw_n-y)^T(XAw_n-y)\\right)$$\n",
    "<!--    $$\\left(\\displaystyle \\sum_{i} (XPw_{p_i}-y_i)^2\\right)^{0.5} $$-->\n",
    "Аналогично:\n",
    "$$w=\\arg\\min_w MSE(Xw,y)=\\arg\\min_w\\left((Xw-y)^T(Xw-y)\\right)$$    \n",
    "\n",
    "$$\\frac{\\delta \\left((Xw-y)^T(Xw-y)\\right)}{\\delta w} = \\frac{\\delta(Xw-y)^T} {\\delta w} \\frac{\\delta \\left((Xw-y)^T(Xw-y)\\right)}{\\delta (Xw-y)^T} = X^T2(Xw-y)=0 $$\n",
    "\n",
    "$$X^TXw=X^Ty$$\n",
    "$$w=(X^TX)^{-1}X^Ty$$\n",
    "Аналогично:\n",
    "$$(XA)^T2(XAw_n-y)=0$$\n",
    "$$A^TX^TXAw_n=A^TX^Ty$$\n",
    "$$w_n=(X^TXA)^{-1}X^Ty=A^{-1}(X^TX)^{-1}X^Ty=A^{-1}w$$\n",
    "</div>\n",
    "</div>"
   ]
  },
  {
   "cell_type": "markdown",
   "metadata": {},
   "source": [
    "<div class=\"alert alert-success\">\n",
    "<font size=\"5\"><b>Комментарий ревьюераV2</b></font>\n",
    "\n",
    "\n",
    "\n",
    "Успех 👍:\n",
    "\n",
    "\n",
    "\n",
    "Соотношение получено\n",
    "\n",
    "\n",
    "\n",
    "\n",
    "<div class=\"alert alert-warning\">\n",
    "\n",
    "\n",
    "Совет 🤔:\n",
    "\n",
    "\n",
    "А по поводу 2 способа доказательства - оно очень короткое и вот что я имел в виду:    \n",
    "    \n",
    "    \n",
    "    \n",
    "    \n",
    "Для исходных данных мы решаем это  \n",
    "    \n",
    "$$\n",
    "w = \\arg\\min_w MSE(Xw, y)\n",
    "$$\n",
    "    \n",
    "  \n",
    "Для преобразованных данных решаем это  \n",
    "    \n",
    "$$\n",
    "w_P = \\arg\\min_w MSE(XPw_p, y)\n",
    "$$  \n",
    "    \n",
    "    \n",
    "Давай сделаем замену   w_p на $P^{-1}w$ (Конечно мы это соотношение не берём из первого доказательства, иначе смысл во втором доказательстве просто нет. Тут типа математическая интуиция сработала, догадались как то о такой замене. Хотя догадаться можно, ведь видно что нам нужно избавиться от P)\n",
    "    \n",
    " \n",
    "И подставим:    \n",
    "    \n",
    "$$\n",
    "\\arg\\min_w MSE(XPP^{-1}w, y)\n",
    "$$\n",
    "  \n",
    "    \n",
    "    \n",
    "сократим и получим \n",
    "  \n",
    "    \n",
    "$$\n",
    "\\arg\\min_w MSE(Xw, y)\n",
    "$$    \n",
    "\n",
    "    \n",
    "    \n",
    "    \n",
    "    \n",
    "Получается если заменить $w_p$ на $P^{-1}w$, то получаем ту же самую постановку задачи!  \n",
    "     \n",
    "    \n",
    "</div>\n"
   ]
  },
  {
   "cell_type": "markdown",
   "metadata": {},
   "source": [
    "\n",
    "<div class=\"alert alert-danger\">\n",
    "<font size=\"5\"><b>Комментарий ревьюера</b></font>\n",
    "\n",
    "Ошибка ❌:\n",
    "    \n",
    "\n",
    "  \n",
    "Нет ответа на \"как связаны параметры линейной регрессии в исходной задаче и в преобразованной\"\n",
    "\n",
    "Какое соотношение между $w$ и $w_p$?\n",
    "    \n",
    "    \n",
    "Где   \n",
    "\n",
    "\n",
    "\n",
    "$$\n",
    "w = (X^T X)^{-1} X^T y\n",
    "$$\n",
    "    \n",
    "    \n",
    "$$\n",
    "w_P = ((XP)^T XP)^{-1} (XP)^T y\n",
    "$$   \n"
   ]
  },
  {
   "cell_type": "markdown",
   "metadata": {},
   "source": [
    "## Алгоритм преобразования"
   ]
  },
  {
   "cell_type": "markdown",
   "metadata": {},
   "source": [
    "**Алгоритм**\n",
    "\n",
    "1. Считаем количество признаков (n)\n",
    "2. Создаем произвольную обратимую матрицу размером n+1 (назовем ее A). Нормализуем ее, чтобы определитель был примерно равен 1 (для уменьшения ошибок округления при умножении)\n",
    "3. Создаем первичную матрицу признаков, в которой помимо собственно признаков будет дополнительный нулевой столбец, заполненный единицами (назовем матрицу X0).\n",
    "4. Умножим X0 на A. Полученную матрицу назовем Xn.\n",
    "5. Полученную матрицу Xn сохраняем как обфускационные данные клиентов (без целевого признака).\n",
    "6. Обучаем модель на Xn\n",
    "7. Если требуется, дополнительно обфусцировать целевой признак, можно использовать битовую операцию XOR с суммой признаков X0.\n",
    "8. Для предсказания потенциального количества страховых выплат для нового клиента умножаем вектор его признаков $X_{k0}$ на A (при этом получаем вектор $X_{kn}$). Далее передаем полученный вектор $X_{kn}$ в обученную модель, на выходе получаем предсказание.\n",
    "9. Для восстановления признаков по конктретному клиенту, надо его обфускационные данные умножить на матрицу $A^{-1}$.\n",
    "10. Если требуется, после восстановления признаков, расшифровывается значение целевого признака.\n"
   ]
  },
  {
   "cell_type": "markdown",
   "metadata": {},
   "source": [
    "\n",
    "<div class=\"alert alert-success\">\n",
    "<font size=\"5\"><b>Комментарий ревьюера</b></font>\n",
    "\n",
    "Успех 👍:\n",
    "\n",
    "\n",
    "Принято\n",
    "\n",
    "<div class=\"alert alert-warning\">\n",
    "\n",
    "Совет 🤔:\n",
    "\n",
    "    \n",
    "    \n",
    "\n",
    "- Не они очень понятно зачем ты сдаёшь дополнительный столбец  из единичек, это делается если хочется использовать формулу, а ты использовал LinearRegression из библиотеки \n",
    "    \n",
    "- Сразу начал с того что Матрица у тебя обратимая. А что если сгенерированная матрица будет необратимой? Тут можно расписать порядок действий на все случаи в том числе на этот.  И тогда алгоритм будет полнее\n",
    "    "
   ]
  },
  {
   "cell_type": "markdown",
   "metadata": {},
   "source": [
    "<div class=\"alert alert-info\" style=\"border-radius: 10px; box-shadow: 2px 2px 2px; border: 1px solid; padding: 10px\">\n",
    "<h2> Комментарий студента v2: <a class=\"tocSkip\"></a> </h2>\n",
    "    \n",
    "* По большому счету, да, не почистил за собой. В начале проекта у меня почему-то отложилось, что надо будет сравнивать то, что по формуле считается с тем, что дает библиотека.\n",
    "* Если матрица будет не обратимой, то это означает, что одна из строк/столбцов матрицы является линейной комбинацией других. Умножение на такую матрицу, насколько я понимаю, равносильно уменьшению количества признаков на количество столбцов в матрице, являющихся линейной комбинацией других.\n",
    "* Данное преобразование является лишь обфускацией данных. Шифрованием это назвать нельзя, так как атака по открытому тексту гарантированно раскроет признаки всех клиентов при наличии $n^2$ открытых записей клиентов.\n",
    "* На основе этого нет смысла выбирать криптостойкое преобразование для хранения целевых признаков. Было выбрано простейшее симметричное преобразование.\n",
    "</div>"
   ]
  },
  {
   "cell_type": "markdown",
   "metadata": {},
   "source": [
    "<div class=\"alert alert-warning\">\n",
    "<font size=\"5\"><b>Комментарий ревьюераV2</b></font>\n",
    "\n",
    "\n",
    "\n",
    "Совет 🤔:\n",
    "\n",
    "\n",
    "\n",
    "    Если матрица будет не обратимой, то это означает, что одна из строк/столбцов матрицы является линейной комбинацией других\n",
    "\n",
    "    \n",
    "Не обязательно, тут ты видимо путаешь обратимость и мультиколлинеарность.  Необратимая означает что у матрицы нет обратной матрицы, необратимая матрица не обязательно является мультиколлинеарной, и необратимость матрицы не означает, что в ней обязательно есть мультиколлинеарные признаки\n",
    "    \n",
    "    \n",
    "    \n",
    "    Данное преобразование является лишь обфускацией данных. Шифрованием это назвать нельзя, так как атака по открытому тексту гарантированно раскроет признаки всех клиентов при наличии  𝑛2 открытых записей клиентов.\n",
    "    \n",
    "    \n",
    "    \n",
    "Возможно, я очень далёк от шифрования    \n",
    "    "
   ]
  },
  {
   "cell_type": "markdown",
   "metadata": {},
   "source": [
    "**Обоснование**\n",
    "* Как было показано выше, если обучить модель линейной регрессии на данных, умноженных на обратимую матрицу, предсказания будут в точности такими же.\n",
    "* Корректность восстановления исходных призноков следует из следующего равенства: $X_nA^{-1}=X_0AA^{-1}=X_0E=X_0$"
   ]
  },
  {
   "cell_type": "markdown",
   "metadata": {},
   "source": [
    "## Проверка алгоритма"
   ]
  },
  {
   "cell_type": "code",
   "execution_count": 11,
   "metadata": {},
   "outputs": [
    {
     "name": "stdout",
     "output_type": "stream",
     "text": [
      "n=5\n",
      "\n",
      "A=[[1.40207052 0.32606291 1.07600761 0.22824404 0.16303146]\n",
      " [0.94558245 0.81515728 1.30425165 0.88036986 0.7499447 ]\n",
      " [1.43467682 1.46728311 0.81515728 0.16303146 0.29345662]\n",
      " [0.06521258 0.         0.19563775 1.43467682 1.53249569]\n",
      " [0.94558245 1.40207052 0.45648808 0.71733841 0.26085033]]\n",
      "\n",
      "det(A)=1.0000000000000004\n",
      "\n",
      "Ai=[[ 1.18533397 -1.22278071  0.12780539  0.39648844  0.30151013]\n",
      " [-0.89226177  0.38361397  0.54550562 -0.21885016  0.12682426]\n",
      " [-0.39053273  1.50289254 -0.21755367 -0.55773693 -0.55528073]\n",
      " [ 0.65225973 -0.06592768 -1.67435922  0.00453715  1.63887813]\n",
      " [-0.61121063 -0.07810587  1.58981951  0.70261145 -1.47621221]]\n"
     ]
    }
   ],
   "source": [
    "# step 1,2\n",
    "n = len(data.columns)\n",
    "maximum_number_of_generation_attempts = 10\n",
    "attempt_number = 0\n",
    "while True:\n",
    "    A = np.array([np.random.randint(low=0, high=10*n, size=n) for i in range(n)])\n",
    "    if np.linalg.det(A) > 0:\n",
    "        det_mul = 1 / float(np.linalg.det(A)**(1/n))\n",
    "        A = A * det_mul\n",
    "        break\n",
    "    attempt_number += 1\n",
    "    if attempt_number > maximum_number_of_generation_attempts: raise Warning(\n",
    "f\"Не удалось сформировать обратимую матрицу размером {n}x{n} за {maximum_number_of_generation_attempts} шагов\")\n",
    "Ai = np.linalg.inv(A)\n",
    "if VERBOSE > 0: print('n=', n, '\\n\\nA=',str(A), '\\n\\ndet(A)=',np.linalg.det(A) ,'\\n\\nAi=', Ai, sep='')\n"
   ]
  },
  {
   "cell_type": "code",
   "execution_count": 12,
   "metadata": {},
   "outputs": [
    {
     "data": {
      "text/plain": [
       "'data'"
      ]
     },
     "metadata": {},
     "output_type": "display_data"
    },
    {
     "data": {
      "text/html": [
       "<div>\n",
       "<style scoped>\n",
       "    .dataframe tbody tr th:only-of-type {\n",
       "        vertical-align: middle;\n",
       "    }\n",
       "\n",
       "    .dataframe tbody tr th {\n",
       "        vertical-align: top;\n",
       "    }\n",
       "\n",
       "    .dataframe thead th {\n",
       "        text-align: right;\n",
       "    }\n",
       "</style>\n",
       "<table border=\"1\" class=\"dataframe\">\n",
       "  <thead>\n",
       "    <tr style=\"text-align: right;\">\n",
       "      <th></th>\n",
       "      <th>Пол</th>\n",
       "      <th>Возраст</th>\n",
       "      <th>Зарплата</th>\n",
       "      <th>Члены семьи</th>\n",
       "      <th>Страховые выплаты</th>\n",
       "    </tr>\n",
       "  </thead>\n",
       "  <tbody>\n",
       "    <tr>\n",
       "      <th>0</th>\n",
       "      <td>1</td>\n",
       "      <td>41</td>\n",
       "      <td>49600</td>\n",
       "      <td>1</td>\n",
       "      <td>0</td>\n",
       "    </tr>\n",
       "    <tr>\n",
       "      <th>1</th>\n",
       "      <td>0</td>\n",
       "      <td>46</td>\n",
       "      <td>38000</td>\n",
       "      <td>1</td>\n",
       "      <td>1</td>\n",
       "    </tr>\n",
       "    <tr>\n",
       "      <th>2</th>\n",
       "      <td>0</td>\n",
       "      <td>29</td>\n",
       "      <td>21000</td>\n",
       "      <td>0</td>\n",
       "      <td>0</td>\n",
       "    </tr>\n",
       "    <tr>\n",
       "      <th>3</th>\n",
       "      <td>0</td>\n",
       "      <td>21</td>\n",
       "      <td>41700</td>\n",
       "      <td>2</td>\n",
       "      <td>0</td>\n",
       "    </tr>\n",
       "    <tr>\n",
       "      <th>4</th>\n",
       "      <td>1</td>\n",
       "      <td>28</td>\n",
       "      <td>26100</td>\n",
       "      <td>0</td>\n",
       "      <td>0</td>\n",
       "    </tr>\n",
       "    <tr>\n",
       "      <th>...</th>\n",
       "      <td>...</td>\n",
       "      <td>...</td>\n",
       "      <td>...</td>\n",
       "      <td>...</td>\n",
       "      <td>...</td>\n",
       "    </tr>\n",
       "    <tr>\n",
       "      <th>4842</th>\n",
       "      <td>0</td>\n",
       "      <td>28</td>\n",
       "      <td>35700</td>\n",
       "      <td>2</td>\n",
       "      <td>0</td>\n",
       "    </tr>\n",
       "    <tr>\n",
       "      <th>4843</th>\n",
       "      <td>0</td>\n",
       "      <td>34</td>\n",
       "      <td>52400</td>\n",
       "      <td>1</td>\n",
       "      <td>0</td>\n",
       "    </tr>\n",
       "    <tr>\n",
       "      <th>4844</th>\n",
       "      <td>0</td>\n",
       "      <td>20</td>\n",
       "      <td>33900</td>\n",
       "      <td>2</td>\n",
       "      <td>0</td>\n",
       "    </tr>\n",
       "    <tr>\n",
       "      <th>4845</th>\n",
       "      <td>1</td>\n",
       "      <td>22</td>\n",
       "      <td>32700</td>\n",
       "      <td>3</td>\n",
       "      <td>0</td>\n",
       "    </tr>\n",
       "    <tr>\n",
       "      <th>4846</th>\n",
       "      <td>1</td>\n",
       "      <td>28</td>\n",
       "      <td>40600</td>\n",
       "      <td>1</td>\n",
       "      <td>0</td>\n",
       "    </tr>\n",
       "  </tbody>\n",
       "</table>\n",
       "<p>4847 rows × 5 columns</p>\n",
       "</div>"
      ],
      "text/plain": [
       "      Пол  Возраст  Зарплата  Члены семьи  Страховые выплаты\n",
       "0       1       41     49600            1                  0\n",
       "1       0       46     38000            1                  1\n",
       "2       0       29     21000            0                  0\n",
       "3       0       21     41700            2                  0\n",
       "4       1       28     26100            0                  0\n",
       "...   ...      ...       ...          ...                ...\n",
       "4842    0       28     35700            2                  0\n",
       "4843    0       34     52400            1                  0\n",
       "4844    0       20     33900            2                  0\n",
       "4845    1       22     32700            3                  0\n",
       "4846    1       28     40600            1                  0\n",
       "\n",
       "[4847 rows x 5 columns]"
      ]
     },
     "metadata": {},
     "output_type": "display_data"
    },
    {
     "data": {
      "text/html": [
       "<hr>"
      ],
      "text/plain": [
       "<IPython.core.display.HTML object>"
      ]
     },
     "metadata": {},
     "output_type": "display_data"
    },
    {
     "data": {
      "text/plain": [
       "'X0'"
      ]
     },
     "metadata": {},
     "output_type": "display_data"
    },
    {
     "data": {
      "text/html": [
       "<div>\n",
       "<style scoped>\n",
       "    .dataframe tbody tr th:only-of-type {\n",
       "        vertical-align: middle;\n",
       "    }\n",
       "\n",
       "    .dataframe tbody tr th {\n",
       "        vertical-align: top;\n",
       "    }\n",
       "\n",
       "    .dataframe thead th {\n",
       "        text-align: right;\n",
       "    }\n",
       "</style>\n",
       "<table border=\"1\" class=\"dataframe\">\n",
       "  <thead>\n",
       "    <tr style=\"text-align: right;\">\n",
       "      <th></th>\n",
       "      <th>0</th>\n",
       "      <th>1</th>\n",
       "      <th>2</th>\n",
       "      <th>3</th>\n",
       "      <th>4</th>\n",
       "    </tr>\n",
       "  </thead>\n",
       "  <tbody>\n",
       "    <tr>\n",
       "      <th>0</th>\n",
       "      <td>1.0</td>\n",
       "      <td>1.0</td>\n",
       "      <td>41.0</td>\n",
       "      <td>49600.0</td>\n",
       "      <td>1.0</td>\n",
       "    </tr>\n",
       "    <tr>\n",
       "      <th>1</th>\n",
       "      <td>1.0</td>\n",
       "      <td>0.0</td>\n",
       "      <td>46.0</td>\n",
       "      <td>38000.0</td>\n",
       "      <td>1.0</td>\n",
       "    </tr>\n",
       "    <tr>\n",
       "      <th>2</th>\n",
       "      <td>1.0</td>\n",
       "      <td>0.0</td>\n",
       "      <td>29.0</td>\n",
       "      <td>21000.0</td>\n",
       "      <td>0.0</td>\n",
       "    </tr>\n",
       "    <tr>\n",
       "      <th>3</th>\n",
       "      <td>1.0</td>\n",
       "      <td>0.0</td>\n",
       "      <td>21.0</td>\n",
       "      <td>41700.0</td>\n",
       "      <td>2.0</td>\n",
       "    </tr>\n",
       "    <tr>\n",
       "      <th>4</th>\n",
       "      <td>1.0</td>\n",
       "      <td>1.0</td>\n",
       "      <td>28.0</td>\n",
       "      <td>26100.0</td>\n",
       "      <td>0.0</td>\n",
       "    </tr>\n",
       "    <tr>\n",
       "      <th>...</th>\n",
       "      <td>...</td>\n",
       "      <td>...</td>\n",
       "      <td>...</td>\n",
       "      <td>...</td>\n",
       "      <td>...</td>\n",
       "    </tr>\n",
       "    <tr>\n",
       "      <th>4842</th>\n",
       "      <td>1.0</td>\n",
       "      <td>0.0</td>\n",
       "      <td>28.0</td>\n",
       "      <td>35700.0</td>\n",
       "      <td>2.0</td>\n",
       "    </tr>\n",
       "    <tr>\n",
       "      <th>4843</th>\n",
       "      <td>1.0</td>\n",
       "      <td>0.0</td>\n",
       "      <td>34.0</td>\n",
       "      <td>52400.0</td>\n",
       "      <td>1.0</td>\n",
       "    </tr>\n",
       "    <tr>\n",
       "      <th>4844</th>\n",
       "      <td>1.0</td>\n",
       "      <td>0.0</td>\n",
       "      <td>20.0</td>\n",
       "      <td>33900.0</td>\n",
       "      <td>2.0</td>\n",
       "    </tr>\n",
       "    <tr>\n",
       "      <th>4845</th>\n",
       "      <td>1.0</td>\n",
       "      <td>1.0</td>\n",
       "      <td>22.0</td>\n",
       "      <td>32700.0</td>\n",
       "      <td>3.0</td>\n",
       "    </tr>\n",
       "    <tr>\n",
       "      <th>4846</th>\n",
       "      <td>1.0</td>\n",
       "      <td>1.0</td>\n",
       "      <td>28.0</td>\n",
       "      <td>40600.0</td>\n",
       "      <td>1.0</td>\n",
       "    </tr>\n",
       "  </tbody>\n",
       "</table>\n",
       "<p>4847 rows × 5 columns</p>\n",
       "</div>"
      ],
      "text/plain": [
       "        0    1     2        3    4\n",
       "0     1.0  1.0  41.0  49600.0  1.0\n",
       "1     1.0  0.0  46.0  38000.0  1.0\n",
       "2     1.0  0.0  29.0  21000.0  0.0\n",
       "3     1.0  0.0  21.0  41700.0  2.0\n",
       "4     1.0  1.0  28.0  26100.0  0.0\n",
       "...   ...  ...   ...      ...  ...\n",
       "4842  1.0  0.0  28.0  35700.0  2.0\n",
       "4843  1.0  0.0  34.0  52400.0  1.0\n",
       "4844  1.0  0.0  20.0  33900.0  2.0\n",
       "4845  1.0  1.0  22.0  32700.0  3.0\n",
       "4846  1.0  1.0  28.0  40600.0  1.0\n",
       "\n",
       "[4847 rows x 5 columns]"
      ]
     },
     "metadata": {},
     "output_type": "display_data"
    },
    {
     "data": {
      "text/html": [
       "<hr>"
      ],
      "text/plain": [
       "<IPython.core.display.HTML object>"
      ]
     },
     "metadata": {},
     "output_type": "display_data"
    },
    {
     "data": {
      "text/plain": [
       "'y0'"
      ]
     },
     "metadata": {},
     "output_type": "display_data"
    },
    {
     "data": {
      "text/plain": [
       "array([0, 1, 0, ..., 0, 0, 0])"
      ]
     },
     "metadata": {},
     "output_type": "display_data"
    },
    {
     "data": {
      "text/html": [
       "<hr>"
      ],
      "text/plain": [
       "<IPython.core.display.HTML object>"
      ]
     },
     "metadata": {},
     "output_type": "display_data"
    }
   ],
   "source": [
    "# step 3\n",
    "X0 = np.concatenate((np.ones((data.shape[0], 1)), data.iloc[:,:-1]), axis=1)\n",
    "y0 = data.iloc[:,-1].values\n",
    "if VERBOSE > 0:\n",
    "    display('data',data, HTML('<hr>'))\n",
    "    display('X0', pd.DataFrame(X0), HTML('<hr>'))\n",
    "    display('y0', y0, HTML('<hr>'))"
   ]
  },
  {
   "cell_type": "code",
   "execution_count": 13,
   "metadata": {},
   "outputs": [
    {
     "data": {
      "text/plain": [
       "'Xn'"
      ]
     },
     "metadata": {},
     "output_type": "display_data"
    },
    {
     "data": {
      "text/plain": [
       "array([[3.29665908e+03, 6.27018981e+01, 9.73989048e+03, 7.11684803e+04,\n",
       "        7.60249918e+04],\n",
       "       [2.54642092e+03, 6.92231564e+01, 7.47326414e+03, 5.45261640e+04,\n",
       "        5.82487591e+04],\n",
       "       [1.41247193e+03, 4.28772730e+01, 4.13310827e+03, 3.01331693e+04,\n",
       "        3.21910828e+04],\n",
       "       ...,\n",
       "       [2.24269332e+03, 3.24758661e+01, 6.65041177e+03, 4.86404676e+04,\n",
       "        5.19581578e+04],\n",
       "       [2.16919874e+03, 3.76276601e+01, 6.41903753e+03, 4.69207792e+04,\n",
       "        5.01207606e+04],\n",
       "       [2.69109504e+03, 4.36272177e+01, 7.96855371e+03, 5.82542696e+04,\n",
       "        6.22287156e+04]])"
      ]
     },
     "metadata": {},
     "output_type": "display_data"
    },
    {
     "data": {
      "text/html": [
       "<hr>"
      ],
      "text/plain": [
       "<IPython.core.display.HTML object>"
      ]
     },
     "metadata": {},
     "output_type": "display_data"
    },
    {
     "data": {
      "text/plain": [
       "'repair_features(Xn)'"
      ]
     },
     "metadata": {},
     "output_type": "display_data"
    },
    {
     "data": {
      "text/html": [
       "<div>\n",
       "<style scoped>\n",
       "    .dataframe tbody tr th:only-of-type {\n",
       "        vertical-align: middle;\n",
       "    }\n",
       "\n",
       "    .dataframe tbody tr th {\n",
       "        vertical-align: top;\n",
       "    }\n",
       "\n",
       "    .dataframe thead th {\n",
       "        text-align: right;\n",
       "    }\n",
       "</style>\n",
       "<table border=\"1\" class=\"dataframe\">\n",
       "  <thead>\n",
       "    <tr style=\"text-align: right;\">\n",
       "      <th></th>\n",
       "      <th>0</th>\n",
       "      <th>1</th>\n",
       "      <th>2</th>\n",
       "      <th>3</th>\n",
       "      <th>4</th>\n",
       "    </tr>\n",
       "  </thead>\n",
       "  <tbody>\n",
       "    <tr>\n",
       "      <th>0</th>\n",
       "      <td>1.0</td>\n",
       "      <td>1.000000e+00</td>\n",
       "      <td>41.0</td>\n",
       "      <td>49600.0</td>\n",
       "      <td>1.000000e+00</td>\n",
       "    </tr>\n",
       "    <tr>\n",
       "      <th>1</th>\n",
       "      <td>1.0</td>\n",
       "      <td>-3.218679e-14</td>\n",
       "      <td>46.0</td>\n",
       "      <td>38000.0</td>\n",
       "      <td>1.000000e+00</td>\n",
       "    </tr>\n",
       "    <tr>\n",
       "      <th>2</th>\n",
       "      <td>1.0</td>\n",
       "      <td>-9.314819e-13</td>\n",
       "      <td>29.0</td>\n",
       "      <td>21000.0</td>\n",
       "      <td>5.534169e-12</td>\n",
       "    </tr>\n",
       "    <tr>\n",
       "      <th>3</th>\n",
       "      <td>1.0</td>\n",
       "      <td>-5.708084e-13</td>\n",
       "      <td>21.0</td>\n",
       "      <td>41700.0</td>\n",
       "      <td>2.000000e+00</td>\n",
       "    </tr>\n",
       "    <tr>\n",
       "      <th>4</th>\n",
       "      <td>1.0</td>\n",
       "      <td>1.000000e+00</td>\n",
       "      <td>28.0</td>\n",
       "      <td>26100.0</td>\n",
       "      <td>7.131431e-12</td>\n",
       "    </tr>\n",
       "    <tr>\n",
       "      <th>...</th>\n",
       "      <td>...</td>\n",
       "      <td>...</td>\n",
       "      <td>...</td>\n",
       "      <td>...</td>\n",
       "      <td>...</td>\n",
       "    </tr>\n",
       "    <tr>\n",
       "      <th>4842</th>\n",
       "      <td>1.0</td>\n",
       "      <td>-1.019900e-12</td>\n",
       "      <td>28.0</td>\n",
       "      <td>35700.0</td>\n",
       "      <td>2.000000e+00</td>\n",
       "    </tr>\n",
       "    <tr>\n",
       "      <th>4843</th>\n",
       "      <td>1.0</td>\n",
       "      <td>-1.060065e-12</td>\n",
       "      <td>34.0</td>\n",
       "      <td>52400.0</td>\n",
       "      <td>1.000000e+00</td>\n",
       "    </tr>\n",
       "    <tr>\n",
       "      <th>4844</th>\n",
       "      <td>1.0</td>\n",
       "      <td>-1.036739e-12</td>\n",
       "      <td>20.0</td>\n",
       "      <td>33900.0</td>\n",
       "      <td>2.000000e+00</td>\n",
       "    </tr>\n",
       "    <tr>\n",
       "      <th>4845</th>\n",
       "      <td>1.0</td>\n",
       "      <td>1.000000e+00</td>\n",
       "      <td>22.0</td>\n",
       "      <td>32700.0</td>\n",
       "      <td>3.000000e+00</td>\n",
       "    </tr>\n",
       "    <tr>\n",
       "      <th>4846</th>\n",
       "      <td>1.0</td>\n",
       "      <td>1.000000e+00</td>\n",
       "      <td>28.0</td>\n",
       "      <td>40600.0</td>\n",
       "      <td>1.000000e+00</td>\n",
       "    </tr>\n",
       "  </tbody>\n",
       "</table>\n",
       "<p>4847 rows × 5 columns</p>\n",
       "</div>"
      ],
      "text/plain": [
       "        0             1     2        3             4\n",
       "0     1.0  1.000000e+00  41.0  49600.0  1.000000e+00\n",
       "1     1.0 -3.218679e-14  46.0  38000.0  1.000000e+00\n",
       "2     1.0 -9.314819e-13  29.0  21000.0  5.534169e-12\n",
       "3     1.0 -5.708084e-13  21.0  41700.0  2.000000e+00\n",
       "4     1.0  1.000000e+00  28.0  26100.0  7.131431e-12\n",
       "...   ...           ...   ...      ...           ...\n",
       "4842  1.0 -1.019900e-12  28.0  35700.0  2.000000e+00\n",
       "4843  1.0 -1.060065e-12  34.0  52400.0  1.000000e+00\n",
       "4844  1.0 -1.036739e-12  20.0  33900.0  2.000000e+00\n",
       "4845  1.0  1.000000e+00  22.0  32700.0  3.000000e+00\n",
       "4846  1.0  1.000000e+00  28.0  40600.0  1.000000e+00\n",
       "\n",
       "[4847 rows x 5 columns]"
      ]
     },
     "metadata": {},
     "output_type": "display_data"
    },
    {
     "data": {
      "text/html": [
       "<hr>"
      ],
      "text/plain": [
       "<IPython.core.display.HTML object>"
      ]
     },
     "metadata": {},
     "output_type": "display_data"
    },
    {
     "data": {
      "text/plain": [
       "'признаков, у которых разница деобфускационных данных и исходных больше порога:        0'"
      ]
     },
     "metadata": {},
     "output_type": "display_data"
    }
   ],
   "source": [
    "# step 4, 5, 9\n",
    "Xn = X0.dot(A)\n",
    "\n",
    "def repair_features(X):\n",
    "    return Xn.dot(Ai)\n",
    "\n",
    "if VERBOSE > 0:\n",
    "    display('Xn', Xn, HTML('<hr>'))\n",
    "    display('repair_features(Xn)', pd.DataFrame(repair_features(Xn)), HTML('<hr>'))\n",
    "    display(f\"признаков, у которых разница деобфускационных данных и исходных больше порога:\\\n",
    "        {((repair_features(Xn) - X0) > 1E-6).sum()}\")\n"
   ]
  },
  {
   "cell_type": "code",
   "execution_count": 14,
   "metadata": {},
   "outputs": [],
   "source": [
    "# step 6\n",
    "\n",
    "model_xn = LinearRegression()\n",
    "model_xn.fit(Xn,y0);"
   ]
  },
  {
   "cell_type": "code",
   "execution_count": 15,
   "metadata": {},
   "outputs": [
    {
     "data": {
      "text/plain": [
       "array([[49644, 38049, 21030, ..., 33923, 32727, 40631]])"
      ]
     },
     "metadata": {},
     "output_type": "display_data"
    },
    {
     "data": {
      "text/plain": [
       "'несовпадающих элементов в целевом признаке после деобфускации: 0'"
      ]
     },
     "metadata": {},
     "output_type": "display_data"
    }
   ],
   "source": [
    "# step 7, 10\n",
    "# v1 X_sum = np.dot(X0, [1,1,1,1,1]).astype(int) # key = сумма всех признаков в векторе\n",
    "X_sum = np.dot(np.ones((1,n)), X0.T).astype(int) # v2\n",
    "y_xor = y0 ^ X_sum\n",
    "if VERBOSE > 0:\n",
    "    display(y_xor)\n",
    "    display(f'несовпадающих элементов в целевом признаке после деобфускации: {((y_xor ^ X_sum) != y0).sum()}' )"
   ]
  },
  {
   "cell_type": "code",
   "execution_count": 16,
   "metadata": {},
   "outputs": [
    {
     "data": {
      "text/plain": [
       "array([ 0.51903524,  0.69204196,  0.09386405, ..., -0.26193077,\n",
       "       -0.19418654,  0.05028512])"
      ]
     },
     "metadata": {},
     "output_type": "display_data"
    },
    {
     "data": {
      "text/plain": [
       "'неверных предсказаний:281'"
      ]
     },
     "metadata": {},
     "output_type": "display_data"
    },
    {
     "name": "stdout",
     "output_type": "stream",
     "text": [
      "count    4847.000000\n",
      "mean        0.152014\n",
      "std         0.307573\n",
      "min        -0.376852\n",
      "25%        -0.096609\n",
      "50%         0.123325\n",
      "75%         0.359850\n",
      "max         1.388434\n",
      "dtype: float64\n"
     ]
    },
    {
     "data": {
      "image/png": "[encoded data removed]",
      "text/plain": [
       "<Figure size 432x288 with 1 Axes>"
      ]
     },
     "metadata": {
      "needs_background": "light"
     },
     "output_type": "display_data"
    }
   ],
   "source": [
    "# step 8\n",
    "predict_xn = model_xn.predict(Xn)\n",
    "if VERBOSE > 0:\n",
    "    display(predict_xn)\n",
    "    display(f'неверных предсказаний:{(predict_xn.round(0)!=y0).sum()}')\n",
    "    tmp2=pd.Series(predict_xn)\n",
    "    print(tmp2.describe())\n",
    "    ax=tmp2.plot();\n",
    "    for i in ['25%', '50%', '75%']: ax.axhline(tmp2.describe()[i], color='k', linestyle='--');\n"
   ]
  },
  {
   "cell_type": "code",
   "execution_count": 17,
   "metadata": {},
   "outputs": [
    {
     "data": {
      "text/plain": [
       "'Максимальная разница предсказаний по X0 и Xn: 0.000400900886600164'"
      ]
     },
     "metadata": {},
     "output_type": "display_data"
    },
    {
     "data": {
      "text/plain": [
       "'r2(predict_x0)=0.4302010046633359 r2(predict_xn)=0.43020245238078125 разница=-1.4477174453686459e-06'"
      ]
     },
     "metadata": {},
     "output_type": "display_data"
    }
   ],
   "source": [
    "model_x0 = LinearRegression()\n",
    "model_x0.fit(X0, y0)\n",
    "predict_x0 = model_x0.predict(X0)\n",
    "display(f'Максимальная разница предсказаний по X0 и Xn: {(predict_x0 - predict_xn).max()}')\n",
    "display(f'r2(predict_x0)={r2_score(y0, predict_x0)} r2(predict_xn)={r2_score(y0, predict_xn)} \\\n",
    "разница={r2_score(y0, predict_x0)-r2_score(y0, predict_xn)}')\n"
   ]
  },
  {
   "cell_type": "markdown",
   "metadata": {},
   "source": [
    "Посмотрим, как изменятся предсказания, если перед обучением нормализировать признаки:"
   ]
  },
  {
   "cell_type": "code",
   "execution_count": 18,
   "metadata": {},
   "outputs": [
    {
     "data": {
      "text/plain": [
       "'разница предсказаний после нормировки: 2.7172708527700706e-13'"
      ]
     },
     "metadata": {},
     "output_type": "display_data"
    },
    {
     "data": {
      "text/plain": [
       "'r2(pred_norm_x0)=0.4302010046633359 r2(pred_norm_xn)=0.430201004663335 разница=8.881784197001252e-16'"
      ]
     },
     "metadata": {},
     "output_type": "display_data"
    }
   ],
   "source": [
    "transformer = Pipeline(steps=[('scaler', StandardScaler())])\n",
    "model_norm_xn=Pipeline(steps=[('transformer', transformer),('regressor', LinearRegression())])\n",
    "model_norm_x0=Pipeline(steps=[('transformer', transformer),('regressor', LinearRegression())])\n",
    "model_norm_xn.fit(Xn,y0)\n",
    "pred_norm_xn=model_norm_xn.predict(Xn)\n",
    "model_norm_x0.fit(X0,y0)\n",
    "pred_norm_x0=model_norm_x0.predict(X0)\n",
    "display(f'разница предсказаний после нормировки: {(pred_norm_xn-pred_norm_x0).max()}')\n",
    "display(f'r2(pred_norm_x0)={r2_score(y0, pred_norm_x0)} r2(pred_norm_xn)={r2_score(y0, pred_norm_xn)} \\\n",
    "разница={r2_score(y0, pred_norm_x0)-r2_score(y0, pred_norm_xn)}')"
   ]
  },
  {
   "cell_type": "markdown",
   "metadata": {},
   "source": [
    "<div class=\"alert alert-warning\">\n",
    "<font size=\"5\"><b>Комментарий ревьюера</b></font>\n",
    "\n",
    "Совет 🤔:\n",
    "\n",
    "\n",
    "\n",
    "Можно реализовать pipeline, с собственной функцией преобразования данных - в нашем случае перемножение наших данные на сгенерированную матрицу. Какого то практического смысла это иметь не будет, напомню что pipeline мы используем для того чтобы не было утечки данных (плюс достигается краткость ), зато можно поупражняться.\n",
    "\n",
    " \n",
    "Можешь взять за основу [Ссылка 1](https://dzen.ru/media/id/5ee6f73b7cadb75a66e4c7e3/sozdanie-polzovatelskih-preobrazovatelei-dannyh-62b2a9a80e49941961ffc7a2),\n",
    "[Ссылка 2](https://towardsdatascience.com/pipelines-custom-transformers-in-scikit-learn-the-step-by-step-guide-with-python-code-4a7d9b068156)\n",
    "\n",
    "На выходе мы должны получить что-то вроде\n",
    "\n",
    "    pipe_cripto = Pipeline([\n",
    "            ('transformer', MatrixTransformer(X.columns)),\n",
    "            ('model', LinearRegression()),\n",
    "        ])\n",
    "\n",
    "\n",
    "    pipe_cripto.fit(X_train)\n",
    "\n",
    "    pipe_cripto.predict(X_test)\n",
    "\n",
    "\n",
    "\n",
    "\n",
    "\n",
    "\n"
   ]
  },
  {
   "cell_type": "markdown",
   "metadata": {},
   "source": [
    "<div class=\"alert alert-info\" style=\"border-radius: 10px; box-shadow: 2px 2px 2px; border: 1px solid; padding: 10px\">\n",
    "<h2> Комментарий студента v2: <a class=\"tocSkip\"></a> </h2>\n",
    "\n",
    "С этим более-менее понятно. По паплайнам интересны ветвящиеся алгоритмы (обработка сырых данных -> передача их в **несколько** моделей -> объединение результатов нескольких моделей в одну (например, выбираем лучшую на основе какой-то метрики). Именно в рамках единого паплайна. Наставник обещал на следующей неделе осветить эти вопросы.\n",
    "</div>"
   ]
  },
  {
   "cell_type": "markdown",
   "metadata": {},
   "source": [
    "<div class=\"alert alert-success\">\n",
    "<font size=\"5\"><b>Комментарий ревьюераV2</b></font>\n",
    "\n",
    "\n",
    "\n",
    "Успех 👍:\n",
    "\n",
    "\n",
    "\n",
    "Отлично\n",
    "\n",
    "\n",
    "\n",
    "\n",
    "</div>\n"
   ]
  },
  {
   "cell_type": "markdown",
   "metadata": {},
   "source": [
    "Вывод: разница предсказаний расчитанных с и без обфускации порядка 1E-4. Если при этом перед обучением нормализовать X0, то  разница предсказаний практически исчезает. То же саммое касается и метрики R2."
   ]
  },
  {
   "cell_type": "markdown",
   "metadata": {},
   "source": [
    "\n",
    "\n",
    "<div class=\"alert alert-success\">\n",
    "<font size=\"5\"><b>Комментарий ревьюера</b></font>\n",
    "\n",
    "Успех 👍:\n",
    "    \n",
    "Все сошлось. Отдельный плюс за: \n",
    "    \n",
    "    \n",
    "- универсальность кода: код отработает для любой размерности матрицы обьект-признак  \n",
    "\n",
    "    \n",
    "- использование конструкции while, чтобы гарантированно получить обратимую матрицу \n",
    "    \n",
    "\n",
    "\n",
    "<div class=\"alert alert-warning\">\n",
    "\n",
    "\n",
    "Совет 🤔: \n",
    "    \n",
    "\n",
    "\n",
    "- каноны ML - когда мы моделируем, разбиваем датасет на несколько, используя train для обучения и test для проверки, опять же это никак не изменит выводы, но каноны стоит уважать\n",
    "   \n"
   ]
  },
  {
   "cell_type": "markdown",
   "metadata": {},
   "source": [
    "<div class=\"alert alert-info\" style=\"border-radius: 10px; box-shadow: 2px 2px 2px; border: 1px solid; padding: 10px\">\n",
    "<h2> Комментарий студента v2: <a class=\"tocSkip\"></a> </h2>\n",
    "    \n",
    "Принято. Согласен, это подсветило... Гмм... Мою лень... Постораюсь дальше не опускать тивиальные действия.\n",
    "</div>"
   ]
  },
  {
   "cell_type": "markdown",
   "metadata": {},
   "source": [
    "\n",
    "\n",
    "\n",
    "\n",
    "<div class=\"alert alert-danger\">\n",
    "<font size=\"5\"><b>Комментарий ревьюера</b></font>\n",
    "\n",
    "Ошибка ❌:\n",
    "\n",
    "Александр, было бы замечательно, в конце немножко о данных, работе с ними, моделировании и полученных результатах, доказательствах. Это важно потому что когда проект захочет посмотреть будущий работодатель (или начальник), у него может не быть времени на подробный разбор кода. Вероятнее всего он бегло просмотрит код, а из общего вывода захочет получить представление о всей работе. Вырабатывай рефлексы правильного оформления проектов )\n",
    "\n",
    "\n",
    "</div>"
   ]
  },
  {
   "cell_type": "markdown",
   "metadata": {},
   "source": [
    "<div class=\"alert alert-info\" style=\"border-radius: 10px; box-shadow: 2px 2px 2px; border: 1px solid; padding: 10px\">\n",
    "<h2> Комментарий студента v2: <a class=\"tocSkip\"></a> </h2>\n",
    "    \n",
    "## Общие итоги:\n",
    "Работа состояла из нескольких этапов:\n",
    "    \n",
    "* На этапе первичного знакомства с данными:\n",
    "    * сырые данные были приведены к целому типу\n",
    "    * были удалены повторяющиеся строки\n",
    "    * была проведена проверка на пропуски\n",
    "* На этапе теоретических рассчетов анализировалось умножение матриц:\n",
    "    * анализировалось влияние умножения признаков на обратимую матрицу на качество линейной регрессии. Было доказано, что качество не изменится.\n",
    "    * было доказано, что предсказания после обучения на обфускационных данных (на вновь обученой модели) полностью совпадают с предсказаниями модели, обученной на сырых данных.\n",
    "    * была указана связь параметров линейной регрессии в исходной задаче и в преобразованной\n",
    "* На этапе разработки алгоритма преобразования\n",
    "    * был предложен алгоритм обфускации и восстановления признаков\n",
    "    * был предложен алгоритм обфускации и восстановления целевых признаков\n",
    "    * было указано, что данные преобразования являются лишь обфускацией данных, и не являются криптостойким шифрованием.\n",
    "*  На этапе проверки алгоритма были вычесленны предсказания на основе имеющхся данных для моделей обученых на сырых и обфускацированных данных. Предсказания полностью совпали (как следствие, совпали и R2 метрики).\n",
    "    \n",
    "</div>"
   ]
  },
  {
   "cell_type": "markdown",
   "metadata": {},
   "source": [
    "<div class=\"alert alert-success\">\n",
    "<font size=\"5\"><b>Комментарий ревьюераV2</b></font>\n",
    "\n",
    "Успех 👍:\n",
    "\n",
    "Общий вывод расписан и структурирован по логическим блокам проекта\n",
    "    "
   ]
  },
  {
   "cell_type": "markdown",
   "metadata": {},
   "source": [
    "\n",
    "<div class=\"alert alert-info\">\n",
    "<font size=\"5\"><b>Комментарий ревьюера</b></font>\n",
    "\n",
    "\n",
    "Александр, у тебя старательно выполненная работа, все четко, осмысленно. Отмечаю уровень твоей программистской подготовки. \n",
    "\n",
    "\n",
    "\n",
    "\n",
    "Я оставил небольшие советы и вопросики (если есть время и желание можешь воспользоваться/ответить)\n",
    "    \n",
    "\n",
    "\n",
    "Обязательное к исправлению:\n",
    "\n",
    "\n",
    "\n",
    "    \n",
    "\n",
    "\n",
    "- выводим соотношение между  𝑤  и  𝑤𝑝 \n",
    "\n",
    "\n",
    "\n",
    " \n",
    "    \n",
    "- стоит добавить общий вывод (лицо проекта)\n",
    "\n",
    "\n",
    "\n",
    "\n",
    "\n",
    "\n",
    "\n",
    "Жду исправлений, для принятия проекта. Если какие то вопросы, то сразу спрашивай ) \n",
    "\n",
    "\n",
    "\n",
    "\n",
    "\n",
    "\n",
    "\n",
    "\n",
    "<div class=\"alert alert-warning\">\n",
    "<b>Комментарий ревьюера</b>\n",
    "\n",
    "\n",
    "\n",
    "На мой взгляд проект очень необычный, выделяющийся из остальных проектов потому что касается раздела математики лежащей в основе машинного обучения  (помимо производных, матанализа и теории вероятности с матстатистикой). Если в дальнейшем ты углубишься в изучении нейростетей, то понимание линейной алгебры будет очень полезным, потому что, по сути, все нейросети - это перемножение матриц и Линейная алгебра даёт очень компактный способ записи того что происходит в нейросетях. \n",
    "\n",
    "Кроме того языком линейной алгебра можно объяснить тематическое моделирование и pca (через сингулярное разложение)\n",
    "\n",
    "Мне не очень нравится эти ссылки, наверняка можно найти получше, но там вполне наглядно показывают связь между линейной алгебры и многослойным перцептроном\n",
    "    \n",
    "https://www.youtube.com/watch?v=kmdqBlls_HQ    \n",
    "https://www.youtube.com/watch?v=AOZZeTQl4Xc\n",
    "\n",
    "\n",
    "Это даже важно как \"понятийный язык\", вот здесь о модели word2vec (это NLP) рассказываться \"языком линейной алгебры\" с [22 минуты](https://www.youtube.com/watch?v=MBQdMQUZMQM&t=3340s) \n",
    "    \n",
    "\n",
    "Возможно будет полезно:\n",
    "    \n",
    "\n",
    "    \n",
    "- Если хочешь посмотреть вообще про линейную алгебру и матрицы, то мне нравится  вот это [видео](https://www.youtube.com/watch?v=RNTRYicPvWQ&list=PLVjLpKXnAGLXPaS7FRBjd5yZeXwJxZil2), рассказывается по существу и увлекательно.  \n",
    "\n",
    "\n",
    "- по применению криптографии в машинном обучении на английском: [тут](https://www.cs.cmu.edu/~rjhall/JOS_revised_May_31a.pdf)\n",
    "\n",
    "\n"
   ]
  },
  {
   "cell_type": "markdown",
   "metadata": {},
   "source": [
    "<div class=\"alert alert-info\" style=\"border-radius: 10px; box-shadow: 2px 2px 2px; border: 1px solid; padding: 10px\">\n",
    "Благодарю\n",
    "</div>"
   ]
  },
  {
   "cell_type": "markdown",
   "metadata": {},
   "source": [
    "\n",
    "<div class=\"alert alert-info\">\n",
    "<font size=\"5\"><b>Комментарий ревьюераV2</b></font>\n",
    "\n",
    "Спасибо за работу!    \n",
    "\n",
    "    \n",
    "Красное исправлено. Надеюсь мои советы и ссылки были полезны и в копилочку знаний упало что то новое, а проект стал лучше, и симпатичней.\n",
    "\n",
    "\n",
    "\n",
    "  \n",
    "Отличная работа Александр. Желаю успехов в дальнейшей учебе!\n",
    "\n"
   ]
  },
  {
   "cell_type": "markdown",
   "metadata": {},
   "source": [
    "## Чек-лист проверки"
   ]
  },
  {
   "cell_type": "markdown",
   "metadata": {},
   "source": [
    "Поставьте 'x' в выполненных пунктах. Далее нажмите Shift+Enter."
   ]
  },
  {
   "cell_type": "markdown",
   "metadata": {},
   "source": [
    "- [x]  Jupyter Notebook открыт\n",
    "- [x]  Весь код выполняется без ошибок\n",
    "- [x]  Ячейки с кодом расположены в порядке исполнения\n",
    "- [x]  Выполнен шаг 1: данные загружены\n",
    "- [x]  Выполнен шаг 2: получен ответ на вопрос об умножении матриц\n",
    "    - [x]  Указан правильный вариант ответа\n",
    "    - [x]  Вариант обоснован\n",
    "- [x]  Выполнен шаг 3: предложен алгоритм преобразования\n",
    "    - [x]  Алгоритм описан\n",
    "    - [x]  Алгоритм обоснован\n",
    "- [x]  Выполнен шаг 4: алгоритм проверен\n",
    "    - [x]  Алгоритм реализован\n",
    "    - [x]  Проведено сравнение качества моделей до и после преобразования"
   ]
  },
  {
   "cell_type": "code",
   "execution_count": null,
   "metadata": {},
   "outputs": [],
   "source": []
  }
 ],
 "metadata": {
  "ExecuteTimeLog": [
   {
    "duration": 514,
    "start_time": "2023-09-07T06:38:20.282Z"
   },
   {
    "duration": 80,
    "start_time": "2023-09-07T06:38:23.020Z"
   },
   {
    "duration": 17,
    "start_time": "2023-09-07T06:38:24.958Z"
   },
   {
    "duration": 1253,
    "start_time": "2023-09-07T06:40:57.931Z"
   },
   {
    "duration": 502,
    "start_time": "2023-09-07T06:41:23.943Z"
   },
   {
    "duration": 540,
    "start_time": "2023-09-07T06:41:38.725Z"
   },
   {
    "duration": 757,
    "start_time": "2023-09-07T06:41:49.294Z"
   },
   {
    "duration": 743,
    "start_time": "2023-09-07T06:41:55.904Z"
   },
   {
    "duration": 1401,
    "start_time": "2023-09-07T06:42:08.297Z"
   },
   {
    "duration": 78,
    "start_time": "2023-09-07T06:43:13.062Z"
   },
   {
    "duration": 8,
    "start_time": "2023-09-07T06:43:18.273Z"
   },
   {
    "duration": 1364,
    "start_time": "2023-09-07T06:43:23.907Z"
   },
   {
    "duration": 10,
    "start_time": "2023-09-07T07:14:21.779Z"
   },
   {
    "duration": 19,
    "start_time": "2023-09-12T08:22:46.452Z"
   },
   {
    "duration": 6,
    "start_time": "2023-09-12T08:23:54.956Z"
   },
   {
    "duration": 8,
    "start_time": "2023-09-12T08:24:16.087Z"
   },
   {
    "duration": 313,
    "start_time": "2023-09-12T08:25:39.512Z"
   },
   {
    "duration": 4,
    "start_time": "2023-09-12T08:25:54.892Z"
   },
   {
    "duration": 6,
    "start_time": "2023-09-12T08:26:00.958Z"
   },
   {
    "duration": 7,
    "start_time": "2023-09-12T08:26:35.027Z"
   },
   {
    "duration": 8,
    "start_time": "2023-09-12T08:26:55.971Z"
   },
   {
    "duration": 14,
    "start_time": "2023-09-12T08:27:31.100Z"
   },
   {
    "duration": 12,
    "start_time": "2023-09-12T08:34:25.411Z"
   },
   {
    "duration": 1335,
    "start_time": "2023-09-12T08:35:08.223Z"
   },
   {
    "duration": 12,
    "start_time": "2023-09-12T08:35:43.003Z"
   },
   {
    "duration": 8,
    "start_time": "2023-09-12T08:35:54.785Z"
   },
   {
    "duration": 7,
    "start_time": "2023-09-12T08:36:00.257Z"
   },
   {
    "duration": 20,
    "start_time": "2023-09-12T08:44:08.573Z"
   },
   {
    "duration": 17,
    "start_time": "2023-09-12T08:44:25.624Z"
   },
   {
    "duration": 18,
    "start_time": "2023-09-12T08:44:45.825Z"
   },
   {
    "duration": 14,
    "start_time": "2023-09-12T08:44:54.441Z"
   },
   {
    "duration": 25,
    "start_time": "2023-09-12T08:46:22.308Z"
   },
   {
    "duration": 17,
    "start_time": "2023-09-12T08:46:23.672Z"
   },
   {
    "duration": 30,
    "start_time": "2023-09-12T08:46:33.435Z"
   },
   {
    "duration": 19,
    "start_time": "2023-09-12T08:46:37.771Z"
   },
   {
    "duration": 24,
    "start_time": "2023-09-12T08:46:48.407Z"
   },
   {
    "duration": 16,
    "start_time": "2023-09-12T08:46:52.839Z"
   },
   {
    "duration": 15,
    "start_time": "2023-09-12T08:48:32.640Z"
   },
   {
    "duration": 6,
    "start_time": "2023-09-12T08:48:39.172Z"
   },
   {
    "duration": 10,
    "start_time": "2023-09-12T09:44:55.869Z"
   },
   {
    "duration": 10,
    "start_time": "2023-09-12T09:45:04.083Z"
   },
   {
    "duration": 5,
    "start_time": "2023-09-12T09:45:11.405Z"
   },
   {
    "duration": 88,
    "start_time": "2023-09-12T09:55:54.791Z"
   },
   {
    "duration": 90,
    "start_time": "2023-09-12T09:56:26.271Z"
   },
   {
    "duration": 9,
    "start_time": "2023-09-12T09:57:35.583Z"
   },
   {
    "duration": 9,
    "start_time": "2023-09-12T09:59:22.329Z"
   },
   {
    "duration": 11,
    "start_time": "2023-09-12T10:00:21.445Z"
   },
   {
    "duration": 10,
    "start_time": "2023-09-12T10:04:38.340Z"
   },
   {
    "duration": 22,
    "start_time": "2023-09-12T11:53:34.765Z"
   },
   {
    "duration": 14,
    "start_time": "2023-09-12T11:53:53.764Z"
   },
   {
    "duration": 10,
    "start_time": "2023-09-12T11:54:58.055Z"
   },
   {
    "duration": 10,
    "start_time": "2023-09-12T11:55:18.411Z"
   },
   {
    "duration": 6,
    "start_time": "2023-09-12T11:57:32.752Z"
   },
   {
    "duration": 20,
    "start_time": "2023-09-12T11:59:12.265Z"
   },
   {
    "duration": 10,
    "start_time": "2023-09-12T11:59:21.039Z"
   },
   {
    "duration": 7,
    "start_time": "2023-09-12T11:59:39.317Z"
   },
   {
    "duration": 9,
    "start_time": "2023-09-12T11:59:40.692Z"
   },
   {
    "duration": 139,
    "start_time": "2023-09-12T11:59:48.579Z"
   },
   {
    "duration": 101,
    "start_time": "2023-09-12T11:59:52.554Z"
   },
   {
    "duration": 384,
    "start_time": "2023-09-12T12:06:00.682Z"
   },
   {
    "duration": 10,
    "start_time": "2023-09-12T12:06:17.746Z"
   },
   {
    "duration": 8,
    "start_time": "2023-09-12T12:07:53.527Z"
   },
   {
    "duration": 7,
    "start_time": "2023-09-12T12:08:00.662Z"
   },
   {
    "duration": 1390,
    "start_time": "2023-09-12T12:09:26.868Z"
   },
   {
    "duration": 1815,
    "start_time": "2023-09-12T12:09:38.104Z"
   },
   {
    "duration": 8,
    "start_time": "2023-09-12T12:10:06.146Z"
   },
   {
    "duration": 17,
    "start_time": "2023-09-12T12:12:02.709Z"
   },
   {
    "duration": 17,
    "start_time": "2023-09-12T12:12:25.448Z"
   },
   {
    "duration": 12,
    "start_time": "2023-09-12T12:13:29.141Z"
   },
   {
    "duration": 14,
    "start_time": "2023-09-12T12:13:56.643Z"
   },
   {
    "duration": 17,
    "start_time": "2023-09-12T12:14:15.969Z"
   },
   {
    "duration": 13,
    "start_time": "2023-09-12T12:14:38.982Z"
   },
   {
    "duration": 13,
    "start_time": "2023-09-12T12:14:53.851Z"
   },
   {
    "duration": 14,
    "start_time": "2023-09-12T12:15:40.730Z"
   },
   {
    "duration": 8,
    "start_time": "2023-09-12T12:17:39.752Z"
   },
   {
    "duration": 8,
    "start_time": "2023-09-12T12:17:41.098Z"
   },
   {
    "duration": 9,
    "start_time": "2023-09-12T12:17:42.302Z"
   },
   {
    "duration": 12,
    "start_time": "2023-09-12T12:17:43.212Z"
   },
   {
    "duration": 17,
    "start_time": "2023-09-12T12:27:52.686Z"
   },
   {
    "duration": 3,
    "start_time": "2023-09-12T12:28:00.407Z"
   },
   {
    "duration": 95,
    "start_time": "2023-09-12T12:28:05.515Z"
   },
   {
    "duration": 19,
    "start_time": "2023-09-12T12:28:34.079Z"
   },
   {
    "duration": 15,
    "start_time": "2023-09-12T12:28:54.583Z"
   },
   {
    "duration": 17,
    "start_time": "2023-09-12T12:29:02.875Z"
   },
   {
    "duration": 45,
    "start_time": "2023-09-12T12:29:39.265Z"
   },
   {
    "duration": 72,
    "start_time": "2023-09-12T12:30:11.040Z"
   },
   {
    "duration": 94,
    "start_time": "2023-09-12T12:30:23.617Z"
   },
   {
    "duration": 8,
    "start_time": "2023-09-12T12:31:01.939Z"
   },
   {
    "duration": 7,
    "start_time": "2023-09-12T12:31:09.627Z"
   },
   {
    "duration": 11,
    "start_time": "2023-09-12T12:32:30.934Z"
   },
   {
    "duration": 14,
    "start_time": "2023-09-12T12:32:39.909Z"
   },
   {
    "duration": 4,
    "start_time": "2023-09-12T12:32:47.628Z"
   },
   {
    "duration": 5,
    "start_time": "2023-09-12T12:32:54.879Z"
   },
   {
    "duration": 6,
    "start_time": "2023-09-12T12:33:06.333Z"
   },
   {
    "duration": 3,
    "start_time": "2023-09-12T12:33:21.164Z"
   },
   {
    "duration": 6,
    "start_time": "2023-09-12T12:33:33.416Z"
   },
   {
    "duration": 5,
    "start_time": "2023-09-12T12:33:37.158Z"
   },
   {
    "duration": 3,
    "start_time": "2023-09-12T12:33:42.946Z"
   },
   {
    "duration": 5,
    "start_time": "2023-09-12T12:33:48.127Z"
   },
   {
    "duration": 7,
    "start_time": "2023-09-12T12:33:55.612Z"
   },
   {
    "duration": 11,
    "start_time": "2023-09-12T12:34:22.546Z"
   },
   {
    "duration": 19,
    "start_time": "2023-09-12T12:38:59.662Z"
   },
   {
    "duration": 13,
    "start_time": "2023-09-12T12:39:37.169Z"
   },
   {
    "duration": 13,
    "start_time": "2023-09-12T12:41:12.909Z"
   },
   {
    "duration": 3,
    "start_time": "2023-09-12T12:41:35.609Z"
   },
   {
    "duration": 12,
    "start_time": "2023-09-12T12:41:41.068Z"
   },
   {
    "duration": 13,
    "start_time": "2023-09-12T12:41:53.807Z"
   },
   {
    "duration": 6,
    "start_time": "2023-09-12T12:43:05.136Z"
   },
   {
    "duration": 21,
    "start_time": "2023-09-12T12:43:23.569Z"
   },
   {
    "duration": 9,
    "start_time": "2023-09-12T12:43:31.105Z"
   },
   {
    "duration": 15,
    "start_time": "2023-09-12T12:43:41.793Z"
   },
   {
    "duration": 14,
    "start_time": "2023-09-12T12:44:33.434Z"
   },
   {
    "duration": 8,
    "start_time": "2023-09-12T12:45:18.878Z"
   },
   {
    "duration": 6,
    "start_time": "2023-09-12T12:45:39.072Z"
   },
   {
    "duration": 11,
    "start_time": "2023-09-12T12:46:18.662Z"
   },
   {
    "duration": 6,
    "start_time": "2023-09-12T12:46:24.442Z"
   },
   {
    "duration": 10,
    "start_time": "2023-09-12T12:46:38.121Z"
   },
   {
    "duration": 16,
    "start_time": "2023-09-12T12:46:43.943Z"
   },
   {
    "duration": 6,
    "start_time": "2023-09-12T12:46:56.627Z"
   },
   {
    "duration": 174,
    "start_time": "2023-09-12T12:47:47.309Z"
   },
   {
    "duration": 11,
    "start_time": "2023-09-12T12:47:53.158Z"
   },
   {
    "duration": 9,
    "start_time": "2023-09-12T12:47:59.790Z"
   },
   {
    "duration": 169,
    "start_time": "2023-09-12T12:53:45.495Z"
   },
   {
    "duration": 16,
    "start_time": "2023-09-12T12:53:56.516Z"
   },
   {
    "duration": 12,
    "start_time": "2023-09-12T12:54:09.743Z"
   },
   {
    "duration": 9,
    "start_time": "2023-09-12T12:55:55.342Z"
   },
   {
    "duration": 12,
    "start_time": "2023-09-12T12:57:10.002Z"
   },
   {
    "duration": 9,
    "start_time": "2023-09-12T12:59:42.922Z"
   },
   {
    "duration": 379,
    "start_time": "2023-09-12T13:00:21.422Z"
   },
   {
    "duration": 116,
    "start_time": "2023-09-12T13:00:43.890Z"
   },
   {
    "duration": 294,
    "start_time": "2023-09-12T13:01:16.745Z"
   },
   {
    "duration": 117,
    "start_time": "2023-09-12T13:01:22.341Z"
   },
   {
    "duration": 7,
    "start_time": "2023-09-12T13:05:45.178Z"
   },
   {
    "duration": 8,
    "start_time": "2023-09-12T13:06:26.879Z"
   },
   {
    "duration": 12,
    "start_time": "2023-09-12T13:09:36.245Z"
   },
   {
    "duration": 16,
    "start_time": "2023-09-12T13:09:45.442Z"
   },
   {
    "duration": 13,
    "start_time": "2023-09-12T13:09:53.278Z"
   },
   {
    "duration": 9,
    "start_time": "2023-09-12T13:15:56.364Z"
   },
   {
    "duration": 12,
    "start_time": "2023-09-12T13:16:06.552Z"
   },
   {
    "duration": 5,
    "start_time": "2023-09-12T13:17:41.244Z"
   },
   {
    "duration": 4,
    "start_time": "2023-09-12T13:17:45.978Z"
   },
   {
    "duration": 339,
    "start_time": "2023-09-12T13:17:54.499Z"
   },
   {
    "duration": 18,
    "start_time": "2023-09-12T13:18:00.366Z"
   },
   {
    "duration": 13,
    "start_time": "2023-09-12T13:18:10.956Z"
   },
   {
    "duration": 6,
    "start_time": "2023-09-12T19:52:57.233Z"
   },
   {
    "duration": 7,
    "start_time": "2023-09-12T19:54:54.737Z"
   },
   {
    "duration": 8,
    "start_time": "2023-09-12T19:55:22.827Z"
   },
   {
    "duration": 8,
    "start_time": "2023-09-12T19:55:38.790Z"
   },
   {
    "duration": 5,
    "start_time": "2023-09-12T19:57:36.368Z"
   },
   {
    "duration": 4,
    "start_time": "2023-09-12T19:57:42.988Z"
   },
   {
    "duration": 9,
    "start_time": "2023-09-12T19:57:58.459Z"
   },
   {
    "duration": 8,
    "start_time": "2023-09-12T19:58:59.714Z"
   },
   {
    "duration": 9,
    "start_time": "2023-09-12T19:59:19.232Z"
   },
   {
    "duration": 13,
    "start_time": "2023-09-12T20:00:01.011Z"
   },
   {
    "duration": 9,
    "start_time": "2023-09-12T20:00:26.019Z"
   },
   {
    "duration": 19,
    "start_time": "2023-09-12T20:00:43.904Z"
   },
   {
    "duration": 20,
    "start_time": "2023-09-12T20:01:12.858Z"
   },
   {
    "duration": 23,
    "start_time": "2023-09-12T20:01:36.421Z"
   },
   {
    "duration": 30,
    "start_time": "2023-09-12T20:03:11.448Z"
   },
   {
    "duration": 76,
    "start_time": "2023-09-12T20:03:55.097Z"
   },
   {
    "duration": 94,
    "start_time": "2023-09-12T20:04:05.029Z"
   },
   {
    "duration": 28,
    "start_time": "2023-09-12T20:04:14.532Z"
   },
   {
    "duration": 21,
    "start_time": "2023-09-12T20:04:38.195Z"
   },
   {
    "duration": 29,
    "start_time": "2023-09-12T20:05:00.304Z"
   },
   {
    "duration": 29,
    "start_time": "2023-09-12T20:05:34.991Z"
   },
   {
    "duration": 30,
    "start_time": "2023-09-12T20:09:20.175Z"
   },
   {
    "duration": 20,
    "start_time": "2023-09-12T20:11:10.033Z"
   },
   {
    "duration": 25,
    "start_time": "2023-09-12T20:11:48.491Z"
   },
   {
    "duration": 24,
    "start_time": "2023-09-12T20:12:40.205Z"
   },
   {
    "duration": 28,
    "start_time": "2023-09-12T20:12:55.207Z"
   },
   {
    "duration": 22,
    "start_time": "2023-09-12T20:13:16.301Z"
   },
   {
    "duration": 20,
    "start_time": "2023-09-12T20:13:46.343Z"
   },
   {
    "duration": 31,
    "start_time": "2023-09-12T20:14:04.939Z"
   },
   {
    "duration": 30,
    "start_time": "2023-09-12T20:14:28.770Z"
   },
   {
    "duration": 26,
    "start_time": "2023-09-12T20:15:20.598Z"
   },
   {
    "duration": 3,
    "start_time": "2023-09-12T20:38:52.801Z"
   },
   {
    "duration": 4,
    "start_time": "2023-09-12T20:38:57.638Z"
   },
   {
    "duration": 79,
    "start_time": "2023-09-12T20:39:25.157Z"
   },
   {
    "duration": 9,
    "start_time": "2023-09-12T20:40:29.235Z"
   },
   {
    "duration": 5,
    "start_time": "2023-09-12T20:41:55.235Z"
   },
   {
    "duration": 11,
    "start_time": "2023-09-12T20:42:55.356Z"
   },
   {
    "duration": 7,
    "start_time": "2023-09-12T20:44:12.413Z"
   },
   {
    "duration": 98,
    "start_time": "2023-09-12T20:46:37.413Z"
   },
   {
    "duration": 6,
    "start_time": "2023-09-12T20:46:55.926Z"
   },
   {
    "duration": 14,
    "start_time": "2023-09-12T20:47:20.133Z"
   },
   {
    "duration": 6,
    "start_time": "2023-09-12T20:47:38.364Z"
   },
   {
    "duration": 983,
    "start_time": "2023-09-12T20:47:57.726Z"
   },
   {
    "duration": 17,
    "start_time": "2023-09-12T20:48:19.896Z"
   },
   {
    "duration": 9,
    "start_time": "2023-09-12T20:49:15.912Z"
   },
   {
    "duration": 12,
    "start_time": "2023-09-12T20:49:21.823Z"
   },
   {
    "duration": 14,
    "start_time": "2023-09-12T20:50:53.271Z"
   },
   {
    "duration": 29,
    "start_time": "2023-09-12T20:52:52.690Z"
   },
   {
    "duration": 20,
    "start_time": "2023-09-12T20:53:00.376Z"
   },
   {
    "duration": 11,
    "start_time": "2023-09-12T20:53:45.875Z"
   },
   {
    "duration": 14,
    "start_time": "2023-09-12T20:54:28.949Z"
   },
   {
    "duration": 9,
    "start_time": "2023-09-12T20:54:58.474Z"
   },
   {
    "duration": 15,
    "start_time": "2023-09-12T20:55:18.781Z"
   },
   {
    "duration": 21,
    "start_time": "2023-09-12T20:55:35.483Z"
   },
   {
    "duration": 7,
    "start_time": "2023-09-12T20:55:55.046Z"
   },
   {
    "duration": 775,
    "start_time": "2023-09-12T20:56:12.537Z"
   },
   {
    "duration": 11,
    "start_time": "2023-09-12T20:56:22.192Z"
   },
   {
    "duration": 7,
    "start_time": "2023-09-12T20:56:39.190Z"
   },
   {
    "duration": 9,
    "start_time": "2023-09-12T20:56:47.881Z"
   },
   {
    "duration": 11,
    "start_time": "2023-09-12T20:56:57.210Z"
   },
   {
    "duration": 10,
    "start_time": "2023-09-12T20:57:22.252Z"
   },
   {
    "duration": 10,
    "start_time": "2023-09-12T20:58:38.876Z"
   },
   {
    "duration": 7,
    "start_time": "2023-09-12T20:58:56.712Z"
   },
   {
    "duration": 7,
    "start_time": "2023-09-12T20:59:26.616Z"
   },
   {
    "duration": 16,
    "start_time": "2023-09-12T21:07:49.087Z"
   },
   {
    "duration": 7,
    "start_time": "2023-09-12T21:14:53.984Z"
   },
   {
    "duration": 23,
    "start_time": "2023-09-12T21:18:08.780Z"
   },
   {
    "duration": 19,
    "start_time": "2023-09-12T21:18:48.310Z"
   },
   {
    "duration": 27,
    "start_time": "2023-09-12T21:19:17.475Z"
   },
   {
    "duration": 81,
    "start_time": "2023-09-12T21:21:33.257Z"
   },
   {
    "duration": 169,
    "start_time": "2023-09-12T21:22:15.689Z"
   },
   {
    "duration": 152,
    "start_time": "2023-09-12T21:23:35.636Z"
   },
   {
    "duration": 192,
    "start_time": "2023-09-12T21:23:54.551Z"
   },
   {
    "duration": 8,
    "start_time": "2023-09-12T21:27:51.800Z"
   },
   {
    "duration": 219,
    "start_time": "2023-09-12T21:28:39.017Z"
   },
   {
    "duration": 6,
    "start_time": "2023-09-12T21:28:52.077Z"
   },
   {
    "duration": 8,
    "start_time": "2023-09-12T21:29:55.364Z"
   },
   {
    "duration": 162,
    "start_time": "2023-09-12T21:31:01.248Z"
   },
   {
    "duration": 178,
    "start_time": "2023-09-12T21:31:51.063Z"
   },
   {
    "duration": 200,
    "start_time": "2023-09-12T21:32:52.787Z"
   },
   {
    "duration": 224,
    "start_time": "2023-09-12T21:33:05.879Z"
   },
   {
    "duration": 180,
    "start_time": "2023-09-12T21:33:18.856Z"
   },
   {
    "duration": 222,
    "start_time": "2023-09-12T21:33:24.991Z"
   },
   {
    "duration": 52,
    "start_time": "2023-09-12T21:33:58.164Z"
   },
   {
    "duration": 9,
    "start_time": "2023-09-12T21:34:14.642Z"
   },
   {
    "duration": 7,
    "start_time": "2023-09-12T21:34:28.985Z"
   },
   {
    "duration": 6,
    "start_time": "2023-09-12T21:34:36.288Z"
   },
   {
    "duration": 9,
    "start_time": "2023-09-12T21:34:42.458Z"
   },
   {
    "duration": 15,
    "start_time": "2023-09-12T21:35:54.349Z"
   },
   {
    "duration": 11,
    "start_time": "2023-09-12T21:36:02.208Z"
   },
   {
    "duration": 7,
    "start_time": "2023-09-12T21:36:15.641Z"
   },
   {
    "duration": 8,
    "start_time": "2023-09-12T21:39:27.624Z"
   },
   {
    "duration": 9,
    "start_time": "2023-09-12T21:39:59.140Z"
   },
   {
    "duration": 9,
    "start_time": "2023-09-12T21:40:37.610Z"
   },
   {
    "duration": 14,
    "start_time": "2023-09-12T21:41:36.229Z"
   },
   {
    "duration": 9,
    "start_time": "2023-09-12T21:41:53.817Z"
   },
   {
    "duration": 8,
    "start_time": "2023-09-12T21:42:28.760Z"
   },
   {
    "duration": 11,
    "start_time": "2023-09-12T21:42:52.705Z"
   },
   {
    "duration": 11,
    "start_time": "2023-09-12T21:48:44.652Z"
   },
   {
    "duration": 11,
    "start_time": "2023-09-12T21:49:57.501Z"
   },
   {
    "duration": 94,
    "start_time": "2023-09-12T21:50:34.090Z"
   },
   {
    "duration": 11,
    "start_time": "2023-09-12T21:50:51.056Z"
   },
   {
    "duration": 10,
    "start_time": "2023-09-12T21:51:25.458Z"
   },
   {
    "duration": 10,
    "start_time": "2023-09-12T21:51:47.495Z"
   },
   {
    "duration": 11,
    "start_time": "2023-09-12T21:52:48.296Z"
   },
   {
    "duration": 12,
    "start_time": "2023-09-12T21:53:25.485Z"
   },
   {
    "duration": 10,
    "start_time": "2023-09-12T21:53:33.493Z"
   },
   {
    "duration": 9,
    "start_time": "2023-09-12T21:53:48.281Z"
   },
   {
    "duration": 10,
    "start_time": "2023-09-12T21:54:00.712Z"
   },
   {
    "duration": 11,
    "start_time": "2023-09-12T21:54:24.788Z"
   },
   {
    "duration": 9,
    "start_time": "2023-09-12T21:54:33.666Z"
   },
   {
    "duration": 12,
    "start_time": "2023-09-12T21:55:03.835Z"
   },
   {
    "duration": 10,
    "start_time": "2023-09-12T21:55:15.692Z"
   },
   {
    "duration": 13,
    "start_time": "2023-09-12T21:55:22.482Z"
   },
   {
    "duration": 8,
    "start_time": "2023-09-12T21:55:39.339Z"
   },
   {
    "duration": 10,
    "start_time": "2023-09-12T21:55:54.403Z"
   },
   {
    "duration": 11,
    "start_time": "2023-09-12T21:56:08.741Z"
   },
   {
    "duration": 10,
    "start_time": "2023-09-12T21:56:22.250Z"
   },
   {
    "duration": 10,
    "start_time": "2023-09-12T21:56:34.979Z"
   },
   {
    "duration": 13,
    "start_time": "2023-09-12T21:57:06.561Z"
   },
   {
    "duration": 8,
    "start_time": "2023-09-12T21:57:22.609Z"
   },
   {
    "duration": 10,
    "start_time": "2023-09-12T21:57:35.117Z"
   },
   {
    "duration": 12,
    "start_time": "2023-09-12T21:59:40.193Z"
   },
   {
    "duration": 10,
    "start_time": "2023-09-12T22:00:47.136Z"
   },
   {
    "duration": 452,
    "start_time": "2023-09-12T22:01:17.029Z"
   },
   {
    "duration": 266,
    "start_time": "2023-09-12T22:01:33.550Z"
   },
   {
    "duration": 6,
    "start_time": "2023-09-12T22:01:39.746Z"
   },
   {
    "duration": 7,
    "start_time": "2023-09-12T22:01:42.201Z"
   },
   {
    "duration": 10,
    "start_time": "2023-09-12T22:01:45.407Z"
   },
   {
    "duration": 10,
    "start_time": "2023-09-12T22:01:47.818Z"
   },
   {
    "duration": 9,
    "start_time": "2023-09-12T22:01:58.938Z"
   },
   {
    "duration": 10,
    "start_time": "2023-09-12T22:02:12.761Z"
   },
   {
    "duration": 14,
    "start_time": "2023-09-12T22:06:03.388Z"
   },
   {
    "duration": 10,
    "start_time": "2023-09-12T22:06:29.339Z"
   },
   {
    "duration": 10,
    "start_time": "2023-09-12T22:06:52.681Z"
   },
   {
    "duration": 9,
    "start_time": "2023-09-12T22:07:04.860Z"
   },
   {
    "duration": 10,
    "start_time": "2023-09-12T22:09:29.443Z"
   },
   {
    "duration": 9,
    "start_time": "2023-09-12T22:10:43.011Z"
   },
   {
    "duration": 203,
    "start_time": "2023-09-12T22:10:56.402Z"
   },
   {
    "duration": 195,
    "start_time": "2023-09-12T22:11:13.046Z"
   },
   {
    "duration": 6,
    "start_time": "2023-09-12T22:11:35.446Z"
   },
   {
    "duration": 14,
    "start_time": "2023-09-12T22:11:38.802Z"
   },
   {
    "duration": 8,
    "start_time": "2023-09-12T22:11:42.252Z"
   },
   {
    "duration": 14,
    "start_time": "2023-09-12T22:12:00.344Z"
   },
   {
    "duration": 71,
    "start_time": "2023-09-12T22:12:47.839Z"
   },
   {
    "duration": 122,
    "start_time": "2023-09-12T22:12:52.054Z"
   },
   {
    "duration": 87,
    "start_time": "2023-09-12T22:13:04.125Z"
   },
   {
    "duration": 9,
    "start_time": "2023-09-12T22:13:28.423Z"
   },
   {
    "duration": 104,
    "start_time": "2023-09-12T22:13:44.111Z"
   },
   {
    "duration": 56,
    "start_time": "2023-09-12T22:14:01.863Z"
   },
   {
    "duration": 380,
    "start_time": "2023-09-12T22:14:09.707Z"
   },
   {
    "duration": 430,
    "start_time": "2023-09-12T22:16:40.482Z"
   },
   {
    "duration": 86,
    "start_time": "2023-09-12T22:17:28.685Z"
   },
   {
    "duration": 342,
    "start_time": "2023-09-12T22:17:54.462Z"
   },
   {
    "duration": 463,
    "start_time": "2023-09-12T22:18:05.038Z"
   },
   {
    "duration": 478,
    "start_time": "2023-09-12T22:18:27.139Z"
   },
   {
    "duration": 445,
    "start_time": "2023-09-12T22:18:38.948Z"
   },
   {
    "duration": 304,
    "start_time": "2023-09-12T22:21:24.481Z"
   },
   {
    "duration": 321,
    "start_time": "2023-09-12T22:22:01.659Z"
   },
   {
    "duration": 344,
    "start_time": "2023-09-12T22:22:10.444Z"
   },
   {
    "duration": 457,
    "start_time": "2023-09-12T22:22:23.245Z"
   },
   {
    "duration": 12,
    "start_time": "2023-09-12T22:24:04.689Z"
   },
   {
    "duration": 14,
    "start_time": "2023-09-12T22:24:14.020Z"
   },
   {
    "duration": 13,
    "start_time": "2023-09-12T22:24:54.489Z"
   },
   {
    "duration": 1228,
    "start_time": "2023-09-12T22:26:27.671Z"
   },
   {
    "duration": 35,
    "start_time": "2023-09-12T22:26:28.901Z"
   },
   {
    "duration": 3,
    "start_time": "2023-09-12T22:26:28.937Z"
   },
   {
    "duration": 28,
    "start_time": "2023-09-12T22:26:28.942Z"
   },
   {
    "duration": 9,
    "start_time": "2023-09-12T22:26:28.972Z"
   },
   {
    "duration": 19,
    "start_time": "2023-09-12T22:26:28.982Z"
   },
   {
    "duration": 12,
    "start_time": "2023-09-12T22:26:29.012Z"
   },
   {
    "duration": 1843,
    "start_time": "2023-09-12T22:26:29.032Z"
   },
   {
    "duration": 0,
    "start_time": "2023-09-12T22:26:30.877Z"
   },
   {
    "duration": 0,
    "start_time": "2023-09-12T22:26:30.878Z"
   },
   {
    "duration": 0,
    "start_time": "2023-09-12T22:26:30.879Z"
   },
   {
    "duration": 0,
    "start_time": "2023-09-12T22:26:30.880Z"
   },
   {
    "duration": 0,
    "start_time": "2023-09-12T22:26:30.881Z"
   },
   {
    "duration": 0,
    "start_time": "2023-09-12T22:26:30.883Z"
   },
   {
    "duration": 0,
    "start_time": "2023-09-12T22:26:30.884Z"
   },
   {
    "duration": 1214,
    "start_time": "2023-09-12T22:27:06.208Z"
   },
   {
    "duration": 32,
    "start_time": "2023-09-12T22:27:07.424Z"
   },
   {
    "duration": 84,
    "start_time": "2023-09-12T22:27:07.458Z"
   },
   {
    "duration": 53,
    "start_time": "2023-09-12T22:27:07.544Z"
   },
   {
    "duration": 13,
    "start_time": "2023-09-12T22:27:07.599Z"
   },
   {
    "duration": 23,
    "start_time": "2023-09-12T22:27:07.614Z"
   },
   {
    "duration": 5,
    "start_time": "2023-09-12T22:27:07.639Z"
   },
   {
    "duration": 1645,
    "start_time": "2023-09-12T22:27:07.646Z"
   },
   {
    "duration": 20,
    "start_time": "2023-09-12T22:27:09.293Z"
   },
   {
    "duration": 214,
    "start_time": "2023-09-12T22:27:09.319Z"
   },
   {
    "duration": 158,
    "start_time": "2023-09-12T22:27:09.535Z"
   },
   {
    "duration": 6,
    "start_time": "2023-09-12T22:27:09.695Z"
   },
   {
    "duration": 37,
    "start_time": "2023-09-12T22:27:09.703Z"
   },
   {
    "duration": 515,
    "start_time": "2023-09-12T22:27:09.809Z"
   },
   {
    "duration": 83,
    "start_time": "2023-09-12T22:27:10.327Z"
   },
   {
    "duration": 179,
    "start_time": "2023-09-12T22:30:39.055Z"
   },
   {
    "duration": 209,
    "start_time": "2023-09-12T22:30:49.026Z"
   },
   {
    "duration": 170,
    "start_time": "2023-09-12T22:31:12.488Z"
   },
   {
    "duration": 82,
    "start_time": "2023-09-12T22:33:08.529Z"
   },
   {
    "duration": 474,
    "start_time": "2023-09-12T22:34:33.214Z"
   },
   {
    "duration": 436,
    "start_time": "2023-09-12T22:34:48.747Z"
   },
   {
    "duration": 420,
    "start_time": "2023-09-12T22:35:28.574Z"
   },
   {
    "duration": 430,
    "start_time": "2023-09-12T22:36:13.763Z"
   },
   {
    "duration": 453,
    "start_time": "2023-09-12T22:36:46.263Z"
   },
   {
    "duration": 497,
    "start_time": "2023-09-12T22:37:15.119Z"
   },
   {
    "duration": 483,
    "start_time": "2023-09-12T22:37:51.515Z"
   },
   {
    "duration": 432,
    "start_time": "2023-09-12T22:39:19.558Z"
   },
   {
    "duration": 1106,
    "start_time": "2023-09-12T22:42:46.719Z"
   },
   {
    "duration": 31,
    "start_time": "2023-09-12T22:42:47.828Z"
   },
   {
    "duration": 3,
    "start_time": "2023-09-12T22:42:47.861Z"
   },
   {
    "duration": 108,
    "start_time": "2023-09-12T22:42:47.866Z"
   },
   {
    "duration": 10,
    "start_time": "2023-09-12T22:42:47.976Z"
   },
   {
    "duration": 22,
    "start_time": "2023-09-12T22:42:47.988Z"
   },
   {
    "duration": 7,
    "start_time": "2023-09-12T22:42:48.012Z"
   },
   {
    "duration": 1545,
    "start_time": "2023-09-12T22:42:48.021Z"
   },
   {
    "duration": 11,
    "start_time": "2023-09-12T22:42:49.568Z"
   },
   {
    "duration": 206,
    "start_time": "2023-09-12T22:42:49.613Z"
   },
   {
    "duration": 0,
    "start_time": "2023-09-12T22:42:49.821Z"
   },
   {
    "duration": 0,
    "start_time": "2023-09-12T22:42:49.822Z"
   },
   {
    "duration": 0,
    "start_time": "2023-09-12T22:42:49.823Z"
   },
   {
    "duration": 0,
    "start_time": "2023-09-12T22:42:49.825Z"
   },
   {
    "duration": 0,
    "start_time": "2023-09-12T22:42:49.825Z"
   },
   {
    "duration": 1162,
    "start_time": "2023-09-12T22:43:14.517Z"
   },
   {
    "duration": 31,
    "start_time": "2023-09-12T22:43:15.682Z"
   },
   {
    "duration": 3,
    "start_time": "2023-09-12T22:43:15.714Z"
   },
   {
    "duration": 48,
    "start_time": "2023-09-12T22:43:15.719Z"
   },
   {
    "duration": 10,
    "start_time": "2023-09-12T22:43:15.768Z"
   },
   {
    "duration": 33,
    "start_time": "2023-09-12T22:43:15.779Z"
   },
   {
    "duration": 7,
    "start_time": "2023-09-12T22:43:15.814Z"
   },
   {
    "duration": 1567,
    "start_time": "2023-09-12T22:43:15.822Z"
   },
   {
    "duration": 24,
    "start_time": "2023-09-12T22:43:17.391Z"
   },
   {
    "duration": 272,
    "start_time": "2023-09-12T22:43:17.419Z"
   },
   {
    "duration": 0,
    "start_time": "2023-09-12T22:43:17.694Z"
   },
   {
    "duration": 0,
    "start_time": "2023-09-12T22:43:17.695Z"
   },
   {
    "duration": 0,
    "start_time": "2023-09-12T22:43:17.695Z"
   },
   {
    "duration": 0,
    "start_time": "2023-09-12T22:43:17.697Z"
   },
   {
    "duration": 0,
    "start_time": "2023-09-12T22:43:17.698Z"
   },
   {
    "duration": 1173,
    "start_time": "2023-09-12T22:43:38.474Z"
   },
   {
    "duration": 33,
    "start_time": "2023-09-12T22:43:39.649Z"
   },
   {
    "duration": 2,
    "start_time": "2023-09-12T22:43:39.684Z"
   },
   {
    "duration": 29,
    "start_time": "2023-09-12T22:43:39.689Z"
   },
   {
    "duration": 8,
    "start_time": "2023-09-12T22:43:39.720Z"
   },
   {
    "duration": 18,
    "start_time": "2023-09-12T22:43:39.730Z"
   },
   {
    "duration": 8,
    "start_time": "2023-09-12T22:43:39.750Z"
   },
   {
    "duration": 1577,
    "start_time": "2023-09-12T22:43:39.759Z"
   },
   {
    "duration": 10,
    "start_time": "2023-09-12T22:43:41.338Z"
   },
   {
    "duration": 263,
    "start_time": "2023-09-12T22:43:41.352Z"
   },
   {
    "duration": 137,
    "start_time": "2023-09-12T22:43:41.617Z"
   },
   {
    "duration": 6,
    "start_time": "2023-09-12T22:43:41.755Z"
   },
   {
    "duration": 56,
    "start_time": "2023-09-12T22:43:41.763Z"
   },
   {
    "duration": 580,
    "start_time": "2023-09-12T22:43:41.821Z"
   },
   {
    "duration": 18,
    "start_time": "2023-09-12T22:43:42.404Z"
   },
   {
    "duration": 102,
    "start_time": "2023-09-12T22:48:03.809Z"
   },
   {
    "duration": 153,
    "start_time": "2023-09-12T22:50:03.931Z"
   },
   {
    "duration": 140,
    "start_time": "2023-09-12T22:50:19.949Z"
   },
   {
    "duration": 81,
    "start_time": "2023-09-12T22:50:51.963Z"
   },
   {
    "duration": 91,
    "start_time": "2023-09-12T22:51:09.848Z"
   },
   {
    "duration": 88,
    "start_time": "2023-09-12T22:51:20.083Z"
   },
   {
    "duration": 125,
    "start_time": "2023-09-12T22:51:24.182Z"
   },
   {
    "duration": 120,
    "start_time": "2023-09-12T22:51:40.381Z"
   },
   {
    "duration": 71,
    "start_time": "2023-09-12T22:51:49.472Z"
   },
   {
    "duration": 100,
    "start_time": "2023-09-12T22:52:04.255Z"
   },
   {
    "duration": 92,
    "start_time": "2023-09-12T22:52:13.118Z"
   },
   {
    "duration": 99,
    "start_time": "2023-09-12T22:52:26.758Z"
   },
   {
    "duration": 5,
    "start_time": "2023-09-12T22:52:52.929Z"
   },
   {
    "duration": 1174,
    "start_time": "2023-09-12T22:54:25.798Z"
   },
   {
    "duration": 30,
    "start_time": "2023-09-12T22:54:26.974Z"
   },
   {
    "duration": 3,
    "start_time": "2023-09-12T22:54:27.006Z"
   },
   {
    "duration": 28,
    "start_time": "2023-09-12T22:54:27.011Z"
   },
   {
    "duration": 27,
    "start_time": "2023-09-12T22:54:27.040Z"
   },
   {
    "duration": 18,
    "start_time": "2023-09-12T22:54:27.069Z"
   },
   {
    "duration": 23,
    "start_time": "2023-09-12T22:54:27.089Z"
   },
   {
    "duration": 1590,
    "start_time": "2023-09-12T22:54:27.113Z"
   },
   {
    "duration": 11,
    "start_time": "2023-09-12T22:54:28.709Z"
   },
   {
    "duration": 302,
    "start_time": "2023-09-12T22:54:28.724Z"
   },
   {
    "duration": 150,
    "start_time": "2023-09-12T22:54:29.028Z"
   },
   {
    "duration": 5,
    "start_time": "2023-09-12T22:54:29.179Z"
   },
   {
    "duration": 25,
    "start_time": "2023-09-12T22:54:29.185Z"
   },
   {
    "duration": 491,
    "start_time": "2023-09-12T22:54:29.212Z"
   },
   {
    "duration": 14,
    "start_time": "2023-09-12T22:54:29.705Z"
   },
   {
    "duration": 84,
    "start_time": "2023-09-12T22:58:04.953Z"
   },
   {
    "duration": 11,
    "start_time": "2023-09-12T22:58:09.786Z"
   },
   {
    "duration": 281,
    "start_time": "2023-09-12T22:58:33.929Z"
   },
   {
    "duration": 10,
    "start_time": "2023-09-12T22:58:43.945Z"
   },
   {
    "duration": 3,
    "start_time": "2023-09-12T23:01:11.629Z"
   },
   {
    "duration": 12,
    "start_time": "2023-09-12T23:02:39.144Z"
   },
   {
    "duration": 16,
    "start_time": "2023-09-12T23:04:13.947Z"
   },
   {
    "duration": 13,
    "start_time": "2023-09-12T23:04:23.955Z"
   },
   {
    "duration": 13,
    "start_time": "2023-09-12T23:06:39.029Z"
   },
   {
    "duration": 11,
    "start_time": "2023-09-12T23:19:29.405Z"
   },
   {
    "duration": 4,
    "start_time": "2023-09-12T23:20:19.573Z"
   },
   {
    "duration": 13,
    "start_time": "2023-09-12T23:20:32.132Z"
   },
   {
    "duration": 12,
    "start_time": "2023-09-12T23:20:47.790Z"
   },
   {
    "duration": 15,
    "start_time": "2023-09-12T23:21:12.084Z"
   },
   {
    "duration": 10,
    "start_time": "2023-09-12T23:21:33.494Z"
   },
   {
    "duration": 179,
    "start_time": "2023-09-12T23:21:46.134Z"
   },
   {
    "duration": 17,
    "start_time": "2023-09-13T03:13:28.864Z"
   },
   {
    "duration": 15,
    "start_time": "2023-09-13T03:13:33.251Z"
   },
   {
    "duration": 32,
    "start_time": "2023-09-13T03:15:50.380Z"
   },
   {
    "duration": 20,
    "start_time": "2023-09-13T03:17:07.498Z"
   },
   {
    "duration": 52,
    "start_time": "2023-09-13T03:17:52.858Z"
   },
   {
    "duration": 1156,
    "start_time": "2023-09-13T03:22:07.778Z"
   },
   {
    "duration": 31,
    "start_time": "2023-09-13T03:22:08.936Z"
   },
   {
    "duration": 3,
    "start_time": "2023-09-13T03:22:08.968Z"
   },
   {
    "duration": 39,
    "start_time": "2023-09-13T03:22:08.973Z"
   },
   {
    "duration": 8,
    "start_time": "2023-09-13T03:22:09.014Z"
   },
   {
    "duration": 23,
    "start_time": "2023-09-13T03:22:09.024Z"
   },
   {
    "duration": 6,
    "start_time": "2023-09-13T03:22:09.048Z"
   },
   {
    "duration": 1559,
    "start_time": "2023-09-13T03:22:09.055Z"
   },
   {
    "duration": 11,
    "start_time": "2023-09-13T03:22:10.616Z"
   },
   {
    "duration": 275,
    "start_time": "2023-09-13T03:22:10.709Z"
   },
   {
    "duration": 790,
    "start_time": "2023-09-13T03:22:10.986Z"
   },
   {
    "duration": 4,
    "start_time": "2023-09-13T03:22:11.778Z"
   },
   {
    "duration": 74,
    "start_time": "2023-09-13T03:22:11.783Z"
   },
   {
    "duration": 525,
    "start_time": "2023-09-13T03:22:11.859Z"
   },
   {
    "duration": 39,
    "start_time": "2023-09-13T03:22:12.386Z"
   },
   {
    "duration": 105,
    "start_time": "2023-09-13T03:22:12.511Z"
   },
   {
    "duration": 3016,
    "start_time": "2023-09-13T04:18:27.781Z"
   },
   {
    "duration": 29,
    "start_time": "2023-09-13T04:18:30.799Z"
   },
   {
    "duration": 11,
    "start_time": "2023-09-13T04:18:30.830Z"
   },
   {
    "duration": 52,
    "start_time": "2023-09-13T04:18:30.843Z"
   },
   {
    "duration": 27,
    "start_time": "2023-09-13T04:18:30.897Z"
   },
   {
    "duration": 86,
    "start_time": "2023-09-13T04:18:30.925Z"
   },
   {
    "duration": 55,
    "start_time": "2023-09-13T04:18:31.013Z"
   },
   {
    "duration": 1597,
    "start_time": "2023-09-13T04:18:31.069Z"
   },
   {
    "duration": 10,
    "start_time": "2023-09-13T04:18:32.668Z"
   },
   {
    "duration": 268,
    "start_time": "2023-09-13T04:18:32.682Z"
   },
   {
    "duration": 104,
    "start_time": "2023-09-13T04:18:32.952Z"
   },
   {
    "duration": 4,
    "start_time": "2023-09-13T04:18:33.058Z"
   },
   {
    "duration": 18,
    "start_time": "2023-09-13T04:18:33.064Z"
   },
   {
    "duration": 473,
    "start_time": "2023-09-13T04:18:33.151Z"
   },
   {
    "duration": 29,
    "start_time": "2023-09-13T04:18:33.626Z"
   },
   {
    "duration": 197,
    "start_time": "2023-09-13T04:18:33.657Z"
   },
   {
    "duration": 24,
    "start_time": "2023-09-13T05:45:17.811Z"
   },
   {
    "duration": 211,
    "start_time": "2023-09-13T05:51:41.813Z"
   },
   {
    "duration": 236,
    "start_time": "2023-09-13T05:52:05.784Z"
   },
   {
    "duration": 194,
    "start_time": "2023-09-13T05:52:19.015Z"
   },
   {
    "duration": 60,
    "start_time": "2023-09-13T05:53:52.109Z"
   },
   {
    "duration": 129,
    "start_time": "2023-09-13T05:54:39.536Z"
   },
   {
    "duration": 128,
    "start_time": "2023-09-13T05:55:29.556Z"
   },
   {
    "duration": 126,
    "start_time": "2023-09-13T05:56:06.334Z"
   },
   {
    "duration": 141,
    "start_time": "2023-09-13T05:57:24.677Z"
   },
   {
    "duration": 356,
    "start_time": "2023-09-13T05:57:41.023Z"
   },
   {
    "duration": 218,
    "start_time": "2023-09-13T05:57:52.045Z"
   },
   {
    "duration": 221,
    "start_time": "2023-09-13T05:58:27.493Z"
   },
   {
    "duration": 145,
    "start_time": "2023-09-13T05:58:56.612Z"
   },
   {
    "duration": 3,
    "start_time": "2023-09-13T06:00:44.963Z"
   },
   {
    "duration": 548,
    "start_time": "2023-09-13T06:00:49.746Z"
   },
   {
    "duration": 450,
    "start_time": "2023-09-13T06:01:12.070Z"
   },
   {
    "duration": 1169,
    "start_time": "2023-09-13T06:01:52.933Z"
   },
   {
    "duration": 1475,
    "start_time": "2023-09-13T06:03:57.179Z"
   },
   {
    "duration": 1252,
    "start_time": "2023-09-13T06:05:17.603Z"
   },
   {
    "duration": 1290,
    "start_time": "2023-09-13T06:05:34.771Z"
   },
   {
    "duration": 1304,
    "start_time": "2023-09-13T06:05:54.787Z"
   },
   {
    "duration": 1299,
    "start_time": "2023-09-13T06:06:08.318Z"
   },
   {
    "duration": 543,
    "start_time": "2023-09-13T06:06:30.293Z"
   },
   {
    "duration": 559,
    "start_time": "2023-09-13T06:06:53.731Z"
   },
   {
    "duration": 12,
    "start_time": "2023-09-13T06:08:56.468Z"
   },
   {
    "duration": 13,
    "start_time": "2023-09-13T06:09:21.042Z"
   },
   {
    "duration": 54951,
    "start_time": "2023-09-13T06:09:40.737Z"
   },
   {
    "duration": 589,
    "start_time": "2023-09-13T06:10:39.153Z"
   },
   {
    "duration": 5701,
    "start_time": "2023-09-13T06:10:51.276Z"
   },
   {
    "duration": 614,
    "start_time": "2023-09-13T06:12:18.536Z"
   },
   {
    "duration": 578,
    "start_time": "2023-09-13T06:13:26.763Z"
   },
   {
    "duration": 12,
    "start_time": "2023-09-13T06:20:22.000Z"
   },
   {
    "duration": 6,
    "start_time": "2023-09-13T06:21:15.180Z"
   },
   {
    "duration": 181,
    "start_time": "2023-09-13T06:22:13.208Z"
   },
   {
    "duration": 481,
    "start_time": "2023-09-13T06:24:20.388Z"
   },
   {
    "duration": 539,
    "start_time": "2023-09-13T06:25:12.272Z"
   },
   {
    "duration": 589,
    "start_time": "2023-09-13T06:25:42.209Z"
   },
   {
    "duration": 529,
    "start_time": "2023-09-13T06:26:55.025Z"
   },
   {
    "duration": 100,
    "start_time": "2023-09-13T06:27:28.143Z"
   },
   {
    "duration": 520,
    "start_time": "2023-09-13T06:28:59.206Z"
   },
   {
    "duration": 1098,
    "start_time": "2023-09-13T06:30:32.623Z"
   },
   {
    "duration": 1118,
    "start_time": "2023-09-13T06:30:58.792Z"
   },
   {
    "duration": 162,
    "start_time": "2023-09-13T07:52:19.281Z"
   },
   {
    "duration": 83,
    "start_time": "2023-09-13T08:07:24.410Z"
   },
   {
    "duration": 90,
    "start_time": "2023-09-13T19:43:22.966Z"
   },
   {
    "duration": 354,
    "start_time": "2023-09-13T19:43:34.649Z"
   },
   {
    "duration": 104,
    "start_time": "2023-09-13T19:44:28.502Z"
   },
   {
    "duration": 354,
    "start_time": "2023-09-13T19:44:44.646Z"
   },
   {
    "duration": 10,
    "start_time": "2023-09-13T19:44:58.802Z"
   },
   {
    "duration": 327,
    "start_time": "2023-09-13T19:45:47.566Z"
   },
   {
    "duration": 148,
    "start_time": "2023-09-13T19:46:25.761Z"
   },
   {
    "duration": 375,
    "start_time": "2023-09-13T19:46:59.891Z"
   },
   {
    "duration": 90,
    "start_time": "2023-09-13T19:47:36.287Z"
   },
   {
    "duration": 90,
    "start_time": "2023-09-13T19:47:51.390Z"
   },
   {
    "duration": 11,
    "start_time": "2023-09-13T19:47:58.892Z"
   },
   {
    "duration": 1422,
    "start_time": "2023-09-14T04:22:10.111Z"
   },
   {
    "duration": 31,
    "start_time": "2023-09-14T04:22:11.535Z"
   },
   {
    "duration": 3,
    "start_time": "2023-09-14T04:22:11.568Z"
   },
   {
    "duration": 24,
    "start_time": "2023-09-14T04:22:11.573Z"
   },
   {
    "duration": 7,
    "start_time": "2023-09-14T04:22:11.599Z"
   },
   {
    "duration": 17,
    "start_time": "2023-09-14T04:22:11.609Z"
   },
   {
    "duration": 6,
    "start_time": "2023-09-14T04:22:11.628Z"
   },
   {
    "duration": 1331,
    "start_time": "2023-09-14T04:22:11.635Z"
   },
   {
    "duration": 24,
    "start_time": "2023-09-14T04:22:12.968Z"
   },
   {
    "duration": 1119,
    "start_time": "2023-09-14T04:22:13.009Z"
   },
   {
    "duration": 9,
    "start_time": "2023-09-14T04:22:14.130Z"
   },
   {
    "duration": 288,
    "start_time": "2023-09-14T04:22:14.142Z"
   },
   {
    "duration": 180,
    "start_time": "2023-09-14T04:22:14.432Z"
   },
   {
    "duration": 4,
    "start_time": "2023-09-14T04:22:14.614Z"
   },
   {
    "duration": 90,
    "start_time": "2023-09-14T04:22:14.620Z"
   },
   {
    "duration": 610,
    "start_time": "2023-09-14T04:22:14.713Z"
   },
   {
    "duration": 85,
    "start_time": "2023-09-14T04:22:15.325Z"
   },
   {
    "duration": 198,
    "start_time": "2023-09-14T04:22:15.412Z"
   },
   {
    "duration": 1671,
    "start_time": "2023-09-14T04:23:14.193Z"
   },
   {
    "duration": 32,
    "start_time": "2023-09-14T04:23:15.866Z"
   },
   {
    "duration": 3,
    "start_time": "2023-09-14T04:23:15.900Z"
   },
   {
    "duration": 31,
    "start_time": "2023-09-14T04:23:15.905Z"
   },
   {
    "duration": 10,
    "start_time": "2023-09-14T04:23:15.938Z"
   },
   {
    "duration": 24,
    "start_time": "2023-09-14T04:23:15.950Z"
   },
   {
    "duration": 6,
    "start_time": "2023-09-14T04:23:15.976Z"
   },
   {
    "duration": 1287,
    "start_time": "2023-09-14T04:23:15.984Z"
   },
   {
    "duration": 23,
    "start_time": "2023-09-14T04:23:17.273Z"
   },
   {
    "duration": 1094,
    "start_time": "2023-09-14T04:23:17.308Z"
   },
   {
    "duration": 13,
    "start_time": "2023-09-14T04:23:18.403Z"
   },
   {
    "duration": 251,
    "start_time": "2023-09-14T04:23:18.418Z"
   },
   {
    "duration": 164,
    "start_time": "2023-09-14T04:23:18.670Z"
   },
   {
    "duration": 5,
    "start_time": "2023-09-14T04:23:18.836Z"
   },
   {
    "duration": 12,
    "start_time": "2023-09-14T04:23:18.843Z"
   },
   {
    "duration": 484,
    "start_time": "2023-09-14T04:23:18.911Z"
   },
   {
    "duration": 21,
    "start_time": "2023-09-14T04:23:19.397Z"
   },
   {
    "duration": 291,
    "start_time": "2023-09-14T04:23:19.420Z"
   }
  ],
  "kernelspec": {
   "display_name": "Python 3 (ipykernel)",
   "language": "python",
   "name": "python3"
  },
  "language_info": {
   "codemirror_mode": {
    "name": "ipython",
    "version": 3
   },
   "file_extension": ".py",
   "mimetype": "text/x-python",
   "name": "python",
   "nbconvert_exporter": "python",
   "pygments_lexer": "ipython3",
   "version": "3.9.5"
  },
  "toc": {
   "base_numbering": 1,
   "nav_menu": {},
   "number_sections": true,
   "sideBar": true,
   "skip_h1_title": true,
   "title_cell": "Содержание",
   "title_sidebar": "Contents",
   "toc_cell": true,
   "toc_position": {},
   "toc_section_display": true,
   "toc_window_display": false
  }
 },
 "nbformat": 4,
 "nbformat_minor": 2
}
