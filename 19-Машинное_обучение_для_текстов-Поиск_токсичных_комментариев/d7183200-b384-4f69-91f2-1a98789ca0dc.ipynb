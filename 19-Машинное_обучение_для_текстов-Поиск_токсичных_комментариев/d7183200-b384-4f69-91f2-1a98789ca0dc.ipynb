{
 "cells": [
  {
   "cell_type": "markdown",
   "metadata": {
    "toc": true
   },
   "source": [
    "<h1>Содержание<span class=\"tocSkip\"></span></h1>\n",
    "<div class=\"toc\"><ul class=\"toc-item\"><li><span><a href=\"#Подготовка\" data-toc-modified-id=\"Подготовка-1\"><span class=\"toc-item-num\">1&nbsp;&nbsp;</span>Подготовка</a></span></li><li><span><a href=\"#Обучение\" data-toc-modified-id=\"Обучение-2\"><span class=\"toc-item-num\">2&nbsp;&nbsp;</span>Обучение</a></span></li><li><span><a href=\"#Выводы\" data-toc-modified-id=\"Выводы-3\"><span class=\"toc-item-num\">3&nbsp;&nbsp;</span>Выводы</a></span></li></ul></div>"
   ]
  },
  {
   "cell_type": "markdown",
   "metadata": {},
   "source": [
    "# Проект для «Викишоп»"
   ]
  },
  {
   "cell_type": "markdown",
   "metadata": {},
   "source": [
    "Интернет-магазин «Викишоп» запускает новый сервис. Теперь пользователи могут редактировать и дополнять описания товаров, как в вики-сообществах. То есть клиенты предлагают свои правки и комментируют изменения других. Магазину нужен инструмент, который будет искать токсичные комментарии и отправлять их на модерацию. \n",
    "\n",
    "Обучите модель классифицировать комментарии на позитивные и негативные. В вашем распоряжении набор данных с разметкой о токсичности правок.\n",
    "\n",
    "Постройте модель со значением метрики качества *F1* не меньше 0.75. \n",
    "\n",
    "**Инструкция по выполнению проекта**\n",
    "\n",
    "1. Загрузите и подготовьте данные.\n",
    "2. Обучите разные модели. \n",
    "3. Сделайте выводы.\n",
    "\n",
    "Для выполнения проекта применять *BERT* необязательно, но вы можете попробовать.\n",
    "\n",
    "**Описание данных**\n",
    "\n",
    "Данные находятся в файле `toxic_comments.csv`. Столбец *text* в нём содержит текст комментария, а *toxic* — целевой признак."
   ]
  },
  {
   "cell_type": "markdown",
   "metadata": {},
   "source": [
    "## Подготовка"
   ]
  },
  {
   "cell_type": "code",
   "execution_count": 1,
   "metadata": {},
   "outputs": [],
   "source": [
    "import pandas as pd\n",
    "import numpy as np\n",
    "import re\n",
    "import matplotlib.pyplot as plt\n",
    "\n",
    "from sklearn.pipeline import Pipeline\n",
    "from sklearn.tree import DecisionTreeClassifier\n",
    "from sklearn.model_selection import train_test_split, GridSearchCV\n",
    "from sklearn.feature_extraction.text import TfidfVectorizer\n",
    "from sklearn.linear_model import LogisticRegression\n",
    "from sklearn.metrics import f1_score\n",
    "from catboost import CatBoostClassifier\n",
    "\n",
    "import nltk\n",
    "from nltk.tokenize import word_tokenize \n",
    "from nltk.stem import WordNetLemmatizer \n",
    "from nltk.corpus import stopwords \n",
    "\n",
    "import warnings\n",
    "warnings.filterwarnings(\"ignore\")\n",
    "\n",
    "from tqdm import tqdm"
   ]
  },
  {
   "cell_type": "markdown",
   "metadata": {},
   "source": [
    "Загрузка данных и стандартные проверки:"
   ]
  },
  {
   "cell_type": "code",
   "execution_count": 2,
   "metadata": {},
   "outputs": [
    {
     "data": {
      "text/html": [
       "<div>\n",
       "<style scoped>\n",
       "    .dataframe tbody tr th:only-of-type {\n",
       "        vertical-align: middle;\n",
       "    }\n",
       "\n",
       "    .dataframe tbody tr th {\n",
       "        vertical-align: top;\n",
       "    }\n",
       "\n",
       "    .dataframe thead th {\n",
       "        text-align: right;\n",
       "    }\n",
       "</style>\n",
       "<table border=\"1\" class=\"dataframe\">\n",
       "  <thead>\n",
       "    <tr style=\"text-align: right;\">\n",
       "      <th></th>\n",
       "      <th>text</th>\n",
       "      <th>toxic</th>\n",
       "    </tr>\n",
       "  </thead>\n",
       "  <tbody>\n",
       "    <tr>\n",
       "      <th>0</th>\n",
       "      <td>Explanation\\nWhy the edits made under my usern...</td>\n",
       "      <td>0</td>\n",
       "    </tr>\n",
       "    <tr>\n",
       "      <th>1</th>\n",
       "      <td>D'aww! He matches this background colour I'm s...</td>\n",
       "      <td>0</td>\n",
       "    </tr>\n",
       "    <tr>\n",
       "      <th>2</th>\n",
       "      <td>Hey man, I'm really not trying to edit war. It...</td>\n",
       "      <td>0</td>\n",
       "    </tr>\n",
       "    <tr>\n",
       "      <th>3</th>\n",
       "      <td>\"\\nMore\\nI can't make any real suggestions on ...</td>\n",
       "      <td>0</td>\n",
       "    </tr>\n",
       "    <tr>\n",
       "      <th>4</th>\n",
       "      <td>You, sir, are my hero. Any chance you remember...</td>\n",
       "      <td>0</td>\n",
       "    </tr>\n",
       "    <tr>\n",
       "      <th>...</th>\n",
       "      <td>...</td>\n",
       "      <td>...</td>\n",
       "    </tr>\n",
       "    <tr>\n",
       "      <th>159446</th>\n",
       "      <td>\":::::And for the second time of asking, when ...</td>\n",
       "      <td>0</td>\n",
       "    </tr>\n",
       "    <tr>\n",
       "      <th>159447</th>\n",
       "      <td>You should be ashamed of yourself \\n\\nThat is ...</td>\n",
       "      <td>0</td>\n",
       "    </tr>\n",
       "    <tr>\n",
       "      <th>159448</th>\n",
       "      <td>Spitzer \\n\\nUmm, theres no actual article for ...</td>\n",
       "      <td>0</td>\n",
       "    </tr>\n",
       "    <tr>\n",
       "      <th>159449</th>\n",
       "      <td>And it looks like it was actually you who put ...</td>\n",
       "      <td>0</td>\n",
       "    </tr>\n",
       "    <tr>\n",
       "      <th>159450</th>\n",
       "      <td>\"\\nAnd ... I really don't think you understand...</td>\n",
       "      <td>0</td>\n",
       "    </tr>\n",
       "  </tbody>\n",
       "</table>\n",
       "<p>159292 rows × 2 columns</p>\n",
       "</div>"
      ],
      "text/plain": [
       "                                                     text  toxic\n",
       "0       Explanation\\nWhy the edits made under my usern...      0\n",
       "1       D'aww! He matches this background colour I'm s...      0\n",
       "2       Hey man, I'm really not trying to edit war. It...      0\n",
       "3       \"\\nMore\\nI can't make any real suggestions on ...      0\n",
       "4       You, sir, are my hero. Any chance you remember...      0\n",
       "...                                                   ...    ...\n",
       "159446  \":::::And for the second time of asking, when ...      0\n",
       "159447  You should be ashamed of yourself \\n\\nThat is ...      0\n",
       "159448  Spitzer \\n\\nUmm, theres no actual article for ...      0\n",
       "159449  And it looks like it was actually you who put ...      0\n",
       "159450  \"\\nAnd ... I really don't think you understand...      0\n",
       "\n",
       "[159292 rows x 2 columns]"
      ]
     },
     "metadata": {},
     "output_type": "display_data"
    },
    {
     "data": {
      "text/plain": [
       "'Полных дубликатов: 0'"
      ]
     },
     "metadata": {},
     "output_type": "display_data"
    },
    {
     "name": "stdout",
     "output_type": "stream",
     "text": [
      "Пропуски:\n",
      "text     0\n",
      "toxic    0\n",
      "dtype: int64\n",
      "\n",
      "Общая информация:\n",
      "<class 'pandas.core.frame.DataFrame'>\n",
      "Int64Index: 159292 entries, 0 to 159450\n",
      "Data columns (total 2 columns):\n",
      " #   Column  Non-Null Count   Dtype \n",
      "---  ------  --------------   ----- \n",
      " 0   text    159292 non-null  object\n",
      " 1   toxic   159292 non-null  int64 \n",
      "dtypes: int64(1), object(1)\n",
      "memory usage: 3.6+ MB\n"
     ]
    }
   ],
   "source": [
    "data = pd.read_csv('/datasets/toxic_comments.csv', index_col = 0)\n",
    "display(data)\n",
    "display(f'Полных дубликатов: {data.duplicated().sum()}')\n",
    "print(f'Пропуски:\\n{data.isnull().sum()}\\n\\nОбщая информация:')\n",
    "data.info()"
   ]
  },
  {
   "cell_type": "code",
   "execution_count": 3,
   "metadata": {},
   "outputs": [
    {
     "data": {
      "text/plain": [
       "0    143106\n",
       "1     16186\n",
       "Name: toxic, dtype: int64"
      ]
     },
     "execution_count": 3,
     "metadata": {},
     "output_type": "execute_result"
    }
   ],
   "source": [
    "data.toxic.value_counts()"
   ]
  },
  {
   "cell_type": "markdown",
   "metadata": {},
   "source": [
    "Очистка и леммитизация данных:"
   ]
  },
  {
   "cell_type": "code",
   "execution_count": 4,
   "metadata": {},
   "outputs": [
    {
     "name": "stderr",
     "output_type": "stream",
     "text": [
      "[nltk_data] Downloading package stopwords to /home/jovyan/nltk_data...\n",
      "[nltk_data]   Package stopwords is already up-to-date!\n"
     ]
    }
   ],
   "source": [
    "nltk.download('stopwords')\n",
    "stop_words = set(stopwords.words('english'))\n",
    "lemmatizer = WordNetLemmatizer()\n"
   ]
  },
  {
   "cell_type": "code",
   "execution_count": 6,
   "metadata": {},
   "outputs": [
    {
     "name": "stdout",
     "output_type": "stream",
     "text": [
      "                                                text\n",
      "0  The striped bats are hanging on their feet for...\n",
      "1      you should be ashamed of yourself went worked \n",
      "\n",
      "0    strip bat hang feet best\n",
      "1             ashamed go work\n",
      "Name: text, dtype: object\n"
     ]
    }
   ],
   "source": [
    "def text3(text):\n",
    "    text = re.sub(r'[^a-zA-z ]', ' ', text.lower())\n",
    "    text = [word for word in nltk.word_tokenize(text) if word not in stop_words]\n",
    "    return ' '.join([lemmatizer.lemmatize(word, 'v') for word in text])\n",
    "\n",
    "sentence1 = \"The striped bats are hanging on their feet for best\"\n",
    "sentence2 = \"you should be ashamed of yourself went worked\"\n",
    "df_my = pd.DataFrame([sentence1, sentence2], columns = ['text'])\n",
    "print(df_my,'\\n')\n",
    "print(df_my['text'].apply(text3))"
   ]
  },
  {
   "cell_type": "code",
   "execution_count": 7,
   "metadata": {},
   "outputs": [
    {
     "name": "stderr",
     "output_type": "stream",
     "text": [
      "100%|██████████| 159292/159292 [01:17<00:00, 2052.41it/s]\n"
     ]
    },
    {
     "data": {
      "text/html": [
       "<div>\n",
       "<style scoped>\n",
       "    .dataframe tbody tr th:only-of-type {\n",
       "        vertical-align: middle;\n",
       "    }\n",
       "\n",
       "    .dataframe tbody tr th {\n",
       "        vertical-align: top;\n",
       "    }\n",
       "\n",
       "    .dataframe thead th {\n",
       "        text-align: right;\n",
       "    }\n",
       "</style>\n",
       "<table border=\"1\" class=\"dataframe\">\n",
       "  <thead>\n",
       "    <tr style=\"text-align: right;\">\n",
       "      <th></th>\n",
       "      <th>text2</th>\n",
       "    </tr>\n",
       "  </thead>\n",
       "  <tbody>\n",
       "    <tr>\n",
       "      <th>0</th>\n",
       "      <td>explanation edit make username hardcore metall...</td>\n",
       "    </tr>\n",
       "    <tr>\n",
       "      <th>1</th>\n",
       "      <td>aww match background colour seemingly stick th...</td>\n",
       "    </tr>\n",
       "    <tr>\n",
       "      <th>2</th>\n",
       "      <td>hey man really try edit war guy constantly rem...</td>\n",
       "    </tr>\n",
       "    <tr>\n",
       "      <th>3</th>\n",
       "      <td>make real suggestions improvement wonder secti...</td>\n",
       "    </tr>\n",
       "    <tr>\n",
       "      <th>4</th>\n",
       "      <td>sir hero chance remember page</td>\n",
       "    </tr>\n",
       "    <tr>\n",
       "      <th>...</th>\n",
       "      <td>...</td>\n",
       "    </tr>\n",
       "    <tr>\n",
       "      <th>159446</th>\n",
       "      <td>second time ask view completely contradict cov...</td>\n",
       "    </tr>\n",
       "    <tr>\n",
       "      <th>159447</th>\n",
       "      <td>ashamed horrible thing put talk page</td>\n",
       "    </tr>\n",
       "    <tr>\n",
       "      <th>159448</th>\n",
       "      <td>spitzer umm theres actual article prostitution...</td>\n",
       "    </tr>\n",
       "    <tr>\n",
       "      <th>159449</th>\n",
       "      <td>look like actually put speedy first version de...</td>\n",
       "    </tr>\n",
       "    <tr>\n",
       "      <th>159450</th>\n",
       "      <td>really think understand come idea bad right aw...</td>\n",
       "    </tr>\n",
       "  </tbody>\n",
       "</table>\n",
       "<p>159292 rows × 1 columns</p>\n",
       "</div>"
      ],
      "text/plain": [
       "                                                    text2\n",
       "0       explanation edit make username hardcore metall...\n",
       "1       aww match background colour seemingly stick th...\n",
       "2       hey man really try edit war guy constantly rem...\n",
       "3       make real suggestions improvement wonder secti...\n",
       "4                           sir hero chance remember page\n",
       "...                                                   ...\n",
       "159446  second time ask view completely contradict cov...\n",
       "159447               ashamed horrible thing put talk page\n",
       "159448  spitzer umm theres actual article prostitution...\n",
       "159449  look like actually put speedy first version de...\n",
       "159450  really think understand come idea bad right aw...\n",
       "\n",
       "[159292 rows x 1 columns]"
      ]
     },
     "execution_count": 7,
     "metadata": {},
     "output_type": "execute_result"
    }
   ],
   "source": [
    "# v2\n",
    "tqdm.pandas()\n",
    "data['text2'] = data['text'].progress_apply(text3)\n",
    "data.iloc[:,2:]"
   ]
  },
  {
   "cell_type": "code",
   "execution_count": 11,
   "metadata": {},
   "outputs": [
    {
     "name": "stdout",
     "output_type": "stream",
     "text": [
      "Train data shape: (111504, 2)\n",
      "Test data shape: (47788, 2)\n"
     ]
    }
   ],
   "source": [
    "train, test = train_test_split(data.iloc[:,1:], test_size = 0.3, stratify = data.toxic, random_state=1)\n",
    "print('Train data shape:', train.shape)\n",
    "print('Test data shape:', test.shape)"
   ]
  },
  {
   "cell_type": "markdown",
   "metadata": {},
   "source": [
    "## Обучение"
   ]
  },
  {
   "cell_type": "code",
   "execution_count": 12,
   "metadata": {},
   "outputs": [],
   "source": [
    "result = pd.DataFrame(columns=['f1', 'params', 'model', 'label'])\n",
    "\n",
    "def training(*, model, params, label=None):\n",
    "    global result\n",
    "    pipeline = Pipeline([\n",
    "        ('tfidf', TfidfVectorizer(min_df = 1)), # TFIDF векторизация\n",
    "        ('model', model)])\n",
    "    grid = GridSearchCV(pipeline, cv = 5, n_jobs = -1, param_grid = params,\n",
    "                        scoring = 'f1', verbose = False)\n",
    "    grid.fit(train.text2, train.toxic)\n",
    "    exist_hyper=[]\n",
    "    for i in list(grid.get_params().keys()):\n",
    "        if 'estimator__model__' in i:\n",
    "            exist_hyper.append(i.replace('estimator__model__', '')) #v1\n",
    "    display(f\"доступные гиперпараметры: {exist_hyper}\")\n",
    "    result.loc[len(result)] = pd.Series({'f1': grid.best_score_,\n",
    "                     'params': grid.best_params_,\n",
    "                     'model': grid.best_estimator_,\n",
    "                     'label': label})\n"
   ]
  },
  {
   "cell_type": "code",
   "execution_count": 13,
   "metadata": {},
   "outputs": [
    {
     "data": {
      "text/plain": [
       "\"доступные гиперпараметры: ['C', 'class_weight', 'dual', 'fit_intercept', 'intercept_scaling', 'l1_ratio', 'max_iter', 'multi_class', 'n_jobs', 'penalty', 'random_state', 'solver', 'tol', 'verbose', 'warm_start']\""
      ]
     },
     "metadata": {},
     "output_type": "display_data"
    },
    {
     "name": "stdout",
     "output_type": "stream",
     "text": [
      "CPU times: user 4min 49s, sys: 4min 53s, total: 9min 43s\n",
      "Wall time: 9min 44s\n"
     ]
    }
   ],
   "source": [
    "%%time\n",
    "training(model=LogisticRegression(),\n",
    "            params={\"model__C\":[0.1, 1.0, 10.0], \"model__penalty\":[\"l2\"]},\n",
    "            label='LogisticRegression')"
   ]
  },
  {
   "cell_type": "code",
   "execution_count": 14,
   "metadata": {},
   "outputs": [
    {
     "data": {
      "text/plain": [
       "\"доступные гиперпараметры: ['C', 'class_weight', 'dual', 'fit_intercept', 'intercept_scaling', 'l1_ratio', 'max_iter', 'multi_class', 'n_jobs', 'penalty', 'random_state', 'solver', 'tol', 'verbose', 'warm_start']\""
      ]
     },
     "metadata": {},
     "output_type": "display_data"
    },
    {
     "name": "stdout",
     "output_type": "stream",
     "text": [
      "CPU times: user 23min 27s, sys: 22min 7s, total: 45min 34s\n",
      "Wall time: 45min 37s\n"
     ]
    }
   ],
   "source": [
    "%%time\n",
    "training(model=LogisticRegression(),\n",
    "            params={\"model__C\": range(5,16), \"model__penalty\":[\"l1\", \"l2\"]},\n",
    "            label='LogisticRegression v.2')"
   ]
  },
  {
   "cell_type": "code",
   "execution_count": 15,
   "metadata": {},
   "outputs": [
    {
     "data": {
      "text/plain": [
       "\"доступные гиперпараметры: ['ccp_alpha', 'class_weight', 'criterion', 'max_depth', 'max_features', 'max_leaf_nodes', 'min_impurity_decrease', 'min_impurity_split', 'min_samples_leaf', 'min_samples_split', 'min_weight_fraction_leaf', 'random_state', 'splitter']\""
      ]
     },
     "metadata": {},
     "output_type": "display_data"
    },
    {
     "name": "stdout",
     "output_type": "stream",
     "text": [
      "CPU times: user 2min 32s, sys: 5.4 s, total: 2min 37s\n",
      "Wall time: 2min 37s\n"
     ]
    }
   ],
   "source": [
    "%%time\n",
    "training(model=DecisionTreeClassifier(),\n",
    "            params={'model__criterion':['gini','entropy'],'model__max_depth':[2,4,6]},\n",
    "            label='DecisionTreeClassifier')"
   ]
  },
  {
   "cell_type": "code",
   "execution_count": 16,
   "metadata": {},
   "outputs": [
    {
     "data": {
      "text/plain": [
       "\"доступные гиперпараметры: ['logging_level']\""
      ]
     },
     "metadata": {},
     "output_type": "display_data"
    },
    {
     "name": "stdout",
     "output_type": "stream",
     "text": [
      "CPU times: user 43min 25s, sys: 1min 13s, total: 44min 38s\n",
      "Wall time: 45min 14s\n"
     ]
    }
   ],
   "source": [
    "%%time\n",
    "training(model=CatBoostClassifier(logging_level='Silent'),\n",
    "            params={'model__depth': [4,6],\n",
    "                 'model__learning_rate' : [0.01,0.03],\n",
    "                  'model__iterations' : [10, 50]},\n",
    "            label='CatBoostClassifier')"
   ]
  },
  {
   "cell_type": "code",
   "execution_count": 17,
   "metadata": {},
   "outputs": [
    {
     "data": {
      "text/html": [
       "<div>\n",
       "<style scoped>\n",
       "    .dataframe tbody tr th:only-of-type {\n",
       "        vertical-align: middle;\n",
       "    }\n",
       "\n",
       "    .dataframe tbody tr th {\n",
       "        vertical-align: top;\n",
       "    }\n",
       "\n",
       "    .dataframe thead th {\n",
       "        text-align: right;\n",
       "    }\n",
       "</style>\n",
       "<table border=\"1\" class=\"dataframe\">\n",
       "  <thead>\n",
       "    <tr style=\"text-align: right;\">\n",
       "      <th></th>\n",
       "      <th>f1</th>\n",
       "      <th>params</th>\n",
       "      <th>model</th>\n",
       "      <th>label</th>\n",
       "    </tr>\n",
       "  </thead>\n",
       "  <tbody>\n",
       "    <tr>\n",
       "      <th>0</th>\n",
       "      <td>0.774350</td>\n",
       "      <td>{'model__C': 10.0, 'model__penalty': 'l2'}</td>\n",
       "      <td>(TfidfVectorizer(), LogisticRegression(C=10.0))</td>\n",
       "      <td>LogisticRegression</td>\n",
       "    </tr>\n",
       "    <tr>\n",
       "      <th>1</th>\n",
       "      <td>0.775407</td>\n",
       "      <td>{'model__C': 15, 'model__penalty': 'l2'}</td>\n",
       "      <td>(TfidfVectorizer(), LogisticRegression(C=15))</td>\n",
       "      <td>LogisticRegression v.2</td>\n",
       "    </tr>\n",
       "    <tr>\n",
       "      <th>2</th>\n",
       "      <td>0.558517</td>\n",
       "      <td>{'model__criterion': 'gini', 'model__max_depth...</td>\n",
       "      <td>(TfidfVectorizer(), DecisionTreeClassifier(max...</td>\n",
       "      <td>DecisionTreeClassifier</td>\n",
       "    </tr>\n",
       "    <tr>\n",
       "      <th>3</th>\n",
       "      <td>0.527200</td>\n",
       "      <td>{'model__depth': 6, 'model__iterations': 50, '...</td>\n",
       "      <td>(TfidfVectorizer(), &lt;catboost.core.CatBoostCla...</td>\n",
       "      <td>CatBoostClassifier</td>\n",
       "    </tr>\n",
       "  </tbody>\n",
       "</table>\n",
       "</div>"
      ],
      "text/plain": [
       "         f1                                             params  \\\n",
       "0  0.774350         {'model__C': 10.0, 'model__penalty': 'l2'}   \n",
       "1  0.775407           {'model__C': 15, 'model__penalty': 'l2'}   \n",
       "2  0.558517  {'model__criterion': 'gini', 'model__max_depth...   \n",
       "3  0.527200  {'model__depth': 6, 'model__iterations': 50, '...   \n",
       "\n",
       "                                               model                   label  \n",
       "0    (TfidfVectorizer(), LogisticRegression(C=10.0))      LogisticRegression  \n",
       "1      (TfidfVectorizer(), LogisticRegression(C=15))  LogisticRegression v.2  \n",
       "2  (TfidfVectorizer(), DecisionTreeClassifier(max...  DecisionTreeClassifier  \n",
       "3  (TfidfVectorizer(), <catboost.core.CatBoostCla...      CatBoostClassifier  "
      ]
     },
     "execution_count": 17,
     "metadata": {},
     "output_type": "execute_result"
    }
   ],
   "source": [
    "result"
   ]
  },
  {
   "cell_type": "code",
   "execution_count": 18,
   "metadata": {},
   "outputs": [
    {
     "data": {
      "text/html": [
       "<div>\n",
       "<style scoped>\n",
       "    .dataframe tbody tr th:only-of-type {\n",
       "        vertical-align: middle;\n",
       "    }\n",
       "\n",
       "    .dataframe tbody tr th {\n",
       "        vertical-align: top;\n",
       "    }\n",
       "\n",
       "    .dataframe thead th {\n",
       "        text-align: right;\n",
       "    }\n",
       "</style>\n",
       "<table border=\"1\" class=\"dataframe\">\n",
       "  <thead>\n",
       "    <tr style=\"text-align: right;\">\n",
       "      <th></th>\n",
       "      <th>f1</th>\n",
       "      <th>params</th>\n",
       "      <th>model</th>\n",
       "      <th>label</th>\n",
       "    </tr>\n",
       "  </thead>\n",
       "  <tbody>\n",
       "    <tr>\n",
       "      <th>1</th>\n",
       "      <td>0.775407</td>\n",
       "      <td>{'model__C': 15, 'model__penalty': 'l2'}</td>\n",
       "      <td>(TfidfVectorizer(), LogisticRegression(C=15))</td>\n",
       "      <td>LogisticRegression v.2</td>\n",
       "    </tr>\n",
       "    <tr>\n",
       "      <th>0</th>\n",
       "      <td>0.774350</td>\n",
       "      <td>{'model__C': 10.0, 'model__penalty': 'l2'}</td>\n",
       "      <td>(TfidfVectorizer(), LogisticRegression(C=10.0))</td>\n",
       "      <td>LogisticRegression</td>\n",
       "    </tr>\n",
       "    <tr>\n",
       "      <th>2</th>\n",
       "      <td>0.558517</td>\n",
       "      <td>{'model__criterion': 'gini', 'model__max_depth...</td>\n",
       "      <td>(TfidfVectorizer(), DecisionTreeClassifier(max...</td>\n",
       "      <td>DecisionTreeClassifier</td>\n",
       "    </tr>\n",
       "    <tr>\n",
       "      <th>3</th>\n",
       "      <td>0.527200</td>\n",
       "      <td>{'model__depth': 6, 'model__iterations': 50, '...</td>\n",
       "      <td>(TfidfVectorizer(), &lt;catboost.core.CatBoostCla...</td>\n",
       "      <td>CatBoostClassifier</td>\n",
       "    </tr>\n",
       "  </tbody>\n",
       "</table>\n",
       "</div>"
      ],
      "text/plain": [
       "         f1                                             params  \\\n",
       "1  0.775407           {'model__C': 15, 'model__penalty': 'l2'}   \n",
       "0  0.774350         {'model__C': 10.0, 'model__penalty': 'l2'}   \n",
       "2  0.558517  {'model__criterion': 'gini', 'model__max_depth...   \n",
       "3  0.527200  {'model__depth': 6, 'model__iterations': 50, '...   \n",
       "\n",
       "                                               model                   label  \n",
       "1      (TfidfVectorizer(), LogisticRegression(C=15))  LogisticRegression v.2  \n",
       "0    (TfidfVectorizer(), LogisticRegression(C=10.0))      LogisticRegression  \n",
       "2  (TfidfVectorizer(), DecisionTreeClassifier(max...  DecisionTreeClassifier  \n",
       "3  (TfidfVectorizer(), <catboost.core.CatBoostCla...      CatBoostClassifier  "
      ]
     },
     "execution_count": 18,
     "metadata": {},
     "output_type": "execute_result"
    }
   ],
   "source": [
    "best_result = result.sort_values('f1', ascending=False).iloc[0]\n",
    "result.sort_values('f1', ascending=False)"
   ]
  },
  {
   "cell_type": "code",
   "execution_count": 19,
   "metadata": {},
   "outputs": [
    {
     "data": {
      "text/plain": [
       "0.7715398716773602"
      ]
     },
     "execution_count": 19,
     "metadata": {},
     "output_type": "execute_result"
    }
   ],
   "source": [
    "predict_test = best_result.model.predict(test.text2)\n",
    "f1_score(predict_test, test.toxic)"
   ]
  },
  {
   "cell_type": "markdown",
   "metadata": {},
   "source": [
    "## Выводы"
   ]
  },
  {
   "cell_type": "markdown",
   "metadata": {},
   "source": [
    "Лучшая модель - LogisticRegression. Модель показала значение метрики F1 выше порога и на обучающей и на тестовой выборках."
   ]
  }
 ],
 "metadata": {
  "ExecuteTimeLog": [
   {
    "duration": 1986,
    "start_time": "2023-10-23T09:40:33.357Z"
   },
   {
    "duration": 2711,
    "start_time": "2023-10-23T09:40:37.630Z"
   },
   {
    "duration": 43,
    "start_time": "2023-10-23T09:41:00.412Z"
   },
   {
    "duration": 937,
    "start_time": "2023-10-23T09:41:37.039Z"
   },
   {
    "duration": 40,
    "start_time": "2023-10-23T09:41:39.544Z"
   },
   {
    "duration": 953,
    "start_time": "2023-10-23T09:42:03.689Z"
   },
   {
    "duration": 48,
    "start_time": "2023-10-23T09:42:05.894Z"
   },
   {
    "duration": 7,
    "start_time": "2023-10-23T09:42:39.121Z"
   },
   {
    "duration": 26,
    "start_time": "2023-10-23T09:43:28.660Z"
   },
   {
    "duration": 62,
    "start_time": "2023-10-23T09:44:26.262Z"
   },
   {
    "duration": 61,
    "start_time": "2023-10-23T09:44:40.015Z"
   },
   {
    "duration": 63,
    "start_time": "2023-10-23T09:44:48.546Z"
   },
   {
    "duration": 63,
    "start_time": "2023-10-23T09:44:57.562Z"
   },
   {
    "duration": 63,
    "start_time": "2023-10-23T09:45:04.397Z"
   },
   {
    "duration": 61,
    "start_time": "2023-10-23T09:45:25.459Z"
   },
   {
    "duration": 70,
    "start_time": "2023-10-23T09:45:38.695Z"
   },
   {
    "duration": 1043,
    "start_time": "2023-10-23T09:46:23.827Z"
   },
   {
    "duration": 1233,
    "start_time": "2023-10-23T09:47:16.299Z"
   },
   {
    "duration": 1085,
    "start_time": "2023-10-23T09:47:32.847Z"
   },
   {
    "duration": 1189,
    "start_time": "2023-10-23T09:47:52.184Z"
   },
   {
    "duration": 1213,
    "start_time": "2023-10-23T09:48:10.860Z"
   },
   {
    "duration": 11,
    "start_time": "2023-10-23T12:33:09.997Z"
   },
   {
    "duration": 11,
    "start_time": "2023-10-23T12:33:25.765Z"
   },
   {
    "duration": 7,
    "start_time": "2023-10-23T12:33:47.647Z"
   },
   {
    "duration": 6,
    "start_time": "2023-10-23T12:40:32.162Z"
   },
   {
    "duration": 111,
    "start_time": "2023-10-23T12:56:43.965Z"
   },
   {
    "duration": 1749,
    "start_time": "2023-10-23T12:56:54.971Z"
   },
   {
    "duration": 14,
    "start_time": "2023-10-23T12:57:03.970Z"
   },
   {
    "duration": 33,
    "start_time": "2023-10-23T12:57:41.087Z"
   },
   {
    "duration": 5,
    "start_time": "2023-10-23T12:57:59.681Z"
   },
   {
    "duration": 383,
    "start_time": "2023-10-23T13:03:11.924Z"
   },
   {
    "duration": 206,
    "start_time": "2023-10-23T13:03:20.788Z"
   },
   {
    "duration": 75498,
    "start_time": "2023-10-23T13:03:38.305Z"
   },
   {
    "duration": 13,
    "start_time": "2023-10-23T13:05:00.959Z"
   },
   {
    "duration": 2,
    "start_time": "2023-10-23T13:08:01.035Z"
   },
   {
    "duration": 17,
    "start_time": "2023-10-23T13:08:35.617Z"
   },
   {
    "duration": 25,
    "start_time": "2023-10-23T13:08:44.295Z"
   },
   {
    "duration": 119,
    "start_time": "2023-10-23T13:12:52.728Z"
   },
   {
    "duration": 12,
    "start_time": "2023-10-23T13:13:45.241Z"
   },
   {
    "duration": 4,
    "start_time": "2023-10-23T13:13:53.331Z"
   },
   {
    "duration": 1740,
    "start_time": "2023-10-23T13:15:06.757Z"
   },
   {
    "duration": 1326,
    "start_time": "2023-10-23T13:15:08.500Z"
   },
   {
    "duration": 6,
    "start_time": "2023-10-23T13:15:09.828Z"
   },
   {
    "duration": 245,
    "start_time": "2023-10-23T13:15:09.836Z"
   },
   {
    "duration": 64581,
    "start_time": "2023-10-23T13:15:10.082Z"
   },
   {
    "duration": 0,
    "start_time": "2023-10-23T13:16:14.666Z"
   },
   {
    "duration": 0,
    "start_time": "2023-10-23T13:16:14.667Z"
   },
   {
    "duration": 0,
    "start_time": "2023-10-23T13:16:14.669Z"
   },
   {
    "duration": 0,
    "start_time": "2023-10-23T13:16:14.671Z"
   },
   {
    "duration": 0,
    "start_time": "2023-10-23T13:16:14.672Z"
   },
   {
    "duration": 0,
    "start_time": "2023-10-23T13:16:14.673Z"
   },
   {
    "duration": 0,
    "start_time": "2023-10-23T13:16:14.674Z"
   },
   {
    "duration": 1700,
    "start_time": "2023-10-23T13:16:25.597Z"
   },
   {
    "duration": 1302,
    "start_time": "2023-10-23T13:16:27.299Z"
   },
   {
    "duration": 5,
    "start_time": "2023-10-23T13:16:28.603Z"
   },
   {
    "duration": 156,
    "start_time": "2023-10-23T13:16:28.610Z"
   },
   {
    "duration": 76058,
    "start_time": "2023-10-23T13:16:28.768Z"
   },
   {
    "duration": 17,
    "start_time": "2023-10-23T13:17:44.827Z"
   },
   {
    "duration": 29,
    "start_time": "2023-10-23T13:17:44.846Z"
   },
   {
    "duration": 15,
    "start_time": "2023-10-23T13:17:44.877Z"
   },
   {
    "duration": 24,
    "start_time": "2023-10-23T13:17:44.894Z"
   },
   {
    "duration": 98,
    "start_time": "2023-10-23T13:17:44.921Z"
   },
   {
    "duration": 4,
    "start_time": "2023-10-23T13:17:45.021Z"
   },
   {
    "duration": 76,
    "start_time": "2023-10-23T13:31:35.192Z"
   },
   {
    "duration": 4,
    "start_time": "2023-10-23T13:31:37.988Z"
   },
   {
    "duration": 99,
    "start_time": "2023-10-23T13:51:06.026Z"
   },
   {
    "duration": 8,
    "start_time": "2023-10-23T13:51:23.989Z"
   },
   {
    "duration": 124,
    "start_time": "2023-10-23T13:51:27.391Z"
   },
   {
    "duration": 18,
    "start_time": "2023-10-23T13:52:31.359Z"
   },
   {
    "duration": 7,
    "start_time": "2023-10-23T13:53:19.663Z"
   },
   {
    "duration": 262939,
    "start_time": "2023-10-23T13:53:22.131Z"
   },
   {
    "duration": 9,
    "start_time": "2023-10-23T13:58:11.955Z"
   },
   {
    "duration": 624141,
    "start_time": "2023-10-23T13:58:47.264Z"
   },
   {
    "duration": 13,
    "start_time": "2023-10-23T15:19:05.115Z"
   },
   {
    "duration": 98,
    "start_time": "2023-10-23T15:20:20.383Z"
   },
   {
    "duration": 103,
    "start_time": "2023-10-23T15:20:26.251Z"
   },
   {
    "duration": 8,
    "start_time": "2023-10-23T15:20:31.288Z"
   },
   {
    "duration": 616558,
    "start_time": "2023-10-23T15:20:38.554Z"
   },
   {
    "duration": 19,
    "start_time": "2023-10-23T15:36:06.202Z"
   },
   {
    "duration": 162814,
    "start_time": "2023-10-23T15:36:16.610Z"
   },
   {
    "duration": 79,
    "start_time": "2023-10-23T15:38:59.426Z"
   },
   {
    "duration": 0,
    "start_time": "2023-10-23T15:38:59.506Z"
   },
   {
    "duration": 30,
    "start_time": "2023-10-23T15:43:34.633Z"
   },
   {
    "duration": 2913539,
    "start_time": "2023-10-23T15:43:39.881Z"
   },
   {
    "duration": 9,
    "start_time": "2023-10-23T16:32:13.423Z"
   },
   {
    "duration": 10,
    "start_time": "2023-10-23T16:37:40.585Z"
   },
   {
    "duration": 1796,
    "start_time": "2023-10-23T16:44:34.285Z"
   },
   {
    "duration": 1358,
    "start_time": "2023-10-23T16:44:36.083Z"
   },
   {
    "duration": 9,
    "start_time": "2023-10-23T16:44:37.443Z"
   },
   {
    "duration": 248,
    "start_time": "2023-10-23T16:44:37.456Z"
   },
   {
    "duration": 74637,
    "start_time": "2023-10-23T16:44:37.707Z"
   },
   {
    "duration": 89,
    "start_time": "2023-10-23T16:45:52.346Z"
   },
   {
    "duration": 8,
    "start_time": "2023-10-23T16:45:52.438Z"
   },
   {
    "duration": 616565,
    "start_time": "2023-10-23T16:45:52.447Z"
   },
   {
    "duration": 159223,
    "start_time": "2023-10-23T16:56:09.013Z"
   },
   {
    "duration": 1702037,
    "start_time": "2023-10-23T16:58:48.238Z"
   },
   {
    "duration": 14,
    "start_time": "2023-10-23T17:27:10.277Z"
   },
   {
    "duration": 30,
    "start_time": "2023-10-23T17:27:10.292Z"
   },
   {
    "duration": 1408,
    "start_time": "2023-10-23T17:27:10.324Z"
   },
   {
    "duration": 1607,
    "start_time": "2023-10-23T17:27:21.570Z"
   },
   {
    "duration": 1277,
    "start_time": "2023-10-23T17:27:23.179Z"
   },
   {
    "duration": 5,
    "start_time": "2023-10-23T17:27:24.458Z"
   },
   {
    "duration": 220,
    "start_time": "2023-10-23T17:27:24.465Z"
   },
   {
    "duration": 73470,
    "start_time": "2023-10-23T17:27:24.687Z"
   },
   {
    "duration": 83,
    "start_time": "2023-10-23T17:28:38.159Z"
   },
   {
    "duration": 7,
    "start_time": "2023-10-23T17:28:38.244Z"
   },
   {
    "duration": 608161,
    "start_time": "2023-10-23T17:28:38.253Z"
   },
   {
    "duration": 161606,
    "start_time": "2023-10-23T17:38:46.416Z"
   },
   {
    "duration": 2918476,
    "start_time": "2023-10-23T17:41:28.025Z"
   },
   {
    "duration": 20,
    "start_time": "2023-10-23T18:30:06.503Z"
   },
   {
    "duration": 14,
    "start_time": "2023-10-23T18:30:06.525Z"
   },
   {
    "duration": 1921,
    "start_time": "2023-10-23T18:30:06.541Z"
   },
   {
    "duration": 17,
    "start_time": "2023-10-23T18:40:56.511Z"
   },
   {
    "duration": 1483,
    "start_time": "2023-10-23T18:41:07.152Z"
   },
   {
    "duration": 9,
    "start_time": "2023-10-25T01:01:44.710Z"
   },
   {
    "duration": 8,
    "start_time": "2023-10-25T01:02:22.527Z"
   },
   {
    "duration": 7,
    "start_time": "2023-10-25T01:02:28.474Z"
   },
   {
    "duration": 12,
    "start_time": "2023-10-25T01:03:37.555Z"
   },
   {
    "duration": 8,
    "start_time": "2023-10-25T01:03:40.753Z"
   },
   {
    "duration": 8,
    "start_time": "2023-10-25T01:05:12.831Z"
   },
   {
    "duration": 11,
    "start_time": "2023-10-25T01:06:10.533Z"
   },
   {
    "duration": 3,
    "start_time": "2023-10-25T01:11:51.475Z"
   },
   {
    "duration": 3,
    "start_time": "2023-10-25T01:12:11.729Z"
   },
   {
    "duration": 239,
    "start_time": "2023-10-25T01:13:47.361Z"
   },
   {
    "duration": 3,
    "start_time": "2023-10-25T01:15:21.800Z"
   },
   {
    "duration": 4,
    "start_time": "2023-10-25T01:15:32.492Z"
   },
   {
    "duration": 10,
    "start_time": "2023-10-25T01:16:05.477Z"
   },
   {
    "duration": 8,
    "start_time": "2023-10-25T01:17:03.584Z"
   },
   {
    "duration": 75669,
    "start_time": "2023-10-25T01:29:38.477Z"
   },
   {
    "duration": 78603,
    "start_time": "2023-10-25T01:35:38.860Z"
   },
   {
    "duration": 6,
    "start_time": "2023-10-25T01:36:57.465Z"
   },
   {
    "duration": 141,
    "start_time": "2023-10-25T01:37:19.794Z"
   },
   {
    "duration": 4,
    "start_time": "2023-10-25T01:37:33.543Z"
   },
   {
    "duration": 4,
    "start_time": "2023-10-25T01:39:45.304Z"
   },
   {
    "duration": 4,
    "start_time": "2023-10-25T01:40:52.957Z"
   },
   {
    "duration": 13,
    "start_time": "2023-10-25T01:41:28.539Z"
   },
   {
    "duration": 12,
    "start_time": "2023-10-25T01:41:36.385Z"
   },
   {
    "duration": 5,
    "start_time": "2023-10-25T01:41:42.418Z"
   },
   {
    "duration": 6,
    "start_time": "2023-10-25T01:42:38.653Z"
   },
   {
    "duration": 7,
    "start_time": "2023-10-25T01:42:56.582Z"
   },
   {
    "duration": 6,
    "start_time": "2023-10-25T01:43:02.179Z"
   },
   {
    "duration": 4,
    "start_time": "2023-10-25T01:43:13.656Z"
   },
   {
    "duration": 5,
    "start_time": "2023-10-25T01:43:42.973Z"
   },
   {
    "duration": 5,
    "start_time": "2023-10-25T01:44:04.728Z"
   },
   {
    "duration": 1673,
    "start_time": "2023-10-25T01:48:26.357Z"
   },
   {
    "duration": 1218,
    "start_time": "2023-10-25T01:48:28.032Z"
   },
   {
    "duration": 6,
    "start_time": "2023-10-25T01:48:29.252Z"
   },
   {
    "duration": 125,
    "start_time": "2023-10-25T01:48:29.261Z"
   },
   {
    "duration": 8203,
    "start_time": "2023-10-25T01:48:29.388Z"
   },
   {
    "duration": 0,
    "start_time": "2023-10-25T01:48:37.593Z"
   },
   {
    "duration": 0,
    "start_time": "2023-10-25T01:48:37.594Z"
   },
   {
    "duration": 0,
    "start_time": "2023-10-25T01:48:37.595Z"
   },
   {
    "duration": 0,
    "start_time": "2023-10-25T01:48:37.597Z"
   },
   {
    "duration": 0,
    "start_time": "2023-10-25T01:48:37.598Z"
   },
   {
    "duration": 0,
    "start_time": "2023-10-25T01:48:37.599Z"
   },
   {
    "duration": 0,
    "start_time": "2023-10-25T01:48:37.600Z"
   },
   {
    "duration": 0,
    "start_time": "2023-10-25T01:48:37.601Z"
   },
   {
    "duration": 0,
    "start_time": "2023-10-25T01:48:37.602Z"
   },
   {
    "duration": 0,
    "start_time": "2023-10-25T01:48:37.603Z"
   },
   {
    "duration": 0,
    "start_time": "2023-10-25T01:48:37.604Z"
   },
   {
    "duration": 0,
    "start_time": "2023-10-25T01:48:37.606Z"
   },
   {
    "duration": 1734,
    "start_time": "2023-10-25T01:48:59.787Z"
   },
   {
    "duration": 1218,
    "start_time": "2023-10-25T01:49:01.522Z"
   },
   {
    "duration": 5,
    "start_time": "2023-10-25T01:49:02.742Z"
   },
   {
    "duration": 125,
    "start_time": "2023-10-25T01:49:02.749Z"
   },
   {
    "duration": 3,
    "start_time": "2023-10-25T01:49:02.875Z"
   },
   {
    "duration": 1267,
    "start_time": "2023-10-25T01:49:02.880Z"
   },
   {
    "duration": 78318,
    "start_time": "2023-10-25T01:49:04.148Z"
   },
   {
    "duration": 5,
    "start_time": "2023-10-25T01:50:22.467Z"
   },
   {
    "duration": 97,
    "start_time": "2023-10-25T01:50:22.473Z"
   },
   {
    "duration": 9,
    "start_time": "2023-10-25T01:50:22.573Z"
   },
   {
    "duration": 638517,
    "start_time": "2023-10-25T01:50:22.584Z"
   },
   {
    "duration": 4,
    "start_time": "2023-10-25T02:01:01.103Z"
   },
   {
    "duration": 0,
    "start_time": "2023-10-25T02:01:01.110Z"
   },
   {
    "duration": 0,
    "start_time": "2023-10-25T02:01:01.111Z"
   },
   {
    "duration": 0,
    "start_time": "2023-10-25T02:01:01.113Z"
   },
   {
    "duration": 0,
    "start_time": "2023-10-25T02:01:01.114Z"
   },
   {
    "duration": 0,
    "start_time": "2023-10-25T02:01:01.115Z"
   },
   {
    "duration": 5,
    "start_time": "2023-10-25T02:03:05.791Z"
   },
   {
    "duration": 4,
    "start_time": "2023-10-25T02:03:20.950Z"
   },
   {
    "duration": 5,
    "start_time": "2023-10-25T02:04:28.518Z"
   },
   {
    "duration": 5,
    "start_time": "2023-10-25T02:04:34.955Z"
   },
   {
    "duration": 6,
    "start_time": "2023-10-25T02:05:54.036Z"
   },
   {
    "duration": 8,
    "start_time": "2023-10-25T02:07:16.231Z"
   },
   {
    "duration": 4,
    "start_time": "2023-10-25T02:09:48.844Z"
   },
   {
    "duration": 1739,
    "start_time": "2023-10-25T02:13:23.059Z"
   },
   {
    "duration": 1231,
    "start_time": "2023-10-25T02:13:24.801Z"
   },
   {
    "duration": 6,
    "start_time": "2023-10-25T02:13:26.034Z"
   },
   {
    "duration": 229,
    "start_time": "2023-10-25T02:13:26.042Z"
   },
   {
    "duration": 2,
    "start_time": "2023-10-25T02:13:26.273Z"
   },
   {
    "duration": 1269,
    "start_time": "2023-10-25T02:13:26.277Z"
   },
   {
    "duration": 77637,
    "start_time": "2023-10-25T02:13:27.548Z"
   },
   {
    "duration": 16,
    "start_time": "2023-10-25T02:14:45.187Z"
   },
   {
    "duration": 34,
    "start_time": "2023-10-25T02:14:45.204Z"
   },
   {
    "duration": 56,
    "start_time": "2023-10-25T02:14:45.239Z"
   },
   {
    "duration": 127,
    "start_time": "2023-10-25T02:14:45.296Z"
   },
   {
    "duration": 8,
    "start_time": "2023-10-25T02:14:45.425Z"
   },
   {
    "duration": 584470,
    "start_time": "2023-10-25T02:14:45.435Z"
   },
   {
    "duration": 2737792,
    "start_time": "2023-10-25T02:24:29.909Z"
   },
   {
    "duration": 157723,
    "start_time": "2023-10-25T03:10:07.703Z"
   },
   {
    "duration": 2714130,
    "start_time": "2023-10-25T03:12:45.428Z"
   },
   {
    "duration": 15,
    "start_time": "2023-10-25T03:57:59.560Z"
   },
   {
    "duration": 32,
    "start_time": "2023-10-25T03:57:59.577Z"
   },
   {
    "duration": 1394,
    "start_time": "2023-10-25T03:57:59.611Z"
   }
  ],
  "kernelspec": {
   "display_name": "Python 3 (ipykernel)",
   "language": "python",
   "name": "python3"
  },
  "language_info": {
   "codemirror_mode": {
    "name": "ipython",
    "version": 3
   },
   "file_extension": ".py",
   "mimetype": "text/x-python",
   "name": "python",
   "nbconvert_exporter": "python",
   "pygments_lexer": "ipython3",
   "version": "3.9.18"
  },
  "toc": {
   "base_numbering": 1,
   "nav_menu": {},
   "number_sections": true,
   "sideBar": true,
   "skip_h1_title": true,
   "title_cell": "Содержание",
   "title_sidebar": "Contents",
   "toc_cell": true,
   "toc_position": {
    "height": "calc(100% - 180px)",
    "left": "10px",
    "top": "150px",
    "width": "226px"
   },
   "toc_section_display": true,
   "toc_window_display": true
  }
 },
 "nbformat": 4,
 "nbformat_minor": 4
}
